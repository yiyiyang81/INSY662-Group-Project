{
 "cells": [
  {
   "cell_type": "code",
   "execution_count": 1,
   "metadata": {},
   "outputs": [
    {
     "data": {
      "text/html": [
       "<div>\n",
       "<style scoped>\n",
       "    .dataframe tbody tr th:only-of-type {\n",
       "        vertical-align: middle;\n",
       "    }\n",
       "\n",
       "    .dataframe tbody tr th {\n",
       "        vertical-align: top;\n",
       "    }\n",
       "\n",
       "    .dataframe thead th {\n",
       "        text-align: right;\n",
       "    }\n",
       "</style>\n",
       "<table border=\"1\" class=\"dataframe\">\n",
       "  <thead>\n",
       "    <tr style=\"text-align: right;\">\n",
       "      <th></th>\n",
       "      <th>date</th>\n",
       "      <th>start_station_cluster</th>\n",
       "      <th>rideable_type</th>\n",
       "      <th>trip_count</th>\n",
       "    </tr>\n",
       "  </thead>\n",
       "  <tbody>\n",
       "    <tr>\n",
       "      <th>0</th>\n",
       "      <td>2022/1/1</td>\n",
       "      <td>0</td>\n",
       "      <td>classic_bike</td>\n",
       "      <td>94</td>\n",
       "    </tr>\n",
       "    <tr>\n",
       "      <th>1</th>\n",
       "      <td>2022/1/1</td>\n",
       "      <td>0</td>\n",
       "      <td>electric_bike</td>\n",
       "      <td>196</td>\n",
       "    </tr>\n",
       "    <tr>\n",
       "      <th>2</th>\n",
       "      <td>2022/1/1</td>\n",
       "      <td>1</td>\n",
       "      <td>classic_bike</td>\n",
       "      <td>11</td>\n",
       "    </tr>\n",
       "    <tr>\n",
       "      <th>3</th>\n",
       "      <td>2022/1/1</td>\n",
       "      <td>1</td>\n",
       "      <td>electric_bike</td>\n",
       "      <td>8</td>\n",
       "    </tr>\n",
       "    <tr>\n",
       "      <th>4</th>\n",
       "      <td>2022/1/1</td>\n",
       "      <td>2</td>\n",
       "      <td>classic_bike</td>\n",
       "      <td>37</td>\n",
       "    </tr>\n",
       "    <tr>\n",
       "      <th>...</th>\n",
       "      <td>...</td>\n",
       "      <td>...</td>\n",
       "      <td>...</td>\n",
       "      <td>...</td>\n",
       "    </tr>\n",
       "    <tr>\n",
       "      <th>12299</th>\n",
       "      <td>2022/12/31</td>\n",
       "      <td>17</td>\n",
       "      <td>electric_bike</td>\n",
       "      <td>189</td>\n",
       "    </tr>\n",
       "    <tr>\n",
       "      <th>12300</th>\n",
       "      <td>2022/12/31</td>\n",
       "      <td>18</td>\n",
       "      <td>classic_bike</td>\n",
       "      <td>13</td>\n",
       "    </tr>\n",
       "    <tr>\n",
       "      <th>12301</th>\n",
       "      <td>2022/12/31</td>\n",
       "      <td>18</td>\n",
       "      <td>electric_bike</td>\n",
       "      <td>46</td>\n",
       "    </tr>\n",
       "    <tr>\n",
       "      <th>12302</th>\n",
       "      <td>2022/12/31</td>\n",
       "      <td>19</td>\n",
       "      <td>classic_bike</td>\n",
       "      <td>9</td>\n",
       "    </tr>\n",
       "    <tr>\n",
       "      <th>12303</th>\n",
       "      <td>2022/12/31</td>\n",
       "      <td>19</td>\n",
       "      <td>electric_bike</td>\n",
       "      <td>4</td>\n",
       "    </tr>\n",
       "  </tbody>\n",
       "</table>\n",
       "<p>12304 rows × 4 columns</p>\n",
       "</div>"
      ],
      "text/plain": [
       "             date  start_station_cluster  rideable_type  trip_count\n",
       "0        2022/1/1                      0   classic_bike          94\n",
       "1        2022/1/1                      0  electric_bike         196\n",
       "2        2022/1/1                      1   classic_bike          11\n",
       "3        2022/1/1                      1  electric_bike           8\n",
       "4        2022/1/1                      2   classic_bike          37\n",
       "...           ...                    ...            ...         ...\n",
       "12299  2022/12/31                     17  electric_bike         189\n",
       "12300  2022/12/31                     18   classic_bike          13\n",
       "12301  2022/12/31                     18  electric_bike          46\n",
       "12302  2022/12/31                     19   classic_bike           9\n",
       "12303  2022/12/31                     19  electric_bike           4\n",
       "\n",
       "[12304 rows x 4 columns]"
      ]
     },
     "execution_count": 1,
     "metadata": {},
     "output_type": "execute_result"
    }
   ],
   "source": [
    "import pandas as pd\n",
    "import numpy as np\n",
    "\n",
    "\n",
    "import seaborn as sns                       #visualisation\n",
    "import matplotlib.pyplot as plt             #visualisation\n",
    "\n",
    "file = \"C:/Users/TYS/Documents/study/Master/INSY662/group project/Real Code/INSY662-Group-Project/Data/dataset_demand.csv\"\n",
    "data = pd.read_csv(file)\n",
    "data"
   ]
  },
  {
   "cell_type": "code",
   "execution_count": 2,
   "metadata": {},
   "outputs": [
    {
     "data": {
      "text/plain": [
       "(       date  start_station_cluster rideable_type  trip_count\n",
       " 0  2022/1/1                      0  classic_bike          94\n",
       " 2  2022/1/1                      1  classic_bike          11\n",
       " 4  2022/1/1                      2  classic_bike          37\n",
       " 5  2022/1/1                      3  classic_bike         118\n",
       " 7  2022/1/1                      4  classic_bike          65,\n",
       "        date  start_station_cluster  rideable_type  trip_count\n",
       " 1  2022/1/1                      0  electric_bike         196\n",
       " 3  2022/1/1                      1  electric_bike           8\n",
       " 6  2022/1/1                      3  electric_bike         262\n",
       " 8  2022/1/1                      4  electric_bike          97\n",
       " 9  2022/1/1                      6  electric_bike           8)"
      ]
     },
     "execution_count": 2,
     "metadata": {},
     "output_type": "execute_result"
    }
   ],
   "source": [
    "# Filter data for start_station_cluster 0\n",
    "#cluster_data = data[data['start_station_cluster'] == 0]\n",
    "\n",
    "# Separate data for classic bikes and electric bikes\n",
    "# use data instead of cluster_data\n",
    "classic_bike_data = data[data['rideable_type'] == 'classic_bike']\n",
    "electric_bike_data = data[data['rideable_type'] == 'electric_bike']\n",
    "all_bike_data = data\n",
    "\n",
    "classic_bike_data.head(), electric_bike_data.head()"
   ]
  },
  {
   "cell_type": "code",
   "execution_count": 3,
   "metadata": {},
   "outputs": [
    {
     "name": "stderr",
     "output_type": "stream",
     "text": [
      "C:\\Users\\TYS\\AppData\\Local\\Temp\\ipykernel_13724\\3828104725.py:2: SettingWithCopyWarning: \n",
      "A value is trying to be set on a copy of a slice from a DataFrame.\n",
      "Try using .loc[row_indexer,col_indexer] = value instead\n",
      "\n",
      "See the caveats in the documentation: https://pandas.pydata.org/pandas-docs/stable/user_guide/indexing.html#returning-a-view-versus-a-copy\n",
      "  classic_bike_data['date'] = pd.to_datetime(classic_bike_data['date'])\n",
      "C:\\Users\\TYS\\AppData\\Local\\Temp\\ipykernel_13724\\3828104725.py:3: SettingWithCopyWarning: \n",
      "A value is trying to be set on a copy of a slice from a DataFrame.\n",
      "Try using .loc[row_indexer,col_indexer] = value instead\n",
      "\n",
      "See the caveats in the documentation: https://pandas.pydata.org/pandas-docs/stable/user_guide/indexing.html#returning-a-view-versus-a-copy\n",
      "  electric_bike_data['date'] = pd.to_datetime(electric_bike_data['date'])\n"
     ]
    },
    {
     "data": {
      "text/plain": [
       "(            start_station_cluster rideable_type  trip_count\n",
       " date                                                       \n",
       " 2022-01-01                      0  classic_bike          94\n",
       " 2022-01-01                      1  classic_bike          11\n",
       " 2022-01-01                      2  classic_bike          37\n",
       " 2022-01-01                      3  classic_bike         118\n",
       " 2022-01-01                      4  classic_bike          65,\n",
       "             start_station_cluster  rideable_type  trip_count\n",
       " date                                                        \n",
       " 2022-01-01                      0  electric_bike         196\n",
       " 2022-01-01                      1  electric_bike           8\n",
       " 2022-01-01                      3  electric_bike         262\n",
       " 2022-01-01                      4  electric_bike          97\n",
       " 2022-01-01                      6  electric_bike           8)"
      ]
     },
     "execution_count": 3,
     "metadata": {},
     "output_type": "execute_result"
    }
   ],
   "source": [
    "# Convert 'date' to datetime and set as index\n",
    "classic_bike_data['date'] = pd.to_datetime(classic_bike_data['date'])\n",
    "electric_bike_data['date'] = pd.to_datetime(electric_bike_data['date'])\n",
    "all_bike_data['date'] = pd.to_datetime(all_bike_data['date'])\n",
    "classic_bike_data.set_index('date', inplace=True)\n",
    "electric_bike_data.set_index('date', inplace=True)\n",
    "all_bike_data.set_index('date', inplace=True)\n",
    "\n",
    "# Display the first few rows of each dataset\n",
    "classic_bike_data.head(), electric_bike_data.head() "
   ]
  },
  {
   "cell_type": "code",
   "execution_count": 4,
   "metadata": {},
   "outputs": [
    {
     "data": {
      "text/plain": [
       "(            start_station_cluster rideable_type  trip_count\n",
       " date                                                       \n",
       " 2022-01-01                      0  classic_bike          94\n",
       " 2022-01-01                      1  classic_bike          11\n",
       " 2022-01-01                      2  classic_bike          37\n",
       " 2022-01-01                      3  classic_bike         118\n",
       " 2022-01-01                      4  classic_bike          65,\n",
       "             start_station_cluster  rideable_type  trip_count\n",
       " date                                                        \n",
       " 2022-01-01                      0  electric_bike         196\n",
       " 2022-01-01                      1  electric_bike           8\n",
       " 2022-01-01                      3  electric_bike         262\n",
       " 2022-01-01                      4  electric_bike          97\n",
       " 2022-01-01                      6  electric_bike           8,\n",
       "             start_station_cluster  rideable_type  trip_count\n",
       " date                                                        \n",
       " 2022-01-01                      0   classic_bike          94\n",
       " 2022-01-01                      0  electric_bike         196\n",
       " 2022-01-01                      1   classic_bike          11\n",
       " 2022-01-01                      1  electric_bike           8\n",
       " 2022-01-01                      2   classic_bike          37)"
      ]
     },
     "execution_count": 4,
     "metadata": {},
     "output_type": "execute_result"
    }
   ],
   "source": [
    "# Make sure the data is sorted by date\n",
    "classic_bike_data.sort_index(inplace=True)\n",
    "electric_bike_data.sort_index(inplace=True)\n",
    "all_bike_data.sort_index(inplace=True)\n",
    "\n",
    "# Determine the split point for the classic bike data\n",
    "split_point_classic = len(classic_bike_data) // 2\n",
    "\n",
    "# Split the classic bike data into train and test\n",
    "classic_bike_train = classic_bike_data.iloc[:split_point_classic]\n",
    "classic_bike_test = classic_bike_data.iloc[split_point_classic:]\n",
    "\n",
    "# Determine the split point for the electric bike data\n",
    "split_point_electric = len(electric_bike_data) // 2\n",
    "\n",
    "# Split the electric bike data into train and test\n",
    "electric_bike_train = electric_bike_data.iloc[:split_point_electric]\n",
    "electric_bike_test = electric_bike_data.iloc[split_point_electric:]\n",
    "\n",
    "split_point_all = len(all_bike_data) // 2\n",
    "\n",
    "all_bike_train = all_bike_data.iloc[:split_point_all]\n",
    "all_bike_test = all_bike_data.iloc[split_point_all:]\n",
    "\n",
    "# You now have the train and test sets for both classic and electric bikes\n",
    "\n",
    "# Display the first few rows of each dataset\n",
    "classic_bike_train.head(), electric_bike_train.head(),all_bike_train.head()\n"
   ]
  },
  {
   "cell_type": "code",
   "execution_count": 5,
   "metadata": {},
   "outputs": [
    {
     "name": "stdout",
     "output_type": "stream",
     "text": [
      "Performing stepwise search to minimize aic\n"
     ]
    },
    {
     "name": "stderr",
     "output_type": "stream",
     "text": [
      "c:\\Users\\TYS\\AppData\\Local\\Programs\\Python\\Python311\\Lib\\site-packages\\statsmodels\\tsa\\statespace\\sarimax.py:966: UserWarning: Non-stationary starting autoregressive parameters found. Using zeros as starting parameters.\n",
      "  warn('Non-stationary starting autoregressive parameters'\n",
      "c:\\Users\\TYS\\AppData\\Local\\Programs\\Python\\Python311\\Lib\\site-packages\\statsmodels\\tsa\\statespace\\sarimax.py:978: UserWarning: Non-invertible starting MA parameters found. Using zeros as starting parameters.\n",
      "  warn('Non-invertible starting MA parameters found.'\n",
      "c:\\Users\\TYS\\AppData\\Local\\Programs\\Python\\Python311\\Lib\\site-packages\\statsmodels\\base\\model.py:607: ConvergenceWarning: Maximum Likelihood optimization failed to converge. Check mle_retvals\n",
      "  warnings.warn(\"Maximum Likelihood optimization failed to \"\n"
     ]
    },
    {
     "name": "stdout",
     "output_type": "stream",
     "text": [
      " ARIMA(2,1,2)(1,0,1)[12] intercept   : AIC=2054.079, Time=1.46 sec\n",
      " ARIMA(0,1,0)(0,0,0)[12] intercept   : AIC=2118.268, Time=0.02 sec\n",
      " ARIMA(1,1,0)(1,0,0)[12] intercept   : AIC=2096.615, Time=0.23 sec\n",
      " ARIMA(0,1,1)(0,0,1)[12] intercept   : AIC=2070.814, Time=0.28 sec\n",
      " ARIMA(0,1,0)(0,0,0)[12]             : AIC=2116.303, Time=0.02 sec\n"
     ]
    },
    {
     "name": "stderr",
     "output_type": "stream",
     "text": [
      "c:\\Users\\TYS\\AppData\\Local\\Programs\\Python\\Python311\\Lib\\site-packages\\statsmodels\\tsa\\statespace\\sarimax.py:966: UserWarning: Non-stationary starting autoregressive parameters found. Using zeros as starting parameters.\n",
      "  warn('Non-stationary starting autoregressive parameters'\n",
      "c:\\Users\\TYS\\AppData\\Local\\Programs\\Python\\Python311\\Lib\\site-packages\\statsmodels\\tsa\\statespace\\sarimax.py:978: UserWarning: Non-invertible starting MA parameters found. Using zeros as starting parameters.\n",
      "  warn('Non-invertible starting MA parameters found.'\n",
      "c:\\Users\\TYS\\AppData\\Local\\Programs\\Python\\Python311\\Lib\\site-packages\\statsmodels\\base\\model.py:607: ConvergenceWarning: Maximum Likelihood optimization failed to converge. Check mle_retvals\n",
      "  warnings.warn(\"Maximum Likelihood optimization failed to \"\n",
      "c:\\Users\\TYS\\AppData\\Local\\Programs\\Python\\Python311\\Lib\\site-packages\\statsmodels\\tsa\\statespace\\sarimax.py:966: UserWarning: Non-stationary starting autoregressive parameters found. Using zeros as starting parameters.\n",
      "  warn('Non-stationary starting autoregressive parameters'\n",
      "c:\\Users\\TYS\\AppData\\Local\\Programs\\Python\\Python311\\Lib\\site-packages\\statsmodels\\tsa\\statespace\\sarimax.py:978: UserWarning: Non-invertible starting MA parameters found. Using zeros as starting parameters.\n",
      "  warn('Non-invertible starting MA parameters found.'\n"
     ]
    },
    {
     "name": "stdout",
     "output_type": "stream",
     "text": [
      " ARIMA(2,1,2)(0,0,1)[12] intercept   : AIC=inf, Time=1.15 sec\n"
     ]
    },
    {
     "name": "stderr",
     "output_type": "stream",
     "text": [
      "c:\\Users\\TYS\\AppData\\Local\\Programs\\Python\\Python311\\Lib\\site-packages\\statsmodels\\base\\model.py:607: ConvergenceWarning: Maximum Likelihood optimization failed to converge. Check mle_retvals\n",
      "  warnings.warn(\"Maximum Likelihood optimization failed to \"\n",
      "c:\\Users\\TYS\\AppData\\Local\\Programs\\Python\\Python311\\Lib\\site-packages\\statsmodels\\tsa\\statespace\\sarimax.py:966: UserWarning: Non-stationary starting autoregressive parameters found. Using zeros as starting parameters.\n",
      "  warn('Non-stationary starting autoregressive parameters'\n",
      "c:\\Users\\TYS\\AppData\\Local\\Programs\\Python\\Python311\\Lib\\site-packages\\statsmodels\\tsa\\statespace\\sarimax.py:978: UserWarning: Non-invertible starting MA parameters found. Using zeros as starting parameters.\n",
      "  warn('Non-invertible starting MA parameters found.'\n"
     ]
    },
    {
     "name": "stdout",
     "output_type": "stream",
     "text": [
      " ARIMA(2,1,2)(1,0,0)[12] intercept   : AIC=inf, Time=1.16 sec\n"
     ]
    },
    {
     "name": "stderr",
     "output_type": "stream",
     "text": [
      "c:\\Users\\TYS\\AppData\\Local\\Programs\\Python\\Python311\\Lib\\site-packages\\statsmodels\\base\\model.py:607: ConvergenceWarning: Maximum Likelihood optimization failed to converge. Check mle_retvals\n",
      "  warnings.warn(\"Maximum Likelihood optimization failed to \"\n",
      "c:\\Users\\TYS\\AppData\\Local\\Programs\\Python\\Python311\\Lib\\site-packages\\statsmodels\\tsa\\statespace\\sarimax.py:966: UserWarning: Non-stationary starting autoregressive parameters found. Using zeros as starting parameters.\n",
      "  warn('Non-stationary starting autoregressive parameters'\n",
      "c:\\Users\\TYS\\AppData\\Local\\Programs\\Python\\Python311\\Lib\\site-packages\\statsmodels\\tsa\\statespace\\sarimax.py:978: UserWarning: Non-invertible starting MA parameters found. Using zeros as starting parameters.\n",
      "  warn('Non-invertible starting MA parameters found.'\n"
     ]
    },
    {
     "name": "stdout",
     "output_type": "stream",
     "text": [
      " ARIMA(2,1,2)(2,0,1)[12] intercept   : AIC=inf, Time=2.69 sec\n"
     ]
    },
    {
     "name": "stderr",
     "output_type": "stream",
     "text": [
      "c:\\Users\\TYS\\AppData\\Local\\Programs\\Python\\Python311\\Lib\\site-packages\\statsmodels\\base\\model.py:607: ConvergenceWarning: Maximum Likelihood optimization failed to converge. Check mle_retvals\n",
      "  warnings.warn(\"Maximum Likelihood optimization failed to \"\n",
      "c:\\Users\\TYS\\AppData\\Local\\Programs\\Python\\Python311\\Lib\\site-packages\\statsmodels\\tsa\\statespace\\sarimax.py:966: UserWarning: Non-stationary starting autoregressive parameters found. Using zeros as starting parameters.\n",
      "  warn('Non-stationary starting autoregressive parameters'\n",
      "c:\\Users\\TYS\\AppData\\Local\\Programs\\Python\\Python311\\Lib\\site-packages\\statsmodels\\tsa\\statespace\\sarimax.py:978: UserWarning: Non-invertible starting MA parameters found. Using zeros as starting parameters.\n",
      "  warn('Non-invertible starting MA parameters found.'\n"
     ]
    },
    {
     "name": "stdout",
     "output_type": "stream",
     "text": [
      " ARIMA(2,1,2)(1,0,2)[12] intercept   : AIC=inf, Time=2.60 sec\n"
     ]
    },
    {
     "name": "stderr",
     "output_type": "stream",
     "text": [
      "c:\\Users\\TYS\\AppData\\Local\\Programs\\Python\\Python311\\Lib\\site-packages\\statsmodels\\base\\model.py:607: ConvergenceWarning: Maximum Likelihood optimization failed to converge. Check mle_retvals\n",
      "  warnings.warn(\"Maximum Likelihood optimization failed to \"\n",
      "c:\\Users\\TYS\\AppData\\Local\\Programs\\Python\\Python311\\Lib\\site-packages\\statsmodels\\tsa\\statespace\\sarimax.py:966: UserWarning: Non-stationary starting autoregressive parameters found. Using zeros as starting parameters.\n",
      "  warn('Non-stationary starting autoregressive parameters'\n",
      "c:\\Users\\TYS\\AppData\\Local\\Programs\\Python\\Python311\\Lib\\site-packages\\statsmodels\\tsa\\statespace\\sarimax.py:978: UserWarning: Non-invertible starting MA parameters found. Using zeros as starting parameters.\n",
      "  warn('Non-invertible starting MA parameters found.'\n"
     ]
    },
    {
     "name": "stdout",
     "output_type": "stream",
     "text": [
      " ARIMA(2,1,2)(0,0,0)[12] intercept   : AIC=inf, Time=0.56 sec\n"
     ]
    },
    {
     "name": "stderr",
     "output_type": "stream",
     "text": [
      "c:\\Users\\TYS\\AppData\\Local\\Programs\\Python\\Python311\\Lib\\site-packages\\statsmodels\\base\\model.py:607: ConvergenceWarning: Maximum Likelihood optimization failed to converge. Check mle_retvals\n",
      "  warnings.warn(\"Maximum Likelihood optimization failed to \"\n",
      "c:\\Users\\TYS\\AppData\\Local\\Programs\\Python\\Python311\\Lib\\site-packages\\statsmodels\\tsa\\statespace\\sarimax.py:966: UserWarning: Non-stationary starting autoregressive parameters found. Using zeros as starting parameters.\n",
      "  warn('Non-stationary starting autoregressive parameters'\n",
      "c:\\Users\\TYS\\AppData\\Local\\Programs\\Python\\Python311\\Lib\\site-packages\\statsmodels\\tsa\\statespace\\sarimax.py:978: UserWarning: Non-invertible starting MA parameters found. Using zeros as starting parameters.\n",
      "  warn('Non-invertible starting MA parameters found.'\n"
     ]
    },
    {
     "name": "stdout",
     "output_type": "stream",
     "text": [
      " ARIMA(2,1,2)(0,0,2)[12] intercept   : AIC=inf, Time=2.24 sec\n"
     ]
    },
    {
     "name": "stderr",
     "output_type": "stream",
     "text": [
      "c:\\Users\\TYS\\AppData\\Local\\Programs\\Python\\Python311\\Lib\\site-packages\\statsmodels\\base\\model.py:607: ConvergenceWarning: Maximum Likelihood optimization failed to converge. Check mle_retvals\n",
      "  warnings.warn(\"Maximum Likelihood optimization failed to \"\n",
      "c:\\Users\\TYS\\AppData\\Local\\Programs\\Python\\Python311\\Lib\\site-packages\\statsmodels\\tsa\\statespace\\sarimax.py:978: UserWarning: Non-invertible starting MA parameters found. Using zeros as starting parameters.\n",
      "  warn('Non-invertible starting MA parameters found.'\n"
     ]
    },
    {
     "name": "stdout",
     "output_type": "stream",
     "text": [
      " ARIMA(2,1,2)(2,0,0)[12] intercept   : AIC=2053.071, Time=2.51 sec\n",
      " ARIMA(1,1,2)(2,0,0)[12] intercept   : AIC=2062.513, Time=1.63 sec\n"
     ]
    },
    {
     "name": "stderr",
     "output_type": "stream",
     "text": [
      "c:\\Users\\TYS\\AppData\\Local\\Programs\\Python\\Python311\\Lib\\site-packages\\statsmodels\\tsa\\statespace\\sarimax.py:978: UserWarning: Non-invertible starting MA parameters found. Using zeros as starting parameters.\n",
      "  warn('Non-invertible starting MA parameters found.'\n"
     ]
    },
    {
     "name": "stdout",
     "output_type": "stream",
     "text": [
      " ARIMA(2,1,1)(2,0,0)[12] intercept   : AIC=2062.408, Time=2.09 sec\n"
     ]
    },
    {
     "name": "stderr",
     "output_type": "stream",
     "text": [
      "c:\\Users\\TYS\\AppData\\Local\\Programs\\Python\\Python311\\Lib\\site-packages\\statsmodels\\tsa\\statespace\\sarimax.py:966: UserWarning: Non-stationary starting autoregressive parameters found. Using zeros as starting parameters.\n",
      "  warn('Non-stationary starting autoregressive parameters'\n",
      "c:\\Users\\TYS\\AppData\\Local\\Programs\\Python\\Python311\\Lib\\site-packages\\statsmodels\\tsa\\statespace\\sarimax.py:978: UserWarning: Non-invertible starting MA parameters found. Using zeros as starting parameters.\n",
      "  warn('Non-invertible starting MA parameters found.'\n",
      "c:\\Users\\TYS\\AppData\\Local\\Programs\\Python\\Python311\\Lib\\site-packages\\statsmodels\\base\\model.py:607: ConvergenceWarning: Maximum Likelihood optimization failed to converge. Check mle_retvals\n",
      "  warnings.warn(\"Maximum Likelihood optimization failed to \"\n"
     ]
    },
    {
     "name": "stdout",
     "output_type": "stream",
     "text": [
      " ARIMA(3,1,2)(2,0,0)[12] intercept   : AIC=2054.843, Time=2.61 sec\n"
     ]
    },
    {
     "name": "stderr",
     "output_type": "stream",
     "text": [
      "c:\\Users\\TYS\\AppData\\Local\\Programs\\Python\\Python311\\Lib\\site-packages\\statsmodels\\base\\model.py:607: ConvergenceWarning: Maximum Likelihood optimization failed to converge. Check mle_retvals\n",
      "  warnings.warn(\"Maximum Likelihood optimization failed to \"\n"
     ]
    },
    {
     "name": "stdout",
     "output_type": "stream",
     "text": [
      " ARIMA(2,1,3)(2,0,0)[12] intercept   : AIC=2055.071, Time=2.80 sec\n",
      " ARIMA(1,1,1)(2,0,0)[12] intercept   : AIC=2060.650, Time=1.62 sec\n"
     ]
    },
    {
     "name": "stderr",
     "output_type": "stream",
     "text": [
      "c:\\Users\\TYS\\AppData\\Local\\Programs\\Python\\Python311\\Lib\\site-packages\\statsmodels\\base\\model.py:607: ConvergenceWarning: Maximum Likelihood optimization failed to converge. Check mle_retvals\n",
      "  warnings.warn(\"Maximum Likelihood optimization failed to \"\n"
     ]
    },
    {
     "name": "stdout",
     "output_type": "stream",
     "text": [
      " ARIMA(1,1,3)(2,0,0)[12] intercept   : AIC=2053.987, Time=2.21 sec\n",
      " ARIMA(3,1,1)(2,0,0)[12] intercept   : AIC=2062.493, Time=2.14 sec\n"
     ]
    },
    {
     "name": "stderr",
     "output_type": "stream",
     "text": [
      "c:\\Users\\TYS\\AppData\\Local\\Programs\\Python\\Python311\\Lib\\site-packages\\statsmodels\\base\\model.py:607: ConvergenceWarning: Maximum Likelihood optimization failed to converge. Check mle_retvals\n",
      "  warnings.warn(\"Maximum Likelihood optimization failed to \"\n",
      "c:\\Users\\TYS\\AppData\\Local\\Programs\\Python\\Python311\\Lib\\site-packages\\statsmodels\\tsa\\statespace\\sarimax.py:966: UserWarning: Non-stationary starting autoregressive parameters found. Using zeros as starting parameters.\n",
      "  warn('Non-stationary starting autoregressive parameters'\n",
      "c:\\Users\\TYS\\AppData\\Local\\Programs\\Python\\Python311\\Lib\\site-packages\\statsmodels\\tsa\\statespace\\sarimax.py:978: UserWarning: Non-invertible starting MA parameters found. Using zeros as starting parameters.\n",
      "  warn('Non-invertible starting MA parameters found.'\n"
     ]
    },
    {
     "name": "stdout",
     "output_type": "stream",
     "text": [
      " ARIMA(3,1,3)(2,0,0)[12] intercept   : AIC=inf, Time=3.20 sec\n"
     ]
    },
    {
     "name": "stderr",
     "output_type": "stream",
     "text": [
      "c:\\Users\\TYS\\AppData\\Local\\Programs\\Python\\Python311\\Lib\\site-packages\\statsmodels\\base\\model.py:607: ConvergenceWarning: Maximum Likelihood optimization failed to converge. Check mle_retvals\n",
      "  warnings.warn(\"Maximum Likelihood optimization failed to \"\n",
      "c:\\Users\\TYS\\AppData\\Local\\Programs\\Python\\Python311\\Lib\\site-packages\\statsmodels\\tsa\\statespace\\sarimax.py:966: UserWarning: Non-stationary starting autoregressive parameters found. Using zeros as starting parameters.\n",
      "  warn('Non-stationary starting autoregressive parameters'\n",
      "c:\\Users\\TYS\\AppData\\Local\\Programs\\Python\\Python311\\Lib\\site-packages\\statsmodels\\tsa\\statespace\\sarimax.py:978: UserWarning: Non-invertible starting MA parameters found. Using zeros as starting parameters.\n",
      "  warn('Non-invertible starting MA parameters found.'\n"
     ]
    },
    {
     "name": "stdout",
     "output_type": "stream",
     "text": [
      " ARIMA(2,1,2)(2,0,0)[12]             : AIC=inf, Time=2.02 sec\n",
      "\n",
      "Best model:  ARIMA(2,1,2)(2,0,0)[12] intercept\n",
      "Total fit time: 35.252 seconds\n",
      "Cluster 0 (Classic_bike): ARIMA(2, 1, 2), Seasonal Order=(2, 0, 0, 12), AIC=2053.071329574367\n",
      "Performing stepwise search to minimize aic\n"
     ]
    },
    {
     "name": "stderr",
     "output_type": "stream",
     "text": [
      "c:\\Users\\TYS\\AppData\\Local\\Programs\\Python\\Python311\\Lib\\site-packages\\statsmodels\\base\\model.py:607: ConvergenceWarning: Maximum Likelihood optimization failed to converge. Check mle_retvals\n",
      "  warnings.warn(\"Maximum Likelihood optimization failed to \"\n"
     ]
    },
    {
     "name": "stdout",
     "output_type": "stream",
     "text": [
      " ARIMA(2,1,2)(1,0,1)[12] intercept   : AIC=inf, Time=1.51 sec\n",
      " ARIMA(0,1,0)(0,0,0)[12] intercept   : AIC=2263.338, Time=0.01 sec\n",
      " ARIMA(1,1,0)(1,0,0)[12] intercept   : AIC=2255.683, Time=0.21 sec\n",
      " ARIMA(0,1,1)(0,0,1)[12] intercept   : AIC=inf, Time=0.30 sec\n",
      " ARIMA(0,1,0)(0,0,0)[12]             : AIC=2261.370, Time=0.01 sec\n",
      " ARIMA(1,1,0)(0,0,0)[12] intercept   : AIC=2260.809, Time=0.03 sec\n",
      " ARIMA(1,1,0)(2,0,0)[12] intercept   : AIC=2232.683, Time=0.61 sec\n",
      " ARIMA(1,1,0)(2,0,1)[12] intercept   : AIC=2234.519, Time=1.73 sec\n",
      " ARIMA(1,1,0)(1,0,1)[12] intercept   : AIC=2250.673, Time=0.62 sec\n",
      " ARIMA(0,1,0)(2,0,0)[12] intercept   : AIC=2250.272, Time=0.56 sec\n",
      " ARIMA(2,1,0)(2,0,0)[12] intercept   : AIC=2225.533, Time=1.60 sec\n",
      " ARIMA(2,1,0)(1,0,0)[12] intercept   : AIC=2255.749, Time=0.41 sec\n",
      " ARIMA(2,1,0)(2,0,1)[12] intercept   : AIC=2227.199, Time=1.99 sec\n",
      " ARIMA(2,1,0)(1,0,1)[12] intercept   : AIC=2250.490, Time=0.83 sec\n",
      " ARIMA(3,1,0)(2,0,0)[12] intercept   : AIC=2216.738, Time=2.14 sec\n",
      " ARIMA(3,1,0)(1,0,0)[12] intercept   : AIC=2238.194, Time=0.40 sec\n",
      " ARIMA(3,1,0)(2,0,1)[12] intercept   : AIC=2218.468, Time=2.25 sec\n",
      " ARIMA(3,1,0)(1,0,1)[12] intercept   : AIC=2235.391, Time=1.44 sec\n",
      " ARIMA(3,1,1)(2,0,0)[12] intercept   : AIC=inf, Time=2.77 sec\n"
     ]
    },
    {
     "name": "stderr",
     "output_type": "stream",
     "text": [
      "c:\\Users\\TYS\\AppData\\Local\\Programs\\Python\\Python311\\Lib\\site-packages\\statsmodels\\tsa\\statespace\\sarimax.py:966: UserWarning: Non-stationary starting autoregressive parameters found. Using zeros as starting parameters.\n",
      "  warn('Non-stationary starting autoregressive parameters'\n",
      "c:\\Users\\TYS\\AppData\\Local\\Programs\\Python\\Python311\\Lib\\site-packages\\statsmodels\\tsa\\statespace\\sarimax.py:978: UserWarning: Non-invertible starting MA parameters found. Using zeros as starting parameters.\n",
      "  warn('Non-invertible starting MA parameters found.'\n"
     ]
    },
    {
     "name": "stdout",
     "output_type": "stream",
     "text": [
      " ARIMA(2,1,1)(2,0,0)[12] intercept   : AIC=inf, Time=1.46 sec\n",
      " ARIMA(3,1,0)(2,0,0)[12]             : AIC=2215.724, Time=0.60 sec\n",
      " ARIMA(3,1,0)(1,0,0)[12]             : AIC=2236.450, Time=0.24 sec\n",
      " ARIMA(3,1,0)(2,0,1)[12]             : AIC=2217.419, Time=0.80 sec\n",
      " ARIMA(3,1,0)(1,0,1)[12]             : AIC=2233.813, Time=0.43 sec\n",
      " ARIMA(2,1,0)(2,0,0)[12]             : AIC=2224.127, Time=0.54 sec\n",
      " ARIMA(3,1,1)(2,0,0)[12]             : AIC=2192.180, Time=1.13 sec\n",
      " ARIMA(3,1,1)(1,0,0)[12]             : AIC=2191.862, Time=0.36 sec\n",
      " ARIMA(3,1,1)(0,0,0)[12]             : AIC=2197.766, Time=0.20 sec\n",
      " ARIMA(3,1,1)(1,0,1)[12]             : AIC=2193.265, Time=0.55 sec\n",
      " ARIMA(3,1,1)(0,0,1)[12]             : AIC=2191.265, Time=0.48 sec\n",
      " ARIMA(3,1,1)(0,0,2)[12]             : AIC=2193.265, Time=1.12 sec\n",
      " ARIMA(3,1,1)(1,0,2)[12]             : AIC=2194.084, Time=1.80 sec\n"
     ]
    },
    {
     "name": "stderr",
     "output_type": "stream",
     "text": [
      "c:\\Users\\TYS\\AppData\\Local\\Programs\\Python\\Python311\\Lib\\site-packages\\statsmodels\\tsa\\statespace\\sarimax.py:966: UserWarning: Non-stationary starting autoregressive parameters found. Using zeros as starting parameters.\n",
      "  warn('Non-stationary starting autoregressive parameters'\n",
      "c:\\Users\\TYS\\AppData\\Local\\Programs\\Python\\Python311\\Lib\\site-packages\\statsmodels\\tsa\\statespace\\sarimax.py:978: UserWarning: Non-invertible starting MA parameters found. Using zeros as starting parameters.\n",
      "  warn('Non-invertible starting MA parameters found.'\n"
     ]
    },
    {
     "name": "stdout",
     "output_type": "stream",
     "text": [
      " ARIMA(2,1,1)(0,0,1)[12]             : AIC=2207.777, Time=0.50 sec\n",
      " ARIMA(3,1,0)(0,0,1)[12]             : AIC=2232.784, Time=0.28 sec\n"
     ]
    },
    {
     "name": "stderr",
     "output_type": "stream",
     "text": [
      "c:\\Users\\TYS\\AppData\\Local\\Programs\\Python\\Python311\\Lib\\site-packages\\statsmodels\\tsa\\statespace\\sarimax.py:978: UserWarning: Non-invertible starting MA parameters found. Using zeros as starting parameters.\n",
      "  warn('Non-invertible starting MA parameters found.'\n",
      "c:\\Users\\TYS\\AppData\\Local\\Programs\\Python\\Python311\\Lib\\site-packages\\statsmodels\\base\\model.py:607: ConvergenceWarning: Maximum Likelihood optimization failed to converge. Check mle_retvals\n",
      "  warnings.warn(\"Maximum Likelihood optimization failed to \"\n",
      "c:\\Users\\TYS\\AppData\\Local\\Programs\\Python\\Python311\\Lib\\site-packages\\statsmodels\\tsa\\statespace\\sarimax.py:978: UserWarning: Non-invertible starting MA parameters found. Using zeros as starting parameters.\n",
      "  warn('Non-invertible starting MA parameters found.'\n"
     ]
    },
    {
     "name": "stdout",
     "output_type": "stream",
     "text": [
      " ARIMA(3,1,2)(0,0,1)[12]             : AIC=2164.896, Time=1.35 sec\n"
     ]
    },
    {
     "name": "stderr",
     "output_type": "stream",
     "text": [
      "c:\\Users\\TYS\\AppData\\Local\\Programs\\Python\\Python311\\Lib\\site-packages\\statsmodels\\base\\model.py:607: ConvergenceWarning: Maximum Likelihood optimization failed to converge. Check mle_retvals\n",
      "  warnings.warn(\"Maximum Likelihood optimization failed to \"\n",
      "c:\\Users\\TYS\\AppData\\Local\\Programs\\Python\\Python311\\Lib\\site-packages\\statsmodels\\tsa\\statespace\\sarimax.py:978: UserWarning: Non-invertible starting MA parameters found. Using zeros as starting parameters.\n",
      "  warn('Non-invertible starting MA parameters found.'\n"
     ]
    },
    {
     "name": "stdout",
     "output_type": "stream",
     "text": [
      " ARIMA(3,1,2)(0,0,0)[12]             : AIC=2169.810, Time=0.61 sec\n"
     ]
    },
    {
     "name": "stderr",
     "output_type": "stream",
     "text": [
      "c:\\Users\\TYS\\AppData\\Local\\Programs\\Python\\Python311\\Lib\\site-packages\\statsmodels\\base\\model.py:607: ConvergenceWarning: Maximum Likelihood optimization failed to converge. Check mle_retvals\n",
      "  warnings.warn(\"Maximum Likelihood optimization failed to \"\n",
      "c:\\Users\\TYS\\AppData\\Local\\Programs\\Python\\Python311\\Lib\\site-packages\\statsmodels\\tsa\\statespace\\sarimax.py:978: UserWarning: Non-invertible starting MA parameters found. Using zeros as starting parameters.\n",
      "  warn('Non-invertible starting MA parameters found.'\n"
     ]
    },
    {
     "name": "stdout",
     "output_type": "stream",
     "text": [
      " ARIMA(3,1,2)(1,0,1)[12]             : AIC=2164.194, Time=1.37 sec\n"
     ]
    },
    {
     "name": "stderr",
     "output_type": "stream",
     "text": [
      "c:\\Users\\TYS\\AppData\\Local\\Programs\\Python\\Python311\\Lib\\site-packages\\statsmodels\\base\\model.py:607: ConvergenceWarning: Maximum Likelihood optimization failed to converge. Check mle_retvals\n",
      "  warnings.warn(\"Maximum Likelihood optimization failed to \"\n",
      "c:\\Users\\TYS\\AppData\\Local\\Programs\\Python\\Python311\\Lib\\site-packages\\statsmodels\\tsa\\statespace\\sarimax.py:978: UserWarning: Non-invertible starting MA parameters found. Using zeros as starting parameters.\n",
      "  warn('Non-invertible starting MA parameters found.'\n"
     ]
    },
    {
     "name": "stdout",
     "output_type": "stream",
     "text": [
      " ARIMA(3,1,2)(1,0,0)[12]             : AIC=2162.975, Time=1.11 sec\n"
     ]
    },
    {
     "name": "stderr",
     "output_type": "stream",
     "text": [
      "c:\\Users\\TYS\\AppData\\Local\\Programs\\Python\\Python311\\Lib\\site-packages\\statsmodels\\base\\model.py:607: ConvergenceWarning: Maximum Likelihood optimization failed to converge. Check mle_retvals\n",
      "  warnings.warn(\"Maximum Likelihood optimization failed to \"\n",
      "c:\\Users\\TYS\\AppData\\Local\\Programs\\Python\\Python311\\Lib\\site-packages\\statsmodels\\tsa\\statespace\\sarimax.py:978: UserWarning: Non-invertible starting MA parameters found. Using zeros as starting parameters.\n",
      "  warn('Non-invertible starting MA parameters found.'\n"
     ]
    },
    {
     "name": "stdout",
     "output_type": "stream",
     "text": [
      " ARIMA(3,1,2)(2,0,0)[12]             : AIC=2192.290, Time=2.30 sec\n"
     ]
    },
    {
     "name": "stderr",
     "output_type": "stream",
     "text": [
      "c:\\Users\\TYS\\AppData\\Local\\Programs\\Python\\Python311\\Lib\\site-packages\\statsmodels\\base\\model.py:607: ConvergenceWarning: Maximum Likelihood optimization failed to converge. Check mle_retvals\n",
      "  warnings.warn(\"Maximum Likelihood optimization failed to \"\n",
      "c:\\Users\\TYS\\AppData\\Local\\Programs\\Python\\Python311\\Lib\\site-packages\\statsmodels\\tsa\\statespace\\sarimax.py:966: UserWarning: Non-stationary starting autoregressive parameters found. Using zeros as starting parameters.\n",
      "  warn('Non-stationary starting autoregressive parameters'\n",
      "c:\\Users\\TYS\\AppData\\Local\\Programs\\Python\\Python311\\Lib\\site-packages\\statsmodels\\tsa\\statespace\\sarimax.py:978: UserWarning: Non-invertible starting MA parameters found. Using zeros as starting parameters.\n",
      "  warn('Non-invertible starting MA parameters found.'\n"
     ]
    },
    {
     "name": "stdout",
     "output_type": "stream",
     "text": [
      " ARIMA(3,1,2)(2,0,1)[12]             : AIC=2193.813, Time=2.51 sec\n"
     ]
    },
    {
     "name": "stderr",
     "output_type": "stream",
     "text": [
      "c:\\Users\\TYS\\AppData\\Local\\Programs\\Python\\Python311\\Lib\\site-packages\\statsmodels\\base\\model.py:607: ConvergenceWarning: Maximum Likelihood optimization failed to converge. Check mle_retvals\n",
      "  warnings.warn(\"Maximum Likelihood optimization failed to \"\n",
      "c:\\Users\\TYS\\AppData\\Local\\Programs\\Python\\Python311\\Lib\\site-packages\\statsmodels\\tsa\\statespace\\sarimax.py:978: UserWarning: Non-invertible starting MA parameters found. Using zeros as starting parameters.\n",
      "  warn('Non-invertible starting MA parameters found.'\n"
     ]
    },
    {
     "name": "stdout",
     "output_type": "stream",
     "text": [
      " ARIMA(2,1,2)(1,0,0)[12]             : AIC=inf, Time=1.21 sec\n"
     ]
    },
    {
     "name": "stderr",
     "output_type": "stream",
     "text": [
      "c:\\Users\\TYS\\AppData\\Local\\Programs\\Python\\Python311\\Lib\\site-packages\\statsmodels\\base\\model.py:607: ConvergenceWarning: Maximum Likelihood optimization failed to converge. Check mle_retvals\n",
      "  warnings.warn(\"Maximum Likelihood optimization failed to \"\n",
      "c:\\Users\\TYS\\AppData\\Local\\Programs\\Python\\Python311\\Lib\\site-packages\\statsmodels\\tsa\\statespace\\sarimax.py:966: UserWarning: Non-stationary starting autoregressive parameters found. Using zeros as starting parameters.\n",
      "  warn('Non-stationary starting autoregressive parameters'\n",
      "c:\\Users\\TYS\\AppData\\Local\\Programs\\Python\\Python311\\Lib\\site-packages\\statsmodels\\tsa\\statespace\\sarimax.py:978: UserWarning: Non-invertible starting MA parameters found. Using zeros as starting parameters.\n",
      "  warn('Non-invertible starting MA parameters found.'\n"
     ]
    },
    {
     "name": "stdout",
     "output_type": "stream",
     "text": [
      " ARIMA(3,1,3)(1,0,0)[12]             : AIC=inf, Time=1.53 sec\n",
      " ARIMA(2,1,1)(1,0,0)[12]             : AIC=2210.369, Time=0.48 sec\n"
     ]
    },
    {
     "name": "stderr",
     "output_type": "stream",
     "text": [
      "c:\\Users\\TYS\\AppData\\Local\\Programs\\Python\\Python311\\Lib\\site-packages\\statsmodels\\base\\model.py:607: ConvergenceWarning: Maximum Likelihood optimization failed to converge. Check mle_retvals\n",
      "  warnings.warn(\"Maximum Likelihood optimization failed to \"\n",
      "c:\\Users\\TYS\\AppData\\Local\\Programs\\Python\\Python311\\Lib\\site-packages\\statsmodels\\tsa\\statespace\\sarimax.py:978: UserWarning: Non-invertible starting MA parameters found. Using zeros as starting parameters.\n",
      "  warn('Non-invertible starting MA parameters found.'\n"
     ]
    },
    {
     "name": "stdout",
     "output_type": "stream",
     "text": [
      " ARIMA(2,1,3)(1,0,0)[12]             : AIC=inf, Time=1.16 sec\n"
     ]
    },
    {
     "name": "stderr",
     "output_type": "stream",
     "text": [
      "c:\\Users\\TYS\\AppData\\Local\\Programs\\Python\\Python311\\Lib\\site-packages\\statsmodels\\base\\model.py:607: ConvergenceWarning: Maximum Likelihood optimization failed to converge. Check mle_retvals\n",
      "  warnings.warn(\"Maximum Likelihood optimization failed to \"\n",
      "c:\\Users\\TYS\\AppData\\Local\\Programs\\Python\\Python311\\Lib\\site-packages\\statsmodels\\tsa\\statespace\\sarimax.py:966: UserWarning: Non-stationary starting autoregressive parameters found. Using zeros as starting parameters.\n",
      "  warn('Non-stationary starting autoregressive parameters'\n",
      "c:\\Users\\TYS\\AppData\\Local\\Programs\\Python\\Python311\\Lib\\site-packages\\statsmodels\\tsa\\statespace\\sarimax.py:978: UserWarning: Non-invertible starting MA parameters found. Using zeros as starting parameters.\n",
      "  warn('Non-invertible starting MA parameters found.'\n"
     ]
    },
    {
     "name": "stdout",
     "output_type": "stream",
     "text": [
      " ARIMA(3,1,2)(1,0,0)[12] intercept   : AIC=2164.416, Time=1.52 sec\n",
      "\n",
      "Best model:  ARIMA(3,1,2)(1,0,0)[12]          \n",
      "Total fit time: 45.100 seconds\n",
      "Cluster 0 (Electric_bike): ARIMA(3, 1, 2), Seasonal Order=(1, 0, 0, 12), AIC=2162.9745505967853\n",
      "Performing stepwise search to minimize aic\n",
      " ARIMA(2,1,2)(1,0,1)[12] intercept   : AIC=1255.236, Time=1.09 sec\n",
      " ARIMA(0,1,0)(0,0,0)[12] intercept   : AIC=1341.424, Time=0.02 sec\n",
      " ARIMA(1,1,0)(1,0,0)[12] intercept   : AIC=1305.565, Time=0.18 sec\n",
      " ARIMA(0,1,1)(0,0,1)[12] intercept   : AIC=1249.141, Time=0.23 sec\n",
      " ARIMA(0,1,0)(0,0,0)[12]             : AIC=1339.448, Time=0.01 sec\n",
      " ARIMA(0,1,1)(0,0,0)[12] intercept   : AIC=1247.183, Time=0.18 sec\n",
      " ARIMA(0,1,1)(1,0,0)[12] intercept   : AIC=1249.144, Time=0.18 sec\n",
      " ARIMA(0,1,1)(1,0,1)[12] intercept   : AIC=1251.077, Time=0.54 sec\n",
      " ARIMA(1,1,1)(0,0,0)[12] intercept   : AIC=1247.864, Time=0.12 sec\n",
      " ARIMA(0,1,2)(0,0,0)[12] intercept   : AIC=1247.786, Time=0.12 sec\n",
      " ARIMA(1,1,0)(0,0,0)[12] intercept   : AIC=1304.795, Time=0.04 sec\n"
     ]
    },
    {
     "name": "stderr",
     "output_type": "stream",
     "text": [
      "c:\\Users\\TYS\\AppData\\Local\\Programs\\Python\\Python311\\Lib\\site-packages\\statsmodels\\tsa\\statespace\\sarimax.py:966: UserWarning: Non-stationary starting autoregressive parameters found. Using zeros as starting parameters.\n",
      "  warn('Non-stationary starting autoregressive parameters'\n",
      "c:\\Users\\TYS\\AppData\\Local\\Programs\\Python\\Python311\\Lib\\site-packages\\statsmodels\\tsa\\statespace\\sarimax.py:978: UserWarning: Non-invertible starting MA parameters found. Using zeros as starting parameters.\n",
      "  warn('Non-invertible starting MA parameters found.'\n"
     ]
    },
    {
     "name": "stdout",
     "output_type": "stream",
     "text": [
      " ARIMA(1,1,2)(0,0,0)[12] intercept   : AIC=1249.305, Time=0.17 sec\n",
      " ARIMA(0,1,1)(0,0,0)[12]             : AIC=1247.369, Time=0.05 sec\n",
      "\n",
      "Best model:  ARIMA(0,1,1)(0,0,0)[12] intercept\n",
      "Total fit time: 2.964 seconds\n",
      "Cluster 1 (Classic_bike): ARIMA(0, 1, 1), Seasonal Order=(0, 0, 0, 12), AIC=1247.1831601606\n",
      "Performing stepwise search to minimize aic\n"
     ]
    },
    {
     "name": "stderr",
     "output_type": "stream",
     "text": [
      "c:\\Users\\TYS\\AppData\\Local\\Programs\\Python\\Python311\\Lib\\site-packages\\statsmodels\\base\\model.py:607: ConvergenceWarning: Maximum Likelihood optimization failed to converge. Check mle_retvals\n",
      "  warnings.warn(\"Maximum Likelihood optimization failed to \"\n"
     ]
    },
    {
     "name": "stdout",
     "output_type": "stream",
     "text": [
      " ARIMA(2,0,2)(1,0,1)[12] intercept   : AIC=inf, Time=1.45 sec\n",
      " ARIMA(0,0,0)(0,0,0)[12] intercept   : AIC=1015.649, Time=0.01 sec\n",
      " ARIMA(1,0,0)(1,0,0)[12] intercept   : AIC=1019.007, Time=0.34 sec\n",
      " ARIMA(0,0,1)(0,0,1)[12] intercept   : AIC=1018.843, Time=0.14 sec\n",
      " ARIMA(0,0,0)(0,0,0)[12]             : AIC=1402.448, Time=0.01 sec\n",
      " ARIMA(0,0,0)(1,0,0)[12] intercept   : AIC=1017.234, Time=0.18 sec\n",
      " ARIMA(0,0,0)(0,0,1)[12] intercept   : AIC=1017.071, Time=0.09 sec\n",
      " ARIMA(0,0,0)(1,0,1)[12] intercept   : AIC=1017.862, Time=0.57 sec\n",
      " ARIMA(1,0,0)(0,0,0)[12] intercept   : AIC=1017.418, Time=0.04 sec\n",
      " ARIMA(0,0,1)(0,0,0)[12] intercept   : AIC=1017.419, Time=0.04 sec\n",
      " ARIMA(1,0,1)(0,0,0)[12] intercept   : AIC=1019.416, Time=0.08 sec\n",
      "\n",
      "Best model:  ARIMA(0,0,0)(0,0,0)[12] intercept\n",
      "Total fit time: 2.985 seconds\n",
      "Cluster 1 (Electric_bike): ARIMA(0, 0, 0), Seasonal Order=(0, 0, 0, 12), AIC=1015.6493122039806\n",
      "Performing stepwise search to minimize aic\n",
      " ARIMA(2,1,2)(1,0,1)[12] intercept   : AIC=1490.909, Time=1.13 sec\n",
      " ARIMA(0,1,0)(0,0,0)[12] intercept   : AIC=1553.811, Time=0.01 sec\n",
      " ARIMA(1,1,0)(1,0,0)[12] intercept   : AIC=1528.720, Time=0.22 sec\n",
      " ARIMA(0,1,1)(0,0,1)[12] intercept   : AIC=1490.387, Time=0.19 sec\n",
      " ARIMA(0,1,0)(0,0,0)[12]             : AIC=1551.848, Time=0.01 sec\n",
      " ARIMA(0,1,1)(0,0,0)[12] intercept   : AIC=1491.129, Time=0.06 sec\n",
      " ARIMA(0,1,1)(1,0,1)[12] intercept   : AIC=1490.278, Time=0.41 sec\n",
      " ARIMA(0,1,1)(1,0,0)[12] intercept   : AIC=1491.085, Time=0.18 sec\n",
      " ARIMA(0,1,1)(2,0,1)[12] intercept   : AIC=1491.797, Time=0.90 sec\n",
      " ARIMA(0,1,1)(1,0,2)[12] intercept   : AIC=1491.717, Time=0.79 sec\n",
      " ARIMA(0,1,1)(0,0,2)[12] intercept   : AIC=1489.771, Time=0.66 sec\n",
      " ARIMA(0,1,0)(0,0,2)[12] intercept   : AIC=1557.710, Time=0.31 sec\n",
      " ARIMA(1,1,1)(0,0,2)[12] intercept   : AIC=1487.244, Time=0.95 sec\n",
      " ARIMA(1,1,1)(0,0,1)[12] intercept   : AIC=1486.675, Time=0.41 sec\n",
      " ARIMA(1,1,1)(0,0,0)[12] intercept   : AIC=1485.695, Time=0.14 sec\n",
      " ARIMA(1,1,1)(1,0,0)[12] intercept   : AIC=1486.862, Time=0.37 sec\n",
      " ARIMA(1,1,1)(1,0,1)[12] intercept   : AIC=1487.019, Time=0.73 sec\n",
      " ARIMA(1,1,0)(0,0,0)[12] intercept   : AIC=1527.429, Time=0.06 sec\n",
      " ARIMA(2,1,1)(0,0,0)[12] intercept   : AIC=1487.568, Time=0.24 sec\n"
     ]
    },
    {
     "name": "stderr",
     "output_type": "stream",
     "text": [
      "c:\\Users\\TYS\\AppData\\Local\\Programs\\Python\\Python311\\Lib\\site-packages\\statsmodels\\base\\model.py:607: ConvergenceWarning: Maximum Likelihood optimization failed to converge. Check mle_retvals\n",
      "  warnings.warn(\"Maximum Likelihood optimization failed to \"\n"
     ]
    },
    {
     "name": "stdout",
     "output_type": "stream",
     "text": [
      " ARIMA(1,1,2)(0,0,0)[12] intercept   : AIC=inf, Time=0.60 sec\n",
      " ARIMA(0,1,2)(0,0,0)[12] intercept   : AIC=1486.211, Time=0.15 sec\n",
      " ARIMA(2,1,0)(0,0,0)[12] intercept   : AIC=1510.014, Time=0.09 sec\n",
      " ARIMA(2,1,2)(0,0,0)[12] intercept   : AIC=1489.607, Time=0.37 sec\n",
      " ARIMA(1,1,1)(0,0,0)[12]             : AIC=1489.639, Time=0.08 sec\n",
      "\n",
      "Best model:  ARIMA(1,1,1)(0,0,0)[12] intercept\n",
      "Total fit time: 9.095 seconds\n",
      "Cluster 2 (Classic_bike): ARIMA(1, 1, 1), Seasonal Order=(0, 0, 0, 12), AIC=1485.6953532642056\n",
      "Failed to find ARIMA model for electric_bike in cluster 2: Found array with 0 sample(s) (shape=(0,)) while a minimum of 1 is required.\n",
      "Performing stepwise search to minimize aic\n",
      " ARIMA(2,1,2)(1,0,1)[12] intercept   : AIC=1888.875, Time=1.27 sec\n",
      " ARIMA(0,1,0)(0,0,0)[12] intercept   : AIC=1947.493, Time=0.01 sec\n",
      " ARIMA(1,1,0)(1,0,0)[12] intercept   : AIC=1922.602, Time=0.22 sec\n",
      " ARIMA(0,1,1)(0,0,1)[12] intercept   : AIC=1899.940, Time=0.25 sec\n",
      " ARIMA(0,1,0)(0,0,0)[12]             : AIC=1945.498, Time=0.02 sec\n",
      " ARIMA(2,1,2)(0,0,1)[12] intercept   : AIC=1886.967, Time=1.17 sec\n",
      " ARIMA(2,1,2)(0,0,0)[12] intercept   : AIC=1900.574, Time=0.32 sec\n",
      " ARIMA(2,1,2)(0,0,2)[12] intercept   : AIC=1888.845, Time=2.21 sec\n",
      " ARIMA(2,1,2)(1,0,0)[12] intercept   : AIC=1890.486, Time=0.93 sec\n",
      " ARIMA(2,1,2)(1,0,2)[12] intercept   : AIC=inf, Time=2.39 sec\n",
      " ARIMA(1,1,2)(0,0,1)[12] intercept   : AIC=1885.866, Time=0.49 sec\n",
      " ARIMA(1,1,2)(0,0,0)[12] intercept   : AIC=1898.578, Time=0.21 sec\n",
      " ARIMA(1,1,2)(1,0,1)[12] intercept   : AIC=1887.550, Time=0.83 sec\n",
      " ARIMA(1,1,2)(0,0,2)[12] intercept   : AIC=1887.444, Time=1.09 sec\n",
      " ARIMA(1,1,2)(1,0,0)[12] intercept   : AIC=1889.025, Time=0.47 sec\n",
      " ARIMA(1,1,2)(1,0,2)[12] intercept   : AIC=inf, Time=1.76 sec\n",
      " ARIMA(0,1,2)(0,0,1)[12] intercept   : AIC=1884.320, Time=0.41 sec\n",
      " ARIMA(0,1,2)(0,0,0)[12] intercept   : AIC=1896.596, Time=0.15 sec\n",
      " ARIMA(0,1,2)(1,0,1)[12] intercept   : AIC=1885.878, Time=0.51 sec\n",
      " ARIMA(0,1,2)(0,0,2)[12] intercept   : AIC=1885.734, Time=0.78 sec\n",
      " ARIMA(0,1,2)(1,0,0)[12] intercept   : AIC=1887.489, Time=0.53 sec\n"
     ]
    },
    {
     "name": "stderr",
     "output_type": "stream",
     "text": [
      "c:\\Users\\TYS\\AppData\\Local\\Programs\\Python\\Python311\\Lib\\site-packages\\statsmodels\\base\\model.py:607: ConvergenceWarning: Maximum Likelihood optimization failed to converge. Check mle_retvals\n",
      "  warnings.warn(\"Maximum Likelihood optimization failed to \"\n"
     ]
    },
    {
     "name": "stdout",
     "output_type": "stream",
     "text": [
      " ARIMA(0,1,2)(1,0,2)[12] intercept   : AIC=inf, Time=2.23 sec\n",
      " ARIMA(0,1,3)(0,0,1)[12] intercept   : AIC=1885.845, Time=0.57 sec\n",
      " ARIMA(1,1,1)(0,0,1)[12] intercept   : AIC=1885.138, Time=0.55 sec\n",
      " ARIMA(1,1,3)(0,0,1)[12] intercept   : AIC=1887.125, Time=1.02 sec\n",
      " ARIMA(0,1,2)(0,0,1)[12]             : AIC=1884.333, Time=0.26 sec\n",
      "\n",
      "Best model:  ARIMA(0,1,2)(0,0,1)[12] intercept\n",
      "Total fit time: 20.700 seconds\n",
      "Cluster 3 (Classic_bike): ARIMA(0, 1, 2), Seasonal Order=(0, 0, 1, 12), AIC=1884.3201198536794\n",
      "Performing stepwise search to minimize aic\n"
     ]
    },
    {
     "name": "stderr",
     "output_type": "stream",
     "text": [
      "c:\\Users\\TYS\\AppData\\Local\\Programs\\Python\\Python311\\Lib\\site-packages\\statsmodels\\tsa\\statespace\\sarimax.py:978: UserWarning: Non-invertible starting MA parameters found. Using zeros as starting parameters.\n",
      "  warn('Non-invertible starting MA parameters found.'\n",
      "c:\\Users\\TYS\\AppData\\Local\\Programs\\Python\\Python311\\Lib\\site-packages\\statsmodels\\base\\model.py:607: ConvergenceWarning: Maximum Likelihood optimization failed to converge. Check mle_retvals\n",
      "  warnings.warn(\"Maximum Likelihood optimization failed to \"\n"
     ]
    },
    {
     "name": "stdout",
     "output_type": "stream",
     "text": [
      " ARIMA(2,1,2)(1,0,1)[12] intercept   : AIC=2102.018, Time=1.50 sec\n",
      " ARIMA(0,1,0)(0,0,0)[12] intercept   : AIC=2169.350, Time=0.02 sec\n",
      " ARIMA(1,1,0)(1,0,0)[12] intercept   : AIC=2149.560, Time=0.28 sec\n",
      " ARIMA(0,1,1)(0,0,1)[12] intercept   : AIC=2119.746, Time=0.43 sec\n",
      " ARIMA(0,1,0)(0,0,0)[12]             : AIC=2167.371, Time=0.02 sec\n"
     ]
    },
    {
     "name": "stderr",
     "output_type": "stream",
     "text": [
      "c:\\Users\\TYS\\AppData\\Local\\Programs\\Python\\Python311\\Lib\\site-packages\\statsmodels\\tsa\\statespace\\sarimax.py:978: UserWarning: Non-invertible starting MA parameters found. Using zeros as starting parameters.\n",
      "  warn('Non-invertible starting MA parameters found.'\n"
     ]
    },
    {
     "name": "stdout",
     "output_type": "stream",
     "text": [
      " ARIMA(2,1,2)(0,0,1)[12] intercept   : AIC=2100.217, Time=1.60 sec\n"
     ]
    },
    {
     "name": "stderr",
     "output_type": "stream",
     "text": [
      "c:\\Users\\TYS\\AppData\\Local\\Programs\\Python\\Python311\\Lib\\site-packages\\statsmodels\\tsa\\statespace\\sarimax.py:978: UserWarning: Non-invertible starting MA parameters found. Using zeros as starting parameters.\n",
      "  warn('Non-invertible starting MA parameters found.'\n"
     ]
    },
    {
     "name": "stdout",
     "output_type": "stream",
     "text": [
      " ARIMA(2,1,2)(0,0,0)[12] intercept   : AIC=2116.431, Time=0.58 sec\n"
     ]
    },
    {
     "name": "stderr",
     "output_type": "stream",
     "text": [
      "c:\\Users\\TYS\\AppData\\Local\\Programs\\Python\\Python311\\Lib\\site-packages\\statsmodels\\tsa\\statespace\\sarimax.py:978: UserWarning: Non-invertible starting MA parameters found. Using zeros as starting parameters.\n",
      "  warn('Non-invertible starting MA parameters found.'\n",
      "c:\\Users\\TYS\\AppData\\Local\\Programs\\Python\\Python311\\Lib\\site-packages\\statsmodels\\base\\model.py:607: ConvergenceWarning: Maximum Likelihood optimization failed to converge. Check mle_retvals\n",
      "  warnings.warn(\"Maximum Likelihood optimization failed to \"\n",
      "c:\\Users\\TYS\\AppData\\Local\\Programs\\Python\\Python311\\Lib\\site-packages\\statsmodels\\tsa\\statespace\\sarimax.py:978: UserWarning: Non-invertible starting MA parameters found. Using zeros as starting parameters.\n",
      "  warn('Non-invertible starting MA parameters found.'\n"
     ]
    },
    {
     "name": "stdout",
     "output_type": "stream",
     "text": [
      " ARIMA(2,1,2)(0,0,2)[12] intercept   : AIC=2101.971, Time=2.28 sec\n",
      " ARIMA(2,1,2)(1,0,0)[12] intercept   : AIC=2100.971, Time=1.05 sec\n"
     ]
    },
    {
     "name": "stderr",
     "output_type": "stream",
     "text": [
      "c:\\Users\\TYS\\AppData\\Local\\Programs\\Python\\Python311\\Lib\\site-packages\\statsmodels\\tsa\\statespace\\sarimax.py:978: UserWarning: Non-invertible starting MA parameters found. Using zeros as starting parameters.\n",
      "  warn('Non-invertible starting MA parameters found.'\n",
      "c:\\Users\\TYS\\AppData\\Local\\Programs\\Python\\Python311\\Lib\\site-packages\\statsmodels\\base\\model.py:607: ConvergenceWarning: Maximum Likelihood optimization failed to converge. Check mle_retvals\n",
      "  warnings.warn(\"Maximum Likelihood optimization failed to \"\n",
      "c:\\Users\\TYS\\AppData\\Local\\Programs\\Python\\Python311\\Lib\\site-packages\\statsmodels\\tsa\\statespace\\sarimax.py:978: UserWarning: Non-invertible starting MA parameters found. Using zeros as starting parameters.\n",
      "  warn('Non-invertible starting MA parameters found.'\n"
     ]
    },
    {
     "name": "stdout",
     "output_type": "stream",
     "text": [
      " ARIMA(2,1,2)(1,0,2)[12] intercept   : AIC=inf, Time=2.68 sec\n",
      " ARIMA(1,1,2)(0,0,1)[12] intercept   : AIC=inf, Time=0.60 sec\n"
     ]
    },
    {
     "name": "stderr",
     "output_type": "stream",
     "text": [
      "c:\\Users\\TYS\\AppData\\Local\\Programs\\Python\\Python311\\Lib\\site-packages\\statsmodels\\base\\model.py:607: ConvergenceWarning: Maximum Likelihood optimization failed to converge. Check mle_retvals\n",
      "  warnings.warn(\"Maximum Likelihood optimization failed to \"\n",
      "c:\\Users\\TYS\\AppData\\Local\\Programs\\Python\\Python311\\Lib\\site-packages\\statsmodels\\tsa\\statespace\\sarimax.py:978: UserWarning: Non-invertible starting MA parameters found. Using zeros as starting parameters.\n",
      "  warn('Non-invertible starting MA parameters found.'\n"
     ]
    },
    {
     "name": "stdout",
     "output_type": "stream",
     "text": [
      " ARIMA(2,1,1)(0,0,1)[12] intercept   : AIC=inf, Time=1.07 sec\n"
     ]
    },
    {
     "name": "stderr",
     "output_type": "stream",
     "text": [
      "c:\\Users\\TYS\\AppData\\Local\\Programs\\Python\\Python311\\Lib\\site-packages\\statsmodels\\base\\model.py:607: ConvergenceWarning: Maximum Likelihood optimization failed to converge. Check mle_retvals\n",
      "  warnings.warn(\"Maximum Likelihood optimization failed to \"\n",
      "c:\\Users\\TYS\\AppData\\Local\\Programs\\Python\\Python311\\Lib\\site-packages\\statsmodels\\tsa\\statespace\\sarimax.py:978: UserWarning: Non-invertible starting MA parameters found. Using zeros as starting parameters.\n",
      "  warn('Non-invertible starting MA parameters found.'\n"
     ]
    },
    {
     "name": "stdout",
     "output_type": "stream",
     "text": [
      " ARIMA(3,1,2)(0,0,1)[12] intercept   : AIC=2095.581, Time=1.23 sec\n",
      " ARIMA(3,1,2)(0,0,0)[12] intercept   : AIC=inf, Time=0.56 sec\n"
     ]
    },
    {
     "name": "stderr",
     "output_type": "stream",
     "text": [
      "c:\\Users\\TYS\\AppData\\Local\\Programs\\Python\\Python311\\Lib\\site-packages\\statsmodels\\tsa\\statespace\\sarimax.py:978: UserWarning: Non-invertible starting MA parameters found. Using zeros as starting parameters.\n",
      "  warn('Non-invertible starting MA parameters found.'\n",
      "c:\\Users\\TYS\\AppData\\Local\\Programs\\Python\\Python311\\Lib\\site-packages\\statsmodels\\base\\model.py:607: ConvergenceWarning: Maximum Likelihood optimization failed to converge. Check mle_retvals\n",
      "  warnings.warn(\"Maximum Likelihood optimization failed to \"\n",
      "c:\\Users\\TYS\\AppData\\Local\\Programs\\Python\\Python311\\Lib\\site-packages\\statsmodels\\tsa\\statespace\\sarimax.py:978: UserWarning: Non-invertible starting MA parameters found. Using zeros as starting parameters.\n",
      "  warn('Non-invertible starting MA parameters found.'\n"
     ]
    },
    {
     "name": "stdout",
     "output_type": "stream",
     "text": [
      " ARIMA(3,1,2)(1,0,1)[12] intercept   : AIC=inf, Time=1.38 sec\n"
     ]
    },
    {
     "name": "stderr",
     "output_type": "stream",
     "text": [
      "c:\\Users\\TYS\\AppData\\Local\\Programs\\Python\\Python311\\Lib\\site-packages\\statsmodels\\base\\model.py:607: ConvergenceWarning: Maximum Likelihood optimization failed to converge. Check mle_retvals\n",
      "  warnings.warn(\"Maximum Likelihood optimization failed to \"\n",
      "c:\\Users\\TYS\\AppData\\Local\\Programs\\Python\\Python311\\Lib\\site-packages\\statsmodels\\tsa\\statespace\\sarimax.py:978: UserWarning: Non-invertible starting MA parameters found. Using zeros as starting parameters.\n",
      "  warn('Non-invertible starting MA parameters found.'\n"
     ]
    },
    {
     "name": "stdout",
     "output_type": "stream",
     "text": [
      " ARIMA(3,1,2)(0,0,2)[12] intercept   : AIC=inf, Time=2.55 sec\n"
     ]
    },
    {
     "name": "stderr",
     "output_type": "stream",
     "text": [
      "c:\\Users\\TYS\\AppData\\Local\\Programs\\Python\\Python311\\Lib\\site-packages\\statsmodels\\base\\model.py:607: ConvergenceWarning: Maximum Likelihood optimization failed to converge. Check mle_retvals\n",
      "  warnings.warn(\"Maximum Likelihood optimization failed to \"\n",
      "c:\\Users\\TYS\\AppData\\Local\\Programs\\Python\\Python311\\Lib\\site-packages\\statsmodels\\tsa\\statespace\\sarimax.py:978: UserWarning: Non-invertible starting MA parameters found. Using zeros as starting parameters.\n",
      "  warn('Non-invertible starting MA parameters found.'\n"
     ]
    },
    {
     "name": "stdout",
     "output_type": "stream",
     "text": [
      " ARIMA(3,1,2)(1,0,0)[12] intercept   : AIC=2101.015, Time=1.31 sec\n"
     ]
    },
    {
     "name": "stderr",
     "output_type": "stream",
     "text": [
      "c:\\Users\\TYS\\AppData\\Local\\Programs\\Python\\Python311\\Lib\\site-packages\\statsmodels\\base\\model.py:607: ConvergenceWarning: Maximum Likelihood optimization failed to converge. Check mle_retvals\n",
      "  warnings.warn(\"Maximum Likelihood optimization failed to \"\n"
     ]
    },
    {
     "name": "stdout",
     "output_type": "stream",
     "text": [
      " ARIMA(3,1,2)(1,0,2)[12] intercept   : AIC=inf, Time=2.84 sec\n",
      " ARIMA(3,1,1)(0,0,1)[12] intercept   : AIC=2100.799, Time=0.99 sec\n"
     ]
    },
    {
     "name": "stderr",
     "output_type": "stream",
     "text": [
      "c:\\Users\\TYS\\AppData\\Local\\Programs\\Python\\Python311\\Lib\\site-packages\\statsmodels\\base\\model.py:607: ConvergenceWarning: Maximum Likelihood optimization failed to converge. Check mle_retvals\n",
      "  warnings.warn(\"Maximum Likelihood optimization failed to \"\n"
     ]
    },
    {
     "name": "stdout",
     "output_type": "stream",
     "text": [
      " ARIMA(3,1,3)(0,0,1)[12] intercept   : AIC=2097.647, Time=1.71 sec\n"
     ]
    },
    {
     "name": "stderr",
     "output_type": "stream",
     "text": [
      "c:\\Users\\TYS\\AppData\\Local\\Programs\\Python\\Python311\\Lib\\site-packages\\statsmodels\\base\\model.py:607: ConvergenceWarning: Maximum Likelihood optimization failed to converge. Check mle_retvals\n",
      "  warnings.warn(\"Maximum Likelihood optimization failed to \"\n",
      "c:\\Users\\TYS\\AppData\\Local\\Programs\\Python\\Python311\\Lib\\site-packages\\statsmodels\\tsa\\statespace\\sarimax.py:978: UserWarning: Non-invertible starting MA parameters found. Using zeros as starting parameters.\n",
      "  warn('Non-invertible starting MA parameters found.'\n"
     ]
    },
    {
     "name": "stdout",
     "output_type": "stream",
     "text": [
      " ARIMA(2,1,3)(0,0,1)[12] intercept   : AIC=inf, Time=1.47 sec\n",
      " ARIMA(3,1,2)(0,0,1)[12]             : AIC=2098.922, Time=1.05 sec\n",
      "\n",
      "Best model:  ARIMA(3,1,2)(0,0,1)[12] intercept\n",
      "Total fit time: 27.234 seconds\n",
      "Cluster 3 (Electric_bike): ARIMA(3, 1, 2), Seasonal Order=(0, 0, 1, 12), AIC=2095.5811839845583\n",
      "Performing stepwise search to minimize aic\n"
     ]
    },
    {
     "name": "stderr",
     "output_type": "stream",
     "text": [
      "c:\\Users\\TYS\\AppData\\Local\\Programs\\Python\\Python311\\Lib\\site-packages\\statsmodels\\tsa\\statespace\\sarimax.py:966: UserWarning: Non-stationary starting autoregressive parameters found. Using zeros as starting parameters.\n",
      "  warn('Non-stationary starting autoregressive parameters'\n",
      "c:\\Users\\TYS\\AppData\\Local\\Programs\\Python\\Python311\\Lib\\site-packages\\statsmodels\\tsa\\statespace\\sarimax.py:978: UserWarning: Non-invertible starting MA parameters found. Using zeros as starting parameters.\n",
      "  warn('Non-invertible starting MA parameters found.'\n",
      "c:\\Users\\TYS\\AppData\\Local\\Programs\\Python\\Python311\\Lib\\site-packages\\statsmodels\\base\\model.py:607: ConvergenceWarning: Maximum Likelihood optimization failed to converge. Check mle_retvals\n",
      "  warnings.warn(\"Maximum Likelihood optimization failed to \"\n"
     ]
    },
    {
     "name": "stdout",
     "output_type": "stream",
     "text": [
      " ARIMA(2,1,2)(1,0,1)[12] intercept   : AIC=inf, Time=1.44 sec\n",
      " ARIMA(0,1,0)(0,0,0)[12] intercept   : AIC=1813.783, Time=0.01 sec\n",
      " ARIMA(1,1,0)(1,0,0)[12] intercept   : AIC=1800.889, Time=0.20 sec\n",
      " ARIMA(0,1,1)(0,0,1)[12] intercept   : AIC=1750.864, Time=0.57 sec\n",
      " ARIMA(0,1,0)(0,0,0)[12]             : AIC=1811.783, Time=0.01 sec\n",
      " ARIMA(0,1,1)(0,0,0)[12] intercept   : AIC=1757.437, Time=0.15 sec\n",
      " ARIMA(0,1,1)(1,0,1)[12] intercept   : AIC=1751.883, Time=0.76 sec\n",
      " ARIMA(0,1,1)(0,0,2)[12] intercept   : AIC=1748.150, Time=1.23 sec\n",
      " ARIMA(0,1,1)(1,0,2)[12] intercept   : AIC=1744.434, Time=1.99 sec\n"
     ]
    },
    {
     "name": "stderr",
     "output_type": "stream",
     "text": [
      "c:\\Users\\TYS\\AppData\\Local\\Programs\\Python\\Python311\\Lib\\site-packages\\statsmodels\\base\\model.py:607: ConvergenceWarning: Maximum Likelihood optimization failed to converge. Check mle_retvals\n",
      "  warnings.warn(\"Maximum Likelihood optimization failed to \"\n"
     ]
    },
    {
     "name": "stdout",
     "output_type": "stream",
     "text": [
      " ARIMA(0,1,1)(2,0,2)[12] intercept   : AIC=inf, Time=2.41 sec\n",
      " ARIMA(0,1,1)(2,0,1)[12] intercept   : AIC=1740.205, Time=1.91 sec\n",
      " ARIMA(0,1,1)(2,0,0)[12] intercept   : AIC=1740.748, Time=1.19 sec\n",
      " ARIMA(0,1,1)(1,0,0)[12] intercept   : AIC=1754.332, Time=0.67 sec\n"
     ]
    },
    {
     "name": "stderr",
     "output_type": "stream",
     "text": [
      "c:\\Users\\TYS\\AppData\\Local\\Programs\\Python\\Python311\\Lib\\site-packages\\statsmodels\\base\\model.py:607: ConvergenceWarning: Maximum Likelihood optimization failed to converge. Check mle_retvals\n",
      "  warnings.warn(\"Maximum Likelihood optimization failed to \"\n"
     ]
    },
    {
     "name": "stdout",
     "output_type": "stream",
     "text": [
      " ARIMA(0,1,0)(2,0,1)[12] intercept   : AIC=inf, Time=1.77 sec\n",
      " ARIMA(1,1,1)(2,0,1)[12] intercept   : AIC=inf, Time=1.65 sec\n",
      " ARIMA(0,1,2)(2,0,1)[12] intercept   : AIC=1735.891, Time=1.08 sec\n"
     ]
    },
    {
     "name": "stderr",
     "output_type": "stream",
     "text": [
      "c:\\Users\\TYS\\AppData\\Local\\Programs\\Python\\Python311\\Lib\\site-packages\\statsmodels\\base\\model.py:607: ConvergenceWarning: Maximum Likelihood optimization failed to converge. Check mle_retvals\n",
      "  warnings.warn(\"Maximum Likelihood optimization failed to \"\n"
     ]
    },
    {
     "name": "stdout",
     "output_type": "stream",
     "text": [
      " ARIMA(0,1,2)(1,0,1)[12] intercept   : AIC=inf, Time=1.25 sec\n",
      " ARIMA(0,1,2)(2,0,0)[12] intercept   : AIC=1735.862, Time=0.75 sec\n",
      " ARIMA(0,1,2)(1,0,0)[12] intercept   : AIC=inf, Time=0.65 sec\n"
     ]
    },
    {
     "name": "stderr",
     "output_type": "stream",
     "text": [
      "c:\\Users\\TYS\\AppData\\Local\\Programs\\Python\\Python311\\Lib\\site-packages\\statsmodels\\tsa\\statespace\\sarimax.py:978: UserWarning: Non-invertible starting MA parameters found. Using zeros as starting parameters.\n",
      "  warn('Non-invertible starting MA parameters found.'\n"
     ]
    },
    {
     "name": "stdout",
     "output_type": "stream",
     "text": [
      " ARIMA(1,1,2)(2,0,0)[12] intercept   : AIC=1737.860, Time=1.03 sec\n",
      " ARIMA(0,1,3)(2,0,0)[12] intercept   : AIC=1737.859, Time=0.88 sec\n",
      " ARIMA(1,1,1)(2,0,0)[12] intercept   : AIC=inf, Time=0.78 sec\n",
      " ARIMA(1,1,3)(2,0,0)[12] intercept   : AIC=1735.932, Time=1.58 sec\n",
      " ARIMA(0,1,2)(2,0,0)[12]             : AIC=1736.432, Time=0.62 sec\n",
      "\n",
      "Best model:  ARIMA(0,1,2)(2,0,0)[12] intercept\n",
      "Total fit time: 24.610 seconds\n",
      "Cluster 4 (Classic_bike): ARIMA(0, 1, 2), Seasonal Order=(2, 0, 0, 12), AIC=1735.861534715123\n",
      "Performing stepwise search to minimize aic\n"
     ]
    },
    {
     "name": "stderr",
     "output_type": "stream",
     "text": [
      "c:\\Users\\TYS\\AppData\\Local\\Programs\\Python\\Python311\\Lib\\site-packages\\statsmodels\\tsa\\statespace\\sarimax.py:966: UserWarning: Non-stationary starting autoregressive parameters found. Using zeros as starting parameters.\n",
      "  warn('Non-stationary starting autoregressive parameters'\n",
      "c:\\Users\\TYS\\AppData\\Local\\Programs\\Python\\Python311\\Lib\\site-packages\\statsmodels\\tsa\\statespace\\sarimax.py:978: UserWarning: Non-invertible starting MA parameters found. Using zeros as starting parameters.\n",
      "  warn('Non-invertible starting MA parameters found.'\n",
      "c:\\Users\\TYS\\AppData\\Local\\Programs\\Python\\Python311\\Lib\\site-packages\\statsmodels\\base\\model.py:607: ConvergenceWarning: Maximum Likelihood optimization failed to converge. Check mle_retvals\n",
      "  warnings.warn(\"Maximum Likelihood optimization failed to \"\n"
     ]
    },
    {
     "name": "stdout",
     "output_type": "stream",
     "text": [
      " ARIMA(2,1,2)(1,0,1)[12] intercept   : AIC=inf, Time=1.43 sec\n",
      " ARIMA(0,1,0)(0,0,0)[12] intercept   : AIC=1886.471, Time=0.03 sec\n",
      " ARIMA(1,1,0)(1,0,0)[12] intercept   : AIC=1866.124, Time=0.36 sec\n",
      " ARIMA(0,1,1)(0,0,1)[12] intercept   : AIC=inf, Time=0.30 sec\n",
      " ARIMA(0,1,0)(0,0,0)[12]             : AIC=1884.471, Time=0.02 sec\n",
      " ARIMA(1,1,0)(0,0,0)[12] intercept   : AIC=1886.292, Time=0.07 sec\n",
      " ARIMA(1,1,0)(2,0,0)[12] intercept   : AIC=1853.447, Time=0.68 sec\n",
      " ARIMA(1,1,0)(2,0,1)[12] intercept   : AIC=1853.215, Time=0.88 sec\n",
      " ARIMA(1,1,0)(1,0,1)[12] intercept   : AIC=1854.062, Time=0.40 sec\n"
     ]
    },
    {
     "name": "stderr",
     "output_type": "stream",
     "text": [
      "c:\\Users\\TYS\\AppData\\Local\\Programs\\Python\\Python311\\Lib\\site-packages\\statsmodels\\base\\model.py:607: ConvergenceWarning: Maximum Likelihood optimization failed to converge. Check mle_retvals\n",
      "  warnings.warn(\"Maximum Likelihood optimization failed to \"\n"
     ]
    },
    {
     "name": "stdout",
     "output_type": "stream",
     "text": [
      " ARIMA(1,1,0)(2,0,2)[12] intercept   : AIC=inf, Time=2.57 sec\n",
      " ARIMA(1,1,0)(1,0,2)[12] intercept   : AIC=inf, Time=1.56 sec\n",
      " ARIMA(0,1,0)(2,0,1)[12] intercept   : AIC=1860.735, Time=1.04 sec\n",
      " ARIMA(2,1,0)(2,0,1)[12] intercept   : AIC=1837.888, Time=1.64 sec\n",
      " ARIMA(2,1,0)(1,0,1)[12] intercept   : AIC=1847.217, Time=0.94 sec\n",
      " ARIMA(2,1,0)(2,0,0)[12] intercept   : AIC=1836.795, Time=1.52 sec\n",
      " ARIMA(2,1,0)(1,0,0)[12] intercept   : AIC=1861.155, Time=0.44 sec\n",
      " ARIMA(3,1,0)(2,0,0)[12] intercept   : AIC=1827.788, Time=1.73 sec\n",
      " ARIMA(3,1,0)(1,0,0)[12] intercept   : AIC=1846.458, Time=0.39 sec\n",
      " ARIMA(3,1,0)(2,0,1)[12] intercept   : AIC=1829.160, Time=1.90 sec\n",
      " ARIMA(3,1,0)(1,0,1)[12] intercept   : AIC=1836.590, Time=0.99 sec\n",
      " ARIMA(3,1,1)(2,0,0)[12] intercept   : AIC=inf, Time=1.64 sec\n",
      " ARIMA(2,1,1)(2,0,0)[12] intercept   : AIC=inf, Time=1.15 sec\n",
      " ARIMA(3,1,0)(2,0,0)[12]             : AIC=1825.934, Time=0.66 sec\n",
      " ARIMA(3,1,0)(1,0,0)[12]             : AIC=1844.489, Time=0.29 sec\n",
      " ARIMA(3,1,0)(2,0,1)[12]             : AIC=1827.318, Time=1.65 sec\n",
      " ARIMA(3,1,0)(1,0,1)[12]             : AIC=1834.711, Time=0.93 sec\n",
      " ARIMA(2,1,0)(2,0,0)[12]             : AIC=1834.869, Time=0.49 sec\n",
      " ARIMA(3,1,1)(2,0,0)[12]             : AIC=1787.794, Time=1.40 sec\n",
      " ARIMA(3,1,1)(1,0,0)[12]             : AIC=1785.981, Time=0.57 sec\n",
      " ARIMA(3,1,1)(0,0,0)[12]             : AIC=1810.331, Time=0.20 sec\n",
      " ARIMA(3,1,1)(1,0,1)[12]             : AIC=1787.487, Time=0.84 sec\n",
      " ARIMA(3,1,1)(0,0,1)[12]             : AIC=1785.891, Time=0.61 sec\n",
      " ARIMA(3,1,1)(0,0,2)[12]             : AIC=1787.613, Time=1.89 sec\n",
      " ARIMA(3,1,1)(1,0,2)[12]             : AIC=1789.059, Time=2.07 sec\n",
      " ARIMA(2,1,1)(0,0,1)[12]             : AIC=1793.930, Time=0.47 sec\n",
      " ARIMA(3,1,0)(0,0,1)[12]             : AIC=1834.104, Time=0.40 sec\n"
     ]
    },
    {
     "name": "stderr",
     "output_type": "stream",
     "text": [
      "c:\\Users\\TYS\\AppData\\Local\\Programs\\Python\\Python311\\Lib\\site-packages\\statsmodels\\tsa\\statespace\\sarimax.py:966: UserWarning: Non-stationary starting autoregressive parameters found. Using zeros as starting parameters.\n",
      "  warn('Non-stationary starting autoregressive parameters'\n",
      "c:\\Users\\TYS\\AppData\\Local\\Programs\\Python\\Python311\\Lib\\site-packages\\statsmodels\\tsa\\statespace\\sarimax.py:978: UserWarning: Non-invertible starting MA parameters found. Using zeros as starting parameters.\n",
      "  warn('Non-invertible starting MA parameters found.'\n"
     ]
    },
    {
     "name": "stdout",
     "output_type": "stream",
     "text": [
      " ARIMA(3,1,2)(0,0,1)[12]             : AIC=1780.967, Time=0.97 sec\n"
     ]
    },
    {
     "name": "stderr",
     "output_type": "stream",
     "text": [
      "c:\\Users\\TYS\\AppData\\Local\\Programs\\Python\\Python311\\Lib\\site-packages\\statsmodels\\tsa\\statespace\\sarimax.py:966: UserWarning: Non-stationary starting autoregressive parameters found. Using zeros as starting parameters.\n",
      "  warn('Non-stationary starting autoregressive parameters'\n",
      "c:\\Users\\TYS\\AppData\\Local\\Programs\\Python\\Python311\\Lib\\site-packages\\statsmodels\\tsa\\statespace\\sarimax.py:978: UserWarning: Non-invertible starting MA parameters found. Using zeros as starting parameters.\n",
      "  warn('Non-invertible starting MA parameters found.'\n"
     ]
    },
    {
     "name": "stdout",
     "output_type": "stream",
     "text": [
      " ARIMA(3,1,2)(0,0,0)[12]             : AIC=1805.521, Time=0.45 sec\n"
     ]
    },
    {
     "name": "stderr",
     "output_type": "stream",
     "text": [
      "c:\\Users\\TYS\\AppData\\Local\\Programs\\Python\\Python311\\Lib\\site-packages\\statsmodels\\tsa\\statespace\\sarimax.py:966: UserWarning: Non-stationary starting autoregressive parameters found. Using zeros as starting parameters.\n",
      "  warn('Non-stationary starting autoregressive parameters'\n",
      "c:\\Users\\TYS\\AppData\\Local\\Programs\\Python\\Python311\\Lib\\site-packages\\statsmodels\\tsa\\statespace\\sarimax.py:978: UserWarning: Non-invertible starting MA parameters found. Using zeros as starting parameters.\n",
      "  warn('Non-invertible starting MA parameters found.'\n"
     ]
    },
    {
     "name": "stdout",
     "output_type": "stream",
     "text": [
      " ARIMA(3,1,2)(1,0,1)[12]             : AIC=1782.370, Time=1.52 sec\n"
     ]
    },
    {
     "name": "stderr",
     "output_type": "stream",
     "text": [
      "c:\\Users\\TYS\\AppData\\Local\\Programs\\Python\\Python311\\Lib\\site-packages\\statsmodels\\tsa\\statespace\\sarimax.py:966: UserWarning: Non-stationary starting autoregressive parameters found. Using zeros as starting parameters.\n",
      "  warn('Non-stationary starting autoregressive parameters'\n",
      "c:\\Users\\TYS\\AppData\\Local\\Programs\\Python\\Python311\\Lib\\site-packages\\statsmodels\\tsa\\statespace\\sarimax.py:978: UserWarning: Non-invertible starting MA parameters found. Using zeros as starting parameters.\n",
      "  warn('Non-invertible starting MA parameters found.'\n"
     ]
    },
    {
     "name": "stdout",
     "output_type": "stream",
     "text": [
      " ARIMA(3,1,2)(0,0,2)[12]             : AIC=1782.676, Time=1.95 sec\n"
     ]
    },
    {
     "name": "stderr",
     "output_type": "stream",
     "text": [
      "c:\\Users\\TYS\\AppData\\Local\\Programs\\Python\\Python311\\Lib\\site-packages\\statsmodels\\tsa\\statespace\\sarimax.py:966: UserWarning: Non-stationary starting autoregressive parameters found. Using zeros as starting parameters.\n",
      "  warn('Non-stationary starting autoregressive parameters'\n",
      "c:\\Users\\TYS\\AppData\\Local\\Programs\\Python\\Python311\\Lib\\site-packages\\statsmodels\\tsa\\statespace\\sarimax.py:978: UserWarning: Non-invertible starting MA parameters found. Using zeros as starting parameters.\n",
      "  warn('Non-invertible starting MA parameters found.'\n"
     ]
    },
    {
     "name": "stdout",
     "output_type": "stream",
     "text": [
      " ARIMA(3,1,2)(1,0,0)[12]             : AIC=1780.517, Time=0.72 sec\n"
     ]
    },
    {
     "name": "stderr",
     "output_type": "stream",
     "text": [
      "c:\\Users\\TYS\\AppData\\Local\\Programs\\Python\\Python311\\Lib\\site-packages\\statsmodels\\tsa\\statespace\\sarimax.py:966: UserWarning: Non-stationary starting autoregressive parameters found. Using zeros as starting parameters.\n",
      "  warn('Non-stationary starting autoregressive parameters'\n",
      "c:\\Users\\TYS\\AppData\\Local\\Programs\\Python\\Python311\\Lib\\site-packages\\statsmodels\\tsa\\statespace\\sarimax.py:978: UserWarning: Non-invertible starting MA parameters found. Using zeros as starting parameters.\n",
      "  warn('Non-invertible starting MA parameters found.'\n"
     ]
    },
    {
     "name": "stdout",
     "output_type": "stream",
     "text": [
      " ARIMA(3,1,2)(2,0,0)[12]             : AIC=1782.473, Time=1.67 sec\n"
     ]
    },
    {
     "name": "stderr",
     "output_type": "stream",
     "text": [
      "c:\\Users\\TYS\\AppData\\Local\\Programs\\Python\\Python311\\Lib\\site-packages\\statsmodels\\tsa\\statespace\\sarimax.py:966: UserWarning: Non-stationary starting autoregressive parameters found. Using zeros as starting parameters.\n",
      "  warn('Non-stationary starting autoregressive parameters'\n",
      "c:\\Users\\TYS\\AppData\\Local\\Programs\\Python\\Python311\\Lib\\site-packages\\statsmodels\\tsa\\statespace\\sarimax.py:978: UserWarning: Non-invertible starting MA parameters found. Using zeros as starting parameters.\n",
      "  warn('Non-invertible starting MA parameters found.'\n",
      "c:\\Users\\TYS\\AppData\\Local\\Programs\\Python\\Python311\\Lib\\site-packages\\statsmodels\\base\\model.py:607: ConvergenceWarning: Maximum Likelihood optimization failed to converge. Check mle_retvals\n",
      "  warnings.warn(\"Maximum Likelihood optimization failed to \"\n",
      "c:\\Users\\TYS\\AppData\\Local\\Programs\\Python\\Python311\\Lib\\site-packages\\statsmodels\\tsa\\statespace\\sarimax.py:966: UserWarning: Non-stationary starting autoregressive parameters found. Using zeros as starting parameters.\n",
      "  warn('Non-stationary starting autoregressive parameters'\n",
      "c:\\Users\\TYS\\AppData\\Local\\Programs\\Python\\Python311\\Lib\\site-packages\\statsmodels\\tsa\\statespace\\sarimax.py:978: UserWarning: Non-invertible starting MA parameters found. Using zeros as starting parameters.\n",
      "  warn('Non-invertible starting MA parameters found.'\n"
     ]
    },
    {
     "name": "stdout",
     "output_type": "stream",
     "text": [
      " ARIMA(3,1,2)(2,0,1)[12]             : AIC=inf, Time=3.03 sec\n",
      " ARIMA(2,1,2)(1,0,0)[12]             : AIC=1784.530, Time=0.72 sec\n"
     ]
    },
    {
     "name": "stderr",
     "output_type": "stream",
     "text": [
      "c:\\Users\\TYS\\AppData\\Local\\Programs\\Python\\Python311\\Lib\\site-packages\\statsmodels\\base\\model.py:607: ConvergenceWarning: Maximum Likelihood optimization failed to converge. Check mle_retvals\n",
      "  warnings.warn(\"Maximum Likelihood optimization failed to \"\n"
     ]
    },
    {
     "name": "stdout",
     "output_type": "stream",
     "text": [
      " ARIMA(3,1,3)(1,0,0)[12]             : AIC=inf, Time=1.66 sec\n",
      " ARIMA(2,1,1)(1,0,0)[12]             : AIC=1799.604, Time=0.38 sec\n"
     ]
    },
    {
     "name": "stderr",
     "output_type": "stream",
     "text": [
      "c:\\Users\\TYS\\AppData\\Local\\Programs\\Python\\Python311\\Lib\\site-packages\\statsmodels\\base\\model.py:607: ConvergenceWarning: Maximum Likelihood optimization failed to converge. Check mle_retvals\n",
      "  warnings.warn(\"Maximum Likelihood optimization failed to \"\n"
     ]
    },
    {
     "name": "stdout",
     "output_type": "stream",
     "text": [
      " ARIMA(2,1,3)(1,0,0)[12]             : AIC=1741.579, Time=1.30 sec\n",
      " ARIMA(2,1,3)(0,0,0)[12]             : AIC=inf, Time=0.65 sec\n"
     ]
    },
    {
     "name": "stderr",
     "output_type": "stream",
     "text": [
      "c:\\Users\\TYS\\AppData\\Local\\Programs\\Python\\Python311\\Lib\\site-packages\\statsmodels\\base\\model.py:607: ConvergenceWarning: Maximum Likelihood optimization failed to converge. Check mle_retvals\n",
      "  warnings.warn(\"Maximum Likelihood optimization failed to \"\n"
     ]
    },
    {
     "name": "stdout",
     "output_type": "stream",
     "text": [
      " ARIMA(2,1,3)(2,0,0)[12]             : AIC=inf, Time=3.03 sec\n"
     ]
    },
    {
     "name": "stderr",
     "output_type": "stream",
     "text": [
      "c:\\Users\\TYS\\AppData\\Local\\Programs\\Python\\Python311\\Lib\\site-packages\\statsmodels\\base\\model.py:607: ConvergenceWarning: Maximum Likelihood optimization failed to converge. Check mle_retvals\n",
      "  warnings.warn(\"Maximum Likelihood optimization failed to \"\n"
     ]
    },
    {
     "name": "stdout",
     "output_type": "stream",
     "text": [
      " ARIMA(2,1,3)(1,0,1)[12]             : AIC=1746.025, Time=1.91 sec\n"
     ]
    },
    {
     "name": "stderr",
     "output_type": "stream",
     "text": [
      "c:\\Users\\TYS\\AppData\\Local\\Programs\\Python\\Python311\\Lib\\site-packages\\statsmodels\\base\\model.py:607: ConvergenceWarning: Maximum Likelihood optimization failed to converge. Check mle_retvals\n",
      "  warnings.warn(\"Maximum Likelihood optimization failed to \"\n"
     ]
    },
    {
     "name": "stdout",
     "output_type": "stream",
     "text": [
      " ARIMA(2,1,3)(0,0,1)[12]             : AIC=inf, Time=1.53 sec\n"
     ]
    },
    {
     "name": "stderr",
     "output_type": "stream",
     "text": [
      "c:\\Users\\TYS\\AppData\\Local\\Programs\\Python\\Python311\\Lib\\site-packages\\statsmodels\\base\\model.py:607: ConvergenceWarning: Maximum Likelihood optimization failed to converge. Check mle_retvals\n",
      "  warnings.warn(\"Maximum Likelihood optimization failed to \"\n"
     ]
    },
    {
     "name": "stdout",
     "output_type": "stream",
     "text": [
      " ARIMA(2,1,3)(2,0,1)[12]             : AIC=inf, Time=3.42 sec\n",
      " ARIMA(1,1,3)(1,0,0)[12]             : AIC=1805.899, Time=0.50 sec\n"
     ]
    },
    {
     "name": "stderr",
     "output_type": "stream",
     "text": [
      "c:\\Users\\TYS\\AppData\\Local\\Programs\\Python\\Python311\\Lib\\site-packages\\statsmodels\\tsa\\statespace\\sarimax.py:978: UserWarning: Non-invertible starting MA parameters found. Using zeros as starting parameters.\n",
      "  warn('Non-invertible starting MA parameters found.'\n"
     ]
    },
    {
     "name": "stdout",
     "output_type": "stream",
     "text": [
      " ARIMA(1,1,2)(1,0,0)[12]             : AIC=1808.062, Time=0.36 sec\n",
      " ARIMA(2,1,3)(1,0,0)[12] intercept   : AIC=inf, Time=1.13 sec\n",
      "\n",
      "Best model:  ARIMA(2,1,3)(1,0,0)[12]          \n",
      "Total fit time: 61.127 seconds\n",
      "Cluster 4 (Electric_bike): ARIMA(2, 1, 3), Seasonal Order=(1, 0, 0, 12), AIC=1741.5791963567485\n",
      "Performing stepwise search to minimize aic\n"
     ]
    },
    {
     "name": "stderr",
     "output_type": "stream",
     "text": [
      "c:\\Users\\TYS\\AppData\\Local\\Programs\\Python\\Python311\\Lib\\site-packages\\statsmodels\\base\\model.py:607: ConvergenceWarning: Maximum Likelihood optimization failed to converge. Check mle_retvals\n",
      "  warnings.warn(\"Maximum Likelihood optimization failed to \"\n"
     ]
    },
    {
     "name": "stdout",
     "output_type": "stream",
     "text": [
      " ARIMA(2,1,2)(1,0,1)[12] intercept   : AIC=inf, Time=1.36 sec\n",
      " ARIMA(0,1,0)(0,0,0)[12] intercept   : AIC=939.030, Time=0.02 sec\n",
      " ARIMA(1,1,0)(1,0,0)[12] intercept   : AIC=921.164, Time=0.13 sec\n",
      " ARIMA(0,1,1)(0,0,1)[12] intercept   : AIC=inf, Time=0.49 sec\n",
      " ARIMA(0,1,0)(0,0,0)[12]             : AIC=937.032, Time=0.01 sec\n",
      " ARIMA(1,1,0)(0,0,0)[12] intercept   : AIC=919.410, Time=0.04 sec\n",
      " ARIMA(1,1,0)(0,0,1)[12] intercept   : AIC=921.091, Time=0.13 sec\n",
      " ARIMA(1,1,0)(1,0,1)[12] intercept   : AIC=inf, Time=0.89 sec\n",
      " ARIMA(2,1,0)(0,0,0)[12] intercept   : AIC=905.046, Time=0.07 sec\n",
      " ARIMA(2,1,0)(1,0,0)[12] intercept   : AIC=907.045, Time=0.16 sec\n",
      " ARIMA(2,1,0)(0,0,1)[12] intercept   : AIC=907.045, Time=0.18 sec\n",
      " ARIMA(2,1,0)(1,0,1)[12] intercept   : AIC=inf, Time=1.00 sec\n",
      " ARIMA(3,1,0)(0,0,0)[12] intercept   : AIC=897.946, Time=0.10 sec\n",
      " ARIMA(3,1,0)(1,0,0)[12] intercept   : AIC=899.915, Time=0.20 sec\n",
      " ARIMA(3,1,0)(0,0,1)[12] intercept   : AIC=899.898, Time=0.25 sec\n",
      " ARIMA(3,1,0)(1,0,1)[12] intercept   : AIC=900.806, Time=0.74 sec\n"
     ]
    },
    {
     "name": "stderr",
     "output_type": "stream",
     "text": [
      "c:\\Users\\TYS\\AppData\\Local\\Programs\\Python\\Python311\\Lib\\site-packages\\statsmodels\\base\\model.py:607: ConvergenceWarning: Maximum Likelihood optimization failed to converge. Check mle_retvals\n",
      "  warnings.warn(\"Maximum Likelihood optimization failed to \"\n"
     ]
    },
    {
     "name": "stdout",
     "output_type": "stream",
     "text": [
      " ARIMA(3,1,1)(0,0,0)[12] intercept   : AIC=inf, Time=0.52 sec\n",
      " ARIMA(2,1,1)(0,0,0)[12] intercept   : AIC=inf, Time=0.32 sec\n",
      " ARIMA(3,1,0)(0,0,0)[12]             : AIC=895.963, Time=0.06 sec\n",
      " ARIMA(3,1,0)(1,0,0)[12]             : AIC=897.932, Time=0.13 sec\n",
      " ARIMA(3,1,0)(0,0,1)[12]             : AIC=897.914, Time=0.15 sec\n",
      " ARIMA(3,1,0)(1,0,1)[12]             : AIC=898.820, Time=0.45 sec\n",
      " ARIMA(2,1,0)(0,0,0)[12]             : AIC=903.056, Time=0.04 sec\n",
      " ARIMA(3,1,1)(0,0,0)[12]             : AIC=867.709, Time=0.17 sec\n",
      " ARIMA(3,1,1)(1,0,0)[12]             : AIC=869.707, Time=0.35 sec\n",
      " ARIMA(3,1,1)(0,0,1)[12]             : AIC=869.707, Time=0.40 sec\n"
     ]
    },
    {
     "name": "stderr",
     "output_type": "stream",
     "text": [
      "c:\\Users\\TYS\\AppData\\Local\\Programs\\Python\\Python311\\Lib\\site-packages\\statsmodels\\base\\model.py:607: ConvergenceWarning: Maximum Likelihood optimization failed to converge. Check mle_retvals\n",
      "  warnings.warn(\"Maximum Likelihood optimization failed to \"\n"
     ]
    },
    {
     "name": "stdout",
     "output_type": "stream",
     "text": [
      " ARIMA(3,1,1)(1,0,1)[12]             : AIC=inf, Time=1.09 sec\n",
      " ARIMA(2,1,1)(0,0,0)[12]             : AIC=865.709, Time=0.10 sec\n",
      " ARIMA(2,1,1)(1,0,0)[12]             : AIC=867.708, Time=0.26 sec\n",
      " ARIMA(2,1,1)(0,0,1)[12]             : AIC=867.707, Time=0.25 sec\n"
     ]
    },
    {
     "name": "stderr",
     "output_type": "stream",
     "text": [
      "c:\\Users\\TYS\\AppData\\Local\\Programs\\Python\\Python311\\Lib\\site-packages\\statsmodels\\base\\model.py:607: ConvergenceWarning: Maximum Likelihood optimization failed to converge. Check mle_retvals\n",
      "  warnings.warn(\"Maximum Likelihood optimization failed to \"\n"
     ]
    },
    {
     "name": "stdout",
     "output_type": "stream",
     "text": [
      " ARIMA(2,1,1)(1,0,1)[12]             : AIC=inf, Time=1.00 sec\n",
      " ARIMA(1,1,1)(0,0,0)[12]             : AIC=864.269, Time=0.08 sec\n",
      " ARIMA(1,1,1)(1,0,0)[12]             : AIC=866.257, Time=0.19 sec\n",
      " ARIMA(1,1,1)(0,0,1)[12]             : AIC=866.252, Time=0.23 sec\n",
      " ARIMA(1,1,1)(1,0,1)[12]             : AIC=inf, Time=0.80 sec\n",
      " ARIMA(0,1,1)(0,0,0)[12]             : AIC=872.635, Time=0.05 sec\n",
      " ARIMA(1,1,0)(0,0,0)[12]             : AIC=917.415, Time=0.02 sec\n",
      " ARIMA(1,1,2)(0,0,0)[12]             : AIC=865.748, Time=0.11 sec\n",
      " ARIMA(0,1,2)(0,0,0)[12]             : AIC=863.786, Time=0.08 sec\n",
      " ARIMA(0,1,2)(1,0,0)[12]             : AIC=865.786, Time=0.19 sec\n",
      " ARIMA(0,1,2)(0,0,1)[12]             : AIC=865.786, Time=0.15 sec\n",
      " ARIMA(0,1,2)(1,0,1)[12]             : AIC=inf, Time=0.84 sec\n",
      " ARIMA(0,1,3)(0,0,0)[12]             : AIC=865.742, Time=0.10 sec\n",
      " ARIMA(1,1,3)(0,0,0)[12]             : AIC=866.015, Time=0.22 sec\n",
      " ARIMA(0,1,2)(0,0,0)[12] intercept   : AIC=inf, Time=0.27 sec\n",
      "\n",
      "Best model:  ARIMA(0,1,2)(0,0,0)[12]          \n",
      "Total fit time: 14.417 seconds\n",
      "Cluster 6 (Classic_bike): ARIMA(0, 1, 2), Seasonal Order=(0, 0, 0, 12), AIC=863.7859382045904\n",
      "Performing stepwise search to minimize aic\n"
     ]
    },
    {
     "name": "stderr",
     "output_type": "stream",
     "text": [
      "c:\\Users\\TYS\\AppData\\Local\\Programs\\Python\\Python311\\Lib\\site-packages\\statsmodels\\base\\model.py:607: ConvergenceWarning: Maximum Likelihood optimization failed to converge. Check mle_retvals\n",
      "  warnings.warn(\"Maximum Likelihood optimization failed to \"\n"
     ]
    },
    {
     "name": "stdout",
     "output_type": "stream",
     "text": [
      " ARIMA(2,1,2)(1,0,1)[12] intercept   : AIC=inf, Time=1.49 sec\n",
      " ARIMA(0,1,0)(0,0,0)[12] intercept   : AIC=1186.978, Time=0.03 sec\n",
      " ARIMA(1,1,0)(1,0,0)[12] intercept   : AIC=1145.760, Time=0.17 sec\n",
      " ARIMA(0,1,1)(0,0,1)[12] intercept   : AIC=1097.170, Time=0.21 sec\n",
      " ARIMA(0,1,0)(0,0,0)[12]             : AIC=1185.005, Time=0.01 sec\n",
      " ARIMA(0,1,1)(0,0,0)[12] intercept   : AIC=1097.974, Time=0.07 sec\n",
      " ARIMA(0,1,1)(1,0,1)[12] intercept   : AIC=1098.434, Time=0.32 sec\n",
      " ARIMA(0,1,1)(0,0,2)[12] intercept   : AIC=1097.587, Time=0.49 sec\n",
      " ARIMA(0,1,1)(1,0,0)[12] intercept   : AIC=1097.790, Time=0.19 sec\n",
      " ARIMA(0,1,1)(1,0,2)[12] intercept   : AIC=1098.512, Time=0.92 sec\n",
      " ARIMA(0,1,0)(0,0,1)[12] intercept   : AIC=1188.349, Time=0.11 sec\n",
      " ARIMA(1,1,1)(0,0,1)[12] intercept   : AIC=1099.168, Time=0.32 sec\n",
      " ARIMA(0,1,2)(0,0,1)[12] intercept   : AIC=1099.168, Time=0.29 sec\n",
      " ARIMA(1,1,0)(0,0,1)[12] intercept   : AIC=1145.284, Time=0.19 sec\n",
      " ARIMA(1,1,2)(0,0,1)[12] intercept   : AIC=1097.530, Time=0.42 sec\n",
      " ARIMA(0,1,1)(0,0,1)[12]             : AIC=1096.813, Time=0.10 sec\n",
      " ARIMA(0,1,1)(0,0,0)[12]             : AIC=1097.144, Time=0.04 sec\n",
      " ARIMA(0,1,1)(1,0,1)[12]             : AIC=1098.252, Time=0.21 sec\n",
      " ARIMA(0,1,1)(0,0,2)[12]             : AIC=1097.528, Time=0.30 sec\n",
      " ARIMA(0,1,1)(1,0,0)[12]             : AIC=1097.277, Time=0.09 sec\n",
      " ARIMA(0,1,1)(1,0,2)[12]             : AIC=1098.410, Time=0.71 sec\n",
      " ARIMA(0,1,0)(0,0,1)[12]             : AIC=1186.381, Time=0.06 sec\n",
      " ARIMA(1,1,1)(0,0,1)[12]             : AIC=1098.796, Time=0.16 sec\n",
      " ARIMA(0,1,2)(0,0,1)[12]             : AIC=1098.792, Time=0.14 sec\n",
      " ARIMA(1,1,0)(0,0,1)[12]             : AIC=1143.386, Time=0.20 sec\n",
      " ARIMA(1,1,2)(0,0,1)[12]             : AIC=1097.291, Time=0.37 sec\n",
      "\n",
      "Best model:  ARIMA(0,1,1)(0,0,1)[12]          \n",
      "Total fit time: 7.637 seconds\n",
      "Cluster 6 (Electric_bike): ARIMA(0, 1, 1), Seasonal Order=(0, 0, 1, 12), AIC=1096.813232430536\n",
      "Performing stepwise search to minimize aic\n"
     ]
    },
    {
     "name": "stderr",
     "output_type": "stream",
     "text": [
      "c:\\Users\\TYS\\AppData\\Local\\Programs\\Python\\Python311\\Lib\\site-packages\\statsmodels\\tsa\\statespace\\sarimax.py:966: UserWarning: Non-stationary starting autoregressive parameters found. Using zeros as starting parameters.\n",
      "  warn('Non-stationary starting autoregressive parameters'\n",
      "c:\\Users\\TYS\\AppData\\Local\\Programs\\Python\\Python311\\Lib\\site-packages\\statsmodels\\tsa\\statespace\\sarimax.py:978: UserWarning: Non-invertible starting MA parameters found. Using zeros as starting parameters.\n",
      "  warn('Non-invertible starting MA parameters found.'\n",
      "c:\\Users\\TYS\\AppData\\Local\\Programs\\Python\\Python311\\Lib\\site-packages\\statsmodels\\base\\model.py:607: ConvergenceWarning: Maximum Likelihood optimization failed to converge. Check mle_retvals\n",
      "  warnings.warn(\"Maximum Likelihood optimization failed to \"\n"
     ]
    },
    {
     "name": "stdout",
     "output_type": "stream",
     "text": [
      " ARIMA(2,1,2)(1,0,1)[12] intercept   : AIC=1875.623, Time=1.35 sec\n",
      " ARIMA(0,1,0)(0,0,0)[12] intercept   : AIC=1947.630, Time=0.02 sec\n",
      " ARIMA(1,1,0)(1,0,0)[12] intercept   : AIC=1929.413, Time=0.24 sec\n",
      " ARIMA(0,1,1)(0,0,1)[12] intercept   : AIC=1885.735, Time=0.31 sec\n",
      " ARIMA(0,1,0)(0,0,0)[12]             : AIC=1945.630, Time=0.01 sec\n"
     ]
    },
    {
     "name": "stderr",
     "output_type": "stream",
     "text": [
      "c:\\Users\\TYS\\AppData\\Local\\Programs\\Python\\Python311\\Lib\\site-packages\\statsmodels\\tsa\\statespace\\sarimax.py:966: UserWarning: Non-stationary starting autoregressive parameters found. Using zeros as starting parameters.\n",
      "  warn('Non-stationary starting autoregressive parameters'\n",
      "c:\\Users\\TYS\\AppData\\Local\\Programs\\Python\\Python311\\Lib\\site-packages\\statsmodels\\tsa\\statespace\\sarimax.py:978: UserWarning: Non-invertible starting MA parameters found. Using zeros as starting parameters.\n",
      "  warn('Non-invertible starting MA parameters found.'\n"
     ]
    },
    {
     "name": "stdout",
     "output_type": "stream",
     "text": [
      " ARIMA(2,1,2)(0,0,1)[12] intercept   : AIC=1873.626, Time=1.09 sec\n"
     ]
    },
    {
     "name": "stderr",
     "output_type": "stream",
     "text": [
      "c:\\Users\\TYS\\AppData\\Local\\Programs\\Python\\Python311\\Lib\\site-packages\\statsmodels\\tsa\\statespace\\sarimax.py:966: UserWarning: Non-stationary starting autoregressive parameters found. Using zeros as starting parameters.\n",
      "  warn('Non-stationary starting autoregressive parameters'\n",
      "c:\\Users\\TYS\\AppData\\Local\\Programs\\Python\\Python311\\Lib\\site-packages\\statsmodels\\tsa\\statespace\\sarimax.py:978: UserWarning: Non-invertible starting MA parameters found. Using zeros as starting parameters.\n",
      "  warn('Non-invertible starting MA parameters found.'\n"
     ]
    },
    {
     "name": "stdout",
     "output_type": "stream",
     "text": [
      " ARIMA(2,1,2)(0,0,0)[12] intercept   : AIC=1878.377, Time=0.46 sec\n"
     ]
    },
    {
     "name": "stderr",
     "output_type": "stream",
     "text": [
      "c:\\Users\\TYS\\AppData\\Local\\Programs\\Python\\Python311\\Lib\\site-packages\\statsmodels\\tsa\\statespace\\sarimax.py:966: UserWarning: Non-stationary starting autoregressive parameters found. Using zeros as starting parameters.\n",
      "  warn('Non-stationary starting autoregressive parameters'\n",
      "c:\\Users\\TYS\\AppData\\Local\\Programs\\Python\\Python311\\Lib\\site-packages\\statsmodels\\tsa\\statespace\\sarimax.py:978: UserWarning: Non-invertible starting MA parameters found. Using zeros as starting parameters.\n",
      "  warn('Non-invertible starting MA parameters found.'\n"
     ]
    },
    {
     "name": "stdout",
     "output_type": "stream",
     "text": [
      " ARIMA(2,1,2)(0,0,2)[12] intercept   : AIC=1875.620, Time=2.09 sec\n"
     ]
    },
    {
     "name": "stderr",
     "output_type": "stream",
     "text": [
      "c:\\Users\\TYS\\AppData\\Local\\Programs\\Python\\Python311\\Lib\\site-packages\\statsmodels\\tsa\\statespace\\sarimax.py:966: UserWarning: Non-stationary starting autoregressive parameters found. Using zeros as starting parameters.\n",
      "  warn('Non-stationary starting autoregressive parameters'\n",
      "c:\\Users\\TYS\\AppData\\Local\\Programs\\Python\\Python311\\Lib\\site-packages\\statsmodels\\tsa\\statespace\\sarimax.py:978: UserWarning: Non-invertible starting MA parameters found. Using zeros as starting parameters.\n",
      "  warn('Non-invertible starting MA parameters found.'\n"
     ]
    },
    {
     "name": "stdout",
     "output_type": "stream",
     "text": [
      " ARIMA(2,1,2)(1,0,0)[12] intercept   : AIC=1874.155, Time=1.06 sec\n"
     ]
    },
    {
     "name": "stderr",
     "output_type": "stream",
     "text": [
      "c:\\Users\\TYS\\AppData\\Local\\Programs\\Python\\Python311\\Lib\\site-packages\\statsmodels\\tsa\\statespace\\sarimax.py:966: UserWarning: Non-stationary starting autoregressive parameters found. Using zeros as starting parameters.\n",
      "  warn('Non-stationary starting autoregressive parameters'\n",
      "c:\\Users\\TYS\\AppData\\Local\\Programs\\Python\\Python311\\Lib\\site-packages\\statsmodels\\tsa\\statespace\\sarimax.py:978: UserWarning: Non-invertible starting MA parameters found. Using zeros as starting parameters.\n",
      "  warn('Non-invertible starting MA parameters found.'\n",
      "c:\\Users\\TYS\\AppData\\Local\\Programs\\Python\\Python311\\Lib\\site-packages\\statsmodels\\base\\model.py:607: ConvergenceWarning: Maximum Likelihood optimization failed to converge. Check mle_retvals\n",
      "  warnings.warn(\"Maximum Likelihood optimization failed to \"\n"
     ]
    },
    {
     "name": "stdout",
     "output_type": "stream",
     "text": [
      " ARIMA(2,1,2)(1,0,2)[12] intercept   : AIC=inf, Time=2.67 sec\n",
      " ARIMA(1,1,2)(0,0,1)[12] intercept   : AIC=1874.415, Time=0.67 sec\n",
      " ARIMA(2,1,1)(0,0,1)[12] intercept   : AIC=1873.378, Time=0.77 sec\n",
      " ARIMA(2,1,1)(0,0,0)[12] intercept   : AIC=1876.954, Time=0.22 sec\n",
      " ARIMA(2,1,1)(1,0,1)[12] intercept   : AIC=1875.320, Time=1.26 sec\n",
      " ARIMA(2,1,1)(0,0,2)[12] intercept   : AIC=1875.259, Time=1.15 sec\n",
      " ARIMA(2,1,1)(1,0,0)[12] intercept   : AIC=1874.028, Time=0.64 sec\n"
     ]
    },
    {
     "name": "stderr",
     "output_type": "stream",
     "text": [
      "c:\\Users\\TYS\\AppData\\Local\\Programs\\Python\\Python311\\Lib\\site-packages\\statsmodels\\base\\model.py:607: ConvergenceWarning: Maximum Likelihood optimization failed to converge. Check mle_retvals\n",
      "  warnings.warn(\"Maximum Likelihood optimization failed to \"\n"
     ]
    },
    {
     "name": "stdout",
     "output_type": "stream",
     "text": [
      " ARIMA(2,1,1)(1,0,2)[12] intercept   : AIC=inf, Time=2.70 sec\n",
      " ARIMA(1,1,1)(0,0,1)[12] intercept   : AIC=inf, Time=0.43 sec\n",
      " ARIMA(2,1,0)(0,0,1)[12] intercept   : AIC=1914.074, Time=0.31 sec\n",
      " ARIMA(3,1,1)(0,0,1)[12] intercept   : AIC=1875.046, Time=0.83 sec\n",
      " ARIMA(1,1,0)(0,0,1)[12] intercept   : AIC=1928.227, Time=0.24 sec\n",
      " ARIMA(3,1,0)(0,0,1)[12] intercept   : AIC=1907.540, Time=0.43 sec\n"
     ]
    },
    {
     "name": "stderr",
     "output_type": "stream",
     "text": [
      "c:\\Users\\TYS\\AppData\\Local\\Programs\\Python\\Python311\\Lib\\site-packages\\statsmodels\\tsa\\statespace\\sarimax.py:966: UserWarning: Non-stationary starting autoregressive parameters found. Using zeros as starting parameters.\n",
      "  warn('Non-stationary starting autoregressive parameters'\n",
      "c:\\Users\\TYS\\AppData\\Local\\Programs\\Python\\Python311\\Lib\\site-packages\\statsmodels\\tsa\\statespace\\sarimax.py:978: UserWarning: Non-invertible starting MA parameters found. Using zeros as starting parameters.\n",
      "  warn('Non-invertible starting MA parameters found.'\n",
      "c:\\Users\\TYS\\AppData\\Local\\Programs\\Python\\Python311\\Lib\\site-packages\\statsmodels\\base\\model.py:607: ConvergenceWarning: Maximum Likelihood optimization failed to converge. Check mle_retvals\n",
      "  warnings.warn(\"Maximum Likelihood optimization failed to \"\n",
      "c:\\Users\\TYS\\AppData\\Local\\Programs\\Python\\Python311\\Lib\\site-packages\\statsmodels\\tsa\\statespace\\sarimax.py:966: UserWarning: Non-stationary starting autoregressive parameters found. Using zeros as starting parameters.\n",
      "  warn('Non-stationary starting autoregressive parameters'\n",
      "c:\\Users\\TYS\\AppData\\Local\\Programs\\Python\\Python311\\Lib\\site-packages\\statsmodels\\tsa\\statespace\\sarimax.py:978: UserWarning: Non-invertible starting MA parameters found. Using zeros as starting parameters.\n",
      "  warn('Non-invertible starting MA parameters found.'\n"
     ]
    },
    {
     "name": "stdout",
     "output_type": "stream",
     "text": [
      " ARIMA(3,1,2)(0,0,1)[12] intercept   : AIC=1871.719, Time=1.24 sec\n"
     ]
    },
    {
     "name": "stderr",
     "output_type": "stream",
     "text": [
      "c:\\Users\\TYS\\AppData\\Local\\Programs\\Python\\Python311\\Lib\\site-packages\\statsmodels\\base\\model.py:607: ConvergenceWarning: Maximum Likelihood optimization failed to converge. Check mle_retvals\n",
      "  warnings.warn(\"Maximum Likelihood optimization failed to \"\n",
      "c:\\Users\\TYS\\AppData\\Local\\Programs\\Python\\Python311\\Lib\\site-packages\\statsmodels\\tsa\\statespace\\sarimax.py:966: UserWarning: Non-stationary starting autoregressive parameters found. Using zeros as starting parameters.\n",
      "  warn('Non-stationary starting autoregressive parameters'\n",
      "c:\\Users\\TYS\\AppData\\Local\\Programs\\Python\\Python311\\Lib\\site-packages\\statsmodels\\tsa\\statespace\\sarimax.py:978: UserWarning: Non-invertible starting MA parameters found. Using zeros as starting parameters.\n",
      "  warn('Non-invertible starting MA parameters found.'\n"
     ]
    },
    {
     "name": "stdout",
     "output_type": "stream",
     "text": [
      " ARIMA(3,1,2)(0,0,0)[12] intercept   : AIC=1878.501, Time=0.63 sec\n"
     ]
    },
    {
     "name": "stderr",
     "output_type": "stream",
     "text": [
      "c:\\Users\\TYS\\AppData\\Local\\Programs\\Python\\Python311\\Lib\\site-packages\\statsmodels\\base\\model.py:607: ConvergenceWarning: Maximum Likelihood optimization failed to converge. Check mle_retvals\n",
      "  warnings.warn(\"Maximum Likelihood optimization failed to \"\n",
      "c:\\Users\\TYS\\AppData\\Local\\Programs\\Python\\Python311\\Lib\\site-packages\\statsmodels\\tsa\\statespace\\sarimax.py:966: UserWarning: Non-stationary starting autoregressive parameters found. Using zeros as starting parameters.\n",
      "  warn('Non-stationary starting autoregressive parameters'\n",
      "c:\\Users\\TYS\\AppData\\Local\\Programs\\Python\\Python311\\Lib\\site-packages\\statsmodels\\tsa\\statespace\\sarimax.py:978: UserWarning: Non-invertible starting MA parameters found. Using zeros as starting parameters.\n",
      "  warn('Non-invertible starting MA parameters found.'\n"
     ]
    },
    {
     "name": "stdout",
     "output_type": "stream",
     "text": [
      " ARIMA(3,1,2)(1,0,1)[12] intercept   : AIC=inf, Time=1.50 sec\n"
     ]
    },
    {
     "name": "stderr",
     "output_type": "stream",
     "text": [
      "c:\\Users\\TYS\\AppData\\Local\\Programs\\Python\\Python311\\Lib\\site-packages\\statsmodels\\base\\model.py:607: ConvergenceWarning: Maximum Likelihood optimization failed to converge. Check mle_retvals\n",
      "  warnings.warn(\"Maximum Likelihood optimization failed to \"\n",
      "c:\\Users\\TYS\\AppData\\Local\\Programs\\Python\\Python311\\Lib\\site-packages\\statsmodels\\tsa\\statespace\\sarimax.py:966: UserWarning: Non-stationary starting autoregressive parameters found. Using zeros as starting parameters.\n",
      "  warn('Non-stationary starting autoregressive parameters'\n",
      "c:\\Users\\TYS\\AppData\\Local\\Programs\\Python\\Python311\\Lib\\site-packages\\statsmodels\\tsa\\statespace\\sarimax.py:978: UserWarning: Non-invertible starting MA parameters found. Using zeros as starting parameters.\n",
      "  warn('Non-invertible starting MA parameters found.'\n"
     ]
    },
    {
     "name": "stdout",
     "output_type": "stream",
     "text": [
      " ARIMA(3,1,2)(0,0,2)[12] intercept   : AIC=1872.505, Time=2.53 sec\n"
     ]
    },
    {
     "name": "stderr",
     "output_type": "stream",
     "text": [
      "c:\\Users\\TYS\\AppData\\Local\\Programs\\Python\\Python311\\Lib\\site-packages\\statsmodels\\base\\model.py:607: ConvergenceWarning: Maximum Likelihood optimization failed to converge. Check mle_retvals\n",
      "  warnings.warn(\"Maximum Likelihood optimization failed to \"\n",
      "c:\\Users\\TYS\\AppData\\Local\\Programs\\Python\\Python311\\Lib\\site-packages\\statsmodels\\tsa\\statespace\\sarimax.py:966: UserWarning: Non-stationary starting autoregressive parameters found. Using zeros as starting parameters.\n",
      "  warn('Non-stationary starting autoregressive parameters'\n",
      "c:\\Users\\TYS\\AppData\\Local\\Programs\\Python\\Python311\\Lib\\site-packages\\statsmodels\\tsa\\statespace\\sarimax.py:978: UserWarning: Non-invertible starting MA parameters found. Using zeros as starting parameters.\n",
      "  warn('Non-invertible starting MA parameters found.'\n"
     ]
    },
    {
     "name": "stdout",
     "output_type": "stream",
     "text": [
      " ARIMA(3,1,2)(1,0,0)[12] intercept   : AIC=1873.569, Time=1.27 sec\n"
     ]
    },
    {
     "name": "stderr",
     "output_type": "stream",
     "text": [
      "c:\\Users\\TYS\\AppData\\Local\\Programs\\Python\\Python311\\Lib\\site-packages\\statsmodels\\base\\model.py:607: ConvergenceWarning: Maximum Likelihood optimization failed to converge. Check mle_retvals\n",
      "  warnings.warn(\"Maximum Likelihood optimization failed to \"\n"
     ]
    },
    {
     "name": "stdout",
     "output_type": "stream",
     "text": [
      " ARIMA(3,1,2)(1,0,2)[12] intercept   : AIC=inf, Time=2.91 sec\n"
     ]
    },
    {
     "name": "stderr",
     "output_type": "stream",
     "text": [
      "c:\\Users\\TYS\\AppData\\Local\\Programs\\Python\\Python311\\Lib\\site-packages\\statsmodels\\base\\model.py:607: ConvergenceWarning: Maximum Likelihood optimization failed to converge. Check mle_retvals\n",
      "  warnings.warn(\"Maximum Likelihood optimization failed to \"\n"
     ]
    },
    {
     "name": "stdout",
     "output_type": "stream",
     "text": [
      " ARIMA(3,1,3)(0,0,1)[12] intercept   : AIC=inf, Time=1.77 sec\n"
     ]
    },
    {
     "name": "stderr",
     "output_type": "stream",
     "text": [
      "c:\\Users\\TYS\\AppData\\Local\\Programs\\Python\\Python311\\Lib\\site-packages\\statsmodels\\base\\model.py:607: ConvergenceWarning: Maximum Likelihood optimization failed to converge. Check mle_retvals\n",
      "  warnings.warn(\"Maximum Likelihood optimization failed to \"\n"
     ]
    },
    {
     "name": "stdout",
     "output_type": "stream",
     "text": [
      " ARIMA(2,1,3)(0,0,1)[12] intercept   : AIC=1871.566, Time=1.48 sec\n",
      " ARIMA(2,1,3)(0,0,0)[12] intercept   : AIC=1879.749, Time=0.51 sec\n"
     ]
    },
    {
     "name": "stderr",
     "output_type": "stream",
     "text": [
      "c:\\Users\\TYS\\AppData\\Local\\Programs\\Python\\Python311\\Lib\\site-packages\\statsmodels\\base\\model.py:607: ConvergenceWarning: Maximum Likelihood optimization failed to converge. Check mle_retvals\n",
      "  warnings.warn(\"Maximum Likelihood optimization failed to \"\n"
     ]
    },
    {
     "name": "stdout",
     "output_type": "stream",
     "text": [
      " ARIMA(2,1,3)(1,0,1)[12] intercept   : AIC=inf, Time=1.59 sec\n"
     ]
    },
    {
     "name": "stderr",
     "output_type": "stream",
     "text": [
      "c:\\Users\\TYS\\AppData\\Local\\Programs\\Python\\Python311\\Lib\\site-packages\\statsmodels\\base\\model.py:607: ConvergenceWarning: Maximum Likelihood optimization failed to converge. Check mle_retvals\n",
      "  warnings.warn(\"Maximum Likelihood optimization failed to \"\n"
     ]
    },
    {
     "name": "stdout",
     "output_type": "stream",
     "text": [
      " ARIMA(2,1,3)(0,0,2)[12] intercept   : AIC=1871.331, Time=2.99 sec\n"
     ]
    },
    {
     "name": "stderr",
     "output_type": "stream",
     "text": [
      "c:\\Users\\TYS\\AppData\\Local\\Programs\\Python\\Python311\\Lib\\site-packages\\statsmodels\\base\\model.py:607: ConvergenceWarning: Maximum Likelihood optimization failed to converge. Check mle_retvals\n",
      "  warnings.warn(\"Maximum Likelihood optimization failed to \"\n"
     ]
    },
    {
     "name": "stdout",
     "output_type": "stream",
     "text": [
      " ARIMA(2,1,3)(1,0,2)[12] intercept   : AIC=inf, Time=3.32 sec\n",
      " ARIMA(1,1,3)(0,0,2)[12] intercept   : AIC=inf, Time=2.32 sec\n"
     ]
    },
    {
     "name": "stderr",
     "output_type": "stream",
     "text": [
      "c:\\Users\\TYS\\AppData\\Local\\Programs\\Python\\Python311\\Lib\\site-packages\\statsmodels\\base\\model.py:607: ConvergenceWarning: Maximum Likelihood optimization failed to converge. Check mle_retvals\n",
      "  warnings.warn(\"Maximum Likelihood optimization failed to \"\n"
     ]
    },
    {
     "name": "stdout",
     "output_type": "stream",
     "text": [
      " ARIMA(3,1,3)(0,0,2)[12] intercept   : AIC=inf, Time=3.01 sec\n",
      " ARIMA(1,1,2)(0,0,2)[12] intercept   : AIC=1876.270, Time=1.55 sec\n"
     ]
    },
    {
     "name": "stderr",
     "output_type": "stream",
     "text": [
      "c:\\Users\\TYS\\AppData\\Local\\Programs\\Python\\Python311\\Lib\\site-packages\\statsmodels\\base\\model.py:607: ConvergenceWarning: Maximum Likelihood optimization failed to converge. Check mle_retvals\n",
      "  warnings.warn(\"Maximum Likelihood optimization failed to \"\n",
      "c:\\Users\\TYS\\AppData\\Local\\Programs\\Python\\Python311\\Lib\\site-packages\\statsmodels\\tsa\\statespace\\sarimax.py:966: UserWarning: Non-stationary starting autoregressive parameters found. Using zeros as starting parameters.\n",
      "  warn('Non-stationary starting autoregressive parameters'\n",
      "c:\\Users\\TYS\\AppData\\Local\\Programs\\Python\\Python311\\Lib\\site-packages\\statsmodels\\tsa\\statespace\\sarimax.py:978: UserWarning: Non-invertible starting MA parameters found. Using zeros as starting parameters.\n",
      "  warn('Non-invertible starting MA parameters found.'\n"
     ]
    },
    {
     "name": "stdout",
     "output_type": "stream",
     "text": [
      " ARIMA(2,1,3)(0,0,2)[12]             : AIC=1874.293, Time=2.95 sec\n",
      "\n",
      "Best model:  ARIMA(2,1,3)(0,0,2)[12] intercept\n",
      "Total fit time: 50.545 seconds\n",
      "Cluster 7 (Classic_bike): ARIMA(2, 1, 3), Seasonal Order=(0, 0, 2, 12), AIC=1871.3312556827427\n",
      "Performing stepwise search to minimize aic\n",
      " ARIMA(2,1,2)(1,0,1)[12] intercept   : AIC=inf, Time=1.25 sec\n",
      " ARIMA(0,1,0)(0,0,0)[12] intercept   : AIC=2107.436, Time=0.01 sec\n",
      " ARIMA(1,1,0)(1,0,0)[12] intercept   : AIC=2095.563, Time=0.23 sec\n",
      " ARIMA(0,1,1)(0,0,1)[12] intercept   : AIC=inf, Time=0.52 sec\n",
      " ARIMA(0,1,0)(0,0,0)[12]             : AIC=2105.441, Time=0.01 sec\n",
      " ARIMA(1,1,0)(0,0,0)[12] intercept   : AIC=2098.113, Time=0.06 sec\n",
      " ARIMA(1,1,0)(2,0,0)[12] intercept   : AIC=2088.386, Time=0.58 sec\n",
      " ARIMA(1,1,0)(2,0,1)[12] intercept   : AIC=2090.075, Time=0.77 sec\n",
      " ARIMA(1,1,0)(1,0,1)[12] intercept   : AIC=2093.675, Time=0.41 sec\n",
      " ARIMA(0,1,0)(2,0,0)[12] intercept   : AIC=2104.295, Time=0.41 sec\n",
      " ARIMA(2,1,0)(2,0,0)[12] intercept   : AIC=2074.277, Time=0.77 sec\n",
      " ARIMA(2,1,0)(1,0,0)[12] intercept   : AIC=2089.856, Time=0.29 sec\n",
      " ARIMA(2,1,0)(2,0,1)[12] intercept   : AIC=2075.215, Time=1.65 sec\n",
      " ARIMA(2,1,0)(1,0,1)[12] intercept   : AIC=2086.496, Time=0.77 sec\n",
      " ARIMA(3,1,0)(2,0,0)[12] intercept   : AIC=2072.231, Time=1.40 sec\n",
      " ARIMA(3,1,0)(1,0,0)[12] intercept   : AIC=2084.307, Time=0.36 sec\n",
      " ARIMA(3,1,0)(2,0,1)[12] intercept   : AIC=2073.005, Time=2.48 sec\n",
      " ARIMA(3,1,0)(1,0,1)[12] intercept   : AIC=2082.182, Time=0.87 sec\n",
      " ARIMA(3,1,1)(2,0,0)[12] intercept   : AIC=inf, Time=1.64 sec\n",
      " ARIMA(2,1,1)(2,0,0)[12] intercept   : AIC=inf, Time=1.21 sec\n",
      " ARIMA(3,1,0)(2,0,0)[12]             : AIC=2070.517, Time=0.52 sec\n",
      " ARIMA(3,1,0)(1,0,0)[12]             : AIC=2082.421, Time=0.26 sec\n",
      " ARIMA(3,1,0)(2,0,1)[12]             : AIC=2071.279, Time=1.11 sec\n",
      " ARIMA(3,1,0)(1,0,1)[12]             : AIC=2080.392, Time=0.53 sec\n",
      " ARIMA(2,1,0)(2,0,0)[12]             : AIC=2072.473, Time=0.42 sec\n",
      " ARIMA(3,1,1)(2,0,0)[12]             : AIC=2052.170, Time=0.97 sec\n",
      " ARIMA(3,1,1)(1,0,0)[12]             : AIC=2053.485, Time=0.41 sec\n",
      " ARIMA(3,1,1)(2,0,1)[12]             : AIC=2053.831, Time=1.39 sec\n",
      " ARIMA(3,1,1)(1,0,1)[12]             : AIC=2054.170, Time=0.74 sec\n",
      " ARIMA(2,1,1)(2,0,0)[12]             : AIC=2050.440, Time=1.05 sec\n",
      " ARIMA(2,1,1)(1,0,0)[12]             : AIC=2054.524, Time=0.51 sec\n",
      " ARIMA(2,1,1)(2,0,1)[12]             : AIC=2052.011, Time=1.69 sec\n",
      " ARIMA(2,1,1)(1,0,1)[12]             : AIC=2054.181, Time=0.68 sec\n",
      " ARIMA(1,1,1)(2,0,0)[12]             : AIC=2049.044, Time=0.63 sec\n",
      " ARIMA(1,1,1)(1,0,0)[12]             : AIC=2053.905, Time=0.29 sec\n",
      " ARIMA(1,1,1)(2,0,1)[12]             : AIC=2050.558, Time=1.10 sec\n",
      " ARIMA(1,1,1)(1,0,1)[12]             : AIC=2053.286, Time=0.56 sec\n",
      " ARIMA(0,1,1)(2,0,0)[12]             : AIC=2056.901, Time=0.40 sec\n",
      " ARIMA(1,1,0)(2,0,0)[12]             : AIC=2086.459, Time=0.30 sec\n"
     ]
    },
    {
     "name": "stderr",
     "output_type": "stream",
     "text": [
      "c:\\Users\\TYS\\AppData\\Local\\Programs\\Python\\Python311\\Lib\\site-packages\\statsmodels\\tsa\\statespace\\sarimax.py:978: UserWarning: Non-invertible starting MA parameters found. Using zeros as starting parameters.\n",
      "  warn('Non-invertible starting MA parameters found.'\n"
     ]
    },
    {
     "name": "stdout",
     "output_type": "stream",
     "text": [
      " ARIMA(1,1,2)(2,0,0)[12]             : AIC=2050.517, Time=0.92 sec\n",
      " ARIMA(0,1,0)(2,0,0)[12]             : AIC=2102.314, Time=0.23 sec\n",
      " ARIMA(0,1,2)(2,0,0)[12]             : AIC=2048.652, Time=0.62 sec\n",
      " ARIMA(0,1,2)(1,0,0)[12]             : AIC=2053.913, Time=0.28 sec\n",
      " ARIMA(0,1,2)(2,0,1)[12]             : AIC=2050.164, Time=0.69 sec\n",
      " ARIMA(0,1,2)(1,0,1)[12]             : AIC=2053.169, Time=0.45 sec\n",
      " ARIMA(0,1,3)(2,0,0)[12]             : AIC=2050.516, Time=0.71 sec\n",
      " ARIMA(1,1,3)(2,0,0)[12]             : AIC=2052.514, Time=1.38 sec\n",
      " ARIMA(0,1,2)(2,0,0)[12] intercept   : AIC=inf, Time=0.83 sec\n",
      "\n",
      "Best model:  ARIMA(0,1,2)(2,0,0)[12]          \n",
      "Total fit time: 35.426 seconds\n",
      "Cluster 7 (Electric_bike): ARIMA(0, 1, 2), Seasonal Order=(2, 0, 0, 12), AIC=2048.6520857784253\n",
      "Performing stepwise search to minimize aic\n"
     ]
    },
    {
     "name": "stderr",
     "output_type": "stream",
     "text": [
      "c:\\Users\\TYS\\AppData\\Local\\Programs\\Python\\Python311\\Lib\\site-packages\\statsmodels\\tsa\\statespace\\sarimax.py:966: UserWarning: Non-stationary starting autoregressive parameters found. Using zeros as starting parameters.\n",
      "  warn('Non-stationary starting autoregressive parameters'\n",
      "c:\\Users\\TYS\\AppData\\Local\\Programs\\Python\\Python311\\Lib\\site-packages\\statsmodels\\tsa\\statespace\\sarimax.py:978: UserWarning: Non-invertible starting MA parameters found. Using zeros as starting parameters.\n",
      "  warn('Non-invertible starting MA parameters found.'\n",
      "c:\\Users\\TYS\\AppData\\Local\\Programs\\Python\\Python311\\Lib\\site-packages\\statsmodels\\base\\model.py:607: ConvergenceWarning: Maximum Likelihood optimization failed to converge. Check mle_retvals\n",
      "  warnings.warn(\"Maximum Likelihood optimization failed to \"\n"
     ]
    },
    {
     "name": "stdout",
     "output_type": "stream",
     "text": [
      " ARIMA(2,1,2)(1,0,1)[12] intercept   : AIC=inf, Time=1.39 sec\n",
      " ARIMA(0,1,0)(0,0,0)[12] intercept   : AIC=1149.050, Time=0.02 sec\n",
      " ARIMA(1,1,0)(1,0,0)[12] intercept   : AIC=1116.466, Time=0.16 sec\n",
      " ARIMA(0,1,1)(0,0,1)[12] intercept   : AIC=inf, Time=0.96 sec\n",
      " ARIMA(0,1,0)(0,0,0)[12]             : AIC=1147.092, Time=0.02 sec\n",
      " ARIMA(1,1,0)(0,0,0)[12] intercept   : AIC=1114.536, Time=0.05 sec\n",
      " ARIMA(1,1,0)(0,0,1)[12] intercept   : AIC=1116.457, Time=0.16 sec\n"
     ]
    },
    {
     "name": "stderr",
     "output_type": "stream",
     "text": [
      "c:\\Users\\TYS\\AppData\\Local\\Programs\\Python\\Python311\\Lib\\site-packages\\statsmodels\\base\\model.py:607: ConvergenceWarning: Maximum Likelihood optimization failed to converge. Check mle_retvals\n",
      "  warnings.warn(\"Maximum Likelihood optimization failed to \"\n"
     ]
    },
    {
     "name": "stdout",
     "output_type": "stream",
     "text": [
      " ARIMA(1,1,0)(1,0,1)[12] intercept   : AIC=inf, Time=0.99 sec\n",
      " ARIMA(2,1,0)(0,0,0)[12] intercept   : AIC=1103.167, Time=0.10 sec\n",
      " ARIMA(2,1,0)(1,0,0)[12] intercept   : AIC=1105.164, Time=0.30 sec\n",
      " ARIMA(2,1,0)(0,0,1)[12] intercept   : AIC=1105.163, Time=0.20 sec\n",
      " ARIMA(2,1,0)(1,0,1)[12] intercept   : AIC=inf, Time=0.64 sec\n",
      " ARIMA(3,1,0)(0,0,0)[12] intercept   : AIC=1092.091, Time=0.15 sec\n",
      " ARIMA(3,1,0)(1,0,0)[12] intercept   : AIC=1094.040, Time=0.31 sec\n",
      " ARIMA(3,1,0)(0,0,1)[12] intercept   : AIC=1094.027, Time=0.28 sec\n"
     ]
    },
    {
     "name": "stderr",
     "output_type": "stream",
     "text": [
      "c:\\Users\\TYS\\AppData\\Local\\Programs\\Python\\Python311\\Lib\\site-packages\\statsmodels\\base\\model.py:607: ConvergenceWarning: Maximum Likelihood optimization failed to converge. Check mle_retvals\n",
      "  warnings.warn(\"Maximum Likelihood optimization failed to \"\n"
     ]
    },
    {
     "name": "stdout",
     "output_type": "stream",
     "text": [
      " ARIMA(3,1,0)(1,0,1)[12] intercept   : AIC=inf, Time=1.29 sec\n"
     ]
    },
    {
     "name": "stderr",
     "output_type": "stream",
     "text": [
      "c:\\Users\\TYS\\AppData\\Local\\Programs\\Python\\Python311\\Lib\\site-packages\\statsmodels\\base\\model.py:607: ConvergenceWarning: Maximum Likelihood optimization failed to converge. Check mle_retvals\n",
      "  warnings.warn(\"Maximum Likelihood optimization failed to \"\n"
     ]
    },
    {
     "name": "stdout",
     "output_type": "stream",
     "text": [
      " ARIMA(3,1,1)(0,0,0)[12] intercept   : AIC=inf, Time=0.56 sec\n",
      " ARIMA(2,1,1)(0,0,0)[12] intercept   : AIC=inf, Time=0.51 sec\n",
      " ARIMA(3,1,0)(0,0,0)[12]             : AIC=1090.158, Time=0.08 sec\n",
      " ARIMA(3,1,0)(1,0,0)[12]             : AIC=1092.108, Time=0.15 sec\n",
      " ARIMA(3,1,0)(0,0,1)[12]             : AIC=1092.094, Time=0.14 sec\n",
      " ARIMA(3,1,0)(1,0,1)[12]             : AIC=inf, Time=1.01 sec\n",
      " ARIMA(2,1,0)(0,0,0)[12]             : AIC=1101.233, Time=0.05 sec\n",
      " ARIMA(3,1,1)(0,0,0)[12]             : AIC=1060.804, Time=0.30 sec\n",
      " ARIMA(3,1,1)(1,0,0)[12]             : AIC=1062.782, Time=0.38 sec\n",
      " ARIMA(3,1,1)(0,0,1)[12]             : AIC=1062.780, Time=0.34 sec\n",
      " ARIMA(3,1,1)(1,0,1)[12]             : AIC=1064.804, Time=0.47 sec\n",
      " ARIMA(2,1,1)(0,0,0)[12]             : AIC=1059.342, Time=0.13 sec\n",
      " ARIMA(2,1,1)(1,0,0)[12]             : AIC=1061.327, Time=0.44 sec\n",
      " ARIMA(2,1,1)(0,0,1)[12]             : AIC=1061.325, Time=0.41 sec\n",
      " ARIMA(2,1,1)(1,0,1)[12]             : AIC=1063.276, Time=0.78 sec\n",
      " ARIMA(1,1,1)(0,0,0)[12]             : AIC=1057.397, Time=0.07 sec\n",
      " ARIMA(1,1,1)(1,0,0)[12]             : AIC=1059.375, Time=0.24 sec\n",
      " ARIMA(1,1,1)(0,0,1)[12]             : AIC=1059.372, Time=0.20 sec\n"
     ]
    },
    {
     "name": "stderr",
     "output_type": "stream",
     "text": [
      "c:\\Users\\TYS\\AppData\\Local\\Programs\\Python\\Python311\\Lib\\site-packages\\statsmodels\\base\\model.py:607: ConvergenceWarning: Maximum Likelihood optimization failed to converge. Check mle_retvals\n",
      "  warnings.warn(\"Maximum Likelihood optimization failed to \"\n"
     ]
    },
    {
     "name": "stdout",
     "output_type": "stream",
     "text": [
      " ARIMA(1,1,1)(1,0,1)[12]             : AIC=inf, Time=0.94 sec\n",
      " ARIMA(0,1,1)(0,0,0)[12]             : AIC=1057.215, Time=0.05 sec\n",
      " ARIMA(0,1,1)(1,0,0)[12]             : AIC=1059.204, Time=0.13 sec\n",
      " ARIMA(0,1,1)(0,0,1)[12]             : AIC=1059.202, Time=0.15 sec\n",
      " ARIMA(0,1,1)(1,0,1)[12]             : AIC=inf, Time=0.65 sec\n",
      " ARIMA(0,1,2)(0,0,0)[12]             : AIC=1057.374, Time=0.08 sec\n",
      " ARIMA(1,1,0)(0,0,0)[12]             : AIC=1112.597, Time=0.03 sec\n"
     ]
    },
    {
     "name": "stderr",
     "output_type": "stream",
     "text": [
      "c:\\Users\\TYS\\AppData\\Local\\Programs\\Python\\Python311\\Lib\\site-packages\\statsmodels\\tsa\\statespace\\sarimax.py:966: UserWarning: Non-stationary starting autoregressive parameters found. Using zeros as starting parameters.\n",
      "  warn('Non-stationary starting autoregressive parameters'\n",
      "c:\\Users\\TYS\\AppData\\Local\\Programs\\Python\\Python311\\Lib\\site-packages\\statsmodels\\tsa\\statespace\\sarimax.py:978: UserWarning: Non-invertible starting MA parameters found. Using zeros as starting parameters.\n",
      "  warn('Non-invertible starting MA parameters found.'\n"
     ]
    },
    {
     "name": "stdout",
     "output_type": "stream",
     "text": [
      " ARIMA(1,1,2)(0,0,0)[12]             : AIC=1059.371, Time=0.21 sec\n",
      " ARIMA(0,1,1)(0,0,0)[12] intercept   : AIC=inf, Time=0.21 sec\n",
      "\n",
      "Best model:  ARIMA(0,1,1)(0,0,0)[12]          \n",
      "Total fit time: 15.795 seconds\n",
      "Cluster 8 (Classic_bike): ARIMA(0, 1, 1), Seasonal Order=(0, 0, 0, 12), AIC=1057.214875754571\n",
      "Performing stepwise search to minimize aic\n"
     ]
    },
    {
     "name": "stderr",
     "output_type": "stream",
     "text": [
      "c:\\Users\\TYS\\AppData\\Local\\Programs\\Python\\Python311\\Lib\\site-packages\\statsmodels\\base\\model.py:607: ConvergenceWarning: Maximum Likelihood optimization failed to converge. Check mle_retvals\n",
      "  warnings.warn(\"Maximum Likelihood optimization failed to \"\n"
     ]
    },
    {
     "name": "stdout",
     "output_type": "stream",
     "text": [
      " ARIMA(2,1,2)(1,0,1)[12] intercept   : AIC=inf, Time=1.36 sec\n",
      " ARIMA(0,1,0)(0,0,0)[12] intercept   : AIC=1162.014, Time=0.03 sec\n",
      " ARIMA(1,1,0)(1,0,0)[12] intercept   : AIC=1142.710, Time=0.18 sec\n",
      " ARIMA(0,1,1)(0,0,1)[12] intercept   : AIC=inf, Time=0.66 sec\n",
      " ARIMA(0,1,0)(0,0,0)[12]             : AIC=1160.056, Time=0.02 sec\n",
      " ARIMA(1,1,0)(0,0,0)[12] intercept   : AIC=1141.324, Time=0.04 sec\n",
      " ARIMA(1,1,0)(0,0,1)[12] intercept   : AIC=1142.718, Time=0.18 sec\n",
      " ARIMA(1,1,0)(1,0,1)[12] intercept   : AIC=1144.710, Time=0.31 sec\n",
      " ARIMA(2,1,0)(0,0,0)[12] intercept   : AIC=1116.439, Time=0.08 sec\n",
      " ARIMA(2,1,0)(1,0,0)[12] intercept   : AIC=1117.977, Time=0.26 sec\n",
      " ARIMA(2,1,0)(0,0,1)[12] intercept   : AIC=1118.002, Time=0.24 sec\n",
      " ARIMA(2,1,0)(1,0,1)[12] intercept   : AIC=1119.955, Time=0.39 sec\n",
      " ARIMA(3,1,0)(0,0,0)[12] intercept   : AIC=1114.918, Time=0.13 sec\n",
      " ARIMA(3,1,0)(1,0,0)[12] intercept   : AIC=1116.466, Time=0.32 sec\n",
      " ARIMA(3,1,0)(0,0,1)[12] intercept   : AIC=1116.492, Time=0.30 sec\n",
      " ARIMA(3,1,0)(1,0,1)[12] intercept   : AIC=1118.438, Time=0.58 sec\n"
     ]
    },
    {
     "name": "stderr",
     "output_type": "stream",
     "text": [
      "c:\\Users\\TYS\\AppData\\Local\\Programs\\Python\\Python311\\Lib\\site-packages\\statsmodels\\base\\model.py:607: ConvergenceWarning: Maximum Likelihood optimization failed to converge. Check mle_retvals\n",
      "  warnings.warn(\"Maximum Likelihood optimization failed to \"\n"
     ]
    },
    {
     "name": "stdout",
     "output_type": "stream",
     "text": [
      " ARIMA(3,1,1)(0,0,0)[12] intercept   : AIC=inf, Time=0.63 sec\n"
     ]
    },
    {
     "name": "stderr",
     "output_type": "stream",
     "text": [
      "c:\\Users\\TYS\\AppData\\Local\\Programs\\Python\\Python311\\Lib\\site-packages\\statsmodels\\base\\model.py:607: ConvergenceWarning: Maximum Likelihood optimization failed to converge. Check mle_retvals\n",
      "  warnings.warn(\"Maximum Likelihood optimization failed to \"\n"
     ]
    },
    {
     "name": "stdout",
     "output_type": "stream",
     "text": [
      " ARIMA(2,1,1)(0,0,0)[12] intercept   : AIC=inf, Time=0.44 sec\n",
      " ARIMA(3,1,0)(0,0,0)[12]             : AIC=1113.028, Time=0.06 sec\n",
      " ARIMA(3,1,0)(1,0,0)[12]             : AIC=1114.577, Time=0.13 sec\n",
      " ARIMA(3,1,0)(0,0,1)[12]             : AIC=1114.603, Time=0.15 sec\n",
      " ARIMA(3,1,0)(1,0,1)[12]             : AIC=1116.549, Time=0.34 sec\n",
      " ARIMA(2,1,0)(0,0,0)[12]             : AIC=1114.523, Time=0.04 sec\n",
      " ARIMA(3,1,1)(0,0,0)[12]             : AIC=1085.474, Time=0.18 sec\n",
      " ARIMA(3,1,1)(1,0,0)[12]             : AIC=1087.382, Time=0.41 sec\n",
      " ARIMA(3,1,1)(0,0,1)[12]             : AIC=1087.380, Time=0.38 sec\n",
      " ARIMA(3,1,1)(1,0,1)[12]             : AIC=1089.379, Time=0.76 sec\n",
      " ARIMA(2,1,1)(0,0,0)[12]             : AIC=1085.109, Time=0.11 sec\n",
      " ARIMA(2,1,1)(1,0,0)[12]             : AIC=1087.031, Time=0.30 sec\n",
      " ARIMA(2,1,1)(0,0,1)[12]             : AIC=1087.027, Time=0.31 sec\n",
      " ARIMA(2,1,1)(1,0,1)[12]             : AIC=1088.841, Time=0.90 sec\n",
      " ARIMA(1,1,1)(0,0,0)[12]             : AIC=1084.157, Time=0.08 sec\n",
      " ARIMA(1,1,1)(1,0,0)[12]             : AIC=1086.007, Time=0.23 sec\n",
      " ARIMA(1,1,1)(0,0,1)[12]             : AIC=1086.001, Time=0.28 sec\n",
      " ARIMA(1,1,1)(1,0,1)[12]             : AIC=1087.790, Time=0.75 sec\n",
      " ARIMA(0,1,1)(0,0,0)[12]             : AIC=1090.417, Time=0.05 sec\n",
      " ARIMA(1,1,0)(0,0,0)[12]             : AIC=1139.379, Time=0.04 sec\n",
      " ARIMA(1,1,2)(0,0,0)[12]             : AIC=1083.155, Time=0.14 sec\n",
      " ARIMA(1,1,2)(1,0,0)[12]             : AIC=1085.112, Time=0.34 sec\n",
      " ARIMA(1,1,2)(0,0,1)[12]             : AIC=1085.110, Time=0.31 sec\n",
      " ARIMA(1,1,2)(1,0,1)[12]             : AIC=1086.930, Time=0.82 sec\n",
      " ARIMA(0,1,2)(0,0,0)[12]             : AIC=1082.661, Time=0.07 sec\n",
      " ARIMA(0,1,2)(1,0,0)[12]             : AIC=1084.581, Time=0.15 sec\n",
      " ARIMA(0,1,2)(0,0,1)[12]             : AIC=1084.578, Time=0.18 sec\n",
      " ARIMA(0,1,2)(1,0,1)[12]             : AIC=1086.570, Time=0.44 sec\n",
      " ARIMA(0,1,3)(0,0,0)[12]             : AIC=1083.805, Time=0.12 sec\n",
      " ARIMA(1,1,3)(0,0,0)[12]             : AIC=1084.987, Time=0.17 sec\n",
      " ARIMA(0,1,2)(0,0,0)[12] intercept   : AIC=inf, Time=0.32 sec\n",
      "\n",
      "Best model:  ARIMA(0,1,2)(0,0,0)[12]          \n",
      "Total fit time: 14.743 seconds\n",
      "Cluster 8 (Electric_bike): ARIMA(0, 1, 2), Seasonal Order=(0, 0, 0, 12), AIC=1082.6613093581004\n",
      "Performing stepwise search to minimize aic\n"
     ]
    },
    {
     "name": "stderr",
     "output_type": "stream",
     "text": [
      "c:\\Users\\TYS\\AppData\\Local\\Programs\\Python\\Python311\\Lib\\site-packages\\statsmodels\\tsa\\statespace\\sarimax.py:966: UserWarning: Non-stationary starting autoregressive parameters found. Using zeros as starting parameters.\n",
      "  warn('Non-stationary starting autoregressive parameters'\n",
      "c:\\Users\\TYS\\AppData\\Local\\Programs\\Python\\Python311\\Lib\\site-packages\\statsmodels\\tsa\\statespace\\sarimax.py:978: UserWarning: Non-invertible starting MA parameters found. Using zeros as starting parameters.\n",
      "  warn('Non-invertible starting MA parameters found.'\n",
      "c:\\Users\\TYS\\AppData\\Local\\Programs\\Python\\Python311\\Lib\\site-packages\\statsmodels\\base\\model.py:607: ConvergenceWarning: Maximum Likelihood optimization failed to converge. Check mle_retvals\n",
      "  warnings.warn(\"Maximum Likelihood optimization failed to \"\n"
     ]
    },
    {
     "name": "stdout",
     "output_type": "stream",
     "text": [
      " ARIMA(2,1,2)(1,0,1)[12] intercept   : AIC=inf, Time=1.32 sec\n",
      " ARIMA(0,1,0)(0,0,0)[12] intercept   : AIC=1698.646, Time=0.02 sec\n",
      " ARIMA(1,1,0)(1,0,0)[12] intercept   : AIC=1678.180, Time=0.28 sec\n",
      " ARIMA(0,1,1)(0,0,1)[12] intercept   : AIC=inf, Time=0.70 sec\n",
      " ARIMA(0,1,0)(0,0,0)[12]             : AIC=1696.677, Time=0.02 sec\n",
      " ARIMA(1,1,0)(0,0,0)[12] intercept   : AIC=1682.086, Time=0.06 sec\n",
      " ARIMA(1,1,0)(2,0,0)[12] intercept   : AIC=1679.676, Time=0.64 sec\n",
      " ARIMA(1,1,0)(1,0,1)[12] intercept   : AIC=1679.899, Time=0.42 sec\n",
      " ARIMA(1,1,0)(0,0,1)[12] intercept   : AIC=1679.044, Time=0.20 sec\n",
      " ARIMA(1,1,0)(2,0,1)[12] intercept   : AIC=1680.934, Time=1.01 sec\n",
      " ARIMA(0,1,0)(1,0,0)[12] intercept   : AIC=1698.023, Time=0.16 sec\n",
      " ARIMA(2,1,0)(1,0,0)[12] intercept   : AIC=1668.882, Time=0.36 sec\n",
      " ARIMA(2,1,0)(0,0,0)[12] intercept   : AIC=1671.661, Time=0.10 sec\n",
      " ARIMA(2,1,0)(2,0,0)[12] intercept   : AIC=1670.536, Time=0.97 sec\n",
      " ARIMA(2,1,0)(1,0,1)[12] intercept   : AIC=1670.686, Time=0.44 sec\n",
      " ARIMA(2,1,0)(0,0,1)[12] intercept   : AIC=1668.692, Time=0.24 sec\n",
      " ARIMA(2,1,0)(0,0,2)[12] intercept   : AIC=1670.681, Time=0.53 sec\n"
     ]
    },
    {
     "name": "stderr",
     "output_type": "stream",
     "text": [
      "c:\\Users\\TYS\\AppData\\Local\\Programs\\Python\\Python311\\Lib\\site-packages\\statsmodels\\base\\model.py:607: ConvergenceWarning: Maximum Likelihood optimization failed to converge. Check mle_retvals\n",
      "  warnings.warn(\"Maximum Likelihood optimization failed to \"\n"
     ]
    },
    {
     "name": "stdout",
     "output_type": "stream",
     "text": [
      " ARIMA(2,1,0)(1,0,2)[12] intercept   : AIC=inf, Time=1.96 sec\n",
      " ARIMA(3,1,0)(0,0,1)[12] intercept   : AIC=1662.748, Time=0.27 sec\n",
      " ARIMA(3,1,0)(0,0,0)[12] intercept   : AIC=1664.623, Time=0.12 sec\n",
      " ARIMA(3,1,0)(1,0,1)[12] intercept   : AIC=1664.469, Time=0.65 sec\n",
      " ARIMA(3,1,0)(0,0,2)[12] intercept   : AIC=1664.148, Time=0.67 sec\n",
      " ARIMA(3,1,0)(1,0,0)[12] intercept   : AIC=1662.486, Time=0.48 sec\n",
      " ARIMA(3,1,0)(2,0,0)[12] intercept   : AIC=1664.452, Time=1.06 sec\n",
      " ARIMA(3,1,0)(2,0,1)[12] intercept   : AIC=1666.102, Time=1.68 sec\n"
     ]
    },
    {
     "name": "stderr",
     "output_type": "stream",
     "text": [
      "c:\\Users\\TYS\\AppData\\Local\\Programs\\Python\\Python311\\Lib\\site-packages\\statsmodels\\base\\model.py:607: ConvergenceWarning: Maximum Likelihood optimization failed to converge. Check mle_retvals\n",
      "  warnings.warn(\"Maximum Likelihood optimization failed to \"\n"
     ]
    },
    {
     "name": "stdout",
     "output_type": "stream",
     "text": [
      " ARIMA(3,1,1)(1,0,0)[12] intercept   : AIC=inf, Time=1.16 sec\n",
      " ARIMA(2,1,1)(1,0,0)[12] intercept   : AIC=inf, Time=0.96 sec\n",
      " ARIMA(3,1,0)(1,0,0)[12]             : AIC=1660.795, Time=0.18 sec\n",
      " ARIMA(3,1,0)(0,0,0)[12]             : AIC=1662.840, Time=0.08 sec\n",
      " ARIMA(3,1,0)(2,0,0)[12]             : AIC=1662.752, Time=0.43 sec\n",
      " ARIMA(3,1,0)(1,0,1)[12]             : AIC=1662.774, Time=0.37 sec\n",
      " ARIMA(3,1,0)(0,0,1)[12]             : AIC=1661.059, Time=0.19 sec\n",
      " ARIMA(3,1,0)(2,0,1)[12]             : AIC=1664.376, Time=1.01 sec\n",
      " ARIMA(2,1,0)(1,0,0)[12]             : AIC=1667.099, Time=0.16 sec\n",
      " ARIMA(3,1,1)(1,0,0)[12]             : AIC=1629.623, Time=0.37 sec\n",
      " ARIMA(3,1,1)(0,0,0)[12]             : AIC=1632.028, Time=0.17 sec\n",
      " ARIMA(3,1,1)(2,0,0)[12]             : AIC=1630.376, Time=0.72 sec\n",
      " ARIMA(3,1,1)(1,0,1)[12]             : AIC=1631.055, Time=0.68 sec\n",
      " ARIMA(3,1,1)(0,0,1)[12]             : AIC=1630.358, Time=0.41 sec\n",
      " ARIMA(3,1,1)(2,0,1)[12]             : AIC=1631.490, Time=1.32 sec\n",
      " ARIMA(2,1,1)(1,0,0)[12]             : AIC=1629.791, Time=0.31 sec\n"
     ]
    },
    {
     "name": "stderr",
     "output_type": "stream",
     "text": [
      "c:\\Users\\TYS\\AppData\\Local\\Programs\\Python\\Python311\\Lib\\site-packages\\statsmodels\\tsa\\statespace\\sarimax.py:966: UserWarning: Non-stationary starting autoregressive parameters found. Using zeros as starting parameters.\n",
      "  warn('Non-stationary starting autoregressive parameters'\n",
      "c:\\Users\\TYS\\AppData\\Local\\Programs\\Python\\Python311\\Lib\\site-packages\\statsmodels\\tsa\\statespace\\sarimax.py:978: UserWarning: Non-invertible starting MA parameters found. Using zeros as starting parameters.\n",
      "  warn('Non-invertible starting MA parameters found.'\n"
     ]
    },
    {
     "name": "stdout",
     "output_type": "stream",
     "text": [
      " ARIMA(3,1,2)(1,0,0)[12]             : AIC=1632.010, Time=0.56 sec\n"
     ]
    },
    {
     "name": "stderr",
     "output_type": "stream",
     "text": [
      "c:\\Users\\TYS\\AppData\\Local\\Programs\\Python\\Python311\\Lib\\site-packages\\statsmodels\\tsa\\statespace\\sarimax.py:966: UserWarning: Non-stationary starting autoregressive parameters found. Using zeros as starting parameters.\n",
      "  warn('Non-stationary starting autoregressive parameters'\n",
      "c:\\Users\\TYS\\AppData\\Local\\Programs\\Python\\Python311\\Lib\\site-packages\\statsmodels\\tsa\\statespace\\sarimax.py:978: UserWarning: Non-invertible starting MA parameters found. Using zeros as starting parameters.\n",
      "  warn('Non-invertible starting MA parameters found.'\n"
     ]
    },
    {
     "name": "stdout",
     "output_type": "stream",
     "text": [
      " ARIMA(2,1,2)(1,0,0)[12]             : AIC=1628.126, Time=0.90 sec\n"
     ]
    },
    {
     "name": "stderr",
     "output_type": "stream",
     "text": [
      "c:\\Users\\TYS\\AppData\\Local\\Programs\\Python\\Python311\\Lib\\site-packages\\statsmodels\\tsa\\statespace\\sarimax.py:966: UserWarning: Non-stationary starting autoregressive parameters found. Using zeros as starting parameters.\n",
      "  warn('Non-stationary starting autoregressive parameters'\n",
      "c:\\Users\\TYS\\AppData\\Local\\Programs\\Python\\Python311\\Lib\\site-packages\\statsmodels\\tsa\\statespace\\sarimax.py:978: UserWarning: Non-invertible starting MA parameters found. Using zeros as starting parameters.\n",
      "  warn('Non-invertible starting MA parameters found.'\n"
     ]
    },
    {
     "name": "stdout",
     "output_type": "stream",
     "text": [
      " ARIMA(2,1,2)(0,0,0)[12]             : AIC=1630.879, Time=0.30 sec\n"
     ]
    },
    {
     "name": "stderr",
     "output_type": "stream",
     "text": [
      "c:\\Users\\TYS\\AppData\\Local\\Programs\\Python\\Python311\\Lib\\site-packages\\statsmodels\\tsa\\statespace\\sarimax.py:966: UserWarning: Non-stationary starting autoregressive parameters found. Using zeros as starting parameters.\n",
      "  warn('Non-stationary starting autoregressive parameters'\n",
      "c:\\Users\\TYS\\AppData\\Local\\Programs\\Python\\Python311\\Lib\\site-packages\\statsmodels\\tsa\\statespace\\sarimax.py:978: UserWarning: Non-invertible starting MA parameters found. Using zeros as starting parameters.\n",
      "  warn('Non-invertible starting MA parameters found.'\n"
     ]
    },
    {
     "name": "stdout",
     "output_type": "stream",
     "text": [
      " ARIMA(2,1,2)(2,0,0)[12]             : AIC=1634.402, Time=1.16 sec\n"
     ]
    },
    {
     "name": "stderr",
     "output_type": "stream",
     "text": [
      "c:\\Users\\TYS\\AppData\\Local\\Programs\\Python\\Python311\\Lib\\site-packages\\statsmodels\\tsa\\statespace\\sarimax.py:966: UserWarning: Non-stationary starting autoregressive parameters found. Using zeros as starting parameters.\n",
      "  warn('Non-stationary starting autoregressive parameters'\n",
      "c:\\Users\\TYS\\AppData\\Local\\Programs\\Python\\Python311\\Lib\\site-packages\\statsmodels\\tsa\\statespace\\sarimax.py:978: UserWarning: Non-invertible starting MA parameters found. Using zeros as starting parameters.\n",
      "  warn('Non-invertible starting MA parameters found.'\n"
     ]
    },
    {
     "name": "stdout",
     "output_type": "stream",
     "text": [
      " ARIMA(2,1,2)(1,0,1)[12]             : AIC=1634.563, Time=0.90 sec\n"
     ]
    },
    {
     "name": "stderr",
     "output_type": "stream",
     "text": [
      "c:\\Users\\TYS\\AppData\\Local\\Programs\\Python\\Python311\\Lib\\site-packages\\statsmodels\\tsa\\statespace\\sarimax.py:966: UserWarning: Non-stationary starting autoregressive parameters found. Using zeros as starting parameters.\n",
      "  warn('Non-stationary starting autoregressive parameters'\n",
      "c:\\Users\\TYS\\AppData\\Local\\Programs\\Python\\Python311\\Lib\\site-packages\\statsmodels\\tsa\\statespace\\sarimax.py:978: UserWarning: Non-invertible starting MA parameters found. Using zeros as starting parameters.\n",
      "  warn('Non-invertible starting MA parameters found.'\n"
     ]
    },
    {
     "name": "stdout",
     "output_type": "stream",
     "text": [
      " ARIMA(2,1,2)(0,0,1)[12]             : AIC=1628.742, Time=0.72 sec\n"
     ]
    },
    {
     "name": "stderr",
     "output_type": "stream",
     "text": [
      "c:\\Users\\TYS\\AppData\\Local\\Programs\\Python\\Python311\\Lib\\site-packages\\statsmodels\\tsa\\statespace\\sarimax.py:966: UserWarning: Non-stationary starting autoregressive parameters found. Using zeros as starting parameters.\n",
      "  warn('Non-stationary starting autoregressive parameters'\n",
      "c:\\Users\\TYS\\AppData\\Local\\Programs\\Python\\Python311\\Lib\\site-packages\\statsmodels\\tsa\\statespace\\sarimax.py:978: UserWarning: Non-invertible starting MA parameters found. Using zeros as starting parameters.\n",
      "  warn('Non-invertible starting MA parameters found.'\n"
     ]
    },
    {
     "name": "stdout",
     "output_type": "stream",
     "text": [
      " ARIMA(2,1,2)(2,0,1)[12]             : AIC=1635.356, Time=1.66 sec\n",
      " ARIMA(1,1,2)(1,0,0)[12]             : AIC=1630.334, Time=0.30 sec\n"
     ]
    },
    {
     "name": "stderr",
     "output_type": "stream",
     "text": [
      "c:\\Users\\TYS\\AppData\\Local\\Programs\\Python\\Python311\\Lib\\site-packages\\statsmodels\\base\\model.py:607: ConvergenceWarning: Maximum Likelihood optimization failed to converge. Check mle_retvals\n",
      "  warnings.warn(\"Maximum Likelihood optimization failed to \"\n"
     ]
    },
    {
     "name": "stdout",
     "output_type": "stream",
     "text": [
      " ARIMA(2,1,3)(1,0,0)[12]             : AIC=1623.214, Time=1.23 sec\n"
     ]
    },
    {
     "name": "stderr",
     "output_type": "stream",
     "text": [
      "c:\\Users\\TYS\\AppData\\Local\\Programs\\Python\\Python311\\Lib\\site-packages\\statsmodels\\base\\model.py:607: ConvergenceWarning: Maximum Likelihood optimization failed to converge. Check mle_retvals\n",
      "  warnings.warn(\"Maximum Likelihood optimization failed to \"\n"
     ]
    },
    {
     "name": "stdout",
     "output_type": "stream",
     "text": [
      " ARIMA(2,1,3)(0,0,0)[12]             : AIC=1624.676, Time=0.69 sec\n"
     ]
    },
    {
     "name": "stderr",
     "output_type": "stream",
     "text": [
      "c:\\Users\\TYS\\AppData\\Local\\Programs\\Python\\Python311\\Lib\\site-packages\\statsmodels\\base\\model.py:607: ConvergenceWarning: Maximum Likelihood optimization failed to converge. Check mle_retvals\n",
      "  warnings.warn(\"Maximum Likelihood optimization failed to \"\n"
     ]
    },
    {
     "name": "stdout",
     "output_type": "stream",
     "text": [
      " ARIMA(2,1,3)(2,0,0)[12]             : AIC=1622.491, Time=2.45 sec\n"
     ]
    },
    {
     "name": "stderr",
     "output_type": "stream",
     "text": [
      "c:\\Users\\TYS\\AppData\\Local\\Programs\\Python\\Python311\\Lib\\site-packages\\statsmodels\\base\\model.py:607: ConvergenceWarning: Maximum Likelihood optimization failed to converge. Check mle_retvals\n",
      "  warnings.warn(\"Maximum Likelihood optimization failed to \"\n"
     ]
    },
    {
     "name": "stdout",
     "output_type": "stream",
     "text": [
      " ARIMA(2,1,3)(2,0,1)[12]             : AIC=1623.734, Time=3.19 sec\n"
     ]
    },
    {
     "name": "stderr",
     "output_type": "stream",
     "text": [
      "c:\\Users\\TYS\\AppData\\Local\\Programs\\Python\\Python311\\Lib\\site-packages\\statsmodels\\base\\model.py:607: ConvergenceWarning: Maximum Likelihood optimization failed to converge. Check mle_retvals\n",
      "  warnings.warn(\"Maximum Likelihood optimization failed to \"\n",
      "c:\\Users\\TYS\\AppData\\Local\\Programs\\Python\\Python311\\Lib\\site-packages\\statsmodels\\tsa\\statespace\\sarimax.py:978: UserWarning: Non-invertible starting MA parameters found. Using zeros as starting parameters.\n",
      "  warn('Non-invertible starting MA parameters found.'\n"
     ]
    },
    {
     "name": "stdout",
     "output_type": "stream",
     "text": [
      " ARIMA(2,1,3)(1,0,1)[12]             : AIC=1623.629, Time=1.68 sec\n",
      " ARIMA(1,1,3)(2,0,0)[12]             : AIC=1632.369, Time=1.06 sec\n"
     ]
    },
    {
     "name": "stderr",
     "output_type": "stream",
     "text": [
      "c:\\Users\\TYS\\AppData\\Local\\Programs\\Python\\Python311\\Lib\\site-packages\\statsmodels\\tsa\\statespace\\sarimax.py:978: UserWarning: Non-invertible starting MA parameters found. Using zeros as starting parameters.\n",
      "  warn('Non-invertible starting MA parameters found.'\n"
     ]
    },
    {
     "name": "stdout",
     "output_type": "stream",
     "text": [
      " ARIMA(3,1,3)(2,0,0)[12]             : AIC=1631.758, Time=2.26 sec\n",
      " ARIMA(1,1,2)(2,0,0)[12]             : AIC=1632.191, Time=0.71 sec\n"
     ]
    },
    {
     "name": "stderr",
     "output_type": "stream",
     "text": [
      "c:\\Users\\TYS\\AppData\\Local\\Programs\\Python\\Python311\\Lib\\site-packages\\statsmodels\\tsa\\statespace\\sarimax.py:966: UserWarning: Non-stationary starting autoregressive parameters found. Using zeros as starting parameters.\n",
      "  warn('Non-stationary starting autoregressive parameters'\n",
      "c:\\Users\\TYS\\AppData\\Local\\Programs\\Python\\Python311\\Lib\\site-packages\\statsmodels\\tsa\\statespace\\sarimax.py:978: UserWarning: Non-invertible starting MA parameters found. Using zeros as starting parameters.\n",
      "  warn('Non-invertible starting MA parameters found.'\n"
     ]
    },
    {
     "name": "stdout",
     "output_type": "stream",
     "text": [
      " ARIMA(3,1,2)(2,0,0)[12]             : AIC=1633.264, Time=1.14 sec\n"
     ]
    },
    {
     "name": "stderr",
     "output_type": "stream",
     "text": [
      "c:\\Users\\TYS\\AppData\\Local\\Programs\\Python\\Python311\\Lib\\site-packages\\statsmodels\\tsa\\statespace\\sarimax.py:978: UserWarning: Non-invertible starting MA parameters found. Using zeros as starting parameters.\n",
      "  warn('Non-invertible starting MA parameters found.'\n",
      "c:\\Users\\TYS\\AppData\\Local\\Programs\\Python\\Python311\\Lib\\site-packages\\statsmodels\\base\\model.py:607: ConvergenceWarning: Maximum Likelihood optimization failed to converge. Check mle_retvals\n",
      "  warnings.warn(\"Maximum Likelihood optimization failed to \"\n"
     ]
    },
    {
     "name": "stdout",
     "output_type": "stream",
     "text": [
      " ARIMA(2,1,3)(2,0,0)[12] intercept   : AIC=inf, Time=3.15 sec\n",
      "\n",
      "Best model:  ARIMA(2,1,3)(2,0,0)[12]          \n",
      "Total fit time: 47.020 seconds\n",
      "Cluster 9 (Classic_bike): ARIMA(2, 1, 3), Seasonal Order=(2, 0, 0, 12), AIC=1622.4905583552863\n",
      "Failed to find ARIMA model for electric_bike in cluster 9: Found array with 0 sample(s) (shape=(0,)) while a minimum of 1 is required.\n",
      "Performing stepwise search to minimize aic\n"
     ]
    },
    {
     "name": "stderr",
     "output_type": "stream",
     "text": [
      "c:\\Users\\TYS\\AppData\\Local\\Programs\\Python\\Python311\\Lib\\site-packages\\statsmodels\\tsa\\statespace\\sarimax.py:966: UserWarning: Non-stationary starting autoregressive parameters found. Using zeros as starting parameters.\n",
      "  warn('Non-stationary starting autoregressive parameters'\n",
      "c:\\Users\\TYS\\AppData\\Local\\Programs\\Python\\Python311\\Lib\\site-packages\\statsmodels\\tsa\\statespace\\sarimax.py:978: UserWarning: Non-invertible starting MA parameters found. Using zeros as starting parameters.\n",
      "  warn('Non-invertible starting MA parameters found.'\n"
     ]
    },
    {
     "name": "stdout",
     "output_type": "stream",
     "text": [
      " ARIMA(2,1,2)(1,0,1)[12] intercept   : AIC=1397.994, Time=1.29 sec\n",
      " ARIMA(0,1,0)(0,0,0)[12] intercept   : AIC=1508.715, Time=0.02 sec\n",
      " ARIMA(1,1,0)(1,0,0)[12] intercept   : AIC=1452.218, Time=0.26 sec\n",
      " ARIMA(0,1,1)(0,0,1)[12] intercept   : AIC=1394.997, Time=0.22 sec\n",
      " ARIMA(0,1,0)(0,0,0)[12]             : AIC=1506.735, Time=0.02 sec\n",
      " ARIMA(0,1,1)(0,0,0)[12] intercept   : AIC=1394.149, Time=0.07 sec\n",
      " ARIMA(0,1,1)(1,0,0)[12] intercept   : AIC=1395.003, Time=0.19 sec\n",
      " ARIMA(0,1,1)(1,0,1)[12] intercept   : AIC=1397.019, Time=0.24 sec\n",
      " ARIMA(1,1,1)(0,0,0)[12] intercept   : AIC=1394.275, Time=0.09 sec\n",
      " ARIMA(0,1,2)(0,0,0)[12] intercept   : AIC=1393.819, Time=0.10 sec\n",
      " ARIMA(0,1,2)(1,0,0)[12] intercept   : AIC=1394.602, Time=0.21 sec\n",
      " ARIMA(0,1,2)(0,0,1)[12] intercept   : AIC=1394.608, Time=0.27 sec\n",
      " ARIMA(0,1,2)(1,0,1)[12] intercept   : AIC=1395.983, Time=0.55 sec\n",
      " ARIMA(1,1,2)(0,0,0)[12] intercept   : AIC=inf, Time=0.30 sec\n",
      " ARIMA(0,1,3)(0,0,0)[12] intercept   : AIC=1394.209, Time=0.18 sec\n",
      " ARIMA(1,1,3)(0,0,0)[12] intercept   : AIC=1395.883, Time=0.41 sec\n",
      " ARIMA(0,1,2)(0,0,0)[12]             : AIC=1393.675, Time=0.08 sec\n",
      " ARIMA(0,1,2)(1,0,0)[12]             : AIC=1394.633, Time=0.15 sec\n",
      " ARIMA(0,1,2)(0,0,1)[12]             : AIC=1394.655, Time=0.15 sec\n",
      " ARIMA(0,1,2)(1,0,1)[12]             : AIC=1395.946, Time=0.45 sec\n",
      " ARIMA(0,1,1)(0,0,0)[12]             : AIC=1394.272, Time=0.04 sec\n",
      " ARIMA(1,1,2)(0,0,0)[12]             : AIC=inf, Time=0.22 sec\n",
      " ARIMA(0,1,3)(0,0,0)[12]             : AIC=1393.806, Time=0.09 sec\n",
      " ARIMA(1,1,1)(0,0,0)[12]             : AIC=1394.212, Time=0.06 sec\n",
      " ARIMA(1,1,3)(0,0,0)[12]             : AIC=1395.256, Time=0.25 sec\n",
      "\n",
      "Best model:  ARIMA(0,1,2)(0,0,0)[12]          \n",
      "Total fit time: 5.946 seconds\n",
      "Cluster 10 (Classic_bike): ARIMA(0, 1, 2), Seasonal Order=(0, 0, 0, 12), AIC=1393.6751887417872\n",
      "Failed to find ARIMA model for electric_bike in cluster 10: Found array with 0 sample(s) (shape=(0,)) while a minimum of 1 is required.\n",
      "Performing stepwise search to minimize aic\n"
     ]
    },
    {
     "name": "stderr",
     "output_type": "stream",
     "text": [
      "c:\\Users\\TYS\\AppData\\Local\\Programs\\Python\\Python311\\Lib\\site-packages\\statsmodels\\tsa\\statespace\\sarimax.py:966: UserWarning: Non-stationary starting autoregressive parameters found. Using zeros as starting parameters.\n",
      "  warn('Non-stationary starting autoregressive parameters'\n",
      "c:\\Users\\TYS\\AppData\\Local\\Programs\\Python\\Python311\\Lib\\site-packages\\statsmodels\\tsa\\statespace\\sarimax.py:978: UserWarning: Non-invertible starting MA parameters found. Using zeros as starting parameters.\n",
      "  warn('Non-invertible starting MA parameters found.'\n",
      "c:\\Users\\TYS\\AppData\\Local\\Programs\\Python\\Python311\\Lib\\site-packages\\statsmodels\\base\\model.py:607: ConvergenceWarning: Maximum Likelihood optimization failed to converge. Check mle_retvals\n",
      "  warnings.warn(\"Maximum Likelihood optimization failed to \"\n"
     ]
    },
    {
     "name": "stdout",
     "output_type": "stream",
     "text": [
      " ARIMA(2,1,2)(1,0,1)[12] intercept   : AIC=2027.143, Time=1.33 sec\n",
      " ARIMA(0,1,0)(0,0,0)[12] intercept   : AIC=2099.372, Time=0.02 sec\n",
      " ARIMA(1,1,0)(1,0,0)[12] intercept   : AIC=2067.578, Time=0.34 sec\n",
      " ARIMA(0,1,1)(0,0,1)[12] intercept   : AIC=2033.875, Time=0.32 sec\n",
      " ARIMA(0,1,0)(0,0,0)[12]             : AIC=2097.378, Time=0.02 sec\n"
     ]
    },
    {
     "name": "stderr",
     "output_type": "stream",
     "text": [
      "c:\\Users\\TYS\\AppData\\Local\\Programs\\Python\\Python311\\Lib\\site-packages\\statsmodels\\tsa\\statespace\\sarimax.py:966: UserWarning: Non-stationary starting autoregressive parameters found. Using zeros as starting parameters.\n",
      "  warn('Non-stationary starting autoregressive parameters'\n",
      "c:\\Users\\TYS\\AppData\\Local\\Programs\\Python\\Python311\\Lib\\site-packages\\statsmodels\\tsa\\statespace\\sarimax.py:978: UserWarning: Non-invertible starting MA parameters found. Using zeros as starting parameters.\n",
      "  warn('Non-invertible starting MA parameters found.'\n"
     ]
    },
    {
     "name": "stdout",
     "output_type": "stream",
     "text": [
      " ARIMA(2,1,2)(0,0,1)[12] intercept   : AIC=2025.281, Time=1.06 sec\n"
     ]
    },
    {
     "name": "stderr",
     "output_type": "stream",
     "text": [
      "c:\\Users\\TYS\\AppData\\Local\\Programs\\Python\\Python311\\Lib\\site-packages\\statsmodels\\tsa\\statespace\\sarimax.py:966: UserWarning: Non-stationary starting autoregressive parameters found. Using zeros as starting parameters.\n",
      "  warn('Non-stationary starting autoregressive parameters'\n",
      "c:\\Users\\TYS\\AppData\\Local\\Programs\\Python\\Python311\\Lib\\site-packages\\statsmodels\\tsa\\statespace\\sarimax.py:978: UserWarning: Non-invertible starting MA parameters found. Using zeros as starting parameters.\n",
      "  warn('Non-invertible starting MA parameters found.'\n"
     ]
    },
    {
     "name": "stdout",
     "output_type": "stream",
     "text": [
      " ARIMA(2,1,2)(0,0,0)[12] intercept   : AIC=2031.154, Time=0.39 sec\n"
     ]
    },
    {
     "name": "stderr",
     "output_type": "stream",
     "text": [
      "c:\\Users\\TYS\\AppData\\Local\\Programs\\Python\\Python311\\Lib\\site-packages\\statsmodels\\tsa\\statespace\\sarimax.py:966: UserWarning: Non-stationary starting autoregressive parameters found. Using zeros as starting parameters.\n",
      "  warn('Non-stationary starting autoregressive parameters'\n",
      "c:\\Users\\TYS\\AppData\\Local\\Programs\\Python\\Python311\\Lib\\site-packages\\statsmodels\\tsa\\statespace\\sarimax.py:978: UserWarning: Non-invertible starting MA parameters found. Using zeros as starting parameters.\n",
      "  warn('Non-invertible starting MA parameters found.'\n",
      "c:\\Users\\TYS\\AppData\\Local\\Programs\\Python\\Python311\\Lib\\site-packages\\statsmodels\\base\\model.py:607: ConvergenceWarning: Maximum Likelihood optimization failed to converge. Check mle_retvals\n",
      "  warnings.warn(\"Maximum Likelihood optimization failed to \"\n",
      "c:\\Users\\TYS\\AppData\\Local\\Programs\\Python\\Python311\\Lib\\site-packages\\statsmodels\\tsa\\statespace\\sarimax.py:966: UserWarning: Non-stationary starting autoregressive parameters found. Using zeros as starting parameters.\n",
      "  warn('Non-stationary starting autoregressive parameters'\n",
      "c:\\Users\\TYS\\AppData\\Local\\Programs\\Python\\Python311\\Lib\\site-packages\\statsmodels\\tsa\\statespace\\sarimax.py:978: UserWarning: Non-invertible starting MA parameters found. Using zeros as starting parameters.\n",
      "  warn('Non-invertible starting MA parameters found.'\n"
     ]
    },
    {
     "name": "stdout",
     "output_type": "stream",
     "text": [
      " ARIMA(2,1,2)(0,0,2)[12] intercept   : AIC=2026.985, Time=2.18 sec\n",
      " ARIMA(2,1,2)(1,0,0)[12] intercept   : AIC=2025.414, Time=1.10 sec\n"
     ]
    },
    {
     "name": "stderr",
     "output_type": "stream",
     "text": [
      "c:\\Users\\TYS\\AppData\\Local\\Programs\\Python\\Python311\\Lib\\site-packages\\statsmodels\\tsa\\statespace\\sarimax.py:966: UserWarning: Non-stationary starting autoregressive parameters found. Using zeros as starting parameters.\n",
      "  warn('Non-stationary starting autoregressive parameters'\n",
      "c:\\Users\\TYS\\AppData\\Local\\Programs\\Python\\Python311\\Lib\\site-packages\\statsmodels\\tsa\\statespace\\sarimax.py:978: UserWarning: Non-invertible starting MA parameters found. Using zeros as starting parameters.\n",
      "  warn('Non-invertible starting MA parameters found.'\n",
      "c:\\Users\\TYS\\AppData\\Local\\Programs\\Python\\Python311\\Lib\\site-packages\\statsmodels\\base\\model.py:607: ConvergenceWarning: Maximum Likelihood optimization failed to converge. Check mle_retvals\n",
      "  warnings.warn(\"Maximum Likelihood optimization failed to \"\n"
     ]
    },
    {
     "name": "stdout",
     "output_type": "stream",
     "text": [
      " ARIMA(2,1,2)(1,0,2)[12] intercept   : AIC=inf, Time=2.59 sec\n",
      " ARIMA(1,1,2)(0,0,1)[12] intercept   : AIC=2033.545, Time=0.69 sec\n",
      " ARIMA(2,1,1)(0,0,1)[12] intercept   : AIC=2033.524, Time=0.57 sec\n"
     ]
    },
    {
     "name": "stderr",
     "output_type": "stream",
     "text": [
      "c:\\Users\\TYS\\AppData\\Local\\Programs\\Python\\Python311\\Lib\\site-packages\\statsmodels\\tsa\\statespace\\sarimax.py:966: UserWarning: Non-stationary starting autoregressive parameters found. Using zeros as starting parameters.\n",
      "  warn('Non-stationary starting autoregressive parameters'\n",
      "c:\\Users\\TYS\\AppData\\Local\\Programs\\Python\\Python311\\Lib\\site-packages\\statsmodels\\tsa\\statespace\\sarimax.py:978: UserWarning: Non-invertible starting MA parameters found. Using zeros as starting parameters.\n",
      "  warn('Non-invertible starting MA parameters found.'\n"
     ]
    },
    {
     "name": "stdout",
     "output_type": "stream",
     "text": [
      " ARIMA(3,1,2)(0,0,1)[12] intercept   : AIC=2026.490, Time=1.27 sec\n"
     ]
    },
    {
     "name": "stderr",
     "output_type": "stream",
     "text": [
      "c:\\Users\\TYS\\AppData\\Local\\Programs\\Python\\Python311\\Lib\\site-packages\\statsmodels\\base\\model.py:607: ConvergenceWarning: Maximum Likelihood optimization failed to converge. Check mle_retvals\n",
      "  warnings.warn(\"Maximum Likelihood optimization failed to \"\n"
     ]
    },
    {
     "name": "stdout",
     "output_type": "stream",
     "text": [
      " ARIMA(2,1,3)(0,0,1)[12] intercept   : AIC=2025.034, Time=1.43 sec\n"
     ]
    },
    {
     "name": "stderr",
     "output_type": "stream",
     "text": [
      "c:\\Users\\TYS\\AppData\\Local\\Programs\\Python\\Python311\\Lib\\site-packages\\statsmodels\\base\\model.py:607: ConvergenceWarning: Maximum Likelihood optimization failed to converge. Check mle_retvals\n",
      "  warnings.warn(\"Maximum Likelihood optimization failed to \"\n"
     ]
    },
    {
     "name": "stdout",
     "output_type": "stream",
     "text": [
      " ARIMA(2,1,3)(0,0,0)[12] intercept   : AIC=2031.587, Time=0.70 sec\n"
     ]
    },
    {
     "name": "stderr",
     "output_type": "stream",
     "text": [
      "c:\\Users\\TYS\\AppData\\Local\\Programs\\Python\\Python311\\Lib\\site-packages\\statsmodels\\base\\model.py:607: ConvergenceWarning: Maximum Likelihood optimization failed to converge. Check mle_retvals\n",
      "  warnings.warn(\"Maximum Likelihood optimization failed to \"\n"
     ]
    },
    {
     "name": "stdout",
     "output_type": "stream",
     "text": [
      " ARIMA(2,1,3)(1,0,1)[12] intercept   : AIC=2026.851, Time=1.63 sec\n",
      " ARIMA(2,1,3)(0,0,2)[12] intercept   : AIC=2026.691, Time=2.56 sec\n",
      " ARIMA(2,1,3)(1,0,0)[12] intercept   : AIC=2025.152, Time=1.09 sec\n"
     ]
    },
    {
     "name": "stderr",
     "output_type": "stream",
     "text": [
      "c:\\Users\\TYS\\AppData\\Local\\Programs\\Python\\Python311\\Lib\\site-packages\\statsmodels\\base\\model.py:607: ConvergenceWarning: Maximum Likelihood optimization failed to converge. Check mle_retvals\n",
      "  warnings.warn(\"Maximum Likelihood optimization failed to \"\n"
     ]
    },
    {
     "name": "stdout",
     "output_type": "stream",
     "text": [
      " ARIMA(2,1,3)(1,0,2)[12] intercept   : AIC=2027.732, Time=3.41 sec\n",
      " ARIMA(1,1,3)(0,0,1)[12] intercept   : AIC=2023.778, Time=1.11 sec\n",
      " ARIMA(1,1,3)(0,0,0)[12] intercept   : AIC=2030.111, Time=0.43 sec\n"
     ]
    },
    {
     "name": "stderr",
     "output_type": "stream",
     "text": [
      "c:\\Users\\TYS\\AppData\\Local\\Programs\\Python\\Python311\\Lib\\site-packages\\statsmodels\\base\\model.py:607: ConvergenceWarning: Maximum Likelihood optimization failed to converge. Check mle_retvals\n",
      "  warnings.warn(\"Maximum Likelihood optimization failed to \"\n"
     ]
    },
    {
     "name": "stdout",
     "output_type": "stream",
     "text": [
      " ARIMA(1,1,3)(1,0,1)[12] intercept   : AIC=2025.624, Time=1.38 sec\n"
     ]
    },
    {
     "name": "stderr",
     "output_type": "stream",
     "text": [
      "c:\\Users\\TYS\\AppData\\Local\\Programs\\Python\\Python311\\Lib\\site-packages\\statsmodels\\base\\model.py:607: ConvergenceWarning: Maximum Likelihood optimization failed to converge. Check mle_retvals\n",
      "  warnings.warn(\"Maximum Likelihood optimization failed to \"\n"
     ]
    },
    {
     "name": "stdout",
     "output_type": "stream",
     "text": [
      " ARIMA(1,1,3)(0,0,2)[12] intercept   : AIC=2025.450, Time=2.54 sec\n",
      " ARIMA(1,1,3)(1,0,0)[12] intercept   : AIC=2023.890, Time=1.35 sec\n",
      " ARIMA(1,1,3)(1,0,2)[12] intercept   : AIC=inf, Time=2.97 sec\n",
      " ARIMA(0,1,3)(0,0,1)[12] intercept   : AIC=2033.488, Time=0.71 sec\n",
      " ARIMA(0,1,2)(0,0,1)[12] intercept   : AIC=2032.011, Time=0.49 sec\n",
      " ARIMA(1,1,3)(0,0,1)[12]             : AIC=2025.800, Time=0.80 sec\n",
      "\n",
      "Best model:  ARIMA(1,1,3)(0,0,1)[12] intercept\n",
      "Total fit time: 34.499 seconds\n",
      "Cluster 11 (Classic_bike): ARIMA(1, 1, 3), Seasonal Order=(0, 0, 1, 12), AIC=2023.7781565171615\n",
      "Performing stepwise search to minimize aic\n"
     ]
    },
    {
     "name": "stderr",
     "output_type": "stream",
     "text": [
      "c:\\Users\\TYS\\AppData\\Local\\Programs\\Python\\Python311\\Lib\\site-packages\\statsmodels\\tsa\\statespace\\sarimax.py:966: UserWarning: Non-stationary starting autoregressive parameters found. Using zeros as starting parameters.\n",
      "  warn('Non-stationary starting autoregressive parameters'\n",
      "c:\\Users\\TYS\\AppData\\Local\\Programs\\Python\\Python311\\Lib\\site-packages\\statsmodels\\tsa\\statespace\\sarimax.py:978: UserWarning: Non-invertible starting MA parameters found. Using zeros as starting parameters.\n",
      "  warn('Non-invertible starting MA parameters found.'\n",
      "c:\\Users\\TYS\\AppData\\Local\\Programs\\Python\\Python311\\Lib\\site-packages\\statsmodels\\base\\model.py:607: ConvergenceWarning: Maximum Likelihood optimization failed to converge. Check mle_retvals\n",
      "  warnings.warn(\"Maximum Likelihood optimization failed to \"\n"
     ]
    },
    {
     "name": "stdout",
     "output_type": "stream",
     "text": [
      " ARIMA(2,1,2)(1,0,1)[12] intercept   : AIC=inf, Time=1.59 sec\n",
      " ARIMA(0,1,0)(0,0,0)[12] intercept   : AIC=2179.412, Time=0.03 sec\n",
      " ARIMA(1,1,0)(1,0,0)[12] intercept   : AIC=2166.618, Time=0.26 sec\n",
      " ARIMA(0,1,1)(0,0,1)[12] intercept   : AIC=2146.041, Time=0.33 sec\n",
      " ARIMA(0,1,0)(0,0,0)[12]             : AIC=2177.429, Time=0.02 sec\n",
      " ARIMA(0,1,1)(0,0,0)[12] intercept   : AIC=2158.057, Time=0.08 sec\n",
      " ARIMA(0,1,1)(1,0,1)[12] intercept   : AIC=2143.666, Time=0.50 sec\n",
      " ARIMA(0,1,1)(1,0,0)[12] intercept   : AIC=2154.149, Time=0.29 sec\n",
      " ARIMA(0,1,1)(2,0,1)[12] intercept   : AIC=2129.581, Time=1.46 sec\n",
      " ARIMA(0,1,1)(2,0,0)[12] intercept   : AIC=2127.651, Time=0.97 sec\n",
      " ARIMA(0,1,0)(2,0,0)[12] intercept   : AIC=2171.728, Time=0.74 sec\n",
      " ARIMA(1,1,1)(2,0,0)[12] intercept   : AIC=inf, Time=1.22 sec\n",
      " ARIMA(0,1,2)(2,0,0)[12] intercept   : AIC=2121.212, Time=1.13 sec\n",
      " ARIMA(0,1,2)(1,0,0)[12] intercept   : AIC=2133.648, Time=0.46 sec\n",
      " ARIMA(0,1,2)(2,0,1)[12] intercept   : AIC=2123.212, Time=1.38 sec\n",
      " ARIMA(0,1,2)(1,0,1)[12] intercept   : AIC=2129.305, Time=0.69 sec\n"
     ]
    },
    {
     "name": "stderr",
     "output_type": "stream",
     "text": [
      "c:\\Users\\TYS\\AppData\\Local\\Programs\\Python\\Python311\\Lib\\site-packages\\statsmodels\\tsa\\statespace\\sarimax.py:978: UserWarning: Non-invertible starting MA parameters found. Using zeros as starting parameters.\n",
      "  warn('Non-invertible starting MA parameters found.'\n"
     ]
    },
    {
     "name": "stdout",
     "output_type": "stream",
     "text": [
      " ARIMA(1,1,2)(2,0,0)[12] intercept   : AIC=inf, Time=1.70 sec\n",
      " ARIMA(0,1,3)(2,0,0)[12] intercept   : AIC=inf, Time=1.33 sec\n"
     ]
    },
    {
     "name": "stderr",
     "output_type": "stream",
     "text": [
      "c:\\Users\\TYS\\AppData\\Local\\Programs\\Python\\Python311\\Lib\\site-packages\\statsmodels\\base\\model.py:607: ConvergenceWarning: Maximum Likelihood optimization failed to converge. Check mle_retvals\n",
      "  warnings.warn(\"Maximum Likelihood optimization failed to \"\n"
     ]
    },
    {
     "name": "stdout",
     "output_type": "stream",
     "text": [
      " ARIMA(1,1,3)(2,0,0)[12] intercept   : AIC=inf, Time=2.37 sec\n",
      " ARIMA(0,1,2)(2,0,0)[12]             : AIC=2124.757, Time=0.58 sec\n",
      "\n",
      "Best model:  ARIMA(0,1,2)(2,0,0)[12] intercept\n",
      "Total fit time: 17.144 seconds\n",
      "Cluster 11 (Electric_bike): ARIMA(0, 1, 2), Seasonal Order=(2, 0, 0, 12), AIC=2121.212247320429\n",
      "Performing stepwise search to minimize aic\n",
      " ARIMA(2,1,2)(1,0,1)[12] intercept   : AIC=1452.414, Time=1.05 sec\n",
      " ARIMA(0,1,0)(0,0,0)[12] intercept   : AIC=1511.538, Time=0.02 sec\n",
      " ARIMA(1,1,0)(1,0,0)[12] intercept   : AIC=1488.657, Time=0.22 sec\n",
      " ARIMA(0,1,1)(0,0,1)[12] intercept   : AIC=1453.991, Time=0.24 sec\n",
      " ARIMA(0,1,0)(0,0,0)[12]             : AIC=1509.541, Time=0.01 sec\n",
      " ARIMA(2,1,2)(0,0,1)[12] intercept   : AIC=1450.553, Time=0.65 sec\n",
      " ARIMA(2,1,2)(0,0,0)[12] intercept   : AIC=1448.861, Time=0.27 sec\n",
      " ARIMA(2,1,2)(1,0,0)[12] intercept   : AIC=1450.578, Time=0.78 sec\n",
      " ARIMA(1,1,2)(0,0,0)[12] intercept   : AIC=1450.615, Time=0.19 sec\n",
      " ARIMA(2,1,1)(0,0,0)[12] intercept   : AIC=1448.733, Time=0.18 sec\n",
      " ARIMA(2,1,1)(1,0,0)[12] intercept   : AIC=1450.400, Time=0.60 sec\n",
      " ARIMA(2,1,1)(0,0,1)[12] intercept   : AIC=1450.358, Time=0.48 sec\n",
      " ARIMA(2,1,1)(1,0,1)[12] intercept   : AIC=1452.210, Time=0.83 sec\n",
      " ARIMA(1,1,1)(0,0,0)[12] intercept   : AIC=1446.837, Time=0.14 sec\n",
      " ARIMA(1,1,1)(1,0,0)[12] intercept   : AIC=1448.508, Time=0.40 sec\n",
      " ARIMA(1,1,1)(0,0,1)[12] intercept   : AIC=1448.472, Time=0.40 sec\n",
      " ARIMA(1,1,1)(1,0,1)[12] intercept   : AIC=1450.353, Time=0.66 sec\n",
      " ARIMA(0,1,1)(0,0,0)[12] intercept   : AIC=1454.043, Time=0.07 sec\n",
      " ARIMA(1,1,0)(0,0,0)[12] intercept   : AIC=1486.885, Time=0.06 sec\n",
      " ARIMA(0,1,2)(0,0,0)[12] intercept   : AIC=1447.817, Time=0.12 sec\n",
      " ARIMA(2,1,0)(0,0,0)[12] intercept   : AIC=1477.175, Time=0.12 sec\n",
      " ARIMA(1,1,1)(0,0,0)[12]             : AIC=1448.175, Time=0.07 sec\n",
      "\n",
      "Best model:  ARIMA(1,1,1)(0,0,0)[12] intercept\n",
      "Total fit time: 7.580 seconds\n",
      "Cluster 12 (Classic_bike): ARIMA(1, 1, 1), Seasonal Order=(0, 0, 0, 12), AIC=1446.8367844784075\n",
      "Failed to find ARIMA model for electric_bike in cluster 12: Found array with 0 sample(s) (shape=(0,)) while a minimum of 1 is required.\n",
      "Performing stepwise search to minimize aic\n"
     ]
    },
    {
     "name": "stderr",
     "output_type": "stream",
     "text": [
      "c:\\Users\\TYS\\AppData\\Local\\Programs\\Python\\Python311\\Lib\\site-packages\\statsmodels\\base\\model.py:607: ConvergenceWarning: Maximum Likelihood optimization failed to converge. Check mle_retvals\n",
      "  warnings.warn(\"Maximum Likelihood optimization failed to \"\n"
     ]
    },
    {
     "name": "stdout",
     "output_type": "stream",
     "text": [
      " ARIMA(2,1,2)(1,0,1)[12] intercept   : AIC=inf, Time=1.33 sec\n",
      " ARIMA(0,1,0)(0,0,0)[12] intercept   : AIC=1543.878, Time=0.02 sec\n",
      " ARIMA(1,1,0)(1,0,0)[12] intercept   : AIC=1469.456, Time=0.20 sec\n",
      " ARIMA(0,1,1)(0,0,1)[12] intercept   : AIC=1447.310, Time=0.26 sec\n",
      " ARIMA(0,1,0)(0,0,0)[12]             : AIC=1541.895, Time=0.01 sec\n",
      " ARIMA(0,1,1)(0,0,0)[12] intercept   : AIC=1446.022, Time=0.07 sec\n",
      " ARIMA(0,1,1)(1,0,0)[12] intercept   : AIC=1447.359, Time=0.27 sec\n",
      " ARIMA(0,1,1)(1,0,1)[12] intercept   : AIC=1446.659, Time=0.86 sec\n",
      " ARIMA(1,1,1)(0,0,0)[12] intercept   : AIC=1447.762, Time=0.19 sec\n",
      " ARIMA(0,1,2)(0,0,0)[12] intercept   : AIC=1447.883, Time=0.15 sec\n",
      " ARIMA(1,1,0)(0,0,0)[12] intercept   : AIC=1469.253, Time=0.05 sec\n",
      " ARIMA(1,1,2)(0,0,0)[12] intercept   : AIC=1448.725, Time=0.29 sec\n",
      " ARIMA(0,1,1)(0,0,0)[12]             : AIC=1445.999, Time=0.04 sec\n",
      " ARIMA(0,1,1)(1,0,0)[12]             : AIC=1446.944, Time=0.12 sec\n",
      " ARIMA(0,1,1)(0,0,1)[12]             : AIC=1446.888, Time=0.15 sec\n",
      " ARIMA(0,1,1)(1,0,1)[12]             : AIC=1446.241, Time=0.40 sec\n",
      " ARIMA(1,1,1)(0,0,0)[12]             : AIC=1447.999, Time=0.06 sec\n",
      " ARIMA(0,1,2)(0,0,0)[12]             : AIC=1447.999, Time=0.07 sec\n",
      " ARIMA(1,1,0)(0,0,0)[12]             : AIC=1467.328, Time=0.03 sec\n",
      " ARIMA(1,1,2)(0,0,0)[12]             : AIC=1448.139, Time=0.14 sec\n",
      "\n",
      "Best model:  ARIMA(0,1,1)(0,0,0)[12]          \n",
      "Total fit time: 4.738 seconds\n",
      "Cluster 13 (Classic_bike): ARIMA(0, 1, 1), Seasonal Order=(0, 0, 0, 12), AIC=1445.999494549229\n",
      "Performing stepwise search to minimize aic\n"
     ]
    },
    {
     "name": "stderr",
     "output_type": "stream",
     "text": [
      "c:\\Users\\TYS\\AppData\\Local\\Programs\\Python\\Python311\\Lib\\site-packages\\statsmodels\\base\\model.py:607: ConvergenceWarning: Maximum Likelihood optimization failed to converge. Check mle_retvals\n",
      "  warnings.warn(\"Maximum Likelihood optimization failed to \"\n"
     ]
    },
    {
     "name": "stdout",
     "output_type": "stream",
     "text": [
      " ARIMA(2,0,2)(1,0,1)[12] intercept   : AIC=1191.387, Time=1.49 sec\n",
      " ARIMA(0,0,0)(0,0,0)[12] intercept   : AIC=1228.310, Time=0.02 sec\n",
      " ARIMA(1,0,0)(1,0,0)[12] intercept   : AIC=1191.254, Time=0.45 sec\n",
      " ARIMA(0,0,1)(0,0,1)[12] intercept   : AIC=1203.014, Time=0.22 sec\n",
      " ARIMA(0,0,0)(0,0,0)[12]             : AIC=1674.998, Time=0.01 sec\n",
      " ARIMA(1,0,0)(0,0,0)[12] intercept   : AIC=1189.546, Time=0.09 sec\n",
      " ARIMA(1,0,0)(0,0,1)[12] intercept   : AIC=1191.140, Time=0.28 sec\n"
     ]
    },
    {
     "name": "stderr",
     "output_type": "stream",
     "text": [
      "c:\\Users\\TYS\\AppData\\Local\\Programs\\Python\\Python311\\Lib\\site-packages\\statsmodels\\base\\model.py:607: ConvergenceWarning: Maximum Likelihood optimization failed to converge. Check mle_retvals\n",
      "  warnings.warn(\"Maximum Likelihood optimization failed to \"\n"
     ]
    },
    {
     "name": "stdout",
     "output_type": "stream",
     "text": [
      " ARIMA(1,0,0)(1,0,1)[12] intercept   : AIC=inf, Time=0.83 sec\n",
      " ARIMA(2,0,0)(0,0,0)[12] intercept   : AIC=1189.024, Time=0.12 sec\n",
      " ARIMA(2,0,0)(1,0,0)[12] intercept   : AIC=1190.920, Time=0.69 sec\n",
      " ARIMA(2,0,0)(0,0,1)[12] intercept   : AIC=1190.870, Time=0.32 sec\n"
     ]
    },
    {
     "name": "stderr",
     "output_type": "stream",
     "text": [
      "c:\\Users\\TYS\\AppData\\Local\\Programs\\Python\\Python311\\Lib\\site-packages\\statsmodels\\base\\model.py:607: ConvergenceWarning: Maximum Likelihood optimization failed to converge. Check mle_retvals\n",
      "  warnings.warn(\"Maximum Likelihood optimization failed to \"\n"
     ]
    },
    {
     "name": "stdout",
     "output_type": "stream",
     "text": [
      " ARIMA(2,0,0)(1,0,1)[12] intercept   : AIC=1190.908, Time=1.06 sec\n",
      " ARIMA(3,0,0)(0,0,0)[12] intercept   : AIC=1189.218, Time=0.08 sec\n",
      " ARIMA(2,0,1)(0,0,0)[12] intercept   : AIC=1190.375, Time=0.21 sec\n",
      " ARIMA(1,0,1)(0,0,0)[12] intercept   : AIC=1189.857, Time=0.16 sec\n",
      " ARIMA(3,0,1)(0,0,0)[12] intercept   : AIC=1191.087, Time=0.51 sec\n",
      " ARIMA(2,0,0)(0,0,0)[12]             : AIC=1222.319, Time=0.06 sec\n",
      "\n",
      "Best model:  ARIMA(2,0,0)(0,0,0)[12] intercept\n",
      "Total fit time: 6.631 seconds\n",
      "Cluster 13 (Electric_bike): ARIMA(2, 0, 0), Seasonal Order=(0, 0, 0, 12), AIC=1189.0244202646077\n",
      "Performing stepwise search to minimize aic\n"
     ]
    },
    {
     "name": "stderr",
     "output_type": "stream",
     "text": [
      "c:\\Users\\TYS\\AppData\\Local\\Programs\\Python\\Python311\\Lib\\site-packages\\statsmodels\\tsa\\statespace\\sarimax.py:966: UserWarning: Non-stationary starting autoregressive parameters found. Using zeros as starting parameters.\n",
      "  warn('Non-stationary starting autoregressive parameters'\n",
      "c:\\Users\\TYS\\AppData\\Local\\Programs\\Python\\Python311\\Lib\\site-packages\\statsmodels\\tsa\\statespace\\sarimax.py:978: UserWarning: Non-invertible starting MA parameters found. Using zeros as starting parameters.\n",
      "  warn('Non-invertible starting MA parameters found.'\n"
     ]
    },
    {
     "name": "stdout",
     "output_type": "stream",
     "text": [
      " ARIMA(2,1,2)(1,0,1)[12] intercept   : AIC=1709.897, Time=1.00 sec\n",
      " ARIMA(0,1,0)(0,0,0)[12] intercept   : AIC=1748.551, Time=0.02 sec\n",
      " ARIMA(1,1,0)(1,0,0)[12] intercept   : AIC=1724.121, Time=0.26 sec\n",
      " ARIMA(0,1,1)(0,0,1)[12] intercept   : AIC=1706.560, Time=0.31 sec\n",
      " ARIMA(0,1,0)(0,0,0)[12]             : AIC=1746.584, Time=0.02 sec\n",
      " ARIMA(0,1,1)(0,0,0)[12] intercept   : AIC=1706.625, Time=0.10 sec\n",
      " ARIMA(0,1,1)(1,0,1)[12] intercept   : AIC=1707.220, Time=0.44 sec\n",
      " ARIMA(0,1,1)(0,0,2)[12] intercept   : AIC=1707.917, Time=0.83 sec\n",
      " ARIMA(0,1,1)(1,0,0)[12] intercept   : AIC=1706.780, Time=0.28 sec\n",
      " ARIMA(0,1,1)(1,0,2)[12] intercept   : AIC=1709.200, Time=1.17 sec\n",
      " ARIMA(0,1,0)(0,0,1)[12] intercept   : AIC=1749.789, Time=0.15 sec\n",
      " ARIMA(1,1,1)(0,0,1)[12] intercept   : AIC=1704.639, Time=0.30 sec\n",
      " ARIMA(1,1,1)(0,0,0)[12] intercept   : AIC=1704.015, Time=0.12 sec\n",
      " ARIMA(1,1,1)(1,0,0)[12] intercept   : AIC=1704.728, Time=0.34 sec\n",
      " ARIMA(1,1,1)(1,0,1)[12] intercept   : AIC=1706.575, Time=0.63 sec\n",
      " ARIMA(1,1,0)(0,0,0)[12] intercept   : AIC=1723.542, Time=0.05 sec\n",
      " ARIMA(2,1,1)(0,0,0)[12] intercept   : AIC=1705.364, Time=0.17 sec\n"
     ]
    },
    {
     "name": "stderr",
     "output_type": "stream",
     "text": [
      "c:\\Users\\TYS\\AppData\\Local\\Programs\\Python\\Python311\\Lib\\site-packages\\statsmodels\\tsa\\statespace\\sarimax.py:966: UserWarning: Non-stationary starting autoregressive parameters found. Using zeros as starting parameters.\n",
      "  warn('Non-stationary starting autoregressive parameters'\n",
      "c:\\Users\\TYS\\AppData\\Local\\Programs\\Python\\Python311\\Lib\\site-packages\\statsmodels\\tsa\\statespace\\sarimax.py:978: UserWarning: Non-invertible starting MA parameters found. Using zeros as starting parameters.\n",
      "  warn('Non-invertible starting MA parameters found.'\n"
     ]
    },
    {
     "name": "stdout",
     "output_type": "stream",
     "text": [
      " ARIMA(1,1,2)(0,0,0)[12] intercept   : AIC=1705.259, Time=0.26 sec\n",
      " ARIMA(0,1,2)(0,0,0)[12] intercept   : AIC=1705.032, Time=0.13 sec\n",
      " ARIMA(2,1,0)(0,0,0)[12] intercept   : AIC=1716.270, Time=0.13 sec\n"
     ]
    },
    {
     "name": "stderr",
     "output_type": "stream",
     "text": [
      "c:\\Users\\TYS\\AppData\\Local\\Programs\\Python\\Python311\\Lib\\site-packages\\statsmodels\\tsa\\statespace\\sarimax.py:966: UserWarning: Non-stationary starting autoregressive parameters found. Using zeros as starting parameters.\n",
      "  warn('Non-stationary starting autoregressive parameters'\n",
      "c:\\Users\\TYS\\AppData\\Local\\Programs\\Python\\Python311\\Lib\\site-packages\\statsmodels\\tsa\\statespace\\sarimax.py:978: UserWarning: Non-invertible starting MA parameters found. Using zeros as starting parameters.\n",
      "  warn('Non-invertible starting MA parameters found.'\n"
     ]
    },
    {
     "name": "stdout",
     "output_type": "stream",
     "text": [
      " ARIMA(2,1,2)(0,0,0)[12] intercept   : AIC=1707.321, Time=0.26 sec\n",
      " ARIMA(1,1,1)(0,0,0)[12]             : AIC=1703.021, Time=0.07 sec\n",
      " ARIMA(1,1,1)(1,0,0)[12]             : AIC=1703.788, Time=0.18 sec\n",
      " ARIMA(1,1,1)(0,0,1)[12]             : AIC=1703.708, Time=0.25 sec\n",
      " ARIMA(1,1,1)(1,0,1)[12]             : AIC=1704.847, Time=0.46 sec\n",
      " ARIMA(0,1,1)(0,0,0)[12]             : AIC=1705.132, Time=0.05 sec\n",
      " ARIMA(1,1,0)(0,0,0)[12]             : AIC=1721.637, Time=0.05 sec\n",
      " ARIMA(2,1,1)(0,0,0)[12]             : AIC=1704.498, Time=0.13 sec\n",
      " ARIMA(1,1,2)(0,0,0)[12]             : AIC=1704.433, Time=0.16 sec\n"
     ]
    },
    {
     "name": "stderr",
     "output_type": "stream",
     "text": [
      "c:\\Users\\TYS\\AppData\\Local\\Programs\\Python\\Python311\\Lib\\site-packages\\statsmodels\\tsa\\statespace\\sarimax.py:966: UserWarning: Non-stationary starting autoregressive parameters found. Using zeros as starting parameters.\n",
      "  warn('Non-stationary starting autoregressive parameters'\n",
      "c:\\Users\\TYS\\AppData\\Local\\Programs\\Python\\Python311\\Lib\\site-packages\\statsmodels\\tsa\\statespace\\sarimax.py:978: UserWarning: Non-invertible starting MA parameters found. Using zeros as starting parameters.\n",
      "  warn('Non-invertible starting MA parameters found.'\n"
     ]
    },
    {
     "name": "stdout",
     "output_type": "stream",
     "text": [
      " ARIMA(0,1,2)(0,0,0)[12]             : AIC=1703.859, Time=0.06 sec\n",
      " ARIMA(2,1,0)(0,0,0)[12]             : AIC=1714.452, Time=0.06 sec\n"
     ]
    },
    {
     "name": "stderr",
     "output_type": "stream",
     "text": [
      "c:\\Users\\TYS\\AppData\\Local\\Programs\\Python\\Python311\\Lib\\site-packages\\statsmodels\\tsa\\statespace\\sarimax.py:966: UserWarning: Non-stationary starting autoregressive parameters found. Using zeros as starting parameters.\n",
      "  warn('Non-stationary starting autoregressive parameters'\n",
      "c:\\Users\\TYS\\AppData\\Local\\Programs\\Python\\Python311\\Lib\\site-packages\\statsmodels\\tsa\\statespace\\sarimax.py:978: UserWarning: Non-invertible starting MA parameters found. Using zeros as starting parameters.\n",
      "  warn('Non-invertible starting MA parameters found.'\n"
     ]
    },
    {
     "name": "stdout",
     "output_type": "stream",
     "text": [
      " ARIMA(2,1,2)(0,0,0)[12]             : AIC=1706.383, Time=0.20 sec\n",
      "\n",
      "Best model:  ARIMA(1,1,1)(0,0,0)[12]          \n",
      "Total fit time: 8.671 seconds\n",
      "Cluster 14 (Classic_bike): ARIMA(1, 1, 1), Seasonal Order=(0, 0, 0, 12), AIC=1703.021121791288\n",
      "Failed to find ARIMA model for electric_bike in cluster 14: Found array with 0 sample(s) (shape=(0,)) while a minimum of 1 is required.\n",
      "Performing stepwise search to minimize aic\n"
     ]
    },
    {
     "name": "stderr",
     "output_type": "stream",
     "text": [
      "c:\\Users\\TYS\\AppData\\Local\\Programs\\Python\\Python311\\Lib\\site-packages\\statsmodels\\base\\model.py:607: ConvergenceWarning: Maximum Likelihood optimization failed to converge. Check mle_retvals\n",
      "  warnings.warn(\"Maximum Likelihood optimization failed to \"\n"
     ]
    },
    {
     "name": "stdout",
     "output_type": "stream",
     "text": [
      " ARIMA(2,0,2)(1,0,1)[12] intercept   : AIC=774.637, Time=1.38 sec\n",
      " ARIMA(0,0,0)(0,0,0)[12] intercept   : AIC=769.270, Time=0.01 sec\n",
      " ARIMA(1,0,0)(1,0,0)[12] intercept   : AIC=768.682, Time=0.21 sec\n",
      " ARIMA(0,0,1)(0,0,1)[12] intercept   : AIC=768.451, Time=0.15 sec\n",
      " ARIMA(0,0,0)(0,0,0)[12]             : AIC=950.491, Time=0.02 sec\n",
      " ARIMA(0,0,1)(0,0,0)[12] intercept   : AIC=766.722, Time=0.05 sec\n",
      " ARIMA(0,0,1)(1,0,0)[12] intercept   : AIC=768.460, Time=0.19 sec\n",
      " ARIMA(0,0,1)(1,0,1)[12] intercept   : AIC=770.443, Time=0.51 sec\n",
      " ARIMA(1,0,1)(0,0,0)[12] intercept   : AIC=768.719, Time=0.18 sec\n",
      " ARIMA(0,0,2)(0,0,0)[12] intercept   : AIC=768.716, Time=0.10 sec\n",
      " ARIMA(1,0,0)(0,0,0)[12] intercept   : AIC=766.901, Time=0.05 sec\n"
     ]
    },
    {
     "name": "stderr",
     "output_type": "stream",
     "text": [
      "c:\\Users\\TYS\\AppData\\Local\\Programs\\Python\\Python311\\Lib\\site-packages\\statsmodels\\base\\model.py:607: ConvergenceWarning: Maximum Likelihood optimization failed to converge. Check mle_retvals\n",
      "  warnings.warn(\"Maximum Likelihood optimization failed to \"\n"
     ]
    },
    {
     "name": "stdout",
     "output_type": "stream",
     "text": [
      " ARIMA(1,0,2)(0,0,0)[12] intercept   : AIC=767.157, Time=0.52 sec\n",
      " ARIMA(0,0,1)(0,0,0)[12]             : AIC=886.480, Time=0.04 sec\n",
      "\n",
      "Best model:  ARIMA(0,0,1)(0,0,0)[12] intercept\n",
      "Total fit time: 3.445 seconds\n",
      "Cluster 15 (Classic_bike): ARIMA(0, 0, 1), Seasonal Order=(0, 0, 0, 12), AIC=766.7223744420693\n",
      "Performing stepwise search to minimize aic\n"
     ]
    },
    {
     "name": "stderr",
     "output_type": "stream",
     "text": [
      "c:\\Users\\TYS\\AppData\\Local\\Programs\\Python\\Python311\\Lib\\site-packages\\statsmodels\\base\\model.py:607: ConvergenceWarning: Maximum Likelihood optimization failed to converge. Check mle_retvals\n",
      "  warnings.warn(\"Maximum Likelihood optimization failed to \"\n"
     ]
    },
    {
     "name": "stdout",
     "output_type": "stream",
     "text": [
      " ARIMA(2,1,2)(1,0,1)[12] intercept   : AIC=915.550, Time=1.61 sec\n",
      " ARIMA(0,1,0)(0,0,0)[12] intercept   : AIC=983.344, Time=0.02 sec\n",
      " ARIMA(1,1,0)(1,0,0)[12] intercept   : AIC=938.389, Time=0.15 sec\n",
      " ARIMA(0,1,1)(0,0,1)[12] intercept   : AIC=905.861, Time=0.20 sec\n",
      " ARIMA(0,1,0)(0,0,0)[12]             : AIC=981.348, Time=0.02 sec\n",
      " ARIMA(0,1,1)(0,0,0)[12] intercept   : AIC=908.756, Time=0.08 sec\n",
      " ARIMA(0,1,1)(1,0,1)[12] intercept   : AIC=906.263, Time=0.37 sec\n",
      " ARIMA(0,1,1)(0,0,2)[12] intercept   : AIC=905.315, Time=0.46 sec\n",
      " ARIMA(0,1,1)(1,0,2)[12] intercept   : AIC=907.151, Time=0.75 sec\n",
      " ARIMA(0,1,0)(0,0,2)[12] intercept   : AIC=979.883, Time=0.29 sec\n",
      " ARIMA(1,1,1)(0,0,2)[12] intercept   : AIC=906.308, Time=0.54 sec\n",
      " ARIMA(0,1,2)(0,0,2)[12] intercept   : AIC=906.487, Time=0.48 sec\n",
      " ARIMA(1,1,0)(0,0,2)[12] intercept   : AIC=936.869, Time=0.37 sec\n",
      " ARIMA(1,1,2)(0,0,2)[12] intercept   : AIC=908.436, Time=1.84 sec\n",
      " ARIMA(0,1,1)(0,0,2)[12]             : AIC=904.128, Time=0.37 sec\n",
      " ARIMA(0,1,1)(0,0,1)[12]             : AIC=904.516, Time=0.10 sec\n",
      " ARIMA(0,1,1)(1,0,2)[12]             : AIC=905.936, Time=0.64 sec\n",
      " ARIMA(0,1,1)(1,0,1)[12]             : AIC=905.065, Time=0.20 sec\n",
      " ARIMA(0,1,0)(0,0,2)[12]             : AIC=977.892, Time=0.21 sec\n",
      " ARIMA(1,1,1)(0,0,2)[12]             : AIC=905.227, Time=0.43 sec\n",
      " ARIMA(0,1,2)(0,0,2)[12]             : AIC=905.382, Time=0.38 sec\n",
      " ARIMA(1,1,0)(0,0,2)[12]             : AIC=934.908, Time=0.27 sec\n",
      " ARIMA(1,1,2)(0,0,2)[12]             : AIC=907.278, Time=1.59 sec\n",
      "\n",
      "Best model:  ARIMA(0,1,1)(0,0,2)[12]          \n",
      "Total fit time: 11.424 seconds\n",
      "Cluster 15 (Electric_bike): ARIMA(0, 1, 1), Seasonal Order=(0, 0, 2, 12), AIC=904.1276243269401\n",
      "Performing stepwise search to minimize aic\n"
     ]
    },
    {
     "name": "stderr",
     "output_type": "stream",
     "text": [
      "c:\\Users\\TYS\\AppData\\Local\\Programs\\Python\\Python311\\Lib\\site-packages\\statsmodels\\tsa\\statespace\\sarimax.py:966: UserWarning: Non-stationary starting autoregressive parameters found. Using zeros as starting parameters.\n",
      "  warn('Non-stationary starting autoregressive parameters'\n",
      "c:\\Users\\TYS\\AppData\\Local\\Programs\\Python\\Python311\\Lib\\site-packages\\statsmodels\\tsa\\statespace\\sarimax.py:978: UserWarning: Non-invertible starting MA parameters found. Using zeros as starting parameters.\n",
      "  warn('Non-invertible starting MA parameters found.'\n",
      "c:\\Users\\TYS\\AppData\\Local\\Programs\\Python\\Python311\\Lib\\site-packages\\statsmodels\\base\\model.py:607: ConvergenceWarning: Maximum Likelihood optimization failed to converge. Check mle_retvals\n",
      "  warnings.warn(\"Maximum Likelihood optimization failed to \"\n"
     ]
    },
    {
     "name": "stdout",
     "output_type": "stream",
     "text": [
      " ARIMA(2,1,2)(1,0,1)[12] intercept   : AIC=2107.426, Time=1.36 sec\n",
      " ARIMA(0,1,0)(0,0,0)[12] intercept   : AIC=2167.497, Time=0.02 sec\n",
      " ARIMA(1,1,0)(1,0,0)[12] intercept   : AIC=2142.220, Time=0.24 sec\n",
      " ARIMA(0,1,1)(0,0,1)[12] intercept   : AIC=2120.795, Time=0.27 sec\n",
      " ARIMA(0,1,0)(0,0,0)[12]             : AIC=2165.522, Time=0.02 sec\n"
     ]
    },
    {
     "name": "stderr",
     "output_type": "stream",
     "text": [
      "c:\\Users\\TYS\\AppData\\Local\\Programs\\Python\\Python311\\Lib\\site-packages\\statsmodels\\tsa\\statespace\\sarimax.py:966: UserWarning: Non-stationary starting autoregressive parameters found. Using zeros as starting parameters.\n",
      "  warn('Non-stationary starting autoregressive parameters'\n",
      "c:\\Users\\TYS\\AppData\\Local\\Programs\\Python\\Python311\\Lib\\site-packages\\statsmodels\\tsa\\statespace\\sarimax.py:978: UserWarning: Non-invertible starting MA parameters found. Using zeros as starting parameters.\n",
      "  warn('Non-invertible starting MA parameters found.'\n"
     ]
    },
    {
     "name": "stdout",
     "output_type": "stream",
     "text": [
      " ARIMA(2,1,2)(0,0,1)[12] intercept   : AIC=2104.799, Time=1.13 sec\n"
     ]
    },
    {
     "name": "stderr",
     "output_type": "stream",
     "text": [
      "c:\\Users\\TYS\\AppData\\Local\\Programs\\Python\\Python311\\Lib\\site-packages\\statsmodels\\tsa\\statespace\\sarimax.py:966: UserWarning: Non-stationary starting autoregressive parameters found. Using zeros as starting parameters.\n",
      "  warn('Non-stationary starting autoregressive parameters'\n",
      "c:\\Users\\TYS\\AppData\\Local\\Programs\\Python\\Python311\\Lib\\site-packages\\statsmodels\\tsa\\statespace\\sarimax.py:978: UserWarning: Non-invertible starting MA parameters found. Using zeros as starting parameters.\n",
      "  warn('Non-invertible starting MA parameters found.'\n"
     ]
    },
    {
     "name": "stdout",
     "output_type": "stream",
     "text": [
      " ARIMA(2,1,2)(0,0,0)[12] intercept   : AIC=2103.848, Time=0.56 sec\n"
     ]
    },
    {
     "name": "stderr",
     "output_type": "stream",
     "text": [
      "c:\\Users\\TYS\\AppData\\Local\\Programs\\Python\\Python311\\Lib\\site-packages\\statsmodels\\tsa\\statespace\\sarimax.py:966: UserWarning: Non-stationary starting autoregressive parameters found. Using zeros as starting parameters.\n",
      "  warn('Non-stationary starting autoregressive parameters'\n",
      "c:\\Users\\TYS\\AppData\\Local\\Programs\\Python\\Python311\\Lib\\site-packages\\statsmodels\\tsa\\statespace\\sarimax.py:978: UserWarning: Non-invertible starting MA parameters found. Using zeros as starting parameters.\n",
      "  warn('Non-invertible starting MA parameters found.'\n"
     ]
    },
    {
     "name": "stdout",
     "output_type": "stream",
     "text": [
      " ARIMA(2,1,2)(1,0,0)[12] intercept   : AIC=2105.039, Time=1.22 sec\n",
      " ARIMA(1,1,2)(0,0,0)[12] intercept   : AIC=inf, Time=0.35 sec\n"
     ]
    },
    {
     "name": "stderr",
     "output_type": "stream",
     "text": [
      "c:\\Users\\TYS\\AppData\\Local\\Programs\\Python\\Python311\\Lib\\site-packages\\statsmodels\\tsa\\statespace\\sarimax.py:966: UserWarning: Non-stationary starting autoregressive parameters found. Using zeros as starting parameters.\n",
      "  warn('Non-stationary starting autoregressive parameters'\n",
      "c:\\Users\\TYS\\AppData\\Local\\Programs\\Python\\Python311\\Lib\\site-packages\\statsmodels\\tsa\\statespace\\sarimax.py:978: UserWarning: Non-invertible starting MA parameters found. Using zeros as starting parameters.\n",
      "  warn('Non-invertible starting MA parameters found.'\n"
     ]
    },
    {
     "name": "stdout",
     "output_type": "stream",
     "text": [
      " ARIMA(2,1,1)(0,0,0)[12] intercept   : AIC=inf, Time=0.28 sec\n"
     ]
    },
    {
     "name": "stderr",
     "output_type": "stream",
     "text": [
      "c:\\Users\\TYS\\AppData\\Local\\Programs\\Python\\Python311\\Lib\\site-packages\\statsmodels\\tsa\\statespace\\sarimax.py:966: UserWarning: Non-stationary starting autoregressive parameters found. Using zeros as starting parameters.\n",
      "  warn('Non-stationary starting autoregressive parameters'\n",
      "c:\\Users\\TYS\\AppData\\Local\\Programs\\Python\\Python311\\Lib\\site-packages\\statsmodels\\tsa\\statespace\\sarimax.py:978: UserWarning: Non-invertible starting MA parameters found. Using zeros as starting parameters.\n",
      "  warn('Non-invertible starting MA parameters found.'\n"
     ]
    },
    {
     "name": "stdout",
     "output_type": "stream",
     "text": [
      " ARIMA(3,1,2)(0,0,0)[12] intercept   : AIC=inf, Time=0.59 sec\n"
     ]
    },
    {
     "name": "stderr",
     "output_type": "stream",
     "text": [
      "c:\\Users\\TYS\\AppData\\Local\\Programs\\Python\\Python311\\Lib\\site-packages\\statsmodels\\base\\model.py:607: ConvergenceWarning: Maximum Likelihood optimization failed to converge. Check mle_retvals\n",
      "  warnings.warn(\"Maximum Likelihood optimization failed to \"\n"
     ]
    },
    {
     "name": "stdout",
     "output_type": "stream",
     "text": [
      " ARIMA(2,1,3)(0,0,0)[12] intercept   : AIC=2109.030, Time=0.79 sec\n",
      " ARIMA(1,1,1)(0,0,0)[12] intercept   : AIC=2107.324, Time=0.29 sec\n",
      " ARIMA(1,1,3)(0,0,0)[12] intercept   : AIC=2107.213, Time=0.50 sec\n",
      " ARIMA(3,1,1)(0,0,0)[12] intercept   : AIC=2107.246, Time=0.40 sec\n"
     ]
    },
    {
     "name": "stderr",
     "output_type": "stream",
     "text": [
      "c:\\Users\\TYS\\AppData\\Local\\Programs\\Python\\Python311\\Lib\\site-packages\\statsmodels\\base\\model.py:607: ConvergenceWarning: Maximum Likelihood optimization failed to converge. Check mle_retvals\n",
      "  warnings.warn(\"Maximum Likelihood optimization failed to \"\n",
      "c:\\Users\\TYS\\AppData\\Local\\Programs\\Python\\Python311\\Lib\\site-packages\\statsmodels\\tsa\\statespace\\sarimax.py:966: UserWarning: Non-stationary starting autoregressive parameters found. Using zeros as starting parameters.\n",
      "  warn('Non-stationary starting autoregressive parameters'\n",
      "c:\\Users\\TYS\\AppData\\Local\\Programs\\Python\\Python311\\Lib\\site-packages\\statsmodels\\tsa\\statespace\\sarimax.py:978: UserWarning: Non-invertible starting MA parameters found. Using zeros as starting parameters.\n",
      "  warn('Non-invertible starting MA parameters found.'\n"
     ]
    },
    {
     "name": "stdout",
     "output_type": "stream",
     "text": [
      " ARIMA(3,1,3)(0,0,0)[12] intercept   : AIC=2108.628, Time=0.75 sec\n",
      " ARIMA(2,1,2)(0,0,0)[12]             : AIC=2108.730, Time=0.33 sec\n",
      "\n",
      "Best model:  ARIMA(2,1,2)(0,0,0)[12] intercept\n",
      "Total fit time: 9.120 seconds\n",
      "Cluster 16 (Classic_bike): ARIMA(2, 1, 2), Seasonal Order=(0, 0, 0, 12), AIC=2103.8482474423554\n",
      "Performing stepwise search to minimize aic\n"
     ]
    },
    {
     "name": "stderr",
     "output_type": "stream",
     "text": [
      "c:\\Users\\TYS\\AppData\\Local\\Programs\\Python\\Python311\\Lib\\site-packages\\statsmodels\\tsa\\statespace\\sarimax.py:966: UserWarning: Non-stationary starting autoregressive parameters found. Using zeros as starting parameters.\n",
      "  warn('Non-stationary starting autoregressive parameters'\n",
      "c:\\Users\\TYS\\AppData\\Local\\Programs\\Python\\Python311\\Lib\\site-packages\\statsmodels\\tsa\\statespace\\sarimax.py:978: UserWarning: Non-invertible starting MA parameters found. Using zeros as starting parameters.\n",
      "  warn('Non-invertible starting MA parameters found.'\n"
     ]
    },
    {
     "name": "stdout",
     "output_type": "stream",
     "text": [
      " ARIMA(2,1,2)(1,0,1)[12] intercept   : AIC=inf, Time=1.36 sec\n",
      " ARIMA(0,1,0)(0,0,0)[12] intercept   : AIC=2328.103, Time=0.02 sec\n",
      " ARIMA(1,1,0)(1,0,0)[12] intercept   : AIC=2327.626, Time=0.22 sec\n"
     ]
    },
    {
     "name": "stderr",
     "output_type": "stream",
     "text": [
      "c:\\Users\\TYS\\AppData\\Local\\Programs\\Python\\Python311\\Lib\\site-packages\\statsmodels\\base\\model.py:607: ConvergenceWarning: Maximum Likelihood optimization failed to converge. Check mle_retvals\n",
      "  warnings.warn(\"Maximum Likelihood optimization failed to \"\n"
     ]
    },
    {
     "name": "stdout",
     "output_type": "stream",
     "text": [
      " ARIMA(0,1,1)(0,0,1)[12] intercept   : AIC=inf, Time=0.73 sec\n",
      " ARIMA(0,1,0)(0,0,0)[12]             : AIC=2326.172, Time=0.01 sec\n",
      " ARIMA(0,1,0)(1,0,0)[12] intercept   : AIC=2325.662, Time=0.18 sec\n",
      " ARIMA(0,1,0)(2,0,0)[12] intercept   : AIC=2306.603, Time=0.73 sec\n",
      " ARIMA(0,1,0)(2,0,1)[12] intercept   : AIC=2308.509, Time=0.70 sec\n",
      " ARIMA(0,1,0)(1,0,1)[12] intercept   : AIC=2317.907, Time=0.37 sec\n",
      " ARIMA(1,1,0)(2,0,0)[12] intercept   : AIC=2291.835, Time=1.08 sec\n",
      " ARIMA(1,1,0)(2,0,1)[12] intercept   : AIC=2293.127, Time=0.86 sec\n",
      " ARIMA(1,1,0)(1,0,1)[12] intercept   : AIC=2317.448, Time=0.69 sec\n",
      " ARIMA(2,1,0)(2,0,0)[12] intercept   : AIC=2285.794, Time=1.66 sec\n",
      " ARIMA(2,1,0)(1,0,0)[12] intercept   : AIC=2326.669, Time=0.35 sec\n",
      " ARIMA(2,1,0)(2,0,1)[12] intercept   : AIC=2287.789, Time=1.78 sec\n",
      " ARIMA(2,1,0)(1,0,1)[12] intercept   : AIC=2318.917, Time=1.02 sec\n"
     ]
    }
   ],
   "source": [
    "from pmdarima import auto_arima\n",
    "import pandas as pd\n",
    "from pandas import Timedelta, Timestamp\n",
    "from statsmodels.tsa.arima.model import ARIMA\n",
    "\n",
    "# Assuming 'data' is your DataFrame containing all clusters and bike types\n",
    "clusters = data['start_station_cluster'].unique()\n",
    "arima_params = {}\n",
    "\n",
    "for cluster in clusters:\n",
    "    for bike_type in ['classic_bike', 'electric_bike']:\n",
    "        # Define the key for storing in the dictionary\n",
    "        key = (cluster, bike_type)\n",
    "\n",
    "        # Filter data for the current cluster and bike type\n",
    "        cluster_bike_data = all_bike_train[(all_bike_train['start_station_cluster'] == cluster) &\n",
    "                                 (all_bike_train['rideable_type'] == bike_type)]['trip_count'].dropna()\n",
    "\n",
    "        # Convert the series to float\n",
    "        cluster_bike_data = cluster_bike_data.astype(float)\n",
    "\n",
    "        # Convert the index to weekly period\n",
    "        cluster_bike_data.index = pd.DatetimeIndex(cluster_bike_data.index).to_period('D')\n",
    "\n",
    "        try:\n",
    "            # Find the best ARIMA parameters\n",
    "            model = auto_arima(cluster_bike_data,\n",
    "                               seasonal=True,\n",
    "                               trace=True,\n",
    "                               error_action='warn',\n",
    "                               suppress_warnings=False,\n",
    "                               stepwise=True,\n",
    "                               max_p=3, max_q=3, max_d=2, \n",
    "                               max_order=None,\n",
    "                               enforce_stationarity=True,\n",
    "                               enforce_invertibility=True,\n",
    "                               m=12)\n",
    "\n",
    "            # Store parameters\n",
    "            arima_params[key] = {\n",
    "                'order': model.order,\n",
    "                'seasonal_order': model.seasonal_order,\n",
    "                'aic': model.aic()\n",
    "            }\n",
    "\n",
    "            # Concise output\n",
    "            print(f\"Cluster {cluster} ({bike_type.capitalize()}): ARIMA{model.order}, Seasonal Order={model.seasonal_order}, AIC={model.aic()}\")\n",
    "\n",
    "        except Exception as e:\n",
    "            print(f\"Failed to find ARIMA model for {bike_type} in cluster {cluster}: {e}\")"
   ]
  },
  {
   "cell_type": "code",
   "execution_count": null,
   "metadata": {},
   "outputs": [
    {
     "data": {
      "text/html": [
       "<div>\n",
       "<style scoped>\n",
       "    .dataframe tbody tr th:only-of-type {\n",
       "        vertical-align: middle;\n",
       "    }\n",
       "\n",
       "    .dataframe tbody tr th {\n",
       "        vertical-align: top;\n",
       "    }\n",
       "\n",
       "    .dataframe thead th {\n",
       "        text-align: right;\n",
       "    }\n",
       "</style>\n",
       "<table border=\"1\" class=\"dataframe\">\n",
       "  <thead>\n",
       "    <tr style=\"text-align: right;\">\n",
       "      <th></th>\n",
       "      <th>start_station_cluster</th>\n",
       "      <th>rideable_type</th>\n",
       "      <th>trip_count</th>\n",
       "    </tr>\n",
       "    <tr>\n",
       "      <th>date</th>\n",
       "      <th></th>\n",
       "      <th></th>\n",
       "      <th></th>\n",
       "    </tr>\n",
       "  </thead>\n",
       "  <tbody>\n",
       "    <tr>\n",
       "      <th>2022-01-01</th>\n",
       "      <td>0</td>\n",
       "      <td>electric_bike</td>\n",
       "      <td>196</td>\n",
       "    </tr>\n",
       "    <tr>\n",
       "      <th>2022-01-02</th>\n",
       "      <td>0</td>\n",
       "      <td>electric_bike</td>\n",
       "      <td>194</td>\n",
       "    </tr>\n",
       "    <tr>\n",
       "      <th>2022-01-03</th>\n",
       "      <td>0</td>\n",
       "      <td>electric_bike</td>\n",
       "      <td>227</td>\n",
       "    </tr>\n",
       "    <tr>\n",
       "      <th>2022-01-04</th>\n",
       "      <td>0</td>\n",
       "      <td>electric_bike</td>\n",
       "      <td>221</td>\n",
       "    </tr>\n",
       "    <tr>\n",
       "      <th>2022-01-05</th>\n",
       "      <td>0</td>\n",
       "      <td>electric_bike</td>\n",
       "      <td>282</td>\n",
       "    </tr>\n",
       "    <tr>\n",
       "      <th>...</th>\n",
       "      <td>...</td>\n",
       "      <td>...</td>\n",
       "      <td>...</td>\n",
       "    </tr>\n",
       "    <tr>\n",
       "      <th>2022-06-28</th>\n",
       "      <td>0</td>\n",
       "      <td>electric_bike</td>\n",
       "      <td>783</td>\n",
       "    </tr>\n",
       "    <tr>\n",
       "      <th>2022-06-29</th>\n",
       "      <td>0</td>\n",
       "      <td>electric_bike</td>\n",
       "      <td>721</td>\n",
       "    </tr>\n",
       "    <tr>\n",
       "      <th>2022-06-30</th>\n",
       "      <td>0</td>\n",
       "      <td>electric_bike</td>\n",
       "      <td>630</td>\n",
       "    </tr>\n",
       "    <tr>\n",
       "      <th>2022-07-01</th>\n",
       "      <td>0</td>\n",
       "      <td>electric_bike</td>\n",
       "      <td>644</td>\n",
       "    </tr>\n",
       "    <tr>\n",
       "      <th>2022-07-02</th>\n",
       "      <td>0</td>\n",
       "      <td>electric_bike</td>\n",
       "      <td>488</td>\n",
       "    </tr>\n",
       "  </tbody>\n",
       "</table>\n",
       "<p>183 rows × 3 columns</p>\n",
       "</div>"
      ],
      "text/plain": [
       "            start_station_cluster  rideable_type  trip_count\n",
       "date                                                        \n",
       "2022-01-01                      0  electric_bike         196\n",
       "2022-01-02                      0  electric_bike         194\n",
       "2022-01-03                      0  electric_bike         227\n",
       "2022-01-04                      0  electric_bike         221\n",
       "2022-01-05                      0  electric_bike         282\n",
       "...                           ...            ...         ...\n",
       "2022-06-28                      0  electric_bike         783\n",
       "2022-06-29                      0  electric_bike         721\n",
       "2022-06-30                      0  electric_bike         630\n",
       "2022-07-01                      0  electric_bike         644\n",
       "2022-07-02                      0  electric_bike         488\n",
       "\n",
       "[183 rows x 3 columns]"
      ]
     },
     "execution_count": 62,
     "metadata": {},
     "output_type": "execute_result"
    }
   ],
   "source": [
    "c_temp_0 = electric_bike_train[electric_bike_train['start_station_cluster'] == 0]\n",
    "c_temp_0"
   ]
  },
  {
   "cell_type": "code",
   "execution_count": null,
   "metadata": {},
   "outputs": [
    {
     "name": "stderr",
     "output_type": "stream",
     "text": [
      "c:\\Users\\TYS\\AppData\\Local\\Programs\\Python\\Python311\\Lib\\site-packages\\statsmodels\\tsa\\base\\tsa_model.py:473: ValueWarning: No frequency information was provided, so inferred frequency D will be used.\n",
      "  self._init_dates(dates, freq)\n",
      "c:\\Users\\TYS\\AppData\\Local\\Programs\\Python\\Python311\\Lib\\site-packages\\statsmodels\\tsa\\base\\tsa_model.py:473: ValueWarning: No frequency information was provided, so inferred frequency D will be used.\n",
      "  self._init_dates(dates, freq)\n",
      "c:\\Users\\TYS\\AppData\\Local\\Programs\\Python\\Python311\\Lib\\site-packages\\statsmodels\\tsa\\base\\tsa_model.py:473: ValueWarning: No frequency information was provided, so inferred frequency D will be used.\n",
      "  self._init_dates(dates, freq)\n"
     ]
    },
    {
     "data": {
      "text/plain": [
       "2022-01-02    193.874757\n",
       "2022-01-03    193.937845\n",
       "2022-01-04    205.384619\n",
       "2022-01-05    209.619056\n",
       "2022-01-06    226.194203\n",
       "2022-01-07    235.699868\n",
       "2022-01-08    238.736335\n",
       "2022-01-09    242.982600\n",
       "2022-01-10    246.497883\n",
       "Freq: D, Name: predicted_mean, dtype: float64"
      ]
     },
     "execution_count": 63,
     "metadata": {},
     "output_type": "execute_result"
    }
   ],
   "source": [
    "model_temp = ARIMA(c_temp_0['trip_count'], order=(0,1,1))\n",
    "results_temp = model_temp.fit()\n",
    "#forecast_temp = results_temp.get_prediction(start='2022-07-02', end='2022-12-31', dynamic=False)\n",
    "forecast_temp = results_temp.predict(start='2022-01-02', end='2022-01-10', dynamic=False)\n",
    "forecast_temp"
   ]
  },
  {
   "cell_type": "code",
   "execution_count": null,
   "metadata": {},
   "outputs": [],
   "source": [
    "classic_start = len(classic_bike_train)\n",
    "classic_end = len(classic_bike_data) + len(classic_bike_test) - 1\n",
    "electric_start = len(electric_bike_train)\n",
    "electric_end = len(electric_bike_data) + len(electric_bike_test) - 1\n"
   ]
  },
  {
   "cell_type": "code",
   "execution_count": null,
   "metadata": {},
   "outputs": [],
   "source": [
    "# def demand_forecasting(cluster_to_predict, bike_type_to_predict, date_to_predict):\n",
    "#     # Ensure the date is in the proper format\n",
    "#     date_to_predict = pd.to_datetime(date_to_predict)\n",
    "\n",
    "#     # Select the appropriate training dataset\n",
    "#     if bike_type_to_predict == \"electric_bike\":\n",
    "#         cluster_temp = electric_bike_train[electric_bike_train['start_station_cluster'] == cluster_to_predict]\n",
    "#     elif bike_type_to_predict == \"classic_bike\":\n",
    "#         cluster_temp = classic_bike_train[classic_bike_train['start_station_cluster'] == cluster_to_predict]\n",
    "#     else:\n",
    "#         raise ValueError(\"Bike type must be 'electric_bike' or 'classic_bike'.\")\n",
    "\n",
    "#     # Ensure there is enough data to fit the model\n",
    "#     if len(cluster_temp) == 0:\n",
    "#         raise ValueError(f\"No data available for cluster {cluster_to_predict} and bike type {bike_type_to_predict}.\")\n",
    "\n",
    "#     # Fit the ARIMA model\n",
    "#     model_order = arima_params[(cluster_to_predict, bike_type_to_predict)]['order']\n",
    "#     model = ARIMA(cluster_temp['trip_count'], order=model_order)\n",
    "#     results = model.fit()\n",
    "\n",
    "#     # Forecast up to the date of interest\n",
    "#     # Assuming the index of the cluster_temp is a DatetimeIndex and is in ascending order\n",
    "#     forecast_end = (date_to_predict - cluster_temp.index[0]).days\n",
    "#     forecast = results.get_prediction(start=0, end=forecast_end)\n",
    "\n",
    "#     # Extract the forecast for the specific date\n",
    "#     try:\n",
    "#         predicted_count = forecast.predicted_mean.loc[date_to_predict]\n",
    "#     except KeyError:\n",
    "#         raise KeyError(f\"No prediction available for {date_to_predict}. Model forecast may not cover this date.\")\n",
    "\n",
    "#     return predicted_count\n"
   ]
  },
  {
   "cell_type": "code",
   "execution_count": null,
   "metadata": {},
   "outputs": [
    {
     "data": {
      "text/plain": [
       "{(0, 'classic_bike'): {'order': (2, 1, 2),\n",
       "  'seasonal_order': (2, 0, 0, 12),\n",
       "  'aic': 2053.071329574367},\n",
       " (0, 'electric_bike'): {'order': (3, 1, 2),\n",
       "  'seasonal_order': (1, 0, 0, 12),\n",
       "  'aic': 2162.9745505967853},\n",
       " (1, 'classic_bike'): {'order': (0, 1, 1),\n",
       "  'seasonal_order': (0, 0, 0, 12),\n",
       "  'aic': 1247.1831601606},\n",
       " (1, 'electric_bike'): {'order': (0, 0, 0),\n",
       "  'seasonal_order': (0, 0, 0, 12),\n",
       "  'aic': 1015.6493122039806},\n",
       " (2, 'classic_bike'): {'order': (1, 1, 1),\n",
       "  'seasonal_order': (0, 0, 0, 12),\n",
       "  'aic': 1485.6953532642056},\n",
       " (3, 'classic_bike'): {'order': (0, 1, 2),\n",
       "  'seasonal_order': (0, 0, 1, 12),\n",
       "  'aic': 1884.3201198536794},\n",
       " (3, 'electric_bike'): {'order': (3, 1, 2),\n",
       "  'seasonal_order': (0, 0, 1, 12),\n",
       "  'aic': 2095.5811839845583},\n",
       " (4, 'classic_bike'): {'order': (0, 1, 2),\n",
       "  'seasonal_order': (2, 0, 0, 12),\n",
       "  'aic': 1735.861534715123},\n",
       " (4, 'electric_bike'): {'order': (2, 1, 3),\n",
       "  'seasonal_order': (1, 0, 0, 12),\n",
       "  'aic': 1741.5791963567485},\n",
       " (6, 'classic_bike'): {'order': (0, 1, 2),\n",
       "  'seasonal_order': (0, 0, 0, 12),\n",
       "  'aic': 863.7859382045904},\n",
       " (6, 'electric_bike'): {'order': (0, 1, 1),\n",
       "  'seasonal_order': (0, 0, 1, 12),\n",
       "  'aic': 1096.813232430536},\n",
       " (7, 'classic_bike'): {'order': (2, 1, 3),\n",
       "  'seasonal_order': (0, 0, 2, 12),\n",
       "  'aic': 1871.3312556827427},\n",
       " (7, 'electric_bike'): {'order': (0, 1, 2),\n",
       "  'seasonal_order': (2, 0, 0, 12),\n",
       "  'aic': 2048.6520857784253},\n",
       " (8, 'classic_bike'): {'order': (0, 1, 1),\n",
       "  'seasonal_order': (0, 0, 0, 12),\n",
       "  'aic': 1057.214875754571},\n",
       " (8, 'electric_bike'): {'order': (0, 1, 2),\n",
       "  'seasonal_order': (0, 0, 0, 12),\n",
       "  'aic': 1082.6613093581004},\n",
       " (9, 'classic_bike'): {'order': (2, 1, 3),\n",
       "  'seasonal_order': (2, 0, 0, 12),\n",
       "  'aic': 1622.4905583552863},\n",
       " (10, 'classic_bike'): {'order': (0, 1, 2),\n",
       "  'seasonal_order': (0, 0, 0, 12),\n",
       "  'aic': 1393.6751887417872},\n",
       " (11, 'classic_bike'): {'order': (1, 1, 3),\n",
       "  'seasonal_order': (0, 0, 1, 12),\n",
       "  'aic': 2023.7781565171615},\n",
       " (11, 'electric_bike'): {'order': (0, 1, 2),\n",
       "  'seasonal_order': (2, 0, 0, 12),\n",
       "  'aic': 2121.212247320429},\n",
       " (12, 'classic_bike'): {'order': (1, 1, 1),\n",
       "  'seasonal_order': (0, 0, 0, 12),\n",
       "  'aic': 1446.8367844784075},\n",
       " (13, 'classic_bike'): {'order': (0, 1, 1),\n",
       "  'seasonal_order': (0, 0, 0, 12),\n",
       "  'aic': 1445.999494549229},\n",
       " (13, 'electric_bike'): {'order': (2, 0, 0),\n",
       "  'seasonal_order': (0, 0, 0, 12),\n",
       "  'aic': 1189.0244202646077},\n",
       " (14, 'classic_bike'): {'order': (1, 1, 1),\n",
       "  'seasonal_order': (0, 0, 0, 12),\n",
       "  'aic': 1703.021121791288},\n",
       " (15, 'classic_bike'): {'order': (0, 0, 1),\n",
       "  'seasonal_order': (0, 0, 0, 12),\n",
       "  'aic': 766.7223744420693},\n",
       " (15, 'electric_bike'): {'order': (0, 1, 1),\n",
       "  'seasonal_order': (0, 0, 2, 12),\n",
       "  'aic': 904.1276243269401},\n",
       " (16, 'classic_bike'): {'order': (2, 1, 2),\n",
       "  'seasonal_order': (0, 0, 0, 12),\n",
       "  'aic': 2103.8482474423554},\n",
       " (16, 'electric_bike'): {'order': (3, 1, 3),\n",
       "  'seasonal_order': (0, 0, 1, 12),\n",
       "  'aic': 2183.4268405889397},\n",
       " (17, 'classic_bike'): {'order': (1, 1, 1),\n",
       "  'seasonal_order': (0, 0, 0, 12),\n",
       "  'aic': 1745.5951722062737},\n",
       " (17, 'electric_bike'): {'order': (1, 1, 3),\n",
       "  'seasonal_order': (0, 0, 1, 12),\n",
       "  'aic': 2484.6496209956144},\n",
       " (18, 'classic_bike'): {'order': (1, 1, 1),\n",
       "  'seasonal_order': (0, 0, 1, 12),\n",
       "  'aic': 1791.3162914968702},\n",
       " (18, 'electric_bike'): {'order': (0, 1, 3),\n",
       "  'seasonal_order': (2, 0, 0, 12),\n",
       "  'aic': 1978.925374605743},\n",
       " (19, 'classic_bike'): {'order': (1, 1, 1),\n",
       "  'seasonal_order': (0, 0, 0, 12),\n",
       "  'aic': 1451.3705303124484},\n",
       " (19, 'electric_bike'): {'order': (1, 1, 2),\n",
       "  'seasonal_order': (0, 0, 0, 12),\n",
       "  'aic': 1285.506335319542},\n",
       " (5, 'classic_bike'): {'order': (3, 1, 1),\n",
       "  'seasonal_order': (0, 0, 0, 12),\n",
       "  'aic': 656.3494623345653}}"
      ]
     },
     "execution_count": 162,
     "metadata": {},
     "output_type": "execute_result"
    }
   ],
   "source": [
    "arima_params"
   ]
  },
  {
   "cell_type": "code",
   "execution_count": null,
   "metadata": {},
   "outputs": [],
   "source": [
    "# def demand_forecasting(cluster_to_predict, bike_type_to_predict, date_to_predict):\n",
    "#     # Convert the prediction date to pandas Timestamp for consistency\n",
    "#     date_to_predict = pd.to_datetime(date_to_predict)\n",
    "\n",
    "#     # Select the appropriate training dataset\n",
    "#     if bike_type_to_predict == \"electric_bike\":\n",
    "#         cluster_temp = electric_bike_train[electric_bike_train['start_station_cluster'] == cluster_to_predict]\n",
    "#         #cluster_temp = electric_bike_data[electric_bike_data['start_station_cluster'] == cluster_to_predict]\n",
    "#     elif bike_type_to_predict == \"classic_bike\":\n",
    "#         cluster_temp = classic_bike_train[electric_bike_train['start_station_cluster'] == cluster_to_predict]\n",
    "#         #cluster_temp = classic_bike_data[classic_bike_data['start_station_cluster'] == cluster_to_predict]\n",
    "#     else:\n",
    "#         raise ValueError(\"Bike type must be 'electric_bike' or 'classic_bike'.\")\n",
    "\n",
    "#     # Ensure there is enough data to fit the model\n",
    "#     if len(cluster_temp) < 2:  # You need at least two data points to forecast\n",
    "#         raise ValueError(f\"Not enough data to fit ARIMA model for cluster {cluster_to_predict} and bike type {bike_type_to_predict}.\")\n",
    "\n",
    "#     # Fit the ARIMA model\n",
    "#     model_order = arima_params[(cluster_to_predict, bike_type_to_predict)]['order']\n",
    "#     model_seasonal = arima_params[(cluster_to_predict, bike_type_to_predict)]['seasonal_order']\n",
    "#     model = ARIMA(cluster_temp['trip_count'], order=model_order, seasonal_order=model_seasonal ,freq='D')\n",
    "#     results = model.fit()\n",
    "\n",
    "#     # Forecasting\n",
    "#     forecast_start = len(cluster_temp)  # Start forecasting after the last observed data point\n",
    "#     #print(cluster_temp.index[-1])\n",
    "#     forecast_end = forecast_start + (date_to_predict - cluster_temp.index[-1]).days  # Days to forecast\n",
    "#     #print(forecast_end)\n",
    "#     dynamic = forecast_end > forecast_start  # Use dynamic forecast if forecasting more than one step\n",
    "#     #forecast = results.get_prediction(start=forecast_start, end=forecast_end, dynamic=dynamic)\n",
    "#     forecast_end = '2022-12-31'\n",
    "#     forecast = results.get_prediction(start=\"2022-01-01\", end=forecast_end, dynamic=dynamic)\n",
    "\n",
    "#     #print(forecast.predicted_mean)\n",
    "\n",
    "#     # Extract the forecast for the specific date\n",
    "#     try:\n",
    "#         predicted_count = forecast.predicted_mean.loc[date_to_predict]\n",
    "#         #predicted_count = forecast.predicted_mean[date_to_predict]\n",
    "#     except KeyError:\n",
    "#         raise KeyError(f\"No prediction available for {date_to_predict}. Model forecast may not cover this date.\")\n",
    "\n",
    "#     return predicted_count\n",
    "\n"
   ]
  },
  {
   "cell_type": "code",
   "execution_count": null,
   "metadata": {},
   "outputs": [],
   "source": [
    "def demand_forecasting(cluster_to_predict, bike_type_to_predict, date_to_predict):\n",
    "    # Convert the prediction date to pandas Timestamp for consistency\n",
    "    date_to_predict = pd.to_datetime(date_to_predict)\n",
    "    \n",
    "    # Define the prediction start and end dates\n",
    "    prediction_start = pd.to_datetime('2022-07-02')\n",
    "    prediction_end = pd.to_datetime('2022-12-31')\n",
    "\n",
    "    # Validate the prediction date\n",
    "    if date_to_predict < prediction_start or date_to_predict > prediction_end:\n",
    "        raise ValueError(f\"Date to predict must be between {prediction_start.date()} and {prediction_end.date()}.\")\n",
    "\n",
    "    # Select the appropriate training dataset\n",
    "    if bike_type_to_predict == \"electric_bike\":\n",
    "        cluster_temp = electric_bike_train[electric_bike_train['start_station_cluster'] == cluster_to_predict]\n",
    "    elif bike_type_to_predict == \"classic_bike\":\n",
    "        cluster_temp = classic_bike_train[classic_bike_train['start_station_cluster'] == cluster_to_predict]\n",
    "    else:\n",
    "        raise ValueError(\"Bike type must be 'electric_bike' or 'classic_bike'.\")\n",
    "\n",
    "    # Ensure there is enough data to fit the model\n",
    "    if len(cluster_temp) < 2:  # You need at least two data points to forecast\n",
    "        raise ValueError(f\"Not enough data to fit ARIMA model for cluster {cluster_to_predict} and bike type {bike_type_to_predict}.\")\n",
    "\n",
    "    # Ensure the index is a DatetimeIndex with a daily frequency\n",
    "    #if not isinstance(cluster_temp.index, pd.DatetimeIndex) or cluster_temp.index.freq != 'D':\n",
    "    #    cluster_temp = cluster_temp.set_index(pd.DatetimeIndex(cluster_temp['date'], freq='D'))\n",
    "    \n",
    "    # Initialize the forecast dataset with the original data\n",
    "    forecast_dataset = cluster_temp['trip_count']\n",
    "    \n",
    "    # Get the last date from the dataset\n",
    "    last_date = forecast_dataset.index[-1]\n",
    "    \n",
    "    # Initialize the predictions dictionary\n",
    "    predictions = {}\n",
    "    \n",
    "    # Roll forward until the end of 2022\n",
    "    while last_date < prediction_end:\n",
    "        # Fit the ARIMA model\n",
    "        model_order = arima_params[(cluster_to_predict, bike_type_to_predict)]['order']\n",
    "        model_seasonal = arima_params[(cluster_to_predict, bike_type_to_predict)]['seasonal_order']\n",
    "        model = ARIMA(cluster_temp['trip_count'], order=model_order, seasonal_order=model_seasonal ,freq='D')\n",
    "        fitted_model = model.fit()\n",
    "        \n",
    "        # Forecast the next time point\n",
    "        next_forecast = fitted_model.forecast()[0]\n",
    "        \n",
    "        # Append the forecast to the dataset for the next round\n",
    "        last_date += pd.Timedelta(days=1)\n",
    "        forecast_dataset.at[last_date] = next_forecast\n",
    "        \n",
    "        # Store the forecast in the predictions dictionary\n",
    "        predictions[last_date] = next_forecast\n",
    "    \n",
    "    # Print all the predictions\n",
    "    #for date, count in predictions.items():\n",
    "    #    print(f\"Date: {date.date()}, Predicted trip_count: {count}\")\n",
    "    \n",
    "    # Retrieve the forecast for the specified date_to_predict\n",
    "    predicted_count = predictions.get(date_to_predict, None)\n",
    "    if predicted_count is None:\n",
    "        raise ValueError(f\"No prediction available for {date_to_predict}.\")\n",
    "    \n",
    "    return predicted_count\n",
    "\n",
    "# Assuming electric_bike_train and classic_bike_train are defined and arima_params is set\n",
    "# Here's an example call to the function for electric bikes and cluster 0 for a specific date\n",
    "# predicted_count = demand_forecasting(0, 'electric_bike', '2022-08-15')\n",
    "\n",
    "\n"
   ]
  },
  {
   "cell_type": "code",
   "execution_count": null,
   "metadata": {},
   "outputs": [
    {
     "name": "stderr",
     "output_type": "stream",
     "text": [
      "c:\\Users\\TYS\\AppData\\Local\\Programs\\Python\\Python311\\Lib\\site-packages\\statsmodels\\tsa\\base\\tsa_model.py:473: ValueWarning: No frequency information was provided, so inferred frequency D will be used.\n",
      "  self._init_dates(dates, freq)\n",
      "C:\\Users\\TYS\\AppData\\Local\\Temp\\ipykernel_59812\\270573817.py:51: SettingWithCopyWarning: \n",
      "A value is trying to be set on a copy of a slice from a DataFrame\n",
      "\n",
      "See the caveats in the documentation: https://pandas.pydata.org/pandas-docs/stable/user_guide/indexing.html#returning-a-view-versus-a-copy\n",
      "  forecast_dataset.at[last_date] = next_forecast\n",
      "c:\\Users\\TYS\\AppData\\Local\\Programs\\Python\\Python311\\Lib\\site-packages\\statsmodels\\tsa\\base\\tsa_model.py:473: ValueWarning: No frequency information was provided, so inferred frequency D will be used.\n",
      "  self._init_dates(dates, freq)\n",
      "C:\\Users\\TYS\\AppData\\Local\\Temp\\ipykernel_59812\\270573817.py:51: SettingWithCopyWarning: \n",
      "A value is trying to be set on a copy of a slice from a DataFrame\n",
      "\n",
      "See the caveats in the documentation: https://pandas.pydata.org/pandas-docs/stable/user_guide/indexing.html#returning-a-view-versus-a-copy\n",
      "  forecast_dataset.at[last_date] = next_forecast\n",
      "c:\\Users\\TYS\\AppData\\Local\\Programs\\Python\\Python311\\Lib\\site-packages\\statsmodels\\tsa\\base\\tsa_model.py:473: ValueWarning: No frequency information was provided, so inferred frequency D will be used.\n",
      "  self._init_dates(dates, freq)\n",
      "C:\\Users\\TYS\\AppData\\Local\\Temp\\ipykernel_59812\\270573817.py:51: SettingWithCopyWarning: \n",
      "A value is trying to be set on a copy of a slice from a DataFrame\n",
      "\n",
      "See the caveats in the documentation: https://pandas.pydata.org/pandas-docs/stable/user_guide/indexing.html#returning-a-view-versus-a-copy\n",
      "  forecast_dataset.at[last_date] = next_forecast\n",
      "c:\\Users\\TYS\\AppData\\Local\\Programs\\Python\\Python311\\Lib\\site-packages\\statsmodels\\tsa\\base\\tsa_model.py:473: ValueWarning: No frequency information was provided, so inferred frequency D will be used.\n",
      "  self._init_dates(dates, freq)\n",
      "C:\\Users\\TYS\\AppData\\Local\\Temp\\ipykernel_59812\\270573817.py:51: SettingWithCopyWarning: \n",
      "A value is trying to be set on a copy of a slice from a DataFrame\n",
      "\n",
      "See the caveats in the documentation: https://pandas.pydata.org/pandas-docs/stable/user_guide/indexing.html#returning-a-view-versus-a-copy\n",
      "  forecast_dataset.at[last_date] = next_forecast\n",
      "c:\\Users\\TYS\\AppData\\Local\\Programs\\Python\\Python311\\Lib\\site-packages\\statsmodels\\tsa\\base\\tsa_model.py:473: ValueWarning: No frequency information was provided, so inferred frequency D will be used.\n",
      "  self._init_dates(dates, freq)\n",
      "C:\\Users\\TYS\\AppData\\Local\\Temp\\ipykernel_59812\\270573817.py:51: SettingWithCopyWarning: \n",
      "A value is trying to be set on a copy of a slice from a DataFrame\n",
      "\n",
      "See the caveats in the documentation: https://pandas.pydata.org/pandas-docs/stable/user_guide/indexing.html#returning-a-view-versus-a-copy\n",
      "  forecast_dataset.at[last_date] = next_forecast\n",
      "c:\\Users\\TYS\\AppData\\Local\\Programs\\Python\\Python311\\Lib\\site-packages\\statsmodels\\tsa\\base\\tsa_model.py:473: ValueWarning: No frequency information was provided, so inferred frequency D will be used.\n",
      "  self._init_dates(dates, freq)\n",
      "C:\\Users\\TYS\\AppData\\Local\\Temp\\ipykernel_59812\\270573817.py:51: SettingWithCopyWarning: \n",
      "A value is trying to be set on a copy of a slice from a DataFrame\n",
      "\n",
      "See the caveats in the documentation: https://pandas.pydata.org/pandas-docs/stable/user_guide/indexing.html#returning-a-view-versus-a-copy\n",
      "  forecast_dataset.at[last_date] = next_forecast\n",
      "c:\\Users\\TYS\\AppData\\Local\\Programs\\Python\\Python311\\Lib\\site-packages\\statsmodels\\tsa\\base\\tsa_model.py:473: ValueWarning: No frequency information was provided, so inferred frequency D will be used.\n",
      "  self._init_dates(dates, freq)\n",
      "C:\\Users\\TYS\\AppData\\Local\\Temp\\ipykernel_59812\\270573817.py:51: SettingWithCopyWarning: \n",
      "A value is trying to be set on a copy of a slice from a DataFrame\n",
      "\n",
      "See the caveats in the documentation: https://pandas.pydata.org/pandas-docs/stable/user_guide/indexing.html#returning-a-view-versus-a-copy\n",
      "  forecast_dataset.at[last_date] = next_forecast\n",
      "c:\\Users\\TYS\\AppData\\Local\\Programs\\Python\\Python311\\Lib\\site-packages\\statsmodels\\tsa\\base\\tsa_model.py:473: ValueWarning: No frequency information was provided, so inferred frequency D will be used.\n",
      "  self._init_dates(dates, freq)\n",
      "C:\\Users\\TYS\\AppData\\Local\\Temp\\ipykernel_59812\\270573817.py:51: SettingWithCopyWarning: \n",
      "A value is trying to be set on a copy of a slice from a DataFrame\n",
      "\n",
      "See the caveats in the documentation: https://pandas.pydata.org/pandas-docs/stable/user_guide/indexing.html#returning-a-view-versus-a-copy\n",
      "  forecast_dataset.at[last_date] = next_forecast\n",
      "c:\\Users\\TYS\\AppData\\Local\\Programs\\Python\\Python311\\Lib\\site-packages\\statsmodels\\tsa\\base\\tsa_model.py:473: ValueWarning: No frequency information was provided, so inferred frequency D will be used.\n",
      "  self._init_dates(dates, freq)\n",
      "C:\\Users\\TYS\\AppData\\Local\\Temp\\ipykernel_59812\\270573817.py:51: SettingWithCopyWarning: \n",
      "A value is trying to be set on a copy of a slice from a DataFrame\n",
      "\n",
      "See the caveats in the documentation: https://pandas.pydata.org/pandas-docs/stable/user_guide/indexing.html#returning-a-view-versus-a-copy\n",
      "  forecast_dataset.at[last_date] = next_forecast\n",
      "c:\\Users\\TYS\\AppData\\Local\\Programs\\Python\\Python311\\Lib\\site-packages\\statsmodels\\tsa\\base\\tsa_model.py:473: ValueWarning: No frequency information was provided, so inferred frequency D will be used.\n",
      "  self._init_dates(dates, freq)\n",
      "C:\\Users\\TYS\\AppData\\Local\\Temp\\ipykernel_59812\\270573817.py:51: SettingWithCopyWarning: \n",
      "A value is trying to be set on a copy of a slice from a DataFrame\n",
      "\n",
      "See the caveats in the documentation: https://pandas.pydata.org/pandas-docs/stable/user_guide/indexing.html#returning-a-view-versus-a-copy\n",
      "  forecast_dataset.at[last_date] = next_forecast\n",
      "c:\\Users\\TYS\\AppData\\Local\\Programs\\Python\\Python311\\Lib\\site-packages\\statsmodels\\tsa\\base\\tsa_model.py:473: ValueWarning: No frequency information was provided, so inferred frequency D will be used.\n",
      "  self._init_dates(dates, freq)\n",
      "C:\\Users\\TYS\\AppData\\Local\\Temp\\ipykernel_59812\\270573817.py:51: SettingWithCopyWarning: \n",
      "A value is trying to be set on a copy of a slice from a DataFrame\n",
      "\n",
      "See the caveats in the documentation: https://pandas.pydata.org/pandas-docs/stable/user_guide/indexing.html#returning-a-view-versus-a-copy\n",
      "  forecast_dataset.at[last_date] = next_forecast\n",
      "c:\\Users\\TYS\\AppData\\Local\\Programs\\Python\\Python311\\Lib\\site-packages\\statsmodels\\tsa\\base\\tsa_model.py:473: ValueWarning: No frequency information was provided, so inferred frequency D will be used.\n",
      "  self._init_dates(dates, freq)\n",
      "C:\\Users\\TYS\\AppData\\Local\\Temp\\ipykernel_59812\\270573817.py:51: SettingWithCopyWarning: \n",
      "A value is trying to be set on a copy of a slice from a DataFrame\n",
      "\n",
      "See the caveats in the documentation: https://pandas.pydata.org/pandas-docs/stable/user_guide/indexing.html#returning-a-view-versus-a-copy\n",
      "  forecast_dataset.at[last_date] = next_forecast\n",
      "c:\\Users\\TYS\\AppData\\Local\\Programs\\Python\\Python311\\Lib\\site-packages\\statsmodels\\tsa\\base\\tsa_model.py:473: ValueWarning: No frequency information was provided, so inferred frequency D will be used.\n",
      "  self._init_dates(dates, freq)\n",
      "C:\\Users\\TYS\\AppData\\Local\\Temp\\ipykernel_59812\\270573817.py:51: SettingWithCopyWarning: \n",
      "A value is trying to be set on a copy of a slice from a DataFrame\n",
      "\n",
      "See the caveats in the documentation: https://pandas.pydata.org/pandas-docs/stable/user_guide/indexing.html#returning-a-view-versus-a-copy\n",
      "  forecast_dataset.at[last_date] = next_forecast\n",
      "c:\\Users\\TYS\\AppData\\Local\\Programs\\Python\\Python311\\Lib\\site-packages\\statsmodels\\tsa\\base\\tsa_model.py:473: ValueWarning: No frequency information was provided, so inferred frequency D will be used.\n",
      "  self._init_dates(dates, freq)\n",
      "C:\\Users\\TYS\\AppData\\Local\\Temp\\ipykernel_59812\\270573817.py:51: SettingWithCopyWarning: \n",
      "A value is trying to be set on a copy of a slice from a DataFrame\n",
      "\n",
      "See the caveats in the documentation: https://pandas.pydata.org/pandas-docs/stable/user_guide/indexing.html#returning-a-view-versus-a-copy\n",
      "  forecast_dataset.at[last_date] = next_forecast\n",
      "c:\\Users\\TYS\\AppData\\Local\\Programs\\Python\\Python311\\Lib\\site-packages\\statsmodels\\tsa\\base\\tsa_model.py:473: ValueWarning: No frequency information was provided, so inferred frequency D will be used.\n",
      "  self._init_dates(dates, freq)\n",
      "C:\\Users\\TYS\\AppData\\Local\\Temp\\ipykernel_59812\\270573817.py:51: SettingWithCopyWarning: \n",
      "A value is trying to be set on a copy of a slice from a DataFrame\n",
      "\n",
      "See the caveats in the documentation: https://pandas.pydata.org/pandas-docs/stable/user_guide/indexing.html#returning-a-view-versus-a-copy\n",
      "  forecast_dataset.at[last_date] = next_forecast\n",
      "c:\\Users\\TYS\\AppData\\Local\\Programs\\Python\\Python311\\Lib\\site-packages\\statsmodels\\tsa\\base\\tsa_model.py:473: ValueWarning: No frequency information was provided, so inferred frequency D will be used.\n",
      "  self._init_dates(dates, freq)\n",
      "C:\\Users\\TYS\\AppData\\Local\\Temp\\ipykernel_59812\\270573817.py:51: SettingWithCopyWarning: \n",
      "A value is trying to be set on a copy of a slice from a DataFrame\n",
      "\n",
      "See the caveats in the documentation: https://pandas.pydata.org/pandas-docs/stable/user_guide/indexing.html#returning-a-view-versus-a-copy\n",
      "  forecast_dataset.at[last_date] = next_forecast\n",
      "c:\\Users\\TYS\\AppData\\Local\\Programs\\Python\\Python311\\Lib\\site-packages\\statsmodels\\tsa\\base\\tsa_model.py:473: ValueWarning: No frequency information was provided, so inferred frequency D will be used.\n",
      "  self._init_dates(dates, freq)\n",
      "C:\\Users\\TYS\\AppData\\Local\\Temp\\ipykernel_59812\\270573817.py:51: SettingWithCopyWarning: \n",
      "A value is trying to be set on a copy of a slice from a DataFrame\n",
      "\n",
      "See the caveats in the documentation: https://pandas.pydata.org/pandas-docs/stable/user_guide/indexing.html#returning-a-view-versus-a-copy\n",
      "  forecast_dataset.at[last_date] = next_forecast\n",
      "c:\\Users\\TYS\\AppData\\Local\\Programs\\Python\\Python311\\Lib\\site-packages\\statsmodels\\tsa\\base\\tsa_model.py:473: ValueWarning: No frequency information was provided, so inferred frequency D will be used.\n",
      "  self._init_dates(dates, freq)\n",
      "C:\\Users\\TYS\\AppData\\Local\\Temp\\ipykernel_59812\\270573817.py:51: SettingWithCopyWarning: \n",
      "A value is trying to be set on a copy of a slice from a DataFrame\n",
      "\n",
      "See the caveats in the documentation: https://pandas.pydata.org/pandas-docs/stable/user_guide/indexing.html#returning-a-view-versus-a-copy\n",
      "  forecast_dataset.at[last_date] = next_forecast\n",
      "c:\\Users\\TYS\\AppData\\Local\\Programs\\Python\\Python311\\Lib\\site-packages\\statsmodels\\tsa\\base\\tsa_model.py:473: ValueWarning: No frequency information was provided, so inferred frequency D will be used.\n",
      "  self._init_dates(dates, freq)\n",
      "C:\\Users\\TYS\\AppData\\Local\\Temp\\ipykernel_59812\\270573817.py:51: SettingWithCopyWarning: \n",
      "A value is trying to be set on a copy of a slice from a DataFrame\n",
      "\n",
      "See the caveats in the documentation: https://pandas.pydata.org/pandas-docs/stable/user_guide/indexing.html#returning-a-view-versus-a-copy\n",
      "  forecast_dataset.at[last_date] = next_forecast\n",
      "c:\\Users\\TYS\\AppData\\Local\\Programs\\Python\\Python311\\Lib\\site-packages\\statsmodels\\tsa\\base\\tsa_model.py:473: ValueWarning: No frequency information was provided, so inferred frequency D will be used.\n",
      "  self._init_dates(dates, freq)\n",
      "C:\\Users\\TYS\\AppData\\Local\\Temp\\ipykernel_59812\\270573817.py:51: SettingWithCopyWarning: \n",
      "A value is trying to be set on a copy of a slice from a DataFrame\n",
      "\n",
      "See the caveats in the documentation: https://pandas.pydata.org/pandas-docs/stable/user_guide/indexing.html#returning-a-view-versus-a-copy\n",
      "  forecast_dataset.at[last_date] = next_forecast\n",
      "c:\\Users\\TYS\\AppData\\Local\\Programs\\Python\\Python311\\Lib\\site-packages\\statsmodels\\tsa\\base\\tsa_model.py:473: ValueWarning: No frequency information was provided, so inferred frequency D will be used.\n",
      "  self._init_dates(dates, freq)\n",
      "C:\\Users\\TYS\\AppData\\Local\\Temp\\ipykernel_59812\\270573817.py:51: SettingWithCopyWarning: \n",
      "A value is trying to be set on a copy of a slice from a DataFrame\n",
      "\n",
      "See the caveats in the documentation: https://pandas.pydata.org/pandas-docs/stable/user_guide/indexing.html#returning-a-view-versus-a-copy\n",
      "  forecast_dataset.at[last_date] = next_forecast\n",
      "c:\\Users\\TYS\\AppData\\Local\\Programs\\Python\\Python311\\Lib\\site-packages\\statsmodels\\tsa\\base\\tsa_model.py:473: ValueWarning: No frequency information was provided, so inferred frequency D will be used.\n",
      "  self._init_dates(dates, freq)\n",
      "C:\\Users\\TYS\\AppData\\Local\\Temp\\ipykernel_59812\\270573817.py:51: SettingWithCopyWarning: \n",
      "A value is trying to be set on a copy of a slice from a DataFrame\n",
      "\n",
      "See the caveats in the documentation: https://pandas.pydata.org/pandas-docs/stable/user_guide/indexing.html#returning-a-view-versus-a-copy\n",
      "  forecast_dataset.at[last_date] = next_forecast\n",
      "c:\\Users\\TYS\\AppData\\Local\\Programs\\Python\\Python311\\Lib\\site-packages\\statsmodels\\tsa\\base\\tsa_model.py:473: ValueWarning: No frequency information was provided, so inferred frequency D will be used.\n",
      "  self._init_dates(dates, freq)\n",
      "C:\\Users\\TYS\\AppData\\Local\\Temp\\ipykernel_59812\\270573817.py:51: SettingWithCopyWarning: \n",
      "A value is trying to be set on a copy of a slice from a DataFrame\n",
      "\n",
      "See the caveats in the documentation: https://pandas.pydata.org/pandas-docs/stable/user_guide/indexing.html#returning-a-view-versus-a-copy\n",
      "  forecast_dataset.at[last_date] = next_forecast\n",
      "c:\\Users\\TYS\\AppData\\Local\\Programs\\Python\\Python311\\Lib\\site-packages\\statsmodels\\tsa\\base\\tsa_model.py:473: ValueWarning: No frequency information was provided, so inferred frequency D will be used.\n",
      "  self._init_dates(dates, freq)\n",
      "C:\\Users\\TYS\\AppData\\Local\\Temp\\ipykernel_59812\\270573817.py:51: SettingWithCopyWarning: \n",
      "A value is trying to be set on a copy of a slice from a DataFrame\n",
      "\n",
      "See the caveats in the documentation: https://pandas.pydata.org/pandas-docs/stable/user_guide/indexing.html#returning-a-view-versus-a-copy\n",
      "  forecast_dataset.at[last_date] = next_forecast\n",
      "c:\\Users\\TYS\\AppData\\Local\\Programs\\Python\\Python311\\Lib\\site-packages\\statsmodels\\tsa\\base\\tsa_model.py:473: ValueWarning: No frequency information was provided, so inferred frequency D will be used.\n",
      "  self._init_dates(dates, freq)\n",
      "C:\\Users\\TYS\\AppData\\Local\\Temp\\ipykernel_59812\\270573817.py:51: SettingWithCopyWarning: \n",
      "A value is trying to be set on a copy of a slice from a DataFrame\n",
      "\n",
      "See the caveats in the documentation: https://pandas.pydata.org/pandas-docs/stable/user_guide/indexing.html#returning-a-view-versus-a-copy\n",
      "  forecast_dataset.at[last_date] = next_forecast\n",
      "c:\\Users\\TYS\\AppData\\Local\\Programs\\Python\\Python311\\Lib\\site-packages\\statsmodels\\tsa\\base\\tsa_model.py:473: ValueWarning: No frequency information was provided, so inferred frequency D will be used.\n",
      "  self._init_dates(dates, freq)\n",
      "C:\\Users\\TYS\\AppData\\Local\\Temp\\ipykernel_59812\\270573817.py:51: SettingWithCopyWarning: \n",
      "A value is trying to be set on a copy of a slice from a DataFrame\n",
      "\n",
      "See the caveats in the documentation: https://pandas.pydata.org/pandas-docs/stable/user_guide/indexing.html#returning-a-view-versus-a-copy\n",
      "  forecast_dataset.at[last_date] = next_forecast\n",
      "c:\\Users\\TYS\\AppData\\Local\\Programs\\Python\\Python311\\Lib\\site-packages\\statsmodels\\tsa\\base\\tsa_model.py:473: ValueWarning: No frequency information was provided, so inferred frequency D will be used.\n",
      "  self._init_dates(dates, freq)\n",
      "C:\\Users\\TYS\\AppData\\Local\\Temp\\ipykernel_59812\\270573817.py:51: SettingWithCopyWarning: \n",
      "A value is trying to be set on a copy of a slice from a DataFrame\n",
      "\n",
      "See the caveats in the documentation: https://pandas.pydata.org/pandas-docs/stable/user_guide/indexing.html#returning-a-view-versus-a-copy\n",
      "  forecast_dataset.at[last_date] = next_forecast\n",
      "c:\\Users\\TYS\\AppData\\Local\\Programs\\Python\\Python311\\Lib\\site-packages\\statsmodels\\tsa\\base\\tsa_model.py:473: ValueWarning: No frequency information was provided, so inferred frequency D will be used.\n",
      "  self._init_dates(dates, freq)\n",
      "C:\\Users\\TYS\\AppData\\Local\\Temp\\ipykernel_59812\\270573817.py:51: SettingWithCopyWarning: \n",
      "A value is trying to be set on a copy of a slice from a DataFrame\n",
      "\n",
      "See the caveats in the documentation: https://pandas.pydata.org/pandas-docs/stable/user_guide/indexing.html#returning-a-view-versus-a-copy\n",
      "  forecast_dataset.at[last_date] = next_forecast\n",
      "c:\\Users\\TYS\\AppData\\Local\\Programs\\Python\\Python311\\Lib\\site-packages\\statsmodels\\tsa\\base\\tsa_model.py:473: ValueWarning: No frequency information was provided, so inferred frequency D will be used.\n",
      "  self._init_dates(dates, freq)\n",
      "C:\\Users\\TYS\\AppData\\Local\\Temp\\ipykernel_59812\\270573817.py:51: SettingWithCopyWarning: \n",
      "A value is trying to be set on a copy of a slice from a DataFrame\n",
      "\n",
      "See the caveats in the documentation: https://pandas.pydata.org/pandas-docs/stable/user_guide/indexing.html#returning-a-view-versus-a-copy\n",
      "  forecast_dataset.at[last_date] = next_forecast\n",
      "c:\\Users\\TYS\\AppData\\Local\\Programs\\Python\\Python311\\Lib\\site-packages\\statsmodels\\tsa\\base\\tsa_model.py:473: ValueWarning: No frequency information was provided, so inferred frequency D will be used.\n",
      "  self._init_dates(dates, freq)\n",
      "C:\\Users\\TYS\\AppData\\Local\\Temp\\ipykernel_59812\\270573817.py:51: SettingWithCopyWarning: \n",
      "A value is trying to be set on a copy of a slice from a DataFrame\n",
      "\n",
      "See the caveats in the documentation: https://pandas.pydata.org/pandas-docs/stable/user_guide/indexing.html#returning-a-view-versus-a-copy\n",
      "  forecast_dataset.at[last_date] = next_forecast\n",
      "c:\\Users\\TYS\\AppData\\Local\\Programs\\Python\\Python311\\Lib\\site-packages\\statsmodels\\tsa\\base\\tsa_model.py:473: ValueWarning: No frequency information was provided, so inferred frequency D will be used.\n",
      "  self._init_dates(dates, freq)\n",
      "C:\\Users\\TYS\\AppData\\Local\\Temp\\ipykernel_59812\\270573817.py:51: SettingWithCopyWarning: \n",
      "A value is trying to be set on a copy of a slice from a DataFrame\n",
      "\n",
      "See the caveats in the documentation: https://pandas.pydata.org/pandas-docs/stable/user_guide/indexing.html#returning-a-view-versus-a-copy\n",
      "  forecast_dataset.at[last_date] = next_forecast\n",
      "c:\\Users\\TYS\\AppData\\Local\\Programs\\Python\\Python311\\Lib\\site-packages\\statsmodels\\tsa\\base\\tsa_model.py:473: ValueWarning: No frequency information was provided, so inferred frequency D will be used.\n",
      "  self._init_dates(dates, freq)\n",
      "C:\\Users\\TYS\\AppData\\Local\\Temp\\ipykernel_59812\\270573817.py:51: SettingWithCopyWarning: \n",
      "A value is trying to be set on a copy of a slice from a DataFrame\n",
      "\n",
      "See the caveats in the documentation: https://pandas.pydata.org/pandas-docs/stable/user_guide/indexing.html#returning-a-view-versus-a-copy\n",
      "  forecast_dataset.at[last_date] = next_forecast\n",
      "c:\\Users\\TYS\\AppData\\Local\\Programs\\Python\\Python311\\Lib\\site-packages\\statsmodels\\tsa\\base\\tsa_model.py:473: ValueWarning: No frequency information was provided, so inferred frequency D will be used.\n",
      "  self._init_dates(dates, freq)\n",
      "C:\\Users\\TYS\\AppData\\Local\\Temp\\ipykernel_59812\\270573817.py:51: SettingWithCopyWarning: \n",
      "A value is trying to be set on a copy of a slice from a DataFrame\n",
      "\n",
      "See the caveats in the documentation: https://pandas.pydata.org/pandas-docs/stable/user_guide/indexing.html#returning-a-view-versus-a-copy\n",
      "  forecast_dataset.at[last_date] = next_forecast\n",
      "c:\\Users\\TYS\\AppData\\Local\\Programs\\Python\\Python311\\Lib\\site-packages\\statsmodels\\tsa\\base\\tsa_model.py:473: ValueWarning: No frequency information was provided, so inferred frequency D will be used.\n",
      "  self._init_dates(dates, freq)\n",
      "C:\\Users\\TYS\\AppData\\Local\\Temp\\ipykernel_59812\\270573817.py:51: SettingWithCopyWarning: \n",
      "A value is trying to be set on a copy of a slice from a DataFrame\n",
      "\n",
      "See the caveats in the documentation: https://pandas.pydata.org/pandas-docs/stable/user_guide/indexing.html#returning-a-view-versus-a-copy\n",
      "  forecast_dataset.at[last_date] = next_forecast\n",
      "c:\\Users\\TYS\\AppData\\Local\\Programs\\Python\\Python311\\Lib\\site-packages\\statsmodels\\tsa\\base\\tsa_model.py:473: ValueWarning: No frequency information was provided, so inferred frequency D will be used.\n",
      "  self._init_dates(dates, freq)\n",
      "C:\\Users\\TYS\\AppData\\Local\\Temp\\ipykernel_59812\\270573817.py:51: SettingWithCopyWarning: \n",
      "A value is trying to be set on a copy of a slice from a DataFrame\n",
      "\n",
      "See the caveats in the documentation: https://pandas.pydata.org/pandas-docs/stable/user_guide/indexing.html#returning-a-view-versus-a-copy\n",
      "  forecast_dataset.at[last_date] = next_forecast\n",
      "c:\\Users\\TYS\\AppData\\Local\\Programs\\Python\\Python311\\Lib\\site-packages\\statsmodels\\tsa\\base\\tsa_model.py:473: ValueWarning: No frequency information was provided, so inferred frequency D will be used.\n",
      "  self._init_dates(dates, freq)\n",
      "C:\\Users\\TYS\\AppData\\Local\\Temp\\ipykernel_59812\\270573817.py:51: SettingWithCopyWarning: \n",
      "A value is trying to be set on a copy of a slice from a DataFrame\n",
      "\n",
      "See the caveats in the documentation: https://pandas.pydata.org/pandas-docs/stable/user_guide/indexing.html#returning-a-view-versus-a-copy\n",
      "  forecast_dataset.at[last_date] = next_forecast\n",
      "c:\\Users\\TYS\\AppData\\Local\\Programs\\Python\\Python311\\Lib\\site-packages\\statsmodels\\tsa\\base\\tsa_model.py:473: ValueWarning: No frequency information was provided, so inferred frequency D will be used.\n",
      "  self._init_dates(dates, freq)\n",
      "C:\\Users\\TYS\\AppData\\Local\\Temp\\ipykernel_59812\\270573817.py:51: SettingWithCopyWarning: \n",
      "A value is trying to be set on a copy of a slice from a DataFrame\n",
      "\n",
      "See the caveats in the documentation: https://pandas.pydata.org/pandas-docs/stable/user_guide/indexing.html#returning-a-view-versus-a-copy\n",
      "  forecast_dataset.at[last_date] = next_forecast\n",
      "c:\\Users\\TYS\\AppData\\Local\\Programs\\Python\\Python311\\Lib\\site-packages\\statsmodels\\tsa\\base\\tsa_model.py:473: ValueWarning: No frequency information was provided, so inferred frequency D will be used.\n",
      "  self._init_dates(dates, freq)\n",
      "C:\\Users\\TYS\\AppData\\Local\\Temp\\ipykernel_59812\\270573817.py:51: SettingWithCopyWarning: \n",
      "A value is trying to be set on a copy of a slice from a DataFrame\n",
      "\n",
      "See the caveats in the documentation: https://pandas.pydata.org/pandas-docs/stable/user_guide/indexing.html#returning-a-view-versus-a-copy\n",
      "  forecast_dataset.at[last_date] = next_forecast\n",
      "c:\\Users\\TYS\\AppData\\Local\\Programs\\Python\\Python311\\Lib\\site-packages\\statsmodels\\tsa\\base\\tsa_model.py:473: ValueWarning: No frequency information was provided, so inferred frequency D will be used.\n",
      "  self._init_dates(dates, freq)\n",
      "C:\\Users\\TYS\\AppData\\Local\\Temp\\ipykernel_59812\\270573817.py:51: SettingWithCopyWarning: \n",
      "A value is trying to be set on a copy of a slice from a DataFrame\n",
      "\n",
      "See the caveats in the documentation: https://pandas.pydata.org/pandas-docs/stable/user_guide/indexing.html#returning-a-view-versus-a-copy\n",
      "  forecast_dataset.at[last_date] = next_forecast\n",
      "c:\\Users\\TYS\\AppData\\Local\\Programs\\Python\\Python311\\Lib\\site-packages\\statsmodels\\tsa\\base\\tsa_model.py:473: ValueWarning: No frequency information was provided, so inferred frequency D will be used.\n",
      "  self._init_dates(dates, freq)\n",
      "C:\\Users\\TYS\\AppData\\Local\\Temp\\ipykernel_59812\\270573817.py:51: SettingWithCopyWarning: \n",
      "A value is trying to be set on a copy of a slice from a DataFrame\n",
      "\n",
      "See the caveats in the documentation: https://pandas.pydata.org/pandas-docs/stable/user_guide/indexing.html#returning-a-view-versus-a-copy\n",
      "  forecast_dataset.at[last_date] = next_forecast\n",
      "c:\\Users\\TYS\\AppData\\Local\\Programs\\Python\\Python311\\Lib\\site-packages\\statsmodels\\tsa\\base\\tsa_model.py:473: ValueWarning: No frequency information was provided, so inferred frequency D will be used.\n",
      "  self._init_dates(dates, freq)\n",
      "C:\\Users\\TYS\\AppData\\Local\\Temp\\ipykernel_59812\\270573817.py:51: SettingWithCopyWarning: \n",
      "A value is trying to be set on a copy of a slice from a DataFrame\n",
      "\n",
      "See the caveats in the documentation: https://pandas.pydata.org/pandas-docs/stable/user_guide/indexing.html#returning-a-view-versus-a-copy\n",
      "  forecast_dataset.at[last_date] = next_forecast\n",
      "c:\\Users\\TYS\\AppData\\Local\\Programs\\Python\\Python311\\Lib\\site-packages\\statsmodels\\tsa\\base\\tsa_model.py:473: ValueWarning: No frequency information was provided, so inferred frequency D will be used.\n",
      "  self._init_dates(dates, freq)\n",
      "C:\\Users\\TYS\\AppData\\Local\\Temp\\ipykernel_59812\\270573817.py:51: SettingWithCopyWarning: \n",
      "A value is trying to be set on a copy of a slice from a DataFrame\n",
      "\n",
      "See the caveats in the documentation: https://pandas.pydata.org/pandas-docs/stable/user_guide/indexing.html#returning-a-view-versus-a-copy\n",
      "  forecast_dataset.at[last_date] = next_forecast\n",
      "c:\\Users\\TYS\\AppData\\Local\\Programs\\Python\\Python311\\Lib\\site-packages\\statsmodels\\tsa\\base\\tsa_model.py:473: ValueWarning: No frequency information was provided, so inferred frequency D will be used.\n",
      "  self._init_dates(dates, freq)\n",
      "C:\\Users\\TYS\\AppData\\Local\\Temp\\ipykernel_59812\\270573817.py:51: SettingWithCopyWarning: \n",
      "A value is trying to be set on a copy of a slice from a DataFrame\n",
      "\n",
      "See the caveats in the documentation: https://pandas.pydata.org/pandas-docs/stable/user_guide/indexing.html#returning-a-view-versus-a-copy\n",
      "  forecast_dataset.at[last_date] = next_forecast\n",
      "c:\\Users\\TYS\\AppData\\Local\\Programs\\Python\\Python311\\Lib\\site-packages\\statsmodels\\tsa\\base\\tsa_model.py:473: ValueWarning: No frequency information was provided, so inferred frequency D will be used.\n",
      "  self._init_dates(dates, freq)\n",
      "C:\\Users\\TYS\\AppData\\Local\\Temp\\ipykernel_59812\\270573817.py:51: SettingWithCopyWarning: \n",
      "A value is trying to be set on a copy of a slice from a DataFrame\n",
      "\n",
      "See the caveats in the documentation: https://pandas.pydata.org/pandas-docs/stable/user_guide/indexing.html#returning-a-view-versus-a-copy\n",
      "  forecast_dataset.at[last_date] = next_forecast\n",
      "c:\\Users\\TYS\\AppData\\Local\\Programs\\Python\\Python311\\Lib\\site-packages\\statsmodels\\tsa\\base\\tsa_model.py:473: ValueWarning: No frequency information was provided, so inferred frequency D will be used.\n",
      "  self._init_dates(dates, freq)\n",
      "C:\\Users\\TYS\\AppData\\Local\\Temp\\ipykernel_59812\\270573817.py:51: SettingWithCopyWarning: \n",
      "A value is trying to be set on a copy of a slice from a DataFrame\n",
      "\n",
      "See the caveats in the documentation: https://pandas.pydata.org/pandas-docs/stable/user_guide/indexing.html#returning-a-view-versus-a-copy\n",
      "  forecast_dataset.at[last_date] = next_forecast\n",
      "c:\\Users\\TYS\\AppData\\Local\\Programs\\Python\\Python311\\Lib\\site-packages\\statsmodels\\tsa\\base\\tsa_model.py:473: ValueWarning: No frequency information was provided, so inferred frequency D will be used.\n",
      "  self._init_dates(dates, freq)\n",
      "C:\\Users\\TYS\\AppData\\Local\\Temp\\ipykernel_59812\\270573817.py:51: SettingWithCopyWarning: \n",
      "A value is trying to be set on a copy of a slice from a DataFrame\n",
      "\n",
      "See the caveats in the documentation: https://pandas.pydata.org/pandas-docs/stable/user_guide/indexing.html#returning-a-view-versus-a-copy\n",
      "  forecast_dataset.at[last_date] = next_forecast\n",
      "c:\\Users\\TYS\\AppData\\Local\\Programs\\Python\\Python311\\Lib\\site-packages\\statsmodels\\tsa\\base\\tsa_model.py:473: ValueWarning: No frequency information was provided, so inferred frequency D will be used.\n",
      "  self._init_dates(dates, freq)\n",
      "C:\\Users\\TYS\\AppData\\Local\\Temp\\ipykernel_59812\\270573817.py:51: SettingWithCopyWarning: \n",
      "A value is trying to be set on a copy of a slice from a DataFrame\n",
      "\n",
      "See the caveats in the documentation: https://pandas.pydata.org/pandas-docs/stable/user_guide/indexing.html#returning-a-view-versus-a-copy\n",
      "  forecast_dataset.at[last_date] = next_forecast\n",
      "c:\\Users\\TYS\\AppData\\Local\\Programs\\Python\\Python311\\Lib\\site-packages\\statsmodels\\tsa\\base\\tsa_model.py:473: ValueWarning: No frequency information was provided, so inferred frequency D will be used.\n",
      "  self._init_dates(dates, freq)\n",
      "C:\\Users\\TYS\\AppData\\Local\\Temp\\ipykernel_59812\\270573817.py:51: SettingWithCopyWarning: \n",
      "A value is trying to be set on a copy of a slice from a DataFrame\n",
      "\n",
      "See the caveats in the documentation: https://pandas.pydata.org/pandas-docs/stable/user_guide/indexing.html#returning-a-view-versus-a-copy\n",
      "  forecast_dataset.at[last_date] = next_forecast\n",
      "c:\\Users\\TYS\\AppData\\Local\\Programs\\Python\\Python311\\Lib\\site-packages\\statsmodels\\tsa\\base\\tsa_model.py:473: ValueWarning: No frequency information was provided, so inferred frequency D will be used.\n",
      "  self._init_dates(dates, freq)\n",
      "C:\\Users\\TYS\\AppData\\Local\\Temp\\ipykernel_59812\\270573817.py:51: SettingWithCopyWarning: \n",
      "A value is trying to be set on a copy of a slice from a DataFrame\n",
      "\n",
      "See the caveats in the documentation: https://pandas.pydata.org/pandas-docs/stable/user_guide/indexing.html#returning-a-view-versus-a-copy\n",
      "  forecast_dataset.at[last_date] = next_forecast\n",
      "c:\\Users\\TYS\\AppData\\Local\\Programs\\Python\\Python311\\Lib\\site-packages\\statsmodels\\tsa\\base\\tsa_model.py:473: ValueWarning: No frequency information was provided, so inferred frequency D will be used.\n",
      "  self._init_dates(dates, freq)\n",
      "C:\\Users\\TYS\\AppData\\Local\\Temp\\ipykernel_59812\\270573817.py:51: SettingWithCopyWarning: \n",
      "A value is trying to be set on a copy of a slice from a DataFrame\n",
      "\n",
      "See the caveats in the documentation: https://pandas.pydata.org/pandas-docs/stable/user_guide/indexing.html#returning-a-view-versus-a-copy\n",
      "  forecast_dataset.at[last_date] = next_forecast\n",
      "c:\\Users\\TYS\\AppData\\Local\\Programs\\Python\\Python311\\Lib\\site-packages\\statsmodels\\tsa\\base\\tsa_model.py:473: ValueWarning: No frequency information was provided, so inferred frequency D will be used.\n",
      "  self._init_dates(dates, freq)\n",
      "C:\\Users\\TYS\\AppData\\Local\\Temp\\ipykernel_59812\\270573817.py:51: SettingWithCopyWarning: \n",
      "A value is trying to be set on a copy of a slice from a DataFrame\n",
      "\n",
      "See the caveats in the documentation: https://pandas.pydata.org/pandas-docs/stable/user_guide/indexing.html#returning-a-view-versus-a-copy\n",
      "  forecast_dataset.at[last_date] = next_forecast\n",
      "c:\\Users\\TYS\\AppData\\Local\\Programs\\Python\\Python311\\Lib\\site-packages\\statsmodels\\tsa\\base\\tsa_model.py:473: ValueWarning: No frequency information was provided, so inferred frequency D will be used.\n",
      "  self._init_dates(dates, freq)\n",
      "C:\\Users\\TYS\\AppData\\Local\\Temp\\ipykernel_59812\\270573817.py:51: SettingWithCopyWarning: \n",
      "A value is trying to be set on a copy of a slice from a DataFrame\n",
      "\n",
      "See the caveats in the documentation: https://pandas.pydata.org/pandas-docs/stable/user_guide/indexing.html#returning-a-view-versus-a-copy\n",
      "  forecast_dataset.at[last_date] = next_forecast\n",
      "c:\\Users\\TYS\\AppData\\Local\\Programs\\Python\\Python311\\Lib\\site-packages\\statsmodels\\tsa\\base\\tsa_model.py:473: ValueWarning: No frequency information was provided, so inferred frequency D will be used.\n",
      "  self._init_dates(dates, freq)\n",
      "C:\\Users\\TYS\\AppData\\Local\\Temp\\ipykernel_59812\\270573817.py:51: SettingWithCopyWarning: \n",
      "A value is trying to be set on a copy of a slice from a DataFrame\n",
      "\n",
      "See the caveats in the documentation: https://pandas.pydata.org/pandas-docs/stable/user_guide/indexing.html#returning-a-view-versus-a-copy\n",
      "  forecast_dataset.at[last_date] = next_forecast\n",
      "c:\\Users\\TYS\\AppData\\Local\\Programs\\Python\\Python311\\Lib\\site-packages\\statsmodels\\tsa\\base\\tsa_model.py:473: ValueWarning: No frequency information was provided, so inferred frequency D will be used.\n",
      "  self._init_dates(dates, freq)\n",
      "C:\\Users\\TYS\\AppData\\Local\\Temp\\ipykernel_59812\\270573817.py:51: SettingWithCopyWarning: \n",
      "A value is trying to be set on a copy of a slice from a DataFrame\n",
      "\n",
      "See the caveats in the documentation: https://pandas.pydata.org/pandas-docs/stable/user_guide/indexing.html#returning-a-view-versus-a-copy\n",
      "  forecast_dataset.at[last_date] = next_forecast\n",
      "c:\\Users\\TYS\\AppData\\Local\\Programs\\Python\\Python311\\Lib\\site-packages\\statsmodels\\tsa\\base\\tsa_model.py:473: ValueWarning: No frequency information was provided, so inferred frequency D will be used.\n",
      "  self._init_dates(dates, freq)\n",
      "C:\\Users\\TYS\\AppData\\Local\\Temp\\ipykernel_59812\\270573817.py:51: SettingWithCopyWarning: \n",
      "A value is trying to be set on a copy of a slice from a DataFrame\n",
      "\n",
      "See the caveats in the documentation: https://pandas.pydata.org/pandas-docs/stable/user_guide/indexing.html#returning-a-view-versus-a-copy\n",
      "  forecast_dataset.at[last_date] = next_forecast\n",
      "c:\\Users\\TYS\\AppData\\Local\\Programs\\Python\\Python311\\Lib\\site-packages\\statsmodels\\tsa\\base\\tsa_model.py:473: ValueWarning: No frequency information was provided, so inferred frequency D will be used.\n",
      "  self._init_dates(dates, freq)\n",
      "C:\\Users\\TYS\\AppData\\Local\\Temp\\ipykernel_59812\\270573817.py:51: SettingWithCopyWarning: \n",
      "A value is trying to be set on a copy of a slice from a DataFrame\n",
      "\n",
      "See the caveats in the documentation: https://pandas.pydata.org/pandas-docs/stable/user_guide/indexing.html#returning-a-view-versus-a-copy\n",
      "  forecast_dataset.at[last_date] = next_forecast\n",
      "c:\\Users\\TYS\\AppData\\Local\\Programs\\Python\\Python311\\Lib\\site-packages\\statsmodels\\tsa\\base\\tsa_model.py:473: ValueWarning: No frequency information was provided, so inferred frequency D will be used.\n",
      "  self._init_dates(dates, freq)\n",
      "C:\\Users\\TYS\\AppData\\Local\\Temp\\ipykernel_59812\\270573817.py:51: SettingWithCopyWarning: \n",
      "A value is trying to be set on a copy of a slice from a DataFrame\n",
      "\n",
      "See the caveats in the documentation: https://pandas.pydata.org/pandas-docs/stable/user_guide/indexing.html#returning-a-view-versus-a-copy\n",
      "  forecast_dataset.at[last_date] = next_forecast\n",
      "c:\\Users\\TYS\\AppData\\Local\\Programs\\Python\\Python311\\Lib\\site-packages\\statsmodels\\tsa\\base\\tsa_model.py:473: ValueWarning: No frequency information was provided, so inferred frequency D will be used.\n",
      "  self._init_dates(dates, freq)\n",
      "C:\\Users\\TYS\\AppData\\Local\\Temp\\ipykernel_59812\\270573817.py:51: SettingWithCopyWarning: \n",
      "A value is trying to be set on a copy of a slice from a DataFrame\n",
      "\n",
      "See the caveats in the documentation: https://pandas.pydata.org/pandas-docs/stable/user_guide/indexing.html#returning-a-view-versus-a-copy\n",
      "  forecast_dataset.at[last_date] = next_forecast\n",
      "c:\\Users\\TYS\\AppData\\Local\\Programs\\Python\\Python311\\Lib\\site-packages\\statsmodels\\tsa\\base\\tsa_model.py:473: ValueWarning: No frequency information was provided, so inferred frequency D will be used.\n",
      "  self._init_dates(dates, freq)\n",
      "C:\\Users\\TYS\\AppData\\Local\\Temp\\ipykernel_59812\\270573817.py:51: SettingWithCopyWarning: \n",
      "A value is trying to be set on a copy of a slice from a DataFrame\n",
      "\n",
      "See the caveats in the documentation: https://pandas.pydata.org/pandas-docs/stable/user_guide/indexing.html#returning-a-view-versus-a-copy\n",
      "  forecast_dataset.at[last_date] = next_forecast\n",
      "c:\\Users\\TYS\\AppData\\Local\\Programs\\Python\\Python311\\Lib\\site-packages\\statsmodels\\tsa\\base\\tsa_model.py:473: ValueWarning: No frequency information was provided, so inferred frequency D will be used.\n",
      "  self._init_dates(dates, freq)\n",
      "C:\\Users\\TYS\\AppData\\Local\\Temp\\ipykernel_59812\\270573817.py:51: SettingWithCopyWarning: \n",
      "A value is trying to be set on a copy of a slice from a DataFrame\n",
      "\n",
      "See the caveats in the documentation: https://pandas.pydata.org/pandas-docs/stable/user_guide/indexing.html#returning-a-view-versus-a-copy\n",
      "  forecast_dataset.at[last_date] = next_forecast\n",
      "c:\\Users\\TYS\\AppData\\Local\\Programs\\Python\\Python311\\Lib\\site-packages\\statsmodels\\tsa\\base\\tsa_model.py:473: ValueWarning: No frequency information was provided, so inferred frequency D will be used.\n",
      "  self._init_dates(dates, freq)\n",
      "C:\\Users\\TYS\\AppData\\Local\\Temp\\ipykernel_59812\\270573817.py:51: SettingWithCopyWarning: \n",
      "A value is trying to be set on a copy of a slice from a DataFrame\n",
      "\n",
      "See the caveats in the documentation: https://pandas.pydata.org/pandas-docs/stable/user_guide/indexing.html#returning-a-view-versus-a-copy\n",
      "  forecast_dataset.at[last_date] = next_forecast\n",
      "c:\\Users\\TYS\\AppData\\Local\\Programs\\Python\\Python311\\Lib\\site-packages\\statsmodels\\tsa\\base\\tsa_model.py:473: ValueWarning: No frequency information was provided, so inferred frequency D will be used.\n",
      "  self._init_dates(dates, freq)\n",
      "C:\\Users\\TYS\\AppData\\Local\\Temp\\ipykernel_59812\\270573817.py:51: SettingWithCopyWarning: \n",
      "A value is trying to be set on a copy of a slice from a DataFrame\n",
      "\n",
      "See the caveats in the documentation: https://pandas.pydata.org/pandas-docs/stable/user_guide/indexing.html#returning-a-view-versus-a-copy\n",
      "  forecast_dataset.at[last_date] = next_forecast\n",
      "c:\\Users\\TYS\\AppData\\Local\\Programs\\Python\\Python311\\Lib\\site-packages\\statsmodels\\tsa\\base\\tsa_model.py:473: ValueWarning: No frequency information was provided, so inferred frequency D will be used.\n",
      "  self._init_dates(dates, freq)\n",
      "C:\\Users\\TYS\\AppData\\Local\\Temp\\ipykernel_59812\\270573817.py:51: SettingWithCopyWarning: \n",
      "A value is trying to be set on a copy of a slice from a DataFrame\n",
      "\n",
      "See the caveats in the documentation: https://pandas.pydata.org/pandas-docs/stable/user_guide/indexing.html#returning-a-view-versus-a-copy\n",
      "  forecast_dataset.at[last_date] = next_forecast\n",
      "c:\\Users\\TYS\\AppData\\Local\\Programs\\Python\\Python311\\Lib\\site-packages\\statsmodels\\tsa\\base\\tsa_model.py:473: ValueWarning: No frequency information was provided, so inferred frequency D will be used.\n",
      "  self._init_dates(dates, freq)\n",
      "C:\\Users\\TYS\\AppData\\Local\\Temp\\ipykernel_59812\\270573817.py:51: SettingWithCopyWarning: \n",
      "A value is trying to be set on a copy of a slice from a DataFrame\n",
      "\n",
      "See the caveats in the documentation: https://pandas.pydata.org/pandas-docs/stable/user_guide/indexing.html#returning-a-view-versus-a-copy\n",
      "  forecast_dataset.at[last_date] = next_forecast\n",
      "c:\\Users\\TYS\\AppData\\Local\\Programs\\Python\\Python311\\Lib\\site-packages\\statsmodels\\tsa\\base\\tsa_model.py:473: ValueWarning: No frequency information was provided, so inferred frequency D will be used.\n",
      "  self._init_dates(dates, freq)\n",
      "C:\\Users\\TYS\\AppData\\Local\\Temp\\ipykernel_59812\\270573817.py:51: SettingWithCopyWarning: \n",
      "A value is trying to be set on a copy of a slice from a DataFrame\n",
      "\n",
      "See the caveats in the documentation: https://pandas.pydata.org/pandas-docs/stable/user_guide/indexing.html#returning-a-view-versus-a-copy\n",
      "  forecast_dataset.at[last_date] = next_forecast\n",
      "c:\\Users\\TYS\\AppData\\Local\\Programs\\Python\\Python311\\Lib\\site-packages\\statsmodels\\tsa\\base\\tsa_model.py:473: ValueWarning: No frequency information was provided, so inferred frequency D will be used.\n",
      "  self._init_dates(dates, freq)\n",
      "C:\\Users\\TYS\\AppData\\Local\\Temp\\ipykernel_59812\\270573817.py:51: SettingWithCopyWarning: \n",
      "A value is trying to be set on a copy of a slice from a DataFrame\n",
      "\n",
      "See the caveats in the documentation: https://pandas.pydata.org/pandas-docs/stable/user_guide/indexing.html#returning-a-view-versus-a-copy\n",
      "  forecast_dataset.at[last_date] = next_forecast\n",
      "c:\\Users\\TYS\\AppData\\Local\\Programs\\Python\\Python311\\Lib\\site-packages\\statsmodels\\tsa\\base\\tsa_model.py:473: ValueWarning: No frequency information was provided, so inferred frequency D will be used.\n",
      "  self._init_dates(dates, freq)\n",
      "C:\\Users\\TYS\\AppData\\Local\\Temp\\ipykernel_59812\\270573817.py:51: SettingWithCopyWarning: \n",
      "A value is trying to be set on a copy of a slice from a DataFrame\n",
      "\n",
      "See the caveats in the documentation: https://pandas.pydata.org/pandas-docs/stable/user_guide/indexing.html#returning-a-view-versus-a-copy\n",
      "  forecast_dataset.at[last_date] = next_forecast\n",
      "c:\\Users\\TYS\\AppData\\Local\\Programs\\Python\\Python311\\Lib\\site-packages\\statsmodels\\tsa\\base\\tsa_model.py:473: ValueWarning: No frequency information was provided, so inferred frequency D will be used.\n",
      "  self._init_dates(dates, freq)\n",
      "C:\\Users\\TYS\\AppData\\Local\\Temp\\ipykernel_59812\\270573817.py:51: SettingWithCopyWarning: \n",
      "A value is trying to be set on a copy of a slice from a DataFrame\n",
      "\n",
      "See the caveats in the documentation: https://pandas.pydata.org/pandas-docs/stable/user_guide/indexing.html#returning-a-view-versus-a-copy\n",
      "  forecast_dataset.at[last_date] = next_forecast\n",
      "c:\\Users\\TYS\\AppData\\Local\\Programs\\Python\\Python311\\Lib\\site-packages\\statsmodels\\tsa\\base\\tsa_model.py:473: ValueWarning: No frequency information was provided, so inferred frequency D will be used.\n",
      "  self._init_dates(dates, freq)\n",
      "C:\\Users\\TYS\\AppData\\Local\\Temp\\ipykernel_59812\\270573817.py:51: SettingWithCopyWarning: \n",
      "A value is trying to be set on a copy of a slice from a DataFrame\n",
      "\n",
      "See the caveats in the documentation: https://pandas.pydata.org/pandas-docs/stable/user_guide/indexing.html#returning-a-view-versus-a-copy\n",
      "  forecast_dataset.at[last_date] = next_forecast\n",
      "c:\\Users\\TYS\\AppData\\Local\\Programs\\Python\\Python311\\Lib\\site-packages\\statsmodels\\tsa\\base\\tsa_model.py:473: ValueWarning: No frequency information was provided, so inferred frequency D will be used.\n",
      "  self._init_dates(dates, freq)\n",
      "C:\\Users\\TYS\\AppData\\Local\\Temp\\ipykernel_59812\\270573817.py:51: SettingWithCopyWarning: \n",
      "A value is trying to be set on a copy of a slice from a DataFrame\n",
      "\n",
      "See the caveats in the documentation: https://pandas.pydata.org/pandas-docs/stable/user_guide/indexing.html#returning-a-view-versus-a-copy\n",
      "  forecast_dataset.at[last_date] = next_forecast\n",
      "c:\\Users\\TYS\\AppData\\Local\\Programs\\Python\\Python311\\Lib\\site-packages\\statsmodels\\tsa\\base\\tsa_model.py:473: ValueWarning: No frequency information was provided, so inferred frequency D will be used.\n",
      "  self._init_dates(dates, freq)\n",
      "C:\\Users\\TYS\\AppData\\Local\\Temp\\ipykernel_59812\\270573817.py:51: SettingWithCopyWarning: \n",
      "A value is trying to be set on a copy of a slice from a DataFrame\n",
      "\n",
      "See the caveats in the documentation: https://pandas.pydata.org/pandas-docs/stable/user_guide/indexing.html#returning-a-view-versus-a-copy\n",
      "  forecast_dataset.at[last_date] = next_forecast\n",
      "c:\\Users\\TYS\\AppData\\Local\\Programs\\Python\\Python311\\Lib\\site-packages\\statsmodels\\tsa\\base\\tsa_model.py:473: ValueWarning: No frequency information was provided, so inferred frequency D will be used.\n",
      "  self._init_dates(dates, freq)\n",
      "C:\\Users\\TYS\\AppData\\Local\\Temp\\ipykernel_59812\\270573817.py:51: SettingWithCopyWarning: \n",
      "A value is trying to be set on a copy of a slice from a DataFrame\n",
      "\n",
      "See the caveats in the documentation: https://pandas.pydata.org/pandas-docs/stable/user_guide/indexing.html#returning-a-view-versus-a-copy\n",
      "  forecast_dataset.at[last_date] = next_forecast\n",
      "c:\\Users\\TYS\\AppData\\Local\\Programs\\Python\\Python311\\Lib\\site-packages\\statsmodels\\tsa\\base\\tsa_model.py:473: ValueWarning: No frequency information was provided, so inferred frequency D will be used.\n",
      "  self._init_dates(dates, freq)\n",
      "C:\\Users\\TYS\\AppData\\Local\\Temp\\ipykernel_59812\\270573817.py:51: SettingWithCopyWarning: \n",
      "A value is trying to be set on a copy of a slice from a DataFrame\n",
      "\n",
      "See the caveats in the documentation: https://pandas.pydata.org/pandas-docs/stable/user_guide/indexing.html#returning-a-view-versus-a-copy\n",
      "  forecast_dataset.at[last_date] = next_forecast\n",
      "c:\\Users\\TYS\\AppData\\Local\\Programs\\Python\\Python311\\Lib\\site-packages\\statsmodels\\tsa\\base\\tsa_model.py:473: ValueWarning: No frequency information was provided, so inferred frequency D will be used.\n",
      "  self._init_dates(dates, freq)\n",
      "C:\\Users\\TYS\\AppData\\Local\\Temp\\ipykernel_59812\\270573817.py:51: SettingWithCopyWarning: \n",
      "A value is trying to be set on a copy of a slice from a DataFrame\n",
      "\n",
      "See the caveats in the documentation: https://pandas.pydata.org/pandas-docs/stable/user_guide/indexing.html#returning-a-view-versus-a-copy\n",
      "  forecast_dataset.at[last_date] = next_forecast\n",
      "c:\\Users\\TYS\\AppData\\Local\\Programs\\Python\\Python311\\Lib\\site-packages\\statsmodels\\tsa\\base\\tsa_model.py:473: ValueWarning: No frequency information was provided, so inferred frequency D will be used.\n",
      "  self._init_dates(dates, freq)\n",
      "C:\\Users\\TYS\\AppData\\Local\\Temp\\ipykernel_59812\\270573817.py:51: SettingWithCopyWarning: \n",
      "A value is trying to be set on a copy of a slice from a DataFrame\n",
      "\n",
      "See the caveats in the documentation: https://pandas.pydata.org/pandas-docs/stable/user_guide/indexing.html#returning-a-view-versus-a-copy\n",
      "  forecast_dataset.at[last_date] = next_forecast\n",
      "c:\\Users\\TYS\\AppData\\Local\\Programs\\Python\\Python311\\Lib\\site-packages\\statsmodels\\tsa\\base\\tsa_model.py:473: ValueWarning: No frequency information was provided, so inferred frequency D will be used.\n",
      "  self._init_dates(dates, freq)\n",
      "C:\\Users\\TYS\\AppData\\Local\\Temp\\ipykernel_59812\\270573817.py:51: SettingWithCopyWarning: \n",
      "A value is trying to be set on a copy of a slice from a DataFrame\n",
      "\n",
      "See the caveats in the documentation: https://pandas.pydata.org/pandas-docs/stable/user_guide/indexing.html#returning-a-view-versus-a-copy\n",
      "  forecast_dataset.at[last_date] = next_forecast\n",
      "c:\\Users\\TYS\\AppData\\Local\\Programs\\Python\\Python311\\Lib\\site-packages\\statsmodels\\tsa\\base\\tsa_model.py:473: ValueWarning: No frequency information was provided, so inferred frequency D will be used.\n",
      "  self._init_dates(dates, freq)\n",
      "C:\\Users\\TYS\\AppData\\Local\\Temp\\ipykernel_59812\\270573817.py:51: SettingWithCopyWarning: \n",
      "A value is trying to be set on a copy of a slice from a DataFrame\n",
      "\n",
      "See the caveats in the documentation: https://pandas.pydata.org/pandas-docs/stable/user_guide/indexing.html#returning-a-view-versus-a-copy\n",
      "  forecast_dataset.at[last_date] = next_forecast\n",
      "c:\\Users\\TYS\\AppData\\Local\\Programs\\Python\\Python311\\Lib\\site-packages\\statsmodels\\tsa\\base\\tsa_model.py:473: ValueWarning: No frequency information was provided, so inferred frequency D will be used.\n",
      "  self._init_dates(dates, freq)\n",
      "C:\\Users\\TYS\\AppData\\Local\\Temp\\ipykernel_59812\\270573817.py:51: SettingWithCopyWarning: \n",
      "A value is trying to be set on a copy of a slice from a DataFrame\n",
      "\n",
      "See the caveats in the documentation: https://pandas.pydata.org/pandas-docs/stable/user_guide/indexing.html#returning-a-view-versus-a-copy\n",
      "  forecast_dataset.at[last_date] = next_forecast\n",
      "c:\\Users\\TYS\\AppData\\Local\\Programs\\Python\\Python311\\Lib\\site-packages\\statsmodels\\tsa\\base\\tsa_model.py:473: ValueWarning: No frequency information was provided, so inferred frequency D will be used.\n",
      "  self._init_dates(dates, freq)\n",
      "C:\\Users\\TYS\\AppData\\Local\\Temp\\ipykernel_59812\\270573817.py:51: SettingWithCopyWarning: \n",
      "A value is trying to be set on a copy of a slice from a DataFrame\n",
      "\n",
      "See the caveats in the documentation: https://pandas.pydata.org/pandas-docs/stable/user_guide/indexing.html#returning-a-view-versus-a-copy\n",
      "  forecast_dataset.at[last_date] = next_forecast\n",
      "c:\\Users\\TYS\\AppData\\Local\\Programs\\Python\\Python311\\Lib\\site-packages\\statsmodels\\tsa\\base\\tsa_model.py:473: ValueWarning: No frequency information was provided, so inferred frequency D will be used.\n",
      "  self._init_dates(dates, freq)\n",
      "C:\\Users\\TYS\\AppData\\Local\\Temp\\ipykernel_59812\\270573817.py:51: SettingWithCopyWarning: \n",
      "A value is trying to be set on a copy of a slice from a DataFrame\n",
      "\n",
      "See the caveats in the documentation: https://pandas.pydata.org/pandas-docs/stable/user_guide/indexing.html#returning-a-view-versus-a-copy\n",
      "  forecast_dataset.at[last_date] = next_forecast\n",
      "c:\\Users\\TYS\\AppData\\Local\\Programs\\Python\\Python311\\Lib\\site-packages\\statsmodels\\tsa\\base\\tsa_model.py:473: ValueWarning: No frequency information was provided, so inferred frequency D will be used.\n",
      "  self._init_dates(dates, freq)\n",
      "C:\\Users\\TYS\\AppData\\Local\\Temp\\ipykernel_59812\\270573817.py:51: SettingWithCopyWarning: \n",
      "A value is trying to be set on a copy of a slice from a DataFrame\n",
      "\n",
      "See the caveats in the documentation: https://pandas.pydata.org/pandas-docs/stable/user_guide/indexing.html#returning-a-view-versus-a-copy\n",
      "  forecast_dataset.at[last_date] = next_forecast\n",
      "c:\\Users\\TYS\\AppData\\Local\\Programs\\Python\\Python311\\Lib\\site-packages\\statsmodels\\tsa\\base\\tsa_model.py:473: ValueWarning: No frequency information was provided, so inferred frequency D will be used.\n",
      "  self._init_dates(dates, freq)\n",
      "C:\\Users\\TYS\\AppData\\Local\\Temp\\ipykernel_59812\\270573817.py:51: SettingWithCopyWarning: \n",
      "A value is trying to be set on a copy of a slice from a DataFrame\n",
      "\n",
      "See the caveats in the documentation: https://pandas.pydata.org/pandas-docs/stable/user_guide/indexing.html#returning-a-view-versus-a-copy\n",
      "  forecast_dataset.at[last_date] = next_forecast\n",
      "c:\\Users\\TYS\\AppData\\Local\\Programs\\Python\\Python311\\Lib\\site-packages\\statsmodels\\tsa\\base\\tsa_model.py:473: ValueWarning: No frequency information was provided, so inferred frequency D will be used.\n",
      "  self._init_dates(dates, freq)\n",
      "C:\\Users\\TYS\\AppData\\Local\\Temp\\ipykernel_59812\\270573817.py:51: SettingWithCopyWarning: \n",
      "A value is trying to be set on a copy of a slice from a DataFrame\n",
      "\n",
      "See the caveats in the documentation: https://pandas.pydata.org/pandas-docs/stable/user_guide/indexing.html#returning-a-view-versus-a-copy\n",
      "  forecast_dataset.at[last_date] = next_forecast\n",
      "c:\\Users\\TYS\\AppData\\Local\\Programs\\Python\\Python311\\Lib\\site-packages\\statsmodels\\tsa\\base\\tsa_model.py:473: ValueWarning: No frequency information was provided, so inferred frequency D will be used.\n",
      "  self._init_dates(dates, freq)\n",
      "C:\\Users\\TYS\\AppData\\Local\\Temp\\ipykernel_59812\\270573817.py:51: SettingWithCopyWarning: \n",
      "A value is trying to be set on a copy of a slice from a DataFrame\n",
      "\n",
      "See the caveats in the documentation: https://pandas.pydata.org/pandas-docs/stable/user_guide/indexing.html#returning-a-view-versus-a-copy\n",
      "  forecast_dataset.at[last_date] = next_forecast\n",
      "c:\\Users\\TYS\\AppData\\Local\\Programs\\Python\\Python311\\Lib\\site-packages\\statsmodels\\tsa\\base\\tsa_model.py:473: ValueWarning: No frequency information was provided, so inferred frequency D will be used.\n",
      "  self._init_dates(dates, freq)\n",
      "C:\\Users\\TYS\\AppData\\Local\\Temp\\ipykernel_59812\\270573817.py:51: SettingWithCopyWarning: \n",
      "A value is trying to be set on a copy of a slice from a DataFrame\n",
      "\n",
      "See the caveats in the documentation: https://pandas.pydata.org/pandas-docs/stable/user_guide/indexing.html#returning-a-view-versus-a-copy\n",
      "  forecast_dataset.at[last_date] = next_forecast\n",
      "c:\\Users\\TYS\\AppData\\Local\\Programs\\Python\\Python311\\Lib\\site-packages\\statsmodels\\tsa\\base\\tsa_model.py:473: ValueWarning: No frequency information was provided, so inferred frequency D will be used.\n",
      "  self._init_dates(dates, freq)\n",
      "C:\\Users\\TYS\\AppData\\Local\\Temp\\ipykernel_59812\\270573817.py:51: SettingWithCopyWarning: \n",
      "A value is trying to be set on a copy of a slice from a DataFrame\n",
      "\n",
      "See the caveats in the documentation: https://pandas.pydata.org/pandas-docs/stable/user_guide/indexing.html#returning-a-view-versus-a-copy\n",
      "  forecast_dataset.at[last_date] = next_forecast\n",
      "c:\\Users\\TYS\\AppData\\Local\\Programs\\Python\\Python311\\Lib\\site-packages\\statsmodels\\tsa\\base\\tsa_model.py:473: ValueWarning: No frequency information was provided, so inferred frequency D will be used.\n",
      "  self._init_dates(dates, freq)\n",
      "C:\\Users\\TYS\\AppData\\Local\\Temp\\ipykernel_59812\\270573817.py:51: SettingWithCopyWarning: \n",
      "A value is trying to be set on a copy of a slice from a DataFrame\n",
      "\n",
      "See the caveats in the documentation: https://pandas.pydata.org/pandas-docs/stable/user_guide/indexing.html#returning-a-view-versus-a-copy\n",
      "  forecast_dataset.at[last_date] = next_forecast\n",
      "c:\\Users\\TYS\\AppData\\Local\\Programs\\Python\\Python311\\Lib\\site-packages\\statsmodels\\tsa\\base\\tsa_model.py:473: ValueWarning: No frequency information was provided, so inferred frequency D will be used.\n",
      "  self._init_dates(dates, freq)\n",
      "C:\\Users\\TYS\\AppData\\Local\\Temp\\ipykernel_59812\\270573817.py:51: SettingWithCopyWarning: \n",
      "A value is trying to be set on a copy of a slice from a DataFrame\n",
      "\n",
      "See the caveats in the documentation: https://pandas.pydata.org/pandas-docs/stable/user_guide/indexing.html#returning-a-view-versus-a-copy\n",
      "  forecast_dataset.at[last_date] = next_forecast\n",
      "c:\\Users\\TYS\\AppData\\Local\\Programs\\Python\\Python311\\Lib\\site-packages\\statsmodels\\tsa\\base\\tsa_model.py:473: ValueWarning: No frequency information was provided, so inferred frequency D will be used.\n",
      "  self._init_dates(dates, freq)\n",
      "C:\\Users\\TYS\\AppData\\Local\\Temp\\ipykernel_59812\\270573817.py:51: SettingWithCopyWarning: \n",
      "A value is trying to be set on a copy of a slice from a DataFrame\n",
      "\n",
      "See the caveats in the documentation: https://pandas.pydata.org/pandas-docs/stable/user_guide/indexing.html#returning-a-view-versus-a-copy\n",
      "  forecast_dataset.at[last_date] = next_forecast\n",
      "c:\\Users\\TYS\\AppData\\Local\\Programs\\Python\\Python311\\Lib\\site-packages\\statsmodels\\tsa\\base\\tsa_model.py:473: ValueWarning: No frequency information was provided, so inferred frequency D will be used.\n",
      "  self._init_dates(dates, freq)\n",
      "C:\\Users\\TYS\\AppData\\Local\\Temp\\ipykernel_59812\\270573817.py:51: SettingWithCopyWarning: \n",
      "A value is trying to be set on a copy of a slice from a DataFrame\n",
      "\n",
      "See the caveats in the documentation: https://pandas.pydata.org/pandas-docs/stable/user_guide/indexing.html#returning-a-view-versus-a-copy\n",
      "  forecast_dataset.at[last_date] = next_forecast\n",
      "c:\\Users\\TYS\\AppData\\Local\\Programs\\Python\\Python311\\Lib\\site-packages\\statsmodels\\tsa\\base\\tsa_model.py:473: ValueWarning: No frequency information was provided, so inferred frequency D will be used.\n",
      "  self._init_dates(dates, freq)\n",
      "C:\\Users\\TYS\\AppData\\Local\\Temp\\ipykernel_59812\\270573817.py:51: SettingWithCopyWarning: \n",
      "A value is trying to be set on a copy of a slice from a DataFrame\n",
      "\n",
      "See the caveats in the documentation: https://pandas.pydata.org/pandas-docs/stable/user_guide/indexing.html#returning-a-view-versus-a-copy\n",
      "  forecast_dataset.at[last_date] = next_forecast\n",
      "c:\\Users\\TYS\\AppData\\Local\\Programs\\Python\\Python311\\Lib\\site-packages\\statsmodels\\tsa\\base\\tsa_model.py:473: ValueWarning: No frequency information was provided, so inferred frequency D will be used.\n",
      "  self._init_dates(dates, freq)\n",
      "C:\\Users\\TYS\\AppData\\Local\\Temp\\ipykernel_59812\\270573817.py:51: SettingWithCopyWarning: \n",
      "A value is trying to be set on a copy of a slice from a DataFrame\n",
      "\n",
      "See the caveats in the documentation: https://pandas.pydata.org/pandas-docs/stable/user_guide/indexing.html#returning-a-view-versus-a-copy\n",
      "  forecast_dataset.at[last_date] = next_forecast\n",
      "c:\\Users\\TYS\\AppData\\Local\\Programs\\Python\\Python311\\Lib\\site-packages\\statsmodels\\tsa\\base\\tsa_model.py:473: ValueWarning: No frequency information was provided, so inferred frequency D will be used.\n",
      "  self._init_dates(dates, freq)\n",
      "C:\\Users\\TYS\\AppData\\Local\\Temp\\ipykernel_59812\\270573817.py:51: SettingWithCopyWarning: \n",
      "A value is trying to be set on a copy of a slice from a DataFrame\n",
      "\n",
      "See the caveats in the documentation: https://pandas.pydata.org/pandas-docs/stable/user_guide/indexing.html#returning-a-view-versus-a-copy\n",
      "  forecast_dataset.at[last_date] = next_forecast\n",
      "c:\\Users\\TYS\\AppData\\Local\\Programs\\Python\\Python311\\Lib\\site-packages\\statsmodels\\tsa\\base\\tsa_model.py:473: ValueWarning: No frequency information was provided, so inferred frequency D will be used.\n",
      "  self._init_dates(dates, freq)\n",
      "C:\\Users\\TYS\\AppData\\Local\\Temp\\ipykernel_59812\\270573817.py:51: SettingWithCopyWarning: \n",
      "A value is trying to be set on a copy of a slice from a DataFrame\n",
      "\n",
      "See the caveats in the documentation: https://pandas.pydata.org/pandas-docs/stable/user_guide/indexing.html#returning-a-view-versus-a-copy\n",
      "  forecast_dataset.at[last_date] = next_forecast\n",
      "c:\\Users\\TYS\\AppData\\Local\\Programs\\Python\\Python311\\Lib\\site-packages\\statsmodels\\tsa\\base\\tsa_model.py:473: ValueWarning: No frequency information was provided, so inferred frequency D will be used.\n",
      "  self._init_dates(dates, freq)\n",
      "C:\\Users\\TYS\\AppData\\Local\\Temp\\ipykernel_59812\\270573817.py:51: SettingWithCopyWarning: \n",
      "A value is trying to be set on a copy of a slice from a DataFrame\n",
      "\n",
      "See the caveats in the documentation: https://pandas.pydata.org/pandas-docs/stable/user_guide/indexing.html#returning-a-view-versus-a-copy\n",
      "  forecast_dataset.at[last_date] = next_forecast\n",
      "c:\\Users\\TYS\\AppData\\Local\\Programs\\Python\\Python311\\Lib\\site-packages\\statsmodels\\tsa\\base\\tsa_model.py:473: ValueWarning: No frequency information was provided, so inferred frequency D will be used.\n",
      "  self._init_dates(dates, freq)\n",
      "C:\\Users\\TYS\\AppData\\Local\\Temp\\ipykernel_59812\\270573817.py:51: SettingWithCopyWarning: \n",
      "A value is trying to be set on a copy of a slice from a DataFrame\n",
      "\n",
      "See the caveats in the documentation: https://pandas.pydata.org/pandas-docs/stable/user_guide/indexing.html#returning-a-view-versus-a-copy\n",
      "  forecast_dataset.at[last_date] = next_forecast\n",
      "c:\\Users\\TYS\\AppData\\Local\\Programs\\Python\\Python311\\Lib\\site-packages\\statsmodels\\tsa\\base\\tsa_model.py:473: ValueWarning: No frequency information was provided, so inferred frequency D will be used.\n",
      "  self._init_dates(dates, freq)\n",
      "C:\\Users\\TYS\\AppData\\Local\\Temp\\ipykernel_59812\\270573817.py:51: SettingWithCopyWarning: \n",
      "A value is trying to be set on a copy of a slice from a DataFrame\n",
      "\n",
      "See the caveats in the documentation: https://pandas.pydata.org/pandas-docs/stable/user_guide/indexing.html#returning-a-view-versus-a-copy\n",
      "  forecast_dataset.at[last_date] = next_forecast\n",
      "c:\\Users\\TYS\\AppData\\Local\\Programs\\Python\\Python311\\Lib\\site-packages\\statsmodels\\tsa\\base\\tsa_model.py:473: ValueWarning: No frequency information was provided, so inferred frequency D will be used.\n",
      "  self._init_dates(dates, freq)\n",
      "C:\\Users\\TYS\\AppData\\Local\\Temp\\ipykernel_59812\\270573817.py:51: SettingWithCopyWarning: \n",
      "A value is trying to be set on a copy of a slice from a DataFrame\n",
      "\n",
      "See the caveats in the documentation: https://pandas.pydata.org/pandas-docs/stable/user_guide/indexing.html#returning-a-view-versus-a-copy\n",
      "  forecast_dataset.at[last_date] = next_forecast\n",
      "c:\\Users\\TYS\\AppData\\Local\\Programs\\Python\\Python311\\Lib\\site-packages\\statsmodels\\tsa\\base\\tsa_model.py:473: ValueWarning: No frequency information was provided, so inferred frequency D will be used.\n",
      "  self._init_dates(dates, freq)\n",
      "C:\\Users\\TYS\\AppData\\Local\\Temp\\ipykernel_59812\\270573817.py:51: SettingWithCopyWarning: \n",
      "A value is trying to be set on a copy of a slice from a DataFrame\n",
      "\n",
      "See the caveats in the documentation: https://pandas.pydata.org/pandas-docs/stable/user_guide/indexing.html#returning-a-view-versus-a-copy\n",
      "  forecast_dataset.at[last_date] = next_forecast\n",
      "c:\\Users\\TYS\\AppData\\Local\\Programs\\Python\\Python311\\Lib\\site-packages\\statsmodels\\tsa\\base\\tsa_model.py:473: ValueWarning: No frequency information was provided, so inferred frequency D will be used.\n",
      "  self._init_dates(dates, freq)\n",
      "C:\\Users\\TYS\\AppData\\Local\\Temp\\ipykernel_59812\\270573817.py:51: SettingWithCopyWarning: \n",
      "A value is trying to be set on a copy of a slice from a DataFrame\n",
      "\n",
      "See the caveats in the documentation: https://pandas.pydata.org/pandas-docs/stable/user_guide/indexing.html#returning-a-view-versus-a-copy\n",
      "  forecast_dataset.at[last_date] = next_forecast\n",
      "c:\\Users\\TYS\\AppData\\Local\\Programs\\Python\\Python311\\Lib\\site-packages\\statsmodels\\tsa\\base\\tsa_model.py:473: ValueWarning: No frequency information was provided, so inferred frequency D will be used.\n",
      "  self._init_dates(dates, freq)\n",
      "C:\\Users\\TYS\\AppData\\Local\\Temp\\ipykernel_59812\\270573817.py:51: SettingWithCopyWarning: \n",
      "A value is trying to be set on a copy of a slice from a DataFrame\n",
      "\n",
      "See the caveats in the documentation: https://pandas.pydata.org/pandas-docs/stable/user_guide/indexing.html#returning-a-view-versus-a-copy\n",
      "  forecast_dataset.at[last_date] = next_forecast\n",
      "c:\\Users\\TYS\\AppData\\Local\\Programs\\Python\\Python311\\Lib\\site-packages\\statsmodels\\tsa\\base\\tsa_model.py:473: ValueWarning: No frequency information was provided, so inferred frequency D will be used.\n",
      "  self._init_dates(dates, freq)\n",
      "C:\\Users\\TYS\\AppData\\Local\\Temp\\ipykernel_59812\\270573817.py:51: SettingWithCopyWarning: \n",
      "A value is trying to be set on a copy of a slice from a DataFrame\n",
      "\n",
      "See the caveats in the documentation: https://pandas.pydata.org/pandas-docs/stable/user_guide/indexing.html#returning-a-view-versus-a-copy\n",
      "  forecast_dataset.at[last_date] = next_forecast\n",
      "c:\\Users\\TYS\\AppData\\Local\\Programs\\Python\\Python311\\Lib\\site-packages\\statsmodels\\tsa\\base\\tsa_model.py:473: ValueWarning: No frequency information was provided, so inferred frequency D will be used.\n",
      "  self._init_dates(dates, freq)\n",
      "C:\\Users\\TYS\\AppData\\Local\\Temp\\ipykernel_59812\\270573817.py:51: SettingWithCopyWarning: \n",
      "A value is trying to be set on a copy of a slice from a DataFrame\n",
      "\n",
      "See the caveats in the documentation: https://pandas.pydata.org/pandas-docs/stable/user_guide/indexing.html#returning-a-view-versus-a-copy\n",
      "  forecast_dataset.at[last_date] = next_forecast\n",
      "c:\\Users\\TYS\\AppData\\Local\\Programs\\Python\\Python311\\Lib\\site-packages\\statsmodels\\tsa\\base\\tsa_model.py:473: ValueWarning: No frequency information was provided, so inferred frequency D will be used.\n",
      "  self._init_dates(dates, freq)\n",
      "C:\\Users\\TYS\\AppData\\Local\\Temp\\ipykernel_59812\\270573817.py:51: SettingWithCopyWarning: \n",
      "A value is trying to be set on a copy of a slice from a DataFrame\n",
      "\n",
      "See the caveats in the documentation: https://pandas.pydata.org/pandas-docs/stable/user_guide/indexing.html#returning-a-view-versus-a-copy\n",
      "  forecast_dataset.at[last_date] = next_forecast\n",
      "c:\\Users\\TYS\\AppData\\Local\\Programs\\Python\\Python311\\Lib\\site-packages\\statsmodels\\tsa\\base\\tsa_model.py:473: ValueWarning: No frequency information was provided, so inferred frequency D will be used.\n",
      "  self._init_dates(dates, freq)\n",
      "C:\\Users\\TYS\\AppData\\Local\\Temp\\ipykernel_59812\\270573817.py:51: SettingWithCopyWarning: \n",
      "A value is trying to be set on a copy of a slice from a DataFrame\n",
      "\n",
      "See the caveats in the documentation: https://pandas.pydata.org/pandas-docs/stable/user_guide/indexing.html#returning-a-view-versus-a-copy\n",
      "  forecast_dataset.at[last_date] = next_forecast\n",
      "c:\\Users\\TYS\\AppData\\Local\\Programs\\Python\\Python311\\Lib\\site-packages\\statsmodels\\tsa\\base\\tsa_model.py:473: ValueWarning: No frequency information was provided, so inferred frequency D will be used.\n",
      "  self._init_dates(dates, freq)\n",
      "C:\\Users\\TYS\\AppData\\Local\\Temp\\ipykernel_59812\\270573817.py:51: SettingWithCopyWarning: \n",
      "A value is trying to be set on a copy of a slice from a DataFrame\n",
      "\n",
      "See the caveats in the documentation: https://pandas.pydata.org/pandas-docs/stable/user_guide/indexing.html#returning-a-view-versus-a-copy\n",
      "  forecast_dataset.at[last_date] = next_forecast\n",
      "c:\\Users\\TYS\\AppData\\Local\\Programs\\Python\\Python311\\Lib\\site-packages\\statsmodels\\tsa\\base\\tsa_model.py:473: ValueWarning: No frequency information was provided, so inferred frequency D will be used.\n",
      "  self._init_dates(dates, freq)\n",
      "C:\\Users\\TYS\\AppData\\Local\\Temp\\ipykernel_59812\\270573817.py:51: SettingWithCopyWarning: \n",
      "A value is trying to be set on a copy of a slice from a DataFrame\n",
      "\n",
      "See the caveats in the documentation: https://pandas.pydata.org/pandas-docs/stable/user_guide/indexing.html#returning-a-view-versus-a-copy\n",
      "  forecast_dataset.at[last_date] = next_forecast\n",
      "c:\\Users\\TYS\\AppData\\Local\\Programs\\Python\\Python311\\Lib\\site-packages\\statsmodels\\tsa\\base\\tsa_model.py:473: ValueWarning: No frequency information was provided, so inferred frequency D will be used.\n",
      "  self._init_dates(dates, freq)\n",
      "C:\\Users\\TYS\\AppData\\Local\\Temp\\ipykernel_59812\\270573817.py:51: SettingWithCopyWarning: \n",
      "A value is trying to be set on a copy of a slice from a DataFrame\n",
      "\n",
      "See the caveats in the documentation: https://pandas.pydata.org/pandas-docs/stable/user_guide/indexing.html#returning-a-view-versus-a-copy\n",
      "  forecast_dataset.at[last_date] = next_forecast\n",
      "c:\\Users\\TYS\\AppData\\Local\\Programs\\Python\\Python311\\Lib\\site-packages\\statsmodels\\tsa\\base\\tsa_model.py:473: ValueWarning: No frequency information was provided, so inferred frequency D will be used.\n",
      "  self._init_dates(dates, freq)\n",
      "C:\\Users\\TYS\\AppData\\Local\\Temp\\ipykernel_59812\\270573817.py:51: SettingWithCopyWarning: \n",
      "A value is trying to be set on a copy of a slice from a DataFrame\n",
      "\n",
      "See the caveats in the documentation: https://pandas.pydata.org/pandas-docs/stable/user_guide/indexing.html#returning-a-view-versus-a-copy\n",
      "  forecast_dataset.at[last_date] = next_forecast\n",
      "c:\\Users\\TYS\\AppData\\Local\\Programs\\Python\\Python311\\Lib\\site-packages\\statsmodels\\tsa\\base\\tsa_model.py:473: ValueWarning: No frequency information was provided, so inferred frequency D will be used.\n",
      "  self._init_dates(dates, freq)\n",
      "C:\\Users\\TYS\\AppData\\Local\\Temp\\ipykernel_59812\\270573817.py:51: SettingWithCopyWarning: \n",
      "A value is trying to be set on a copy of a slice from a DataFrame\n",
      "\n",
      "See the caveats in the documentation: https://pandas.pydata.org/pandas-docs/stable/user_guide/indexing.html#returning-a-view-versus-a-copy\n",
      "  forecast_dataset.at[last_date] = next_forecast\n",
      "c:\\Users\\TYS\\AppData\\Local\\Programs\\Python\\Python311\\Lib\\site-packages\\statsmodels\\tsa\\base\\tsa_model.py:473: ValueWarning: No frequency information was provided, so inferred frequency D will be used.\n",
      "  self._init_dates(dates, freq)\n",
      "C:\\Users\\TYS\\AppData\\Local\\Temp\\ipykernel_59812\\270573817.py:51: SettingWithCopyWarning: \n",
      "A value is trying to be set on a copy of a slice from a DataFrame\n",
      "\n",
      "See the caveats in the documentation: https://pandas.pydata.org/pandas-docs/stable/user_guide/indexing.html#returning-a-view-versus-a-copy\n",
      "  forecast_dataset.at[last_date] = next_forecast\n",
      "c:\\Users\\TYS\\AppData\\Local\\Programs\\Python\\Python311\\Lib\\site-packages\\statsmodels\\tsa\\base\\tsa_model.py:473: ValueWarning: No frequency information was provided, so inferred frequency D will be used.\n",
      "  self._init_dates(dates, freq)\n",
      "C:\\Users\\TYS\\AppData\\Local\\Temp\\ipykernel_59812\\270573817.py:51: SettingWithCopyWarning: \n",
      "A value is trying to be set on a copy of a slice from a DataFrame\n",
      "\n",
      "See the caveats in the documentation: https://pandas.pydata.org/pandas-docs/stable/user_guide/indexing.html#returning-a-view-versus-a-copy\n",
      "  forecast_dataset.at[last_date] = next_forecast\n",
      "c:\\Users\\TYS\\AppData\\Local\\Programs\\Python\\Python311\\Lib\\site-packages\\statsmodels\\tsa\\base\\tsa_model.py:473: ValueWarning: No frequency information was provided, so inferred frequency D will be used.\n",
      "  self._init_dates(dates, freq)\n",
      "C:\\Users\\TYS\\AppData\\Local\\Temp\\ipykernel_59812\\270573817.py:51: SettingWithCopyWarning: \n",
      "A value is trying to be set on a copy of a slice from a DataFrame\n",
      "\n",
      "See the caveats in the documentation: https://pandas.pydata.org/pandas-docs/stable/user_guide/indexing.html#returning-a-view-versus-a-copy\n",
      "  forecast_dataset.at[last_date] = next_forecast\n",
      "c:\\Users\\TYS\\AppData\\Local\\Programs\\Python\\Python311\\Lib\\site-packages\\statsmodels\\tsa\\base\\tsa_model.py:473: ValueWarning: No frequency information was provided, so inferred frequency D will be used.\n",
      "  self._init_dates(dates, freq)\n",
      "C:\\Users\\TYS\\AppData\\Local\\Temp\\ipykernel_59812\\270573817.py:51: SettingWithCopyWarning: \n",
      "A value is trying to be set on a copy of a slice from a DataFrame\n",
      "\n",
      "See the caveats in the documentation: https://pandas.pydata.org/pandas-docs/stable/user_guide/indexing.html#returning-a-view-versus-a-copy\n",
      "  forecast_dataset.at[last_date] = next_forecast\n",
      "c:\\Users\\TYS\\AppData\\Local\\Programs\\Python\\Python311\\Lib\\site-packages\\statsmodels\\tsa\\base\\tsa_model.py:473: ValueWarning: No frequency information was provided, so inferred frequency D will be used.\n",
      "  self._init_dates(dates, freq)\n",
      "C:\\Users\\TYS\\AppData\\Local\\Temp\\ipykernel_59812\\270573817.py:51: SettingWithCopyWarning: \n",
      "A value is trying to be set on a copy of a slice from a DataFrame\n",
      "\n",
      "See the caveats in the documentation: https://pandas.pydata.org/pandas-docs/stable/user_guide/indexing.html#returning-a-view-versus-a-copy\n",
      "  forecast_dataset.at[last_date] = next_forecast\n",
      "c:\\Users\\TYS\\AppData\\Local\\Programs\\Python\\Python311\\Lib\\site-packages\\statsmodels\\tsa\\base\\tsa_model.py:473: ValueWarning: No frequency information was provided, so inferred frequency D will be used.\n",
      "  self._init_dates(dates, freq)\n",
      "C:\\Users\\TYS\\AppData\\Local\\Temp\\ipykernel_59812\\270573817.py:51: SettingWithCopyWarning: \n",
      "A value is trying to be set on a copy of a slice from a DataFrame\n",
      "\n",
      "See the caveats in the documentation: https://pandas.pydata.org/pandas-docs/stable/user_guide/indexing.html#returning-a-view-versus-a-copy\n",
      "  forecast_dataset.at[last_date] = next_forecast\n",
      "c:\\Users\\TYS\\AppData\\Local\\Programs\\Python\\Python311\\Lib\\site-packages\\statsmodels\\tsa\\base\\tsa_model.py:473: ValueWarning: No frequency information was provided, so inferred frequency D will be used.\n",
      "  self._init_dates(dates, freq)\n",
      "C:\\Users\\TYS\\AppData\\Local\\Temp\\ipykernel_59812\\270573817.py:51: SettingWithCopyWarning: \n",
      "A value is trying to be set on a copy of a slice from a DataFrame\n",
      "\n",
      "See the caveats in the documentation: https://pandas.pydata.org/pandas-docs/stable/user_guide/indexing.html#returning-a-view-versus-a-copy\n",
      "  forecast_dataset.at[last_date] = next_forecast\n",
      "c:\\Users\\TYS\\AppData\\Local\\Programs\\Python\\Python311\\Lib\\site-packages\\statsmodels\\tsa\\base\\tsa_model.py:473: ValueWarning: No frequency information was provided, so inferred frequency D will be used.\n",
      "  self._init_dates(dates, freq)\n",
      "C:\\Users\\TYS\\AppData\\Local\\Temp\\ipykernel_59812\\270573817.py:51: SettingWithCopyWarning: \n",
      "A value is trying to be set on a copy of a slice from a DataFrame\n",
      "\n",
      "See the caveats in the documentation: https://pandas.pydata.org/pandas-docs/stable/user_guide/indexing.html#returning-a-view-versus-a-copy\n",
      "  forecast_dataset.at[last_date] = next_forecast\n",
      "c:\\Users\\TYS\\AppData\\Local\\Programs\\Python\\Python311\\Lib\\site-packages\\statsmodels\\tsa\\base\\tsa_model.py:473: ValueWarning: No frequency information was provided, so inferred frequency D will be used.\n",
      "  self._init_dates(dates, freq)\n",
      "C:\\Users\\TYS\\AppData\\Local\\Temp\\ipykernel_59812\\270573817.py:51: SettingWithCopyWarning: \n",
      "A value is trying to be set on a copy of a slice from a DataFrame\n",
      "\n",
      "See the caveats in the documentation: https://pandas.pydata.org/pandas-docs/stable/user_guide/indexing.html#returning-a-view-versus-a-copy\n",
      "  forecast_dataset.at[last_date] = next_forecast\n",
      "c:\\Users\\TYS\\AppData\\Local\\Programs\\Python\\Python311\\Lib\\site-packages\\statsmodels\\tsa\\base\\tsa_model.py:473: ValueWarning: No frequency information was provided, so inferred frequency D will be used.\n",
      "  self._init_dates(dates, freq)\n",
      "C:\\Users\\TYS\\AppData\\Local\\Temp\\ipykernel_59812\\270573817.py:51: SettingWithCopyWarning: \n",
      "A value is trying to be set on a copy of a slice from a DataFrame\n",
      "\n",
      "See the caveats in the documentation: https://pandas.pydata.org/pandas-docs/stable/user_guide/indexing.html#returning-a-view-versus-a-copy\n",
      "  forecast_dataset.at[last_date] = next_forecast\n",
      "c:\\Users\\TYS\\AppData\\Local\\Programs\\Python\\Python311\\Lib\\site-packages\\statsmodels\\tsa\\base\\tsa_model.py:473: ValueWarning: No frequency information was provided, so inferred frequency D will be used.\n",
      "  self._init_dates(dates, freq)\n",
      "C:\\Users\\TYS\\AppData\\Local\\Temp\\ipykernel_59812\\270573817.py:51: SettingWithCopyWarning: \n",
      "A value is trying to be set on a copy of a slice from a DataFrame\n",
      "\n",
      "See the caveats in the documentation: https://pandas.pydata.org/pandas-docs/stable/user_guide/indexing.html#returning-a-view-versus-a-copy\n",
      "  forecast_dataset.at[last_date] = next_forecast\n",
      "c:\\Users\\TYS\\AppData\\Local\\Programs\\Python\\Python311\\Lib\\site-packages\\statsmodels\\tsa\\base\\tsa_model.py:473: ValueWarning: No frequency information was provided, so inferred frequency D will be used.\n",
      "  self._init_dates(dates, freq)\n",
      "C:\\Users\\TYS\\AppData\\Local\\Temp\\ipykernel_59812\\270573817.py:51: SettingWithCopyWarning: \n",
      "A value is trying to be set on a copy of a slice from a DataFrame\n",
      "\n",
      "See the caveats in the documentation: https://pandas.pydata.org/pandas-docs/stable/user_guide/indexing.html#returning-a-view-versus-a-copy\n",
      "  forecast_dataset.at[last_date] = next_forecast\n",
      "c:\\Users\\TYS\\AppData\\Local\\Programs\\Python\\Python311\\Lib\\site-packages\\statsmodels\\tsa\\base\\tsa_model.py:473: ValueWarning: No frequency information was provided, so inferred frequency D will be used.\n",
      "  self._init_dates(dates, freq)\n",
      "C:\\Users\\TYS\\AppData\\Local\\Temp\\ipykernel_59812\\270573817.py:51: SettingWithCopyWarning: \n",
      "A value is trying to be set on a copy of a slice from a DataFrame\n",
      "\n",
      "See the caveats in the documentation: https://pandas.pydata.org/pandas-docs/stable/user_guide/indexing.html#returning-a-view-versus-a-copy\n",
      "  forecast_dataset.at[last_date] = next_forecast\n",
      "c:\\Users\\TYS\\AppData\\Local\\Programs\\Python\\Python311\\Lib\\site-packages\\statsmodels\\tsa\\base\\tsa_model.py:473: ValueWarning: No frequency information was provided, so inferred frequency D will be used.\n",
      "  self._init_dates(dates, freq)\n",
      "C:\\Users\\TYS\\AppData\\Local\\Temp\\ipykernel_59812\\270573817.py:51: SettingWithCopyWarning: \n",
      "A value is trying to be set on a copy of a slice from a DataFrame\n",
      "\n",
      "See the caveats in the documentation: https://pandas.pydata.org/pandas-docs/stable/user_guide/indexing.html#returning-a-view-versus-a-copy\n",
      "  forecast_dataset.at[last_date] = next_forecast\n",
      "c:\\Users\\TYS\\AppData\\Local\\Programs\\Python\\Python311\\Lib\\site-packages\\statsmodels\\tsa\\base\\tsa_model.py:473: ValueWarning: No frequency information was provided, so inferred frequency D will be used.\n",
      "  self._init_dates(dates, freq)\n",
      "C:\\Users\\TYS\\AppData\\Local\\Temp\\ipykernel_59812\\270573817.py:51: SettingWithCopyWarning: \n",
      "A value is trying to be set on a copy of a slice from a DataFrame\n",
      "\n",
      "See the caveats in the documentation: https://pandas.pydata.org/pandas-docs/stable/user_guide/indexing.html#returning-a-view-versus-a-copy\n",
      "  forecast_dataset.at[last_date] = next_forecast\n",
      "c:\\Users\\TYS\\AppData\\Local\\Programs\\Python\\Python311\\Lib\\site-packages\\statsmodels\\tsa\\base\\tsa_model.py:473: ValueWarning: No frequency information was provided, so inferred frequency D will be used.\n",
      "  self._init_dates(dates, freq)\n",
      "C:\\Users\\TYS\\AppData\\Local\\Temp\\ipykernel_59812\\270573817.py:51: SettingWithCopyWarning: \n",
      "A value is trying to be set on a copy of a slice from a DataFrame\n",
      "\n",
      "See the caveats in the documentation: https://pandas.pydata.org/pandas-docs/stable/user_guide/indexing.html#returning-a-view-versus-a-copy\n",
      "  forecast_dataset.at[last_date] = next_forecast\n",
      "c:\\Users\\TYS\\AppData\\Local\\Programs\\Python\\Python311\\Lib\\site-packages\\statsmodels\\tsa\\base\\tsa_model.py:473: ValueWarning: No frequency information was provided, so inferred frequency D will be used.\n",
      "  self._init_dates(dates, freq)\n",
      "C:\\Users\\TYS\\AppData\\Local\\Temp\\ipykernel_59812\\270573817.py:51: SettingWithCopyWarning: \n",
      "A value is trying to be set on a copy of a slice from a DataFrame\n",
      "\n",
      "See the caveats in the documentation: https://pandas.pydata.org/pandas-docs/stable/user_guide/indexing.html#returning-a-view-versus-a-copy\n",
      "  forecast_dataset.at[last_date] = next_forecast\n",
      "c:\\Users\\TYS\\AppData\\Local\\Programs\\Python\\Python311\\Lib\\site-packages\\statsmodels\\tsa\\base\\tsa_model.py:473: ValueWarning: No frequency information was provided, so inferred frequency D will be used.\n",
      "  self._init_dates(dates, freq)\n",
      "C:\\Users\\TYS\\AppData\\Local\\Temp\\ipykernel_59812\\270573817.py:51: SettingWithCopyWarning: \n",
      "A value is trying to be set on a copy of a slice from a DataFrame\n",
      "\n",
      "See the caveats in the documentation: https://pandas.pydata.org/pandas-docs/stable/user_guide/indexing.html#returning-a-view-versus-a-copy\n",
      "  forecast_dataset.at[last_date] = next_forecast\n",
      "c:\\Users\\TYS\\AppData\\Local\\Programs\\Python\\Python311\\Lib\\site-packages\\statsmodels\\tsa\\base\\tsa_model.py:473: ValueWarning: No frequency information was provided, so inferred frequency D will be used.\n",
      "  self._init_dates(dates, freq)\n",
      "C:\\Users\\TYS\\AppData\\Local\\Temp\\ipykernel_59812\\270573817.py:51: SettingWithCopyWarning: \n",
      "A value is trying to be set on a copy of a slice from a DataFrame\n",
      "\n",
      "See the caveats in the documentation: https://pandas.pydata.org/pandas-docs/stable/user_guide/indexing.html#returning-a-view-versus-a-copy\n",
      "  forecast_dataset.at[last_date] = next_forecast\n",
      "c:\\Users\\TYS\\AppData\\Local\\Programs\\Python\\Python311\\Lib\\site-packages\\statsmodels\\tsa\\base\\tsa_model.py:473: ValueWarning: No frequency information was provided, so inferred frequency D will be used.\n",
      "  self._init_dates(dates, freq)\n",
      "C:\\Users\\TYS\\AppData\\Local\\Temp\\ipykernel_59812\\270573817.py:51: SettingWithCopyWarning: \n",
      "A value is trying to be set on a copy of a slice from a DataFrame\n",
      "\n",
      "See the caveats in the documentation: https://pandas.pydata.org/pandas-docs/stable/user_guide/indexing.html#returning-a-view-versus-a-copy\n",
      "  forecast_dataset.at[last_date] = next_forecast\n",
      "c:\\Users\\TYS\\AppData\\Local\\Programs\\Python\\Python311\\Lib\\site-packages\\statsmodels\\tsa\\base\\tsa_model.py:473: ValueWarning: No frequency information was provided, so inferred frequency D will be used.\n",
      "  self._init_dates(dates, freq)\n",
      "C:\\Users\\TYS\\AppData\\Local\\Temp\\ipykernel_59812\\270573817.py:51: SettingWithCopyWarning: \n",
      "A value is trying to be set on a copy of a slice from a DataFrame\n",
      "\n",
      "See the caveats in the documentation: https://pandas.pydata.org/pandas-docs/stable/user_guide/indexing.html#returning-a-view-versus-a-copy\n",
      "  forecast_dataset.at[last_date] = next_forecast\n",
      "c:\\Users\\TYS\\AppData\\Local\\Programs\\Python\\Python311\\Lib\\site-packages\\statsmodels\\tsa\\base\\tsa_model.py:473: ValueWarning: No frequency information was provided, so inferred frequency D will be used.\n",
      "  self._init_dates(dates, freq)\n",
      "C:\\Users\\TYS\\AppData\\Local\\Temp\\ipykernel_59812\\270573817.py:51: SettingWithCopyWarning: \n",
      "A value is trying to be set on a copy of a slice from a DataFrame\n",
      "\n",
      "See the caveats in the documentation: https://pandas.pydata.org/pandas-docs/stable/user_guide/indexing.html#returning-a-view-versus-a-copy\n",
      "  forecast_dataset.at[last_date] = next_forecast\n",
      "c:\\Users\\TYS\\AppData\\Local\\Programs\\Python\\Python311\\Lib\\site-packages\\statsmodels\\tsa\\base\\tsa_model.py:473: ValueWarning: No frequency information was provided, so inferred frequency D will be used.\n",
      "  self._init_dates(dates, freq)\n",
      "C:\\Users\\TYS\\AppData\\Local\\Temp\\ipykernel_59812\\270573817.py:51: SettingWithCopyWarning: \n",
      "A value is trying to be set on a copy of a slice from a DataFrame\n",
      "\n",
      "See the caveats in the documentation: https://pandas.pydata.org/pandas-docs/stable/user_guide/indexing.html#returning-a-view-versus-a-copy\n",
      "  forecast_dataset.at[last_date] = next_forecast\n",
      "c:\\Users\\TYS\\AppData\\Local\\Programs\\Python\\Python311\\Lib\\site-packages\\statsmodels\\tsa\\base\\tsa_model.py:473: ValueWarning: No frequency information was provided, so inferred frequency D will be used.\n",
      "  self._init_dates(dates, freq)\n",
      "C:\\Users\\TYS\\AppData\\Local\\Temp\\ipykernel_59812\\270573817.py:51: SettingWithCopyWarning: \n",
      "A value is trying to be set on a copy of a slice from a DataFrame\n",
      "\n",
      "See the caveats in the documentation: https://pandas.pydata.org/pandas-docs/stable/user_guide/indexing.html#returning-a-view-versus-a-copy\n",
      "  forecast_dataset.at[last_date] = next_forecast\n",
      "c:\\Users\\TYS\\AppData\\Local\\Programs\\Python\\Python311\\Lib\\site-packages\\statsmodels\\tsa\\base\\tsa_model.py:473: ValueWarning: No frequency information was provided, so inferred frequency D will be used.\n",
      "  self._init_dates(dates, freq)\n",
      "C:\\Users\\TYS\\AppData\\Local\\Temp\\ipykernel_59812\\270573817.py:51: SettingWithCopyWarning: \n",
      "A value is trying to be set on a copy of a slice from a DataFrame\n",
      "\n",
      "See the caveats in the documentation: https://pandas.pydata.org/pandas-docs/stable/user_guide/indexing.html#returning-a-view-versus-a-copy\n",
      "  forecast_dataset.at[last_date] = next_forecast\n",
      "c:\\Users\\TYS\\AppData\\Local\\Programs\\Python\\Python311\\Lib\\site-packages\\statsmodels\\tsa\\base\\tsa_model.py:473: ValueWarning: No frequency information was provided, so inferred frequency D will be used.\n",
      "  self._init_dates(dates, freq)\n",
      "C:\\Users\\TYS\\AppData\\Local\\Temp\\ipykernel_59812\\270573817.py:51: SettingWithCopyWarning: \n",
      "A value is trying to be set on a copy of a slice from a DataFrame\n",
      "\n",
      "See the caveats in the documentation: https://pandas.pydata.org/pandas-docs/stable/user_guide/indexing.html#returning-a-view-versus-a-copy\n",
      "  forecast_dataset.at[last_date] = next_forecast\n",
      "c:\\Users\\TYS\\AppData\\Local\\Programs\\Python\\Python311\\Lib\\site-packages\\statsmodels\\tsa\\base\\tsa_model.py:473: ValueWarning: No frequency information was provided, so inferred frequency D will be used.\n",
      "  self._init_dates(dates, freq)\n",
      "C:\\Users\\TYS\\AppData\\Local\\Temp\\ipykernel_59812\\270573817.py:51: SettingWithCopyWarning: \n",
      "A value is trying to be set on a copy of a slice from a DataFrame\n",
      "\n",
      "See the caveats in the documentation: https://pandas.pydata.org/pandas-docs/stable/user_guide/indexing.html#returning-a-view-versus-a-copy\n",
      "  forecast_dataset.at[last_date] = next_forecast\n",
      "c:\\Users\\TYS\\AppData\\Local\\Programs\\Python\\Python311\\Lib\\site-packages\\statsmodels\\tsa\\base\\tsa_model.py:473: ValueWarning: No frequency information was provided, so inferred frequency D will be used.\n",
      "  self._init_dates(dates, freq)\n",
      "C:\\Users\\TYS\\AppData\\Local\\Temp\\ipykernel_59812\\270573817.py:51: SettingWithCopyWarning: \n",
      "A value is trying to be set on a copy of a slice from a DataFrame\n",
      "\n",
      "See the caveats in the documentation: https://pandas.pydata.org/pandas-docs/stable/user_guide/indexing.html#returning-a-view-versus-a-copy\n",
      "  forecast_dataset.at[last_date] = next_forecast\n",
      "c:\\Users\\TYS\\AppData\\Local\\Programs\\Python\\Python311\\Lib\\site-packages\\statsmodels\\tsa\\base\\tsa_model.py:473: ValueWarning: No frequency information was provided, so inferred frequency D will be used.\n",
      "  self._init_dates(dates, freq)\n",
      "C:\\Users\\TYS\\AppData\\Local\\Temp\\ipykernel_59812\\270573817.py:51: SettingWithCopyWarning: \n",
      "A value is trying to be set on a copy of a slice from a DataFrame\n",
      "\n",
      "See the caveats in the documentation: https://pandas.pydata.org/pandas-docs/stable/user_guide/indexing.html#returning-a-view-versus-a-copy\n",
      "  forecast_dataset.at[last_date] = next_forecast\n",
      "c:\\Users\\TYS\\AppData\\Local\\Programs\\Python\\Python311\\Lib\\site-packages\\statsmodels\\tsa\\base\\tsa_model.py:473: ValueWarning: No frequency information was provided, so inferred frequency D will be used.\n",
      "  self._init_dates(dates, freq)\n",
      "C:\\Users\\TYS\\AppData\\Local\\Temp\\ipykernel_59812\\270573817.py:51: SettingWithCopyWarning: \n",
      "A value is trying to be set on a copy of a slice from a DataFrame\n",
      "\n",
      "See the caveats in the documentation: https://pandas.pydata.org/pandas-docs/stable/user_guide/indexing.html#returning-a-view-versus-a-copy\n",
      "  forecast_dataset.at[last_date] = next_forecast\n",
      "c:\\Users\\TYS\\AppData\\Local\\Programs\\Python\\Python311\\Lib\\site-packages\\statsmodels\\tsa\\base\\tsa_model.py:473: ValueWarning: No frequency information was provided, so inferred frequency D will be used.\n",
      "  self._init_dates(dates, freq)\n",
      "C:\\Users\\TYS\\AppData\\Local\\Temp\\ipykernel_59812\\270573817.py:51: SettingWithCopyWarning: \n",
      "A value is trying to be set on a copy of a slice from a DataFrame\n",
      "\n",
      "See the caveats in the documentation: https://pandas.pydata.org/pandas-docs/stable/user_guide/indexing.html#returning-a-view-versus-a-copy\n",
      "  forecast_dataset.at[last_date] = next_forecast\n",
      "c:\\Users\\TYS\\AppData\\Local\\Programs\\Python\\Python311\\Lib\\site-packages\\statsmodels\\tsa\\base\\tsa_model.py:473: ValueWarning: No frequency information was provided, so inferred frequency D will be used.\n",
      "  self._init_dates(dates, freq)\n",
      "C:\\Users\\TYS\\AppData\\Local\\Temp\\ipykernel_59812\\270573817.py:51: SettingWithCopyWarning: \n",
      "A value is trying to be set on a copy of a slice from a DataFrame\n",
      "\n",
      "See the caveats in the documentation: https://pandas.pydata.org/pandas-docs/stable/user_guide/indexing.html#returning-a-view-versus-a-copy\n",
      "  forecast_dataset.at[last_date] = next_forecast\n",
      "c:\\Users\\TYS\\AppData\\Local\\Programs\\Python\\Python311\\Lib\\site-packages\\statsmodels\\tsa\\base\\tsa_model.py:473: ValueWarning: No frequency information was provided, so inferred frequency D will be used.\n",
      "  self._init_dates(dates, freq)\n",
      "C:\\Users\\TYS\\AppData\\Local\\Temp\\ipykernel_59812\\270573817.py:51: SettingWithCopyWarning: \n",
      "A value is trying to be set on a copy of a slice from a DataFrame\n",
      "\n",
      "See the caveats in the documentation: https://pandas.pydata.org/pandas-docs/stable/user_guide/indexing.html#returning-a-view-versus-a-copy\n",
      "  forecast_dataset.at[last_date] = next_forecast\n",
      "c:\\Users\\TYS\\AppData\\Local\\Programs\\Python\\Python311\\Lib\\site-packages\\statsmodels\\tsa\\base\\tsa_model.py:473: ValueWarning: No frequency information was provided, so inferred frequency D will be used.\n",
      "  self._init_dates(dates, freq)\n",
      "C:\\Users\\TYS\\AppData\\Local\\Temp\\ipykernel_59812\\270573817.py:51: SettingWithCopyWarning: \n",
      "A value is trying to be set on a copy of a slice from a DataFrame\n",
      "\n",
      "See the caveats in the documentation: https://pandas.pydata.org/pandas-docs/stable/user_guide/indexing.html#returning-a-view-versus-a-copy\n",
      "  forecast_dataset.at[last_date] = next_forecast\n",
      "c:\\Users\\TYS\\AppData\\Local\\Programs\\Python\\Python311\\Lib\\site-packages\\statsmodels\\tsa\\base\\tsa_model.py:473: ValueWarning: No frequency information was provided, so inferred frequency D will be used.\n",
      "  self._init_dates(dates, freq)\n",
      "C:\\Users\\TYS\\AppData\\Local\\Temp\\ipykernel_59812\\270573817.py:51: SettingWithCopyWarning: \n",
      "A value is trying to be set on a copy of a slice from a DataFrame\n",
      "\n",
      "See the caveats in the documentation: https://pandas.pydata.org/pandas-docs/stable/user_guide/indexing.html#returning-a-view-versus-a-copy\n",
      "  forecast_dataset.at[last_date] = next_forecast\n",
      "c:\\Users\\TYS\\AppData\\Local\\Programs\\Python\\Python311\\Lib\\site-packages\\statsmodels\\tsa\\base\\tsa_model.py:473: ValueWarning: No frequency information was provided, so inferred frequency D will be used.\n",
      "  self._init_dates(dates, freq)\n",
      "C:\\Users\\TYS\\AppData\\Local\\Temp\\ipykernel_59812\\270573817.py:51: SettingWithCopyWarning: \n",
      "A value is trying to be set on a copy of a slice from a DataFrame\n",
      "\n",
      "See the caveats in the documentation: https://pandas.pydata.org/pandas-docs/stable/user_guide/indexing.html#returning-a-view-versus-a-copy\n",
      "  forecast_dataset.at[last_date] = next_forecast\n",
      "c:\\Users\\TYS\\AppData\\Local\\Programs\\Python\\Python311\\Lib\\site-packages\\statsmodels\\tsa\\base\\tsa_model.py:473: ValueWarning: No frequency information was provided, so inferred frequency D will be used.\n",
      "  self._init_dates(dates, freq)\n",
      "C:\\Users\\TYS\\AppData\\Local\\Temp\\ipykernel_59812\\270573817.py:51: SettingWithCopyWarning: \n",
      "A value is trying to be set on a copy of a slice from a DataFrame\n",
      "\n",
      "See the caveats in the documentation: https://pandas.pydata.org/pandas-docs/stable/user_guide/indexing.html#returning-a-view-versus-a-copy\n",
      "  forecast_dataset.at[last_date] = next_forecast\n",
      "c:\\Users\\TYS\\AppData\\Local\\Programs\\Python\\Python311\\Lib\\site-packages\\statsmodels\\tsa\\base\\tsa_model.py:473: ValueWarning: No frequency information was provided, so inferred frequency D will be used.\n",
      "  self._init_dates(dates, freq)\n",
      "C:\\Users\\TYS\\AppData\\Local\\Temp\\ipykernel_59812\\270573817.py:51: SettingWithCopyWarning: \n",
      "A value is trying to be set on a copy of a slice from a DataFrame\n",
      "\n",
      "See the caveats in the documentation: https://pandas.pydata.org/pandas-docs/stable/user_guide/indexing.html#returning-a-view-versus-a-copy\n",
      "  forecast_dataset.at[last_date] = next_forecast\n",
      "c:\\Users\\TYS\\AppData\\Local\\Programs\\Python\\Python311\\Lib\\site-packages\\statsmodels\\tsa\\base\\tsa_model.py:473: ValueWarning: No frequency information was provided, so inferred frequency D will be used.\n",
      "  self._init_dates(dates, freq)\n",
      "C:\\Users\\TYS\\AppData\\Local\\Temp\\ipykernel_59812\\270573817.py:51: SettingWithCopyWarning: \n",
      "A value is trying to be set on a copy of a slice from a DataFrame\n",
      "\n",
      "See the caveats in the documentation: https://pandas.pydata.org/pandas-docs/stable/user_guide/indexing.html#returning-a-view-versus-a-copy\n",
      "  forecast_dataset.at[last_date] = next_forecast\n",
      "c:\\Users\\TYS\\AppData\\Local\\Programs\\Python\\Python311\\Lib\\site-packages\\statsmodels\\tsa\\base\\tsa_model.py:473: ValueWarning: No frequency information was provided, so inferred frequency D will be used.\n",
      "  self._init_dates(dates, freq)\n",
      "C:\\Users\\TYS\\AppData\\Local\\Temp\\ipykernel_59812\\270573817.py:51: SettingWithCopyWarning: \n",
      "A value is trying to be set on a copy of a slice from a DataFrame\n",
      "\n",
      "See the caveats in the documentation: https://pandas.pydata.org/pandas-docs/stable/user_guide/indexing.html#returning-a-view-versus-a-copy\n",
      "  forecast_dataset.at[last_date] = next_forecast\n",
      "c:\\Users\\TYS\\AppData\\Local\\Programs\\Python\\Python311\\Lib\\site-packages\\statsmodels\\tsa\\base\\tsa_model.py:473: ValueWarning: No frequency information was provided, so inferred frequency D will be used.\n",
      "  self._init_dates(dates, freq)\n",
      "C:\\Users\\TYS\\AppData\\Local\\Temp\\ipykernel_59812\\270573817.py:51: SettingWithCopyWarning: \n",
      "A value is trying to be set on a copy of a slice from a DataFrame\n",
      "\n",
      "See the caveats in the documentation: https://pandas.pydata.org/pandas-docs/stable/user_guide/indexing.html#returning-a-view-versus-a-copy\n",
      "  forecast_dataset.at[last_date] = next_forecast\n",
      "c:\\Users\\TYS\\AppData\\Local\\Programs\\Python\\Python311\\Lib\\site-packages\\statsmodels\\tsa\\base\\tsa_model.py:473: ValueWarning: No frequency information was provided, so inferred frequency D will be used.\n",
      "  self._init_dates(dates, freq)\n",
      "C:\\Users\\TYS\\AppData\\Local\\Temp\\ipykernel_59812\\270573817.py:51: SettingWithCopyWarning: \n",
      "A value is trying to be set on a copy of a slice from a DataFrame\n",
      "\n",
      "See the caveats in the documentation: https://pandas.pydata.org/pandas-docs/stable/user_guide/indexing.html#returning-a-view-versus-a-copy\n",
      "  forecast_dataset.at[last_date] = next_forecast\n",
      "c:\\Users\\TYS\\AppData\\Local\\Programs\\Python\\Python311\\Lib\\site-packages\\statsmodels\\tsa\\base\\tsa_model.py:473: ValueWarning: No frequency information was provided, so inferred frequency D will be used.\n",
      "  self._init_dates(dates, freq)\n",
      "C:\\Users\\TYS\\AppData\\Local\\Temp\\ipykernel_59812\\270573817.py:51: SettingWithCopyWarning: \n",
      "A value is trying to be set on a copy of a slice from a DataFrame\n",
      "\n",
      "See the caveats in the documentation: https://pandas.pydata.org/pandas-docs/stable/user_guide/indexing.html#returning-a-view-versus-a-copy\n",
      "  forecast_dataset.at[last_date] = next_forecast\n",
      "c:\\Users\\TYS\\AppData\\Local\\Programs\\Python\\Python311\\Lib\\site-packages\\statsmodels\\tsa\\base\\tsa_model.py:473: ValueWarning: No frequency information was provided, so inferred frequency D will be used.\n",
      "  self._init_dates(dates, freq)\n",
      "C:\\Users\\TYS\\AppData\\Local\\Temp\\ipykernel_59812\\270573817.py:51: SettingWithCopyWarning: \n",
      "A value is trying to be set on a copy of a slice from a DataFrame\n",
      "\n",
      "See the caveats in the documentation: https://pandas.pydata.org/pandas-docs/stable/user_guide/indexing.html#returning-a-view-versus-a-copy\n",
      "  forecast_dataset.at[last_date] = next_forecast\n",
      "c:\\Users\\TYS\\AppData\\Local\\Programs\\Python\\Python311\\Lib\\site-packages\\statsmodels\\tsa\\base\\tsa_model.py:473: ValueWarning: No frequency information was provided, so inferred frequency D will be used.\n",
      "  self._init_dates(dates, freq)\n",
      "C:\\Users\\TYS\\AppData\\Local\\Temp\\ipykernel_59812\\270573817.py:51: SettingWithCopyWarning: \n",
      "A value is trying to be set on a copy of a slice from a DataFrame\n",
      "\n",
      "See the caveats in the documentation: https://pandas.pydata.org/pandas-docs/stable/user_guide/indexing.html#returning-a-view-versus-a-copy\n",
      "  forecast_dataset.at[last_date] = next_forecast\n",
      "c:\\Users\\TYS\\AppData\\Local\\Programs\\Python\\Python311\\Lib\\site-packages\\statsmodels\\tsa\\base\\tsa_model.py:473: ValueWarning: No frequency information was provided, so inferred frequency D will be used.\n",
      "  self._init_dates(dates, freq)\n",
      "C:\\Users\\TYS\\AppData\\Local\\Temp\\ipykernel_59812\\270573817.py:51: SettingWithCopyWarning: \n",
      "A value is trying to be set on a copy of a slice from a DataFrame\n",
      "\n",
      "See the caveats in the documentation: https://pandas.pydata.org/pandas-docs/stable/user_guide/indexing.html#returning-a-view-versus-a-copy\n",
      "  forecast_dataset.at[last_date] = next_forecast\n",
      "c:\\Users\\TYS\\AppData\\Local\\Programs\\Python\\Python311\\Lib\\site-packages\\statsmodels\\tsa\\base\\tsa_model.py:473: ValueWarning: No frequency information was provided, so inferred frequency D will be used.\n",
      "  self._init_dates(dates, freq)\n",
      "C:\\Users\\TYS\\AppData\\Local\\Temp\\ipykernel_59812\\270573817.py:51: SettingWithCopyWarning: \n",
      "A value is trying to be set on a copy of a slice from a DataFrame\n",
      "\n",
      "See the caveats in the documentation: https://pandas.pydata.org/pandas-docs/stable/user_guide/indexing.html#returning-a-view-versus-a-copy\n",
      "  forecast_dataset.at[last_date] = next_forecast\n",
      "c:\\Users\\TYS\\AppData\\Local\\Programs\\Python\\Python311\\Lib\\site-packages\\statsmodels\\tsa\\base\\tsa_model.py:473: ValueWarning: No frequency information was provided, so inferred frequency D will be used.\n",
      "  self._init_dates(dates, freq)\n",
      "C:\\Users\\TYS\\AppData\\Local\\Temp\\ipykernel_59812\\270573817.py:51: SettingWithCopyWarning: \n",
      "A value is trying to be set on a copy of a slice from a DataFrame\n",
      "\n",
      "See the caveats in the documentation: https://pandas.pydata.org/pandas-docs/stable/user_guide/indexing.html#returning-a-view-versus-a-copy\n",
      "  forecast_dataset.at[last_date] = next_forecast\n",
      "c:\\Users\\TYS\\AppData\\Local\\Programs\\Python\\Python311\\Lib\\site-packages\\statsmodels\\tsa\\base\\tsa_model.py:473: ValueWarning: No frequency information was provided, so inferred frequency D will be used.\n",
      "  self._init_dates(dates, freq)\n",
      "C:\\Users\\TYS\\AppData\\Local\\Temp\\ipykernel_59812\\270573817.py:51: SettingWithCopyWarning: \n",
      "A value is trying to be set on a copy of a slice from a DataFrame\n",
      "\n",
      "See the caveats in the documentation: https://pandas.pydata.org/pandas-docs/stable/user_guide/indexing.html#returning-a-view-versus-a-copy\n",
      "  forecast_dataset.at[last_date] = next_forecast\n",
      "c:\\Users\\TYS\\AppData\\Local\\Programs\\Python\\Python311\\Lib\\site-packages\\statsmodels\\tsa\\base\\tsa_model.py:473: ValueWarning: No frequency information was provided, so inferred frequency D will be used.\n",
      "  self._init_dates(dates, freq)\n",
      "C:\\Users\\TYS\\AppData\\Local\\Temp\\ipykernel_59812\\270573817.py:51: SettingWithCopyWarning: \n",
      "A value is trying to be set on a copy of a slice from a DataFrame\n",
      "\n",
      "See the caveats in the documentation: https://pandas.pydata.org/pandas-docs/stable/user_guide/indexing.html#returning-a-view-versus-a-copy\n",
      "  forecast_dataset.at[last_date] = next_forecast\n",
      "c:\\Users\\TYS\\AppData\\Local\\Programs\\Python\\Python311\\Lib\\site-packages\\statsmodels\\tsa\\base\\tsa_model.py:473: ValueWarning: No frequency information was provided, so inferred frequency D will be used.\n",
      "  self._init_dates(dates, freq)\n",
      "C:\\Users\\TYS\\AppData\\Local\\Temp\\ipykernel_59812\\270573817.py:51: SettingWithCopyWarning: \n",
      "A value is trying to be set on a copy of a slice from a DataFrame\n",
      "\n",
      "See the caveats in the documentation: https://pandas.pydata.org/pandas-docs/stable/user_guide/indexing.html#returning-a-view-versus-a-copy\n",
      "  forecast_dataset.at[last_date] = next_forecast\n",
      "c:\\Users\\TYS\\AppData\\Local\\Programs\\Python\\Python311\\Lib\\site-packages\\statsmodels\\tsa\\base\\tsa_model.py:473: ValueWarning: No frequency information was provided, so inferred frequency D will be used.\n",
      "  self._init_dates(dates, freq)\n",
      "C:\\Users\\TYS\\AppData\\Local\\Temp\\ipykernel_59812\\270573817.py:51: SettingWithCopyWarning: \n",
      "A value is trying to be set on a copy of a slice from a DataFrame\n",
      "\n",
      "See the caveats in the documentation: https://pandas.pydata.org/pandas-docs/stable/user_guide/indexing.html#returning-a-view-versus-a-copy\n",
      "  forecast_dataset.at[last_date] = next_forecast\n",
      "c:\\Users\\TYS\\AppData\\Local\\Programs\\Python\\Python311\\Lib\\site-packages\\statsmodels\\tsa\\base\\tsa_model.py:473: ValueWarning: No frequency information was provided, so inferred frequency D will be used.\n",
      "  self._init_dates(dates, freq)\n",
      "C:\\Users\\TYS\\AppData\\Local\\Temp\\ipykernel_59812\\270573817.py:51: SettingWithCopyWarning: \n",
      "A value is trying to be set on a copy of a slice from a DataFrame\n",
      "\n",
      "See the caveats in the documentation: https://pandas.pydata.org/pandas-docs/stable/user_guide/indexing.html#returning-a-view-versus-a-copy\n",
      "  forecast_dataset.at[last_date] = next_forecast\n",
      "c:\\Users\\TYS\\AppData\\Local\\Programs\\Python\\Python311\\Lib\\site-packages\\statsmodels\\tsa\\base\\tsa_model.py:473: ValueWarning: No frequency information was provided, so inferred frequency D will be used.\n",
      "  self._init_dates(dates, freq)\n",
      "C:\\Users\\TYS\\AppData\\Local\\Temp\\ipykernel_59812\\270573817.py:51: SettingWithCopyWarning: \n",
      "A value is trying to be set on a copy of a slice from a DataFrame\n",
      "\n",
      "See the caveats in the documentation: https://pandas.pydata.org/pandas-docs/stable/user_guide/indexing.html#returning-a-view-versus-a-copy\n",
      "  forecast_dataset.at[last_date] = next_forecast\n",
      "c:\\Users\\TYS\\AppData\\Local\\Programs\\Python\\Python311\\Lib\\site-packages\\statsmodels\\tsa\\base\\tsa_model.py:473: ValueWarning: No frequency information was provided, so inferred frequency D will be used.\n",
      "  self._init_dates(dates, freq)\n",
      "C:\\Users\\TYS\\AppData\\Local\\Temp\\ipykernel_59812\\270573817.py:51: SettingWithCopyWarning: \n",
      "A value is trying to be set on a copy of a slice from a DataFrame\n",
      "\n",
      "See the caveats in the documentation: https://pandas.pydata.org/pandas-docs/stable/user_guide/indexing.html#returning-a-view-versus-a-copy\n",
      "  forecast_dataset.at[last_date] = next_forecast\n",
      "c:\\Users\\TYS\\AppData\\Local\\Programs\\Python\\Python311\\Lib\\site-packages\\statsmodels\\tsa\\base\\tsa_model.py:473: ValueWarning: No frequency information was provided, so inferred frequency D will be used.\n",
      "  self._init_dates(dates, freq)\n",
      "C:\\Users\\TYS\\AppData\\Local\\Temp\\ipykernel_59812\\270573817.py:51: SettingWithCopyWarning: \n",
      "A value is trying to be set on a copy of a slice from a DataFrame\n",
      "\n",
      "See the caveats in the documentation: https://pandas.pydata.org/pandas-docs/stable/user_guide/indexing.html#returning-a-view-versus-a-copy\n",
      "  forecast_dataset.at[last_date] = next_forecast\n",
      "c:\\Users\\TYS\\AppData\\Local\\Programs\\Python\\Python311\\Lib\\site-packages\\statsmodels\\tsa\\base\\tsa_model.py:473: ValueWarning: No frequency information was provided, so inferred frequency D will be used.\n",
      "  self._init_dates(dates, freq)\n",
      "C:\\Users\\TYS\\AppData\\Local\\Temp\\ipykernel_59812\\270573817.py:51: SettingWithCopyWarning: \n",
      "A value is trying to be set on a copy of a slice from a DataFrame\n",
      "\n",
      "See the caveats in the documentation: https://pandas.pydata.org/pandas-docs/stable/user_guide/indexing.html#returning-a-view-versus-a-copy\n",
      "  forecast_dataset.at[last_date] = next_forecast\n",
      "c:\\Users\\TYS\\AppData\\Local\\Programs\\Python\\Python311\\Lib\\site-packages\\statsmodels\\tsa\\base\\tsa_model.py:473: ValueWarning: No frequency information was provided, so inferred frequency D will be used.\n",
      "  self._init_dates(dates, freq)\n",
      "C:\\Users\\TYS\\AppData\\Local\\Temp\\ipykernel_59812\\270573817.py:51: SettingWithCopyWarning: \n",
      "A value is trying to be set on a copy of a slice from a DataFrame\n",
      "\n",
      "See the caveats in the documentation: https://pandas.pydata.org/pandas-docs/stable/user_guide/indexing.html#returning-a-view-versus-a-copy\n",
      "  forecast_dataset.at[last_date] = next_forecast\n",
      "c:\\Users\\TYS\\AppData\\Local\\Programs\\Python\\Python311\\Lib\\site-packages\\statsmodels\\tsa\\base\\tsa_model.py:473: ValueWarning: No frequency information was provided, so inferred frequency D will be used.\n",
      "  self._init_dates(dates, freq)\n",
      "C:\\Users\\TYS\\AppData\\Local\\Temp\\ipykernel_59812\\270573817.py:51: SettingWithCopyWarning: \n",
      "A value is trying to be set on a copy of a slice from a DataFrame\n",
      "\n",
      "See the caveats in the documentation: https://pandas.pydata.org/pandas-docs/stable/user_guide/indexing.html#returning-a-view-versus-a-copy\n",
      "  forecast_dataset.at[last_date] = next_forecast\n",
      "c:\\Users\\TYS\\AppData\\Local\\Programs\\Python\\Python311\\Lib\\site-packages\\statsmodels\\tsa\\base\\tsa_model.py:473: ValueWarning: No frequency information was provided, so inferred frequency D will be used.\n",
      "  self._init_dates(dates, freq)\n",
      "C:\\Users\\TYS\\AppData\\Local\\Temp\\ipykernel_59812\\270573817.py:51: SettingWithCopyWarning: \n",
      "A value is trying to be set on a copy of a slice from a DataFrame\n",
      "\n",
      "See the caveats in the documentation: https://pandas.pydata.org/pandas-docs/stable/user_guide/indexing.html#returning-a-view-versus-a-copy\n",
      "  forecast_dataset.at[last_date] = next_forecast\n",
      "c:\\Users\\TYS\\AppData\\Local\\Programs\\Python\\Python311\\Lib\\site-packages\\statsmodels\\tsa\\base\\tsa_model.py:473: ValueWarning: No frequency information was provided, so inferred frequency D will be used.\n",
      "  self._init_dates(dates, freq)\n",
      "C:\\Users\\TYS\\AppData\\Local\\Temp\\ipykernel_59812\\270573817.py:51: SettingWithCopyWarning: \n",
      "A value is trying to be set on a copy of a slice from a DataFrame\n",
      "\n",
      "See the caveats in the documentation: https://pandas.pydata.org/pandas-docs/stable/user_guide/indexing.html#returning-a-view-versus-a-copy\n",
      "  forecast_dataset.at[last_date] = next_forecast\n",
      "c:\\Users\\TYS\\AppData\\Local\\Programs\\Python\\Python311\\Lib\\site-packages\\statsmodels\\tsa\\base\\tsa_model.py:473: ValueWarning: No frequency information was provided, so inferred frequency D will be used.\n",
      "  self._init_dates(dates, freq)\n",
      "C:\\Users\\TYS\\AppData\\Local\\Temp\\ipykernel_59812\\270573817.py:51: SettingWithCopyWarning: \n",
      "A value is trying to be set on a copy of a slice from a DataFrame\n",
      "\n",
      "See the caveats in the documentation: https://pandas.pydata.org/pandas-docs/stable/user_guide/indexing.html#returning-a-view-versus-a-copy\n",
      "  forecast_dataset.at[last_date] = next_forecast\n",
      "c:\\Users\\TYS\\AppData\\Local\\Programs\\Python\\Python311\\Lib\\site-packages\\statsmodels\\tsa\\base\\tsa_model.py:473: ValueWarning: No frequency information was provided, so inferred frequency D will be used.\n",
      "  self._init_dates(dates, freq)\n",
      "C:\\Users\\TYS\\AppData\\Local\\Temp\\ipykernel_59812\\270573817.py:51: SettingWithCopyWarning: \n",
      "A value is trying to be set on a copy of a slice from a DataFrame\n",
      "\n",
      "See the caveats in the documentation: https://pandas.pydata.org/pandas-docs/stable/user_guide/indexing.html#returning-a-view-versus-a-copy\n",
      "  forecast_dataset.at[last_date] = next_forecast\n",
      "c:\\Users\\TYS\\AppData\\Local\\Programs\\Python\\Python311\\Lib\\site-packages\\statsmodels\\tsa\\base\\tsa_model.py:473: ValueWarning: No frequency information was provided, so inferred frequency D will be used.\n",
      "  self._init_dates(dates, freq)\n",
      "C:\\Users\\TYS\\AppData\\Local\\Temp\\ipykernel_59812\\270573817.py:51: SettingWithCopyWarning: \n",
      "A value is trying to be set on a copy of a slice from a DataFrame\n",
      "\n",
      "See the caveats in the documentation: https://pandas.pydata.org/pandas-docs/stable/user_guide/indexing.html#returning-a-view-versus-a-copy\n",
      "  forecast_dataset.at[last_date] = next_forecast\n",
      "c:\\Users\\TYS\\AppData\\Local\\Programs\\Python\\Python311\\Lib\\site-packages\\statsmodels\\tsa\\base\\tsa_model.py:473: ValueWarning: No frequency information was provided, so inferred frequency D will be used.\n",
      "  self._init_dates(dates, freq)\n",
      "C:\\Users\\TYS\\AppData\\Local\\Temp\\ipykernel_59812\\270573817.py:51: SettingWithCopyWarning: \n",
      "A value is trying to be set on a copy of a slice from a DataFrame\n",
      "\n",
      "See the caveats in the documentation: https://pandas.pydata.org/pandas-docs/stable/user_guide/indexing.html#returning-a-view-versus-a-copy\n",
      "  forecast_dataset.at[last_date] = next_forecast\n",
      "c:\\Users\\TYS\\AppData\\Local\\Programs\\Python\\Python311\\Lib\\site-packages\\statsmodels\\tsa\\base\\tsa_model.py:473: ValueWarning: No frequency information was provided, so inferred frequency D will be used.\n",
      "  self._init_dates(dates, freq)\n",
      "C:\\Users\\TYS\\AppData\\Local\\Temp\\ipykernel_59812\\270573817.py:51: SettingWithCopyWarning: \n",
      "A value is trying to be set on a copy of a slice from a DataFrame\n",
      "\n",
      "See the caveats in the documentation: https://pandas.pydata.org/pandas-docs/stable/user_guide/indexing.html#returning-a-view-versus-a-copy\n",
      "  forecast_dataset.at[last_date] = next_forecast\n",
      "c:\\Users\\TYS\\AppData\\Local\\Programs\\Python\\Python311\\Lib\\site-packages\\statsmodels\\tsa\\base\\tsa_model.py:473: ValueWarning: No frequency information was provided, so inferred frequency D will be used.\n",
      "  self._init_dates(dates, freq)\n",
      "C:\\Users\\TYS\\AppData\\Local\\Temp\\ipykernel_59812\\270573817.py:51: SettingWithCopyWarning: \n",
      "A value is trying to be set on a copy of a slice from a DataFrame\n",
      "\n",
      "See the caveats in the documentation: https://pandas.pydata.org/pandas-docs/stable/user_guide/indexing.html#returning-a-view-versus-a-copy\n",
      "  forecast_dataset.at[last_date] = next_forecast\n",
      "c:\\Users\\TYS\\AppData\\Local\\Programs\\Python\\Python311\\Lib\\site-packages\\statsmodels\\tsa\\base\\tsa_model.py:473: ValueWarning: No frequency information was provided, so inferred frequency D will be used.\n",
      "  self._init_dates(dates, freq)\n",
      "C:\\Users\\TYS\\AppData\\Local\\Temp\\ipykernel_59812\\270573817.py:51: SettingWithCopyWarning: \n",
      "A value is trying to be set on a copy of a slice from a DataFrame\n",
      "\n",
      "See the caveats in the documentation: https://pandas.pydata.org/pandas-docs/stable/user_guide/indexing.html#returning-a-view-versus-a-copy\n",
      "  forecast_dataset.at[last_date] = next_forecast\n",
      "c:\\Users\\TYS\\AppData\\Local\\Programs\\Python\\Python311\\Lib\\site-packages\\statsmodels\\tsa\\base\\tsa_model.py:473: ValueWarning: No frequency information was provided, so inferred frequency D will be used.\n",
      "  self._init_dates(dates, freq)\n",
      "C:\\Users\\TYS\\AppData\\Local\\Temp\\ipykernel_59812\\270573817.py:51: SettingWithCopyWarning: \n",
      "A value is trying to be set on a copy of a slice from a DataFrame\n",
      "\n",
      "See the caveats in the documentation: https://pandas.pydata.org/pandas-docs/stable/user_guide/indexing.html#returning-a-view-versus-a-copy\n",
      "  forecast_dataset.at[last_date] = next_forecast\n",
      "c:\\Users\\TYS\\AppData\\Local\\Programs\\Python\\Python311\\Lib\\site-packages\\statsmodels\\tsa\\base\\tsa_model.py:473: ValueWarning: No frequency information was provided, so inferred frequency D will be used.\n",
      "  self._init_dates(dates, freq)\n",
      "C:\\Users\\TYS\\AppData\\Local\\Temp\\ipykernel_59812\\270573817.py:51: SettingWithCopyWarning: \n",
      "A value is trying to be set on a copy of a slice from a DataFrame\n",
      "\n",
      "See the caveats in the documentation: https://pandas.pydata.org/pandas-docs/stable/user_guide/indexing.html#returning-a-view-versus-a-copy\n",
      "  forecast_dataset.at[last_date] = next_forecast\n",
      "c:\\Users\\TYS\\AppData\\Local\\Programs\\Python\\Python311\\Lib\\site-packages\\statsmodels\\tsa\\base\\tsa_model.py:473: ValueWarning: No frequency information was provided, so inferred frequency D will be used.\n",
      "  self._init_dates(dates, freq)\n",
      "C:\\Users\\TYS\\AppData\\Local\\Temp\\ipykernel_59812\\270573817.py:51: SettingWithCopyWarning: \n",
      "A value is trying to be set on a copy of a slice from a DataFrame\n",
      "\n",
      "See the caveats in the documentation: https://pandas.pydata.org/pandas-docs/stable/user_guide/indexing.html#returning-a-view-versus-a-copy\n",
      "  forecast_dataset.at[last_date] = next_forecast\n",
      "c:\\Users\\TYS\\AppData\\Local\\Programs\\Python\\Python311\\Lib\\site-packages\\statsmodels\\tsa\\base\\tsa_model.py:473: ValueWarning: No frequency information was provided, so inferred frequency D will be used.\n",
      "  self._init_dates(dates, freq)\n",
      "C:\\Users\\TYS\\AppData\\Local\\Temp\\ipykernel_59812\\270573817.py:51: SettingWithCopyWarning: \n",
      "A value is trying to be set on a copy of a slice from a DataFrame\n",
      "\n",
      "See the caveats in the documentation: https://pandas.pydata.org/pandas-docs/stable/user_guide/indexing.html#returning-a-view-versus-a-copy\n",
      "  forecast_dataset.at[last_date] = next_forecast\n",
      "c:\\Users\\TYS\\AppData\\Local\\Programs\\Python\\Python311\\Lib\\site-packages\\statsmodels\\tsa\\base\\tsa_model.py:473: ValueWarning: No frequency information was provided, so inferred frequency D will be used.\n",
      "  self._init_dates(dates, freq)\n"
     ]
    },
    {
     "name": "stdout",
     "output_type": "stream",
     "text": [
      "The predicted trip count for cluster 11:\n",
      "Bike type 'electric_bike':\n",
      "On 2022-07-03 is: 632.3015916643756\n"
     ]
    },
    {
     "name": "stderr",
     "output_type": "stream",
     "text": [
      "C:\\Users\\TYS\\AppData\\Local\\Temp\\ipykernel_59812\\270573817.py:51: SettingWithCopyWarning: \n",
      "A value is trying to be set on a copy of a slice from a DataFrame\n",
      "\n",
      "See the caveats in the documentation: https://pandas.pydata.org/pandas-docs/stable/user_guide/indexing.html#returning-a-view-versus-a-copy\n",
      "  forecast_dataset.at[last_date] = next_forecast\n"
     ]
    }
   ],
   "source": [
    "# Example parameters\n",
    "cluster_to_predict = 11  # This is the cluster number you want to predict for\n",
    "bike_type_to_predict = 'electric_bike'  # This can be 'classic_bike' or 'electric_bike'\n",
    "date_to_predict = '2022-07-03'  # The date you want to make the prediction for, in 'YYYY-MM-DD' format\n",
    "\n",
    "# Call the demand_forecasting function with the example parameters\n",
    "predicted_trip_count = demand_forecasting(cluster_to_predict, bike_type_to_predict, date_to_predict)\n",
    "\n",
    "# Print out the result\n",
    "#print(f\"The predicted trip count for cluster {cluster_to_predict}, bike type '{bike_type_to_predict}', on {date_to_predict} is: {predicted_trip_count}\")\n",
    "# Print the values in three separate rows\n",
    "print(f\"The predicted trip count for cluster {cluster_to_predict}:\")\n",
    "print(f\"Bike type '{bike_type_to_predict}':\")\n",
    "print(f\"On {date_to_predict} is: {predicted_trip_count}\")\n"
   ]
  },
  {
   "cell_type": "code",
   "execution_count": null,
   "metadata": {},
   "outputs": [
    {
     "name": "stdout",
     "output_type": "stream",
     "text": [
      "start_station_cluster                6\n",
      "rideable_type            electric_bike\n",
      "trip_count                          21\n",
      "Name: 2022-09-14 00:00:00, dtype: object\n"
     ]
    }
   ],
   "source": [
    "row = data.iloc[8649]\n",
    "print(row)"
   ]
  },
  {
   "cell_type": "code",
   "execution_count": null,
   "metadata": {},
   "outputs": [],
   "source": [
    "# import matplotlib.pyplot as plt\n",
    "# import pandas as pd\n",
    "\n",
    "# def plot_demand_forecasting(cluster_to_predict, bike_type_to_predict, date_to_predict):\n",
    "#     # Combine training and test datasets for plotting\n",
    "#     if bike_type_to_predict == \"electric_bike\":\n",
    "#         train_temp = electric_bike_train[electric_bike_train['start_station_cluster'] == cluster_to_predict]\n",
    "#         test_temp = electric_bike_test[electric_bike_test['start_station_cluster'] == cluster_to_predict]\n",
    "#     elif bike_type_to_predict == \"classic_bike\":\n",
    "#         train_temp = classic_bike_train[classic_bike_train['start_station_cluster'] == cluster_to_predict]\n",
    "#         test_temp = classic_bike_test[classic_bike_test['start_station_cluster'] == cluster_to_predict]\n",
    "#     else:\n",
    "#         raise ValueError(\"Bike type must be 'electric_bike' or 'classic_bike'.\")\n",
    "\n",
    "#     # Create a date range from the first day of the training data to the last day of the test data\n",
    "#     #start_date = len(electric_bike_train) #train_temp.index.min()\n",
    "#     #end_date = len(electric_bike_train) + len(electric_bike_test) -1 #test_temp.index.max()\n",
    "#     start_date = train_temp.index.min().date()\n",
    "#     end_date = test_temp.index.max().date()\n",
    "   \n",
    "#     if start_date < end_date:\n",
    "#         print(type(start_date))\n",
    "#         print(end_date)\n",
    "#         print()\n",
    "\n",
    "#     #date_range = pd.date_range(start=start_date, end=end_date, freq='D')\n",
    "#     date_range = pd.date_range(start=start_date, end=end_date, freq='D')\n",
    "\n",
    "#     # Initialize a list to store forecasted values\n",
    "#     forecasted_values = []\n",
    "\n",
    "#     # Calculate forecasted trip count for each day using demand_forecasting function\n",
    "#     for current_date in date_range:\n",
    "#         forecasted_trip_count = demand_forecasting(cluster_to_predict, bike_type_to_predict, date_to_predict)\n",
    "#         forecasted_values.append(forecasted_trip_count)\n",
    "\n",
    "#     # Convert the list of forecasted values to a pandas Series\n",
    "#     forecasted_series = pd.Series(forecasted_values, index=date_range)\n",
    "\n",
    "#     # Plot the actual and forecasted trip counts\n",
    "#     plt.figure(figsize=(14, 7))\n",
    "#     plt.plot(train_temp.index, train_temp['trip_count'], label='Training Data', color='blue')\n",
    "#     plt.plot(test_temp.index, test_temp['trip_count'], label='Actual Test Data', color='orange')\n",
    "#     plt.plot(date_range, forecasted_series, label='Forecasted Data', color='green', linestyle='--')\n",
    "#     plt.title(f'Actual vs Forecasted Trip Counts for {bike_type_to_predict.capitalize()} in Cluster {cluster_to_predict}')\n",
    "#     plt.xlabel('Date')\n",
    "#     plt.ylabel('Trip Count')\n",
    "#     plt.legend()\n",
    "#     plt.show()\n",
    "\n",
    "# To use the function, you will need to ensure that:\n",
    "# - The demand_forecasting function is defined in your environment.\n",
    "# - The electric_bike_train, electric_bike_test, classic_bike_train, and classic_bike_test datasets are properly set up.\n",
    "# - The arima_params dictionary is correctly defined with the ARIMA order parameters for each combination of cluster and bike type.\n"
   ]
  },
  {
   "cell_type": "code",
   "execution_count": null,
   "metadata": {},
   "outputs": [],
   "source": [
    "# Function to forecast demand\n",
    "from sklearn.metrics import mean_squared_error, mean_absolute_error\n",
    "\n",
    "def demand_forecasting_with_trend(cluster_to_predict, bike_type_to_predict):\n",
    "    # Select the appropriate training dataset\n",
    "    if bike_type_to_predict == \"electric_bike\":\n",
    "        cluster_temp = electric_bike_data[electric_bike_data['start_station_cluster'] == cluster_to_predict]\n",
    "        test_temp = electric_bike_test[electric_bike_test['start_station_cluster'] == cluster_to_predict]\n",
    "    elif bike_type_to_predict == \"classic_bike\":\n",
    "        cluster_temp = classic_bike_train[classic_bike_train['start_station_cluster'] == cluster_to_predict]\n",
    "        test_temp = classic_bike_test[classic_bike_test['start_station_cluster'] == cluster_to_predict]\n",
    "    else:\n",
    "        raise ValueError(\"Bike type must be 'electric_bike' or 'classic_bike'.\")\n",
    "\n",
    "    # Fit the ARIMA model\n",
    "    model_order = arima_params[(cluster_to_predict, bike_type_to_predict)]['order']\n",
    "    model_seasonal = arima_params[(cluster_to_predict, bike_type_to_predict)]['seasonal_order']\n",
    "    model = ARIMA(cluster_temp['trip_count'], order=model_order, seasonal_order=model_seasonal ,freq='D')\n",
    "    #results = model.fit()\n",
    "    #model = ARIMA(cluster_temp['trip_count'], order=model_order)\n",
    "    results = model.fit()\n",
    "\n",
    "    # Predict for the entire year of 2022\n",
    "    forecast_end = '2022-12-31'\n",
    "    forecast = results.get_prediction(start='2022-01-01', end=forecast_end, dynamic=False)\n",
    "    forecasted_values = forecast.predicted_mean\n",
    "\n",
    "        # Evaluate the model\n",
    "    mse = mean_squared_error(cluster_temp['trip_count'], forecasted_values[:len(cluster_temp)])\n",
    "    mae = mean_absolute_error(cluster_temp['trip_count'], forecasted_values[:len(cluster_temp)])\n",
    "    print(f\"Mean Squared Error: {mse}\")\n",
    "    print(f\"Mean Absolute Error: {mae}\")\n",
    "\n",
    "\n",
    "    # Evaluate the model\n",
    "    #actual_test_values = test_temp['trip_count']['2022-01-01':forecast_end]\n",
    "    #mse = mean_squared_error(actual_test_values, forecasted_values)\n",
    "    #mae = mean_absolute_error(actual_test_values, forecasted_values)\n",
    "    #print(f\"Mean Squared Error: {mse}\")\n",
    "    #print(f\"Mean Absolute Error: {mae}\")\n",
    "\n",
    "    # Plotting the training data, forecasted data\n",
    "    fig, ax = plt.subplots(figsize=(12, 6))\n",
    "    fig.patch.set_facecolor('none')\n",
    "    ax.set_facecolor('none')\n",
    "    plt.plot(cluster_temp['trip_count'], label='Training Data')\n",
    "    plt.plot(test_temp['trip_count'],label='Test Data',color='green')\n",
    "    plt.plot(pd.date_range(start='2022-01-01', end=forecast_end, freq='D'), forecasted_values, \n",
    "             label='Forecasted Data', linestyle='--')\n",
    "    plt.title(f\"Actual vs Forecasted Trip Counts for {bike_type_to_predict.replace('_', ' ').title()} in Cluster {cluster_to_predict}\")\n",
    "    plt.legend()\n",
    "    plt.show()\n"
   ]
  },
  {
   "cell_type": "code",
   "execution_count": null,
   "metadata": {},
   "outputs": [
    {
     "name": "stderr",
     "output_type": "stream",
     "text": [
      "c:\\Users\\TYS\\AppData\\Local\\Programs\\Python\\Python311\\Lib\\site-packages\\statsmodels\\tsa\\base\\tsa_model.py:473: ValueWarning: No frequency information was provided, so inferred frequency D will be used.\n",
      "  self._init_dates(dates, freq)\n"
     ]
    },
    {
     "name": "stdout",
     "output_type": "stream",
     "text": [
      "Mean Squared Error: 57801.24997207358\n",
      "Mean Absolute Error: 174.57453332833148\n"
     ]
    },
    {
     "data": {
      "image/png": "[encoded data removed]",
      "text/plain": [
       "<Figure size 1200x600 with 1 Axes>"
      ]
     },
     "metadata": {
      "needs_background": "light"
     },
     "output_type": "display_data"
    }
   ],
   "source": [
    "# Call the function to plot for cluster 0, electric bike\n",
    "demand_forecasting_with_trend(17, 'electric_bike')"
   ]
  },
  {
   "cell_type": "code",
   "execution_count": null,
   "metadata": {},
   "outputs": [],
   "source": [
    "#(6, 'electric_bike'): {'order': (0, 1, 1),\n",
    "#  'seasonal_order': (0, 0, 0, 0),\n",
    "#  'aic': 1097.1439224242213},"
   ]
  },
  {
   "cell_type": "code",
   "execution_count": null,
   "metadata": {},
   "outputs": [],
   "source": []
  }
 ],
 "metadata": {
  "kernelspec": {
   "display_name": "Python 3",
   "language": "python",
   "name": "python3"
  },
  "language_info": {
   "codemirror_mode": {
    "name": "ipython",
    "version": 3
   },
   "file_extension": ".py",
   "mimetype": "text/x-python",
   "name": "python",
   "nbconvert_exporter": "python",
   "pygments_lexer": "ipython3",
   "version": "3.11.1"
  }
 },
 "nbformat": 4,
 "nbformat_minor": 2
}
