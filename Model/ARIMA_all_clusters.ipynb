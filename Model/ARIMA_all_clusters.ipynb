{
 "cells": [
  {
   "cell_type": "code",
   "execution_count": 57,
   "metadata": {},
   "outputs": [
    {
     "data": {
      "text/html": [
       "<div>\n",
       "<style scoped>\n",
       "    .dataframe tbody tr th:only-of-type {\n",
       "        vertical-align: middle;\n",
       "    }\n",
       "\n",
       "    .dataframe tbody tr th {\n",
       "        vertical-align: top;\n",
       "    }\n",
       "\n",
       "    .dataframe thead th {\n",
       "        text-align: right;\n",
       "    }\n",
       "</style>\n",
       "<table border=\"1\" class=\"dataframe\">\n",
       "  <thead>\n",
       "    <tr style=\"text-align: right;\">\n",
       "      <th></th>\n",
       "      <th>date</th>\n",
       "      <th>start_station_cluster</th>\n",
       "      <th>rideable_type</th>\n",
       "      <th>trip_count</th>\n",
       "    </tr>\n",
       "  </thead>\n",
       "  <tbody>\n",
       "    <tr>\n",
       "      <th>0</th>\n",
       "      <td>2022/1/1</td>\n",
       "      <td>0</td>\n",
       "      <td>classic_bike</td>\n",
       "      <td>94</td>\n",
       "    </tr>\n",
       "    <tr>\n",
       "      <th>1</th>\n",
       "      <td>2022/1/1</td>\n",
       "      <td>0</td>\n",
       "      <td>electric_bike</td>\n",
       "      <td>196</td>\n",
       "    </tr>\n",
       "    <tr>\n",
       "      <th>2</th>\n",
       "      <td>2022/1/1</td>\n",
       "      <td>1</td>\n",
       "      <td>classic_bike</td>\n",
       "      <td>11</td>\n",
       "    </tr>\n",
       "    <tr>\n",
       "      <th>3</th>\n",
       "      <td>2022/1/1</td>\n",
       "      <td>1</td>\n",
       "      <td>electric_bike</td>\n",
       "      <td>8</td>\n",
       "    </tr>\n",
       "    <tr>\n",
       "      <th>4</th>\n",
       "      <td>2022/1/1</td>\n",
       "      <td>2</td>\n",
       "      <td>classic_bike</td>\n",
       "      <td>37</td>\n",
       "    </tr>\n",
       "    <tr>\n",
       "      <th>...</th>\n",
       "      <td>...</td>\n",
       "      <td>...</td>\n",
       "      <td>...</td>\n",
       "      <td>...</td>\n",
       "    </tr>\n",
       "    <tr>\n",
       "      <th>12299</th>\n",
       "      <td>2022/12/31</td>\n",
       "      <td>17</td>\n",
       "      <td>electric_bike</td>\n",
       "      <td>189</td>\n",
       "    </tr>\n",
       "    <tr>\n",
       "      <th>12300</th>\n",
       "      <td>2022/12/31</td>\n",
       "      <td>18</td>\n",
       "      <td>classic_bike</td>\n",
       "      <td>13</td>\n",
       "    </tr>\n",
       "    <tr>\n",
       "      <th>12301</th>\n",
       "      <td>2022/12/31</td>\n",
       "      <td>18</td>\n",
       "      <td>electric_bike</td>\n",
       "      <td>46</td>\n",
       "    </tr>\n",
       "    <tr>\n",
       "      <th>12302</th>\n",
       "      <td>2022/12/31</td>\n",
       "      <td>19</td>\n",
       "      <td>classic_bike</td>\n",
       "      <td>9</td>\n",
       "    </tr>\n",
       "    <tr>\n",
       "      <th>12303</th>\n",
       "      <td>2022/12/31</td>\n",
       "      <td>19</td>\n",
       "      <td>electric_bike</td>\n",
       "      <td>4</td>\n",
       "    </tr>\n",
       "  </tbody>\n",
       "</table>\n",
       "<p>12304 rows × 4 columns</p>\n",
       "</div>"
      ],
      "text/plain": [
       "             date  start_station_cluster  rideable_type  trip_count\n",
       "0        2022/1/1                      0   classic_bike          94\n",
       "1        2022/1/1                      0  electric_bike         196\n",
       "2        2022/1/1                      1   classic_bike          11\n",
       "3        2022/1/1                      1  electric_bike           8\n",
       "4        2022/1/1                      2   classic_bike          37\n",
       "...           ...                    ...            ...         ...\n",
       "12299  2022/12/31                     17  electric_bike         189\n",
       "12300  2022/12/31                     18   classic_bike          13\n",
       "12301  2022/12/31                     18  electric_bike          46\n",
       "12302  2022/12/31                     19   classic_bike           9\n",
       "12303  2022/12/31                     19  electric_bike           4\n",
       "\n",
       "[12304 rows x 4 columns]"
      ]
     },
     "execution_count": 57,
     "metadata": {},
     "output_type": "execute_result"
    }
   ],
   "source": [
    "import pandas as pd\n",
    "import numpy as np\n",
    "\n",
    "\n",
    "import seaborn as sns                       #visualisation\n",
    "import matplotlib.pyplot as plt             #visualisation\n",
    "\n",
    "file = \"C:/Users/TYS/Documents/study/Master/INSY662/group project/Real Code/INSY662-Group-Project/Data/dataset_demand.csv\"\n",
    "data = pd.read_csv(file)\n",
    "data"
   ]
  },
  {
   "cell_type": "code",
   "execution_count": 58,
   "metadata": {},
   "outputs": [
    {
     "data": {
      "text/plain": [
       "(       date  start_station_cluster rideable_type  trip_count\n",
       " 0  2022/1/1                      0  classic_bike          94\n",
       " 2  2022/1/1                      1  classic_bike          11\n",
       " 4  2022/1/1                      2  classic_bike          37\n",
       " 5  2022/1/1                      3  classic_bike         118\n",
       " 7  2022/1/1                      4  classic_bike          65,\n",
       "        date  start_station_cluster  rideable_type  trip_count\n",
       " 1  2022/1/1                      0  electric_bike         196\n",
       " 3  2022/1/1                      1  electric_bike           8\n",
       " 6  2022/1/1                      3  electric_bike         262\n",
       " 8  2022/1/1                      4  electric_bike          97\n",
       " 9  2022/1/1                      6  electric_bike           8)"
      ]
     },
     "execution_count": 58,
     "metadata": {},
     "output_type": "execute_result"
    }
   ],
   "source": [
    "# Filter data for start_station_cluster 0\n",
    "#cluster_data = data[data['start_station_cluster'] == 0]\n",
    "\n",
    "# Separate data for classic bikes and electric bikes\n",
    "# use data instead of cluster_data\n",
    "classic_bike_data = data[data['rideable_type'] == 'classic_bike']\n",
    "electric_bike_data = data[data['rideable_type'] == 'electric_bike']\n",
    "all_bike_data = data\n",
    "\n",
    "classic_bike_data.head(), electric_bike_data.head()"
   ]
  },
  {
   "cell_type": "code",
   "execution_count": 59,
   "metadata": {},
   "outputs": [
    {
     "name": "stderr",
     "output_type": "stream",
     "text": [
      "C:\\Users\\TYS\\AppData\\Local\\Temp\\ipykernel_59812\\3828104725.py:2: SettingWithCopyWarning: \n",
      "A value is trying to be set on a copy of a slice from a DataFrame.\n",
      "Try using .loc[row_indexer,col_indexer] = value instead\n",
      "\n",
      "See the caveats in the documentation: https://pandas.pydata.org/pandas-docs/stable/user_guide/indexing.html#returning-a-view-versus-a-copy\n",
      "  classic_bike_data['date'] = pd.to_datetime(classic_bike_data['date'])\n",
      "C:\\Users\\TYS\\AppData\\Local\\Temp\\ipykernel_59812\\3828104725.py:3: SettingWithCopyWarning: \n",
      "A value is trying to be set on a copy of a slice from a DataFrame.\n",
      "Try using .loc[row_indexer,col_indexer] = value instead\n",
      "\n",
      "See the caveats in the documentation: https://pandas.pydata.org/pandas-docs/stable/user_guide/indexing.html#returning-a-view-versus-a-copy\n",
      "  electric_bike_data['date'] = pd.to_datetime(electric_bike_data['date'])\n"
     ]
    },
    {
     "data": {
      "text/plain": [
       "(            start_station_cluster rideable_type  trip_count\n",
       " date                                                       \n",
       " 2022-01-01                      0  classic_bike          94\n",
       " 2022-01-01                      1  classic_bike          11\n",
       " 2022-01-01                      2  classic_bike          37\n",
       " 2022-01-01                      3  classic_bike         118\n",
       " 2022-01-01                      4  classic_bike          65,\n",
       "             start_station_cluster  rideable_type  trip_count\n",
       " date                                                        \n",
       " 2022-01-01                      0  electric_bike         196\n",
       " 2022-01-01                      1  electric_bike           8\n",
       " 2022-01-01                      3  electric_bike         262\n",
       " 2022-01-01                      4  electric_bike          97\n",
       " 2022-01-01                      6  electric_bike           8)"
      ]
     },
     "execution_count": 59,
     "metadata": {},
     "output_type": "execute_result"
    }
   ],
   "source": [
    "# Convert 'date' to datetime and set as index\n",
    "classic_bike_data['date'] = pd.to_datetime(classic_bike_data['date'])\n",
    "electric_bike_data['date'] = pd.to_datetime(electric_bike_data['date'])\n",
    "all_bike_data['date'] = pd.to_datetime(all_bike_data['date'])\n",
    "classic_bike_data.set_index('date', inplace=True)\n",
    "electric_bike_data.set_index('date', inplace=True)\n",
    "all_bike_data.set_index('date', inplace=True)\n",
    "\n",
    "# Display the first few rows of each dataset\n",
    "classic_bike_data.head(), electric_bike_data.head() "
   ]
  },
  {
   "cell_type": "code",
   "execution_count": 60,
   "metadata": {},
   "outputs": [
    {
     "data": {
      "text/plain": [
       "(            start_station_cluster rideable_type  trip_count\n",
       " date                                                       \n",
       " 2022-01-01                      0  classic_bike          94\n",
       " 2022-01-01                      1  classic_bike          11\n",
       " 2022-01-01                      2  classic_bike          37\n",
       " 2022-01-01                      3  classic_bike         118\n",
       " 2022-01-01                      4  classic_bike          65,\n",
       "             start_station_cluster  rideable_type  trip_count\n",
       " date                                                        \n",
       " 2022-01-01                      0  electric_bike         196\n",
       " 2022-01-01                      1  electric_bike           8\n",
       " 2022-01-01                      3  electric_bike         262\n",
       " 2022-01-01                      4  electric_bike          97\n",
       " 2022-01-01                      6  electric_bike           8,\n",
       "             start_station_cluster  rideable_type  trip_count\n",
       " date                                                        \n",
       " 2022-01-01                      0   classic_bike          94\n",
       " 2022-01-01                      0  electric_bike         196\n",
       " 2022-01-01                      1   classic_bike          11\n",
       " 2022-01-01                      1  electric_bike           8\n",
       " 2022-01-01                      2   classic_bike          37)"
      ]
     },
     "execution_count": 60,
     "metadata": {},
     "output_type": "execute_result"
    }
   ],
   "source": [
    "# Make sure the data is sorted by date\n",
    "classic_bike_data.sort_index(inplace=True)\n",
    "electric_bike_data.sort_index(inplace=True)\n",
    "all_bike_data.sort_index(inplace=True)\n",
    "\n",
    "# Determine the split point for the classic bike data\n",
    "split_point_classic = len(classic_bike_data) // 2\n",
    "\n",
    "# Split the classic bike data into train and test\n",
    "classic_bike_train = classic_bike_data.iloc[:split_point_classic]\n",
    "classic_bike_test = classic_bike_data.iloc[split_point_classic:]\n",
    "\n",
    "# Determine the split point for the electric bike data\n",
    "split_point_electric = len(electric_bike_data) // 2\n",
    "\n",
    "# Split the electric bike data into train and test\n",
    "electric_bike_train = electric_bike_data.iloc[:split_point_electric]\n",
    "electric_bike_test = electric_bike_data.iloc[split_point_electric:]\n",
    "\n",
    "split_point_all = len(all_bike_data) // 2\n",
    "\n",
    "all_bike_train = all_bike_data.iloc[:split_point_all]\n",
    "all_bike_test = all_bike_data.iloc[split_point_all:]\n",
    "\n",
    "# You now have the train and test sets for both classic and electric bikes\n",
    "\n",
    "# Display the first few rows of each dataset\n",
    "classic_bike_train.head(), electric_bike_train.head(),all_bike_train.head()\n"
   ]
  },
  {
   "cell_type": "code",
   "execution_count": 61,
   "metadata": {},
   "outputs": [
    {
     "name": "stderr",
     "output_type": "stream",
     "text": [
      "c:\\Users\\TYS\\AppData\\Local\\Programs\\Python\\Python311\\Lib\\site-packages\\statsmodels\\tsa\\statespace\\sarimax.py:966: UserWarning: Non-stationary starting autoregressive parameters found. Using zeros as starting parameters.\n",
      "  warn('Non-stationary starting autoregressive parameters'\n",
      "c:\\Users\\TYS\\AppData\\Local\\Programs\\Python\\Python311\\Lib\\site-packages\\statsmodels\\tsa\\statespace\\sarimax.py:978: UserWarning: Non-invertible starting MA parameters found. Using zeros as starting parameters.\n",
      "  warn('Non-invertible starting MA parameters found.'\n"
     ]
    },
    {
     "name": "stdout",
     "output_type": "stream",
     "text": [
      "Performing stepwise search to minimize aic\n"
     ]
    },
    {
     "name": "stderr",
     "output_type": "stream",
     "text": [
      "c:\\Users\\TYS\\AppData\\Local\\Programs\\Python\\Python311\\Lib\\site-packages\\statsmodels\\base\\model.py:607: ConvergenceWarning: Maximum Likelihood optimization failed to converge. Check mle_retvals\n",
      "  warnings.warn(\"Maximum Likelihood optimization failed to \"\n"
     ]
    },
    {
     "name": "stdout",
     "output_type": "stream",
     "text": [
      " ARIMA(2,1,2)(0,0,0)[0] intercept   : AIC=inf, Time=0.65 sec\n",
      " ARIMA(0,1,0)(0,0,0)[0] intercept   : AIC=2118.268, Time=0.01 sec\n",
      " ARIMA(1,1,0)(0,0,0)[0] intercept   : AIC=2101.853, Time=0.04 sec\n",
      " ARIMA(0,1,1)(0,0,0)[0] intercept   : AIC=2081.247, Time=0.05 sec\n",
      " ARIMA(0,1,0)(0,0,0)[0]             : AIC=2116.303, Time=0.01 sec\n",
      " ARIMA(1,1,1)(0,0,0)[0] intercept   : AIC=2064.247, Time=0.22 sec\n",
      " ARIMA(2,1,1)(0,0,0)[0] intercept   : AIC=inf, Time=0.20 sec\n"
     ]
    },
    {
     "name": "stderr",
     "output_type": "stream",
     "text": [
      "c:\\Users\\TYS\\AppData\\Local\\Programs\\Python\\Python311\\Lib\\site-packages\\statsmodels\\tsa\\statespace\\sarimax.py:978: UserWarning: Non-invertible starting MA parameters found. Using zeros as starting parameters.\n",
      "  warn('Non-invertible starting MA parameters found.'\n",
      "c:\\Users\\TYS\\AppData\\Local\\Programs\\Python\\Python311\\Lib\\site-packages\\statsmodels\\tsa\\statespace\\sarimax.py:978: UserWarning: Non-invertible starting MA parameters found. Using zeros as starting parameters.\n",
      "  warn('Non-invertible starting MA parameters found.'\n"
     ]
    },
    {
     "name": "stdout",
     "output_type": "stream",
     "text": [
      " ARIMA(1,1,2)(0,0,0)[0] intercept   : AIC=2066.237, Time=0.27 sec\n",
      " ARIMA(0,1,2)(0,0,0)[0] intercept   : AIC=2067.124, Time=0.16 sec\n",
      " ARIMA(2,1,0)(0,0,0)[0] intercept   : AIC=2098.019, Time=0.09 sec\n",
      " ARIMA(1,1,1)(0,0,0)[0]             : AIC=2067.241, Time=0.09 sec\n",
      "\n",
      "Best model:  ARIMA(1,1,1)(0,0,0)[0] intercept\n",
      "Total fit time: 1.798 seconds\n",
      "Cluster 0 (Classic_bike): ARIMA(1, 1, 1), Seasonal Order=(0, 0, 0, 0), AIC=2064.2471916172635\n",
      "Performing stepwise search to minimize aic\n"
     ]
    },
    {
     "name": "stderr",
     "output_type": "stream",
     "text": [
      "c:\\Users\\TYS\\AppData\\Local\\Programs\\Python\\Python311\\Lib\\site-packages\\statsmodels\\tsa\\statespace\\sarimax.py:966: UserWarning: Non-stationary starting autoregressive parameters found. Using zeros as starting parameters.\n",
      "  warn('Non-stationary starting autoregressive parameters'\n",
      "c:\\Users\\TYS\\AppData\\Local\\Programs\\Python\\Python311\\Lib\\site-packages\\statsmodels\\tsa\\statespace\\sarimax.py:978: UserWarning: Non-invertible starting MA parameters found. Using zeros as starting parameters.\n",
      "  warn('Non-invertible starting MA parameters found.'\n"
     ]
    },
    {
     "name": "stdout",
     "output_type": "stream",
     "text": [
      " ARIMA(2,1,2)(0,0,0)[0] intercept   : AIC=inf, Time=0.51 sec\n",
      " ARIMA(0,1,0)(0,0,0)[0] intercept   : AIC=2263.338, Time=0.01 sec\n",
      " ARIMA(1,1,0)(0,0,0)[0] intercept   : AIC=2260.809, Time=0.03 sec\n",
      " ARIMA(0,1,1)(0,0,0)[0] intercept   : AIC=inf, Time=0.10 sec\n",
      " ARIMA(0,1,0)(0,0,0)[0]             : AIC=2261.370, Time=0.01 sec\n",
      " ARIMA(2,1,0)(0,0,0)[0] intercept   : AIC=2260.503, Time=0.04 sec\n",
      " ARIMA(3,1,0)(0,0,0)[0] intercept   : AIC=2244.114, Time=0.14 sec\n",
      " ARIMA(3,1,1)(0,0,0)[0] intercept   : AIC=inf, Time=0.26 sec\n"
     ]
    },
    {
     "name": "stderr",
     "output_type": "stream",
     "text": [
      "c:\\Users\\TYS\\AppData\\Local\\Programs\\Python\\Python311\\Lib\\site-packages\\statsmodels\\tsa\\statespace\\sarimax.py:966: UserWarning: Non-stationary starting autoregressive parameters found. Using zeros as starting parameters.\n",
      "  warn('Non-stationary starting autoregressive parameters'\n",
      "c:\\Users\\TYS\\AppData\\Local\\Programs\\Python\\Python311\\Lib\\site-packages\\statsmodels\\tsa\\statespace\\sarimax.py:978: UserWarning: Non-invertible starting MA parameters found. Using zeros as starting parameters.\n",
      "  warn('Non-invertible starting MA parameters found.'\n"
     ]
    },
    {
     "name": "stdout",
     "output_type": "stream",
     "text": [
      " ARIMA(2,1,1)(0,0,0)[0] intercept   : AIC=inf, Time=0.24 sec\n",
      " ARIMA(3,1,0)(0,0,0)[0]             : AIC=2242.279, Time=0.09 sec\n",
      " ARIMA(2,1,0)(0,0,0)[0]             : AIC=2258.572, Time=0.03 sec\n",
      " ARIMA(3,1,1)(0,0,0)[0]             : AIC=2197.766, Time=0.16 sec\n",
      " ARIMA(2,1,1)(0,0,0)[0]             : AIC=2213.732, Time=0.15 sec\n"
     ]
    },
    {
     "name": "stderr",
     "output_type": "stream",
     "text": [
      "c:\\Users\\TYS\\AppData\\Local\\Programs\\Python\\Python311\\Lib\\site-packages\\statsmodels\\tsa\\statespace\\sarimax.py:966: UserWarning: Non-stationary starting autoregressive parameters found. Using zeros as starting parameters.\n",
      "  warn('Non-stationary starting autoregressive parameters'\n",
      "c:\\Users\\TYS\\AppData\\Local\\Programs\\Python\\Python311\\Lib\\site-packages\\statsmodels\\tsa\\statespace\\sarimax.py:978: UserWarning: Non-invertible starting MA parameters found. Using zeros as starting parameters.\n",
      "  warn('Non-invertible starting MA parameters found.'\n",
      "c:\\Users\\TYS\\AppData\\Local\\Programs\\Python\\Python311\\Lib\\site-packages\\statsmodels\\tsa\\statespace\\sarimax.py:978: UserWarning: Non-invertible starting MA parameters found. Using zeros as starting parameters.\n",
      "  warn('Non-invertible starting MA parameters found.'\n",
      "c:\\Users\\TYS\\AppData\\Local\\Programs\\Python\\Python311\\Lib\\site-packages\\statsmodels\\base\\model.py:607: ConvergenceWarning: Maximum Likelihood optimization failed to converge. Check mle_retvals\n",
      "  warnings.warn(\"Maximum Likelihood optimization failed to \"\n",
      "c:\\Users\\TYS\\AppData\\Local\\Programs\\Python\\Python311\\Lib\\site-packages\\statsmodels\\tsa\\statespace\\sarimax.py:966: UserWarning: Non-stationary starting autoregressive parameters found. Using zeros as starting parameters.\n",
      "  warn('Non-stationary starting autoregressive parameters'\n",
      "c:\\Users\\TYS\\AppData\\Local\\Programs\\Python\\Python311\\Lib\\site-packages\\statsmodels\\tsa\\statespace\\sarimax.py:978: UserWarning: Non-invertible starting MA parameters found. Using zeros as starting parameters.\n",
      "  warn('Non-invertible starting MA parameters found.'\n"
     ]
    },
    {
     "name": "stdout",
     "output_type": "stream",
     "text": [
      " ARIMA(3,1,2)(0,0,0)[0]             : AIC=2169.810, Time=0.44 sec\n"
     ]
    },
    {
     "name": "stderr",
     "output_type": "stream",
     "text": [
      "c:\\Users\\TYS\\AppData\\Local\\Programs\\Python\\Python311\\Lib\\site-packages\\statsmodels\\base\\model.py:607: ConvergenceWarning: Maximum Likelihood optimization failed to converge. Check mle_retvals\n",
      "  warnings.warn(\"Maximum Likelihood optimization failed to \"\n",
      "c:\\Users\\TYS\\AppData\\Local\\Programs\\Python\\Python311\\Lib\\site-packages\\statsmodels\\tsa\\statespace\\sarimax.py:978: UserWarning: Non-invertible starting MA parameters found. Using zeros as starting parameters.\n",
      "  warn('Non-invertible starting MA parameters found.'\n"
     ]
    },
    {
     "name": "stdout",
     "output_type": "stream",
     "text": [
      " ARIMA(2,1,2)(0,0,0)[0]             : AIC=inf, Time=0.40 sec\n"
     ]
    },
    {
     "name": "stderr",
     "output_type": "stream",
     "text": [
      "c:\\Users\\TYS\\AppData\\Local\\Programs\\Python\\Python311\\Lib\\site-packages\\statsmodels\\base\\model.py:607: ConvergenceWarning: Maximum Likelihood optimization failed to converge. Check mle_retvals\n",
      "  warnings.warn(\"Maximum Likelihood optimization failed to \"\n"
     ]
    },
    {
     "name": "stdout",
     "output_type": "stream",
     "text": [
      " ARIMA(3,1,3)(0,0,0)[0]             : AIC=2149.936, Time=0.58 sec\n"
     ]
    },
    {
     "name": "stderr",
     "output_type": "stream",
     "text": [
      "c:\\Users\\TYS\\AppData\\Local\\Programs\\Python\\Python311\\Lib\\site-packages\\statsmodels\\base\\model.py:607: ConvergenceWarning: Maximum Likelihood optimization failed to converge. Check mle_retvals\n",
      "  warnings.warn(\"Maximum Likelihood optimization failed to \"\n",
      "c:\\Users\\TYS\\AppData\\Local\\Programs\\Python\\Python311\\Lib\\site-packages\\statsmodels\\tsa\\statespace\\sarimax.py:978: UserWarning: Non-invertible starting MA parameters found. Using zeros as starting parameters.\n",
      "  warn('Non-invertible starting MA parameters found.'\n"
     ]
    },
    {
     "name": "stdout",
     "output_type": "stream",
     "text": [
      " ARIMA(2,1,3)(0,0,0)[0]             : AIC=inf, Time=0.41 sec\n"
     ]
    },
    {
     "name": "stderr",
     "output_type": "stream",
     "text": [
      "c:\\Users\\TYS\\AppData\\Local\\Programs\\Python\\Python311\\Lib\\site-packages\\statsmodels\\base\\model.py:607: ConvergenceWarning: Maximum Likelihood optimization failed to converge. Check mle_retvals\n",
      "  warnings.warn(\"Maximum Likelihood optimization failed to \"\n",
      "c:\\Users\\TYS\\AppData\\Local\\Programs\\Python\\Python311\\Lib\\site-packages\\statsmodels\\tsa\\statespace\\sarimax.py:966: UserWarning: Non-stationary starting autoregressive parameters found. Using zeros as starting parameters.\n",
      "  warn('Non-stationary starting autoregressive parameters'\n",
      "c:\\Users\\TYS\\AppData\\Local\\Programs\\Python\\Python311\\Lib\\site-packages\\statsmodels\\tsa\\statespace\\sarimax.py:978: UserWarning: Non-invertible starting MA parameters found. Using zeros as starting parameters.\n",
      "  warn('Non-invertible starting MA parameters found.'\n"
     ]
    },
    {
     "name": "stdout",
     "output_type": "stream",
     "text": [
      " ARIMA(3,1,3)(0,0,0)[0] intercept   : AIC=inf, Time=0.64 sec\n",
      "\n",
      "Best model:  ARIMA(3,1,3)(0,0,0)[0]          \n",
      "Total fit time: 4.239 seconds\n",
      "Cluster 0 (Electric_bike): ARIMA(3, 1, 3), Seasonal Order=(0, 0, 0, 0), AIC=2149.9358103533123\n",
      "Performing stepwise search to minimize aic\n",
      " ARIMA(2,1,2)(0,0,0)[0] intercept   : AIC=1251.283, Time=0.20 sec\n",
      " ARIMA(0,1,0)(0,0,0)[0] intercept   : AIC=1341.424, Time=0.01 sec\n",
      " ARIMA(1,1,0)(0,0,0)[0] intercept   : AIC=1304.795, Time=0.03 sec\n",
      " ARIMA(0,1,1)(0,0,0)[0] intercept   : AIC=1247.183, Time=0.07 sec\n",
      " ARIMA(0,1,0)(0,0,0)[0]             : AIC=1339.448, Time=0.01 sec\n",
      " ARIMA(1,1,1)(0,0,0)[0] intercept   : AIC=1247.864, Time=0.09 sec\n",
      " ARIMA(0,1,2)(0,0,0)[0] intercept   : AIC=1247.786, Time=0.10 sec\n"
     ]
    },
    {
     "name": "stderr",
     "output_type": "stream",
     "text": [
      "c:\\Users\\TYS\\AppData\\Local\\Programs\\Python\\Python311\\Lib\\site-packages\\statsmodels\\tsa\\statespace\\sarimax.py:966: UserWarning: Non-stationary starting autoregressive parameters found. Using zeros as starting parameters.\n",
      "  warn('Non-stationary starting autoregressive parameters'\n",
      "c:\\Users\\TYS\\AppData\\Local\\Programs\\Python\\Python311\\Lib\\site-packages\\statsmodels\\tsa\\statespace\\sarimax.py:978: UserWarning: Non-invertible starting MA parameters found. Using zeros as starting parameters.\n",
      "  warn('Non-invertible starting MA parameters found.'\n"
     ]
    },
    {
     "name": "stdout",
     "output_type": "stream",
     "text": [
      " ARIMA(1,1,2)(0,0,0)[0] intercept   : AIC=1249.305, Time=0.13 sec\n",
      " ARIMA(0,1,1)(0,0,0)[0]             : AIC=1247.369, Time=0.03 sec\n",
      "\n",
      "Best model:  ARIMA(0,1,1)(0,0,0)[0] intercept\n",
      "Total fit time: 0.697 seconds\n",
      "Cluster 1 (Classic_bike): ARIMA(0, 1, 1), Seasonal Order=(0, 0, 0, 0), AIC=1247.1831601606\n",
      "Performing stepwise search to minimize aic\n",
      " ARIMA(2,0,2)(0,0,0)[0] intercept   : AIC=1023.189, Time=0.50 sec\n",
      " ARIMA(0,0,0)(0,0,0)[0] intercept   : AIC=1015.649, Time=0.01 sec\n",
      " ARIMA(1,0,0)(0,0,0)[0] intercept   : AIC=1017.418, Time=0.03 sec\n",
      " ARIMA(0,0,1)(0,0,0)[0] intercept   : AIC=1017.419, Time=0.04 sec\n",
      " ARIMA(0,0,0)(0,0,0)[0]             : AIC=1402.448, Time=0.01 sec\n",
      " ARIMA(1,0,1)(0,0,0)[0] intercept   : AIC=1019.416, Time=0.06 sec\n",
      "\n",
      "Best model:  ARIMA(0,0,0)(0,0,0)[0] intercept\n",
      "Total fit time: 0.663 seconds\n",
      "Cluster 1 (Electric_bike): ARIMA(0, 0, 0), Seasonal Order=(0, 0, 0, 0), AIC=1015.6493122039806\n",
      "Performing stepwise search to minimize aic\n",
      " ARIMA(2,1,2)(0,0,0)[0] intercept   : AIC=1489.607, Time=0.23 sec\n",
      " ARIMA(0,1,0)(0,0,0)[0] intercept   : AIC=1553.811, Time=0.01 sec\n",
      " ARIMA(1,1,0)(0,0,0)[0] intercept   : AIC=1527.429, Time=0.04 sec\n",
      " ARIMA(0,1,1)(0,0,0)[0] intercept   : AIC=1491.129, Time=0.05 sec\n",
      " ARIMA(0,1,0)(0,0,0)[0]             : AIC=1551.848, Time=0.01 sec\n"
     ]
    },
    {
     "name": "stderr",
     "output_type": "stream",
     "text": [
      "c:\\Users\\TYS\\AppData\\Local\\Programs\\Python\\Python311\\Lib\\site-packages\\statsmodels\\base\\model.py:607: ConvergenceWarning: Maximum Likelihood optimization failed to converge. Check mle_retvals\n",
      "  warnings.warn(\"Maximum Likelihood optimization failed to \"\n"
     ]
    },
    {
     "name": "stdout",
     "output_type": "stream",
     "text": [
      " ARIMA(1,1,2)(0,0,0)[0] intercept   : AIC=inf, Time=0.36 sec\n",
      " ARIMA(2,1,1)(0,0,0)[0] intercept   : AIC=1487.568, Time=0.19 sec\n",
      " ARIMA(1,1,1)(0,0,0)[0] intercept   : AIC=1485.695, Time=0.11 sec\n",
      " ARIMA(0,1,2)(0,0,0)[0] intercept   : AIC=1486.211, Time=0.11 sec\n",
      " ARIMA(2,1,0)(0,0,0)[0] intercept   : AIC=1510.014, Time=0.06 sec\n",
      " ARIMA(1,1,1)(0,0,0)[0]             : AIC=1489.639, Time=0.05 sec\n",
      "\n",
      "Best model:  ARIMA(1,1,1)(0,0,0)[0] intercept\n",
      "Total fit time: 1.227 seconds\n",
      "Cluster 2 (Classic_bike): ARIMA(1, 1, 1), Seasonal Order=(0, 0, 0, 0), AIC=1485.6953532642056\n",
      "Failed to find ARIMA model for electric_bike in cluster 2: Found array with 0 sample(s) (shape=(0,)) while a minimum of 1 is required.\n",
      "Performing stepwise search to minimize aic\n",
      " ARIMA(2,1,2)(0,0,0)[0] intercept   : AIC=1900.574, Time=0.22 sec\n",
      " ARIMA(0,1,0)(0,0,0)[0] intercept   : AIC=1947.493, Time=0.01 sec\n",
      " ARIMA(1,1,0)(0,0,0)[0] intercept   : AIC=1937.466, Time=0.04 sec\n",
      " ARIMA(0,1,1)(0,0,0)[0] intercept   : AIC=1912.929, Time=0.07 sec\n",
      " ARIMA(0,1,0)(0,0,0)[0]             : AIC=1945.498, Time=0.01 sec\n",
      " ARIMA(1,1,2)(0,0,0)[0] intercept   : AIC=1898.578, Time=0.16 sec\n",
      " ARIMA(0,1,2)(0,0,0)[0] intercept   : AIC=1896.596, Time=0.13 sec\n",
      " ARIMA(0,1,3)(0,0,0)[0] intercept   : AIC=1898.577, Time=0.17 sec\n",
      " ARIMA(1,1,1)(0,0,0)[0] intercept   : AIC=1899.264, Time=0.11 sec\n",
      " ARIMA(1,1,3)(0,0,0)[0] intercept   : AIC=1899.993, Time=0.30 sec\n",
      " ARIMA(0,1,2)(0,0,0)[0]             : AIC=1896.194, Time=0.07 sec\n",
      " ARIMA(0,1,1)(0,0,0)[0]             : AIC=1911.396, Time=0.05 sec\n",
      " ARIMA(1,1,2)(0,0,0)[0]             : AIC=1898.194, Time=0.13 sec\n",
      " ARIMA(0,1,3)(0,0,0)[0]             : AIC=1898.194, Time=0.10 sec\n",
      " ARIMA(1,1,1)(0,0,0)[0]             : AIC=1899.058, Time=0.06 sec\n",
      " ARIMA(1,1,3)(0,0,0)[0]             : AIC=1899.684, Time=0.28 sec\n",
      "\n",
      "Best model:  ARIMA(0,1,2)(0,0,0)[0]          \n",
      "Total fit time: 1.920 seconds\n",
      "Cluster 3 (Classic_bike): ARIMA(0, 1, 2), Seasonal Order=(0, 0, 0, 0), AIC=1896.1942806312684\n",
      "Performing stepwise search to minimize aic\n"
     ]
    },
    {
     "name": "stderr",
     "output_type": "stream",
     "text": [
      "c:\\Users\\TYS\\AppData\\Local\\Programs\\Python\\Python311\\Lib\\site-packages\\statsmodels\\tsa\\statespace\\sarimax.py:978: UserWarning: Non-invertible starting MA parameters found. Using zeros as starting parameters.\n",
      "  warn('Non-invertible starting MA parameters found.'\n"
     ]
    },
    {
     "name": "stdout",
     "output_type": "stream",
     "text": [
      " ARIMA(2,1,2)(0,0,0)[0] intercept   : AIC=2116.431, Time=0.39 sec\n",
      " ARIMA(0,1,0)(0,0,0)[0] intercept   : AIC=2169.350, Time=0.01 sec\n",
      " ARIMA(1,1,0)(0,0,0)[0] intercept   : AIC=2166.699, Time=0.05 sec\n",
      " ARIMA(0,1,1)(0,0,0)[0] intercept   : AIC=2143.866, Time=0.06 sec\n",
      " ARIMA(0,1,0)(0,0,0)[0]             : AIC=2167.371, Time=0.01 sec\n"
     ]
    },
    {
     "name": "stderr",
     "output_type": "stream",
     "text": [
      "c:\\Users\\TYS\\AppData\\Local\\Programs\\Python\\Python311\\Lib\\site-packages\\statsmodels\\tsa\\statespace\\sarimax.py:978: UserWarning: Non-invertible starting MA parameters found. Using zeros as starting parameters.\n",
      "  warn('Non-invertible starting MA parameters found.'\n"
     ]
    },
    {
     "name": "stdout",
     "output_type": "stream",
     "text": [
      " ARIMA(1,1,2)(0,0,0)[0] intercept   : AIC=inf, Time=0.24 sec\n",
      " ARIMA(2,1,1)(0,0,0)[0] intercept   : AIC=inf, Time=0.21 sec\n"
     ]
    },
    {
     "name": "stderr",
     "output_type": "stream",
     "text": [
      "c:\\Users\\TYS\\AppData\\Local\\Programs\\Python\\Python311\\Lib\\site-packages\\statsmodels\\tsa\\statespace\\sarimax.py:978: UserWarning: Non-invertible starting MA parameters found. Using zeros as starting parameters.\n",
      "  warn('Non-invertible starting MA parameters found.'\n"
     ]
    },
    {
     "name": "stdout",
     "output_type": "stream",
     "text": [
      " ARIMA(3,1,2)(0,0,0)[0] intercept   : AIC=inf, Time=0.48 sec\n",
      " ARIMA(2,1,3)(0,0,0)[0] intercept   : AIC=inf, Time=0.48 sec\n",
      " ARIMA(1,1,1)(0,0,0)[0] intercept   : AIC=inf, Time=0.12 sec\n"
     ]
    },
    {
     "name": "stderr",
     "output_type": "stream",
     "text": [
      "c:\\Users\\TYS\\AppData\\Local\\Programs\\Python\\Python311\\Lib\\site-packages\\statsmodels\\base\\model.py:607: ConvergenceWarning: Maximum Likelihood optimization failed to converge. Check mle_retvals\n",
      "  warnings.warn(\"Maximum Likelihood optimization failed to \"\n"
     ]
    },
    {
     "name": "stdout",
     "output_type": "stream",
     "text": [
      " ARIMA(1,1,3)(0,0,0)[0] intercept   : AIC=inf, Time=0.42 sec\n",
      " ARIMA(3,1,1)(0,0,0)[0] intercept   : AIC=inf, Time=0.29 sec\n"
     ]
    },
    {
     "name": "stderr",
     "output_type": "stream",
     "text": [
      "c:\\Users\\TYS\\AppData\\Local\\Programs\\Python\\Python311\\Lib\\site-packages\\statsmodels\\base\\model.py:607: ConvergenceWarning: Maximum Likelihood optimization failed to converge. Check mle_retvals\n",
      "  warnings.warn(\"Maximum Likelihood optimization failed to \"\n",
      "c:\\Users\\TYS\\AppData\\Local\\Programs\\Python\\Python311\\Lib\\site-packages\\statsmodels\\tsa\\statespace\\sarimax.py:978: UserWarning: Non-invertible starting MA parameters found. Using zeros as starting parameters.\n",
      "  warn('Non-invertible starting MA parameters found.'\n"
     ]
    },
    {
     "name": "stdout",
     "output_type": "stream",
     "text": [
      " ARIMA(3,1,3)(0,0,0)[0] intercept   : AIC=inf, Time=0.57 sec\n",
      " ARIMA(2,1,2)(0,0,0)[0]             : AIC=2114.300, Time=0.23 sec\n",
      " ARIMA(1,1,2)(0,0,0)[0]             : AIC=2117.638, Time=0.13 sec\n"
     ]
    },
    {
     "name": "stderr",
     "output_type": "stream",
     "text": [
      "c:\\Users\\TYS\\AppData\\Local\\Programs\\Python\\Python311\\Lib\\site-packages\\statsmodels\\tsa\\statespace\\sarimax.py:978: UserWarning: Non-invertible starting MA parameters found. Using zeros as starting parameters.\n",
      "  warn('Non-invertible starting MA parameters found.'\n"
     ]
    },
    {
     "name": "stdout",
     "output_type": "stream",
     "text": [
      " ARIMA(2,1,1)(0,0,0)[0]             : AIC=2115.876, Time=0.13 sec\n"
     ]
    },
    {
     "name": "stderr",
     "output_type": "stream",
     "text": [
      "c:\\Users\\TYS\\AppData\\Local\\Programs\\Python\\Python311\\Lib\\site-packages\\statsmodels\\tsa\\statespace\\sarimax.py:978: UserWarning: Non-invertible starting MA parameters found. Using zeros as starting parameters.\n",
      "  warn('Non-invertible starting MA parameters found.'\n"
     ]
    },
    {
     "name": "stdout",
     "output_type": "stream",
     "text": [
      " ARIMA(3,1,2)(0,0,0)[0]             : AIC=2118.321, Time=0.38 sec\n"
     ]
    },
    {
     "name": "stderr",
     "output_type": "stream",
     "text": [
      "c:\\Users\\TYS\\AppData\\Local\\Programs\\Python\\Python311\\Lib\\site-packages\\statsmodels\\base\\model.py:607: ConvergenceWarning: Maximum Likelihood optimization failed to converge. Check mle_retvals\n",
      "  warnings.warn(\"Maximum Likelihood optimization failed to \"\n"
     ]
    },
    {
     "name": "stdout",
     "output_type": "stream",
     "text": [
      " ARIMA(2,1,3)(0,0,0)[0]             : AIC=inf, Time=0.51 sec\n",
      " ARIMA(1,1,1)(0,0,0)[0]             : AIC=2122.398, Time=0.09 sec\n",
      " ARIMA(1,1,3)(0,0,0)[0]             : AIC=2119.419, Time=0.22 sec\n",
      " ARIMA(3,1,1)(0,0,0)[0]             : AIC=2117.744, Time=0.17 sec\n"
     ]
    },
    {
     "name": "stderr",
     "output_type": "stream",
     "text": [
      "c:\\Users\\TYS\\AppData\\Local\\Programs\\Python\\Python311\\Lib\\site-packages\\statsmodels\\base\\model.py:607: ConvergenceWarning: Maximum Likelihood optimization failed to converge. Check mle_retvals\n",
      "  warnings.warn(\"Maximum Likelihood optimization failed to \"\n",
      "c:\\Users\\TYS\\AppData\\Local\\Programs\\Python\\Python311\\Lib\\site-packages\\statsmodels\\tsa\\statespace\\sarimax.py:966: UserWarning: Non-stationary starting autoregressive parameters found. Using zeros as starting parameters.\n",
      "  warn('Non-stationary starting autoregressive parameters'\n",
      "c:\\Users\\TYS\\AppData\\Local\\Programs\\Python\\Python311\\Lib\\site-packages\\statsmodels\\tsa\\statespace\\sarimax.py:978: UserWarning: Non-invertible starting MA parameters found. Using zeros as starting parameters.\n",
      "  warn('Non-invertible starting MA parameters found.'\n"
     ]
    },
    {
     "name": "stdout",
     "output_type": "stream",
     "text": [
      " ARIMA(3,1,3)(0,0,0)[0]             : AIC=2107.081, Time=0.55 sec\n",
      "\n",
      "Best model:  ARIMA(3,1,3)(0,0,0)[0]          \n",
      "Total fit time: 5.725 seconds\n",
      "Cluster 3 (Electric_bike): ARIMA(3, 1, 3), Seasonal Order=(0, 0, 0, 0), AIC=2107.0814507455666\n",
      "Performing stepwise search to minimize aic\n",
      " ARIMA(2,1,2)(0,0,0)[0] intercept   : AIC=inf, Time=0.32 sec\n",
      " ARIMA(0,1,0)(0,0,0)[0] intercept   : AIC=1813.783, Time=0.01 sec\n",
      " ARIMA(1,1,0)(0,0,0)[0] intercept   : AIC=1806.446, Time=0.04 sec\n",
      " ARIMA(0,1,1)(0,0,0)[0] intercept   : AIC=1757.437, Time=0.12 sec\n",
      " ARIMA(0,1,0)(0,0,0)[0]             : AIC=1811.783, Time=0.01 sec\n",
      " ARIMA(1,1,1)(0,0,0)[0] intercept   : AIC=inf, Time=0.10 sec\n",
      " ARIMA(0,1,2)(0,0,0)[0] intercept   : AIC=inf, Time=0.20 sec\n"
     ]
    },
    {
     "name": "stderr",
     "output_type": "stream",
     "text": [
      "c:\\Users\\TYS\\AppData\\Local\\Programs\\Python\\Python311\\Lib\\site-packages\\statsmodels\\tsa\\statespace\\sarimax.py:978: UserWarning: Non-invertible starting MA parameters found. Using zeros as starting parameters.\n",
      "  warn('Non-invertible starting MA parameters found.'\n"
     ]
    },
    {
     "name": "stdout",
     "output_type": "stream",
     "text": [
      " ARIMA(1,1,2)(0,0,0)[0] intercept   : AIC=inf, Time=0.33 sec\n",
      " ARIMA(0,1,1)(0,0,0)[0]             : AIC=1757.418, Time=0.04 sec\n",
      " ARIMA(1,1,1)(0,0,0)[0]             : AIC=inf, Time=0.06 sec\n",
      " ARIMA(0,1,2)(0,0,0)[0]             : AIC=1740.362, Time=0.07 sec\n"
     ]
    },
    {
     "name": "stderr",
     "output_type": "stream",
     "text": [
      "c:\\Users\\TYS\\AppData\\Local\\Programs\\Python\\Python311\\Lib\\site-packages\\statsmodels\\tsa\\statespace\\sarimax.py:978: UserWarning: Non-invertible starting MA parameters found. Using zeros as starting parameters.\n",
      "  warn('Non-invertible starting MA parameters found.'\n"
     ]
    },
    {
     "name": "stdout",
     "output_type": "stream",
     "text": [
      " ARIMA(1,1,2)(0,0,0)[0]             : AIC=1742.352, Time=0.12 sec\n",
      " ARIMA(0,1,3)(0,0,0)[0]             : AIC=1742.339, Time=0.12 sec\n",
      " ARIMA(1,1,3)(0,0,0)[0]             : AIC=1738.489, Time=0.16 sec\n"
     ]
    },
    {
     "name": "stderr",
     "output_type": "stream",
     "text": [
      "c:\\Users\\TYS\\AppData\\Local\\Programs\\Python\\Python311\\Lib\\site-packages\\statsmodels\\base\\model.py:607: ConvergenceWarning: Maximum Likelihood optimization failed to converge. Check mle_retvals\n",
      "  warnings.warn(\"Maximum Likelihood optimization failed to \"\n",
      "c:\\Users\\TYS\\AppData\\Local\\Programs\\Python\\Python311\\Lib\\site-packages\\statsmodels\\tsa\\statespace\\sarimax.py:966: UserWarning: Non-stationary starting autoregressive parameters found. Using zeros as starting parameters.\n",
      "  warn('Non-stationary starting autoregressive parameters'\n",
      "c:\\Users\\TYS\\AppData\\Local\\Programs\\Python\\Python311\\Lib\\site-packages\\statsmodels\\tsa\\statespace\\sarimax.py:978: UserWarning: Non-invertible starting MA parameters found. Using zeros as starting parameters.\n",
      "  warn('Non-invertible starting MA parameters found.'\n"
     ]
    },
    {
     "name": "stdout",
     "output_type": "stream",
     "text": [
      " ARIMA(2,1,3)(0,0,0)[0]             : AIC=inf, Time=0.52 sec\n",
      " ARIMA(2,1,2)(0,0,0)[0]             : AIC=1730.121, Time=0.19 sec\n",
      " ARIMA(2,1,1)(0,0,0)[0]             : AIC=1738.308, Time=0.13 sec\n"
     ]
    },
    {
     "name": "stderr",
     "output_type": "stream",
     "text": [
      "c:\\Users\\TYS\\AppData\\Local\\Programs\\Python\\Python311\\Lib\\site-packages\\statsmodels\\tsa\\statespace\\sarimax.py:966: UserWarning: Non-stationary starting autoregressive parameters found. Using zeros as starting parameters.\n",
      "  warn('Non-stationary starting autoregressive parameters'\n",
      "c:\\Users\\TYS\\AppData\\Local\\Programs\\Python\\Python311\\Lib\\site-packages\\statsmodels\\tsa\\statespace\\sarimax.py:978: UserWarning: Non-invertible starting MA parameters found. Using zeros as starting parameters.\n",
      "  warn('Non-invertible starting MA parameters found.'\n"
     ]
    },
    {
     "name": "stdout",
     "output_type": "stream",
     "text": [
      " ARIMA(3,1,2)(0,0,0)[0]             : AIC=1736.254, Time=0.31 sec\n",
      " ARIMA(3,1,1)(0,0,0)[0]             : AIC=1734.502, Time=0.18 sec\n"
     ]
    },
    {
     "name": "stderr",
     "output_type": "stream",
     "text": [
      "c:\\Users\\TYS\\AppData\\Local\\Programs\\Python\\Python311\\Lib\\site-packages\\statsmodels\\base\\model.py:607: ConvergenceWarning: Maximum Likelihood optimization failed to converge. Check mle_retvals\n",
      "  warnings.warn(\"Maximum Likelihood optimization failed to \"\n",
      "c:\\Users\\TYS\\AppData\\Local\\Programs\\Python\\Python311\\Lib\\site-packages\\statsmodels\\tsa\\statespace\\sarimax.py:966: UserWarning: Non-stationary starting autoregressive parameters found. Using zeros as starting parameters.\n",
      "  warn('Non-stationary starting autoregressive parameters'\n",
      "c:\\Users\\TYS\\AppData\\Local\\Programs\\Python\\Python311\\Lib\\site-packages\\statsmodels\\tsa\\statespace\\sarimax.py:978: UserWarning: Non-invertible starting MA parameters found. Using zeros as starting parameters.\n",
      "  warn('Non-invertible starting MA parameters found.'\n"
     ]
    },
    {
     "name": "stdout",
     "output_type": "stream",
     "text": [
      " ARIMA(3,1,3)(0,0,0)[0]             : AIC=inf, Time=0.67 sec\n",
      "\n",
      "Best model:  ARIMA(2,1,2)(0,0,0)[0]          \n",
      "Total fit time: 3.731 seconds\n",
      "Cluster 4 (Classic_bike): ARIMA(2, 1, 2), Seasonal Order=(0, 0, 0, 0), AIC=1730.1205571208243\n",
      "Performing stepwise search to minimize aic\n"
     ]
    },
    {
     "name": "stderr",
     "output_type": "stream",
     "text": [
      "c:\\Users\\TYS\\AppData\\Local\\Programs\\Python\\Python311\\Lib\\site-packages\\statsmodels\\base\\model.py:607: ConvergenceWarning: Maximum Likelihood optimization failed to converge. Check mle_retvals\n",
      "  warnings.warn(\"Maximum Likelihood optimization failed to \"\n",
      "c:\\Users\\TYS\\AppData\\Local\\Programs\\Python\\Python311\\Lib\\site-packages\\statsmodels\\tsa\\statespace\\sarimax.py:978: UserWarning: Non-invertible starting MA parameters found. Using zeros as starting parameters.\n",
      "  warn('Non-invertible starting MA parameters found.'\n"
     ]
    },
    {
     "name": "stdout",
     "output_type": "stream",
     "text": [
      " ARIMA(2,1,2)(0,0,0)[0] intercept   : AIC=inf, Time=0.47 sec\n",
      " ARIMA(0,1,0)(0,0,0)[0] intercept   : AIC=1886.471, Time=0.01 sec\n",
      " ARIMA(1,1,0)(0,0,0)[0] intercept   : AIC=1886.292, Time=0.04 sec\n",
      " ARIMA(0,1,1)(0,0,0)[0] intercept   : AIC=inf, Time=0.07 sec\n",
      " ARIMA(0,1,0)(0,0,0)[0]             : AIC=1884.471, Time=0.01 sec\n",
      " ARIMA(1,1,1)(0,0,0)[0] intercept   : AIC=inf, Time=0.22 sec\n",
      "\n",
      "Best model:  ARIMA(0,1,0)(0,0,0)[0]          \n",
      "Total fit time: 0.830 seconds\n",
      "Cluster 4 (Electric_bike): ARIMA(0, 1, 0), Seasonal Order=(0, 0, 0, 0), AIC=1884.47066643778\n",
      "Performing stepwise search to minimize aic\n",
      " ARIMA(2,1,2)(0,0,0)[0] intercept   : AIC=inf, Time=0.29 sec\n",
      " ARIMA(0,1,0)(0,0,0)[0] intercept   : AIC=939.030, Time=0.01 sec\n",
      " ARIMA(1,1,0)(0,0,0)[0] intercept   : AIC=919.410, Time=0.02 sec\n",
      " ARIMA(0,1,1)(0,0,0)[0] intercept   : AIC=inf, Time=0.17 sec\n",
      " ARIMA(0,1,0)(0,0,0)[0]             : AIC=937.032, Time=0.01 sec\n",
      " ARIMA(2,1,0)(0,0,0)[0] intercept   : AIC=905.046, Time=0.06 sec\n",
      " ARIMA(3,1,0)(0,0,0)[0] intercept   : AIC=897.946, Time=0.08 sec\n"
     ]
    },
    {
     "name": "stderr",
     "output_type": "stream",
     "text": [
      "c:\\Users\\TYS\\AppData\\Local\\Programs\\Python\\Python311\\Lib\\site-packages\\statsmodels\\base\\model.py:607: ConvergenceWarning: Maximum Likelihood optimization failed to converge. Check mle_retvals\n",
      "  warnings.warn(\"Maximum Likelihood optimization failed to \"\n"
     ]
    },
    {
     "name": "stdout",
     "output_type": "stream",
     "text": [
      " ARIMA(3,1,1)(0,0,0)[0] intercept   : AIC=inf, Time=0.39 sec\n",
      " ARIMA(2,1,1)(0,0,0)[0] intercept   : AIC=inf, Time=0.26 sec\n",
      " ARIMA(3,1,0)(0,0,0)[0]             : AIC=895.963, Time=0.05 sec\n",
      " ARIMA(2,1,0)(0,0,0)[0]             : AIC=903.056, Time=0.03 sec\n",
      " ARIMA(3,1,1)(0,0,0)[0]             : AIC=867.709, Time=0.13 sec\n",
      " ARIMA(2,1,1)(0,0,0)[0]             : AIC=865.709, Time=0.09 sec\n",
      " ARIMA(1,1,1)(0,0,0)[0]             : AIC=864.269, Time=0.07 sec\n",
      " ARIMA(0,1,1)(0,0,0)[0]             : AIC=872.635, Time=0.04 sec\n",
      " ARIMA(1,1,0)(0,0,0)[0]             : AIC=917.415, Time=0.02 sec\n",
      " ARIMA(1,1,2)(0,0,0)[0]             : AIC=865.748, Time=0.09 sec\n",
      " ARIMA(0,1,2)(0,0,0)[0]             : AIC=863.786, Time=0.06 sec\n",
      " ARIMA(0,1,3)(0,0,0)[0]             : AIC=865.742, Time=0.08 sec\n",
      " ARIMA(1,1,3)(0,0,0)[0]             : AIC=866.015, Time=0.17 sec\n",
      " ARIMA(0,1,2)(0,0,0)[0] intercept   : AIC=inf, Time=0.21 sec\n",
      "\n",
      "Best model:  ARIMA(0,1,2)(0,0,0)[0]          \n",
      "Total fit time: 2.330 seconds\n",
      "Cluster 6 (Classic_bike): ARIMA(0, 1, 2), Seasonal Order=(0, 0, 0, 0), AIC=863.7859382045904\n",
      "Performing stepwise search to minimize aic\n",
      " ARIMA(2,1,2)(0,0,0)[0] intercept   : AIC=1102.139, Time=0.28 sec\n",
      " ARIMA(0,1,0)(0,0,0)[0] intercept   : AIC=1186.978, Time=0.01 sec\n",
      " ARIMA(1,1,0)(0,0,0)[0] intercept   : AIC=1145.639, Time=0.04 sec\n",
      " ARIMA(0,1,1)(0,0,0)[0] intercept   : AIC=1097.974, Time=0.06 sec\n",
      " ARIMA(0,1,0)(0,0,0)[0]             : AIC=1185.005, Time=0.01 sec\n",
      " ARIMA(1,1,1)(0,0,0)[0] intercept   : AIC=1099.965, Time=0.08 sec\n",
      " ARIMA(0,1,2)(0,0,0)[0] intercept   : AIC=1099.963, Time=0.09 sec\n",
      " ARIMA(1,1,2)(0,0,0)[0] intercept   : AIC=1100.404, Time=0.16 sec\n",
      " ARIMA(0,1,1)(0,0,0)[0]             : AIC=1097.144, Time=0.03 sec\n",
      " ARIMA(1,1,1)(0,0,0)[0]             : AIC=1099.142, Time=0.05 sec\n",
      " ARIMA(0,1,2)(0,0,0)[0]             : AIC=1099.142, Time=0.06 sec\n",
      " ARIMA(1,1,0)(0,0,0)[0]             : AIC=1143.717, Time=0.02 sec\n",
      " ARIMA(1,1,2)(0,0,0)[0]             : AIC=1099.515, Time=0.13 sec\n",
      "\n",
      "Best model:  ARIMA(0,1,1)(0,0,0)[0]          \n",
      "Total fit time: 1.023 seconds\n",
      "Cluster 6 (Electric_bike): ARIMA(0, 1, 1), Seasonal Order=(0, 0, 0, 0), AIC=1097.1439224242213\n",
      "Performing stepwise search to minimize aic\n"
     ]
    },
    {
     "name": "stderr",
     "output_type": "stream",
     "text": [
      "c:\\Users\\TYS\\AppData\\Local\\Programs\\Python\\Python311\\Lib\\site-packages\\statsmodels\\tsa\\statespace\\sarimax.py:966: UserWarning: Non-stationary starting autoregressive parameters found. Using zeros as starting parameters.\n",
      "  warn('Non-stationary starting autoregressive parameters'\n",
      "c:\\Users\\TYS\\AppData\\Local\\Programs\\Python\\Python311\\Lib\\site-packages\\statsmodels\\tsa\\statespace\\sarimax.py:978: UserWarning: Non-invertible starting MA parameters found. Using zeros as starting parameters.\n",
      "  warn('Non-invertible starting MA parameters found.'\n"
     ]
    },
    {
     "name": "stdout",
     "output_type": "stream",
     "text": [
      " ARIMA(2,1,2)(0,0,0)[0] intercept   : AIC=1878.377, Time=0.35 sec\n",
      " ARIMA(0,1,0)(0,0,0)[0] intercept   : AIC=1947.630, Time=0.01 sec\n",
      " ARIMA(1,1,0)(0,0,0)[0] intercept   : AIC=1939.117, Time=0.04 sec\n",
      " ARIMA(0,1,1)(0,0,0)[0] intercept   : AIC=1894.097, Time=0.06 sec\n",
      " ARIMA(0,1,0)(0,0,0)[0]             : AIC=1945.630, Time=0.01 sec\n",
      " ARIMA(1,1,2)(0,0,0)[0] intercept   : AIC=inf, Time=0.18 sec\n",
      " ARIMA(2,1,1)(0,0,0)[0] intercept   : AIC=1876.954, Time=0.18 sec\n",
      " ARIMA(1,1,1)(0,0,0)[0] intercept   : AIC=inf, Time=0.11 sec\n",
      " ARIMA(2,1,0)(0,0,0)[0] intercept   : AIC=1918.831, Time=0.09 sec\n",
      " ARIMA(3,1,1)(0,0,0)[0] intercept   : AIC=1878.947, Time=0.34 sec\n",
      " ARIMA(3,1,0)(0,0,0)[0] intercept   : AIC=1914.147, Time=0.17 sec\n"
     ]
    },
    {
     "name": "stderr",
     "output_type": "stream",
     "text": [
      "c:\\Users\\TYS\\AppData\\Local\\Programs\\Python\\Python311\\Lib\\site-packages\\statsmodels\\tsa\\statespace\\sarimax.py:966: UserWarning: Non-stationary starting autoregressive parameters found. Using zeros as starting parameters.\n",
      "  warn('Non-stationary starting autoregressive parameters'\n",
      "c:\\Users\\TYS\\AppData\\Local\\Programs\\Python\\Python311\\Lib\\site-packages\\statsmodels\\tsa\\statespace\\sarimax.py:978: UserWarning: Non-invertible starting MA parameters found. Using zeros as starting parameters.\n",
      "  warn('Non-invertible starting MA parameters found.'\n",
      "c:\\Users\\TYS\\AppData\\Local\\Programs\\Python\\Python311\\Lib\\site-packages\\statsmodels\\base\\model.py:607: ConvergenceWarning: Maximum Likelihood optimization failed to converge. Check mle_retvals\n",
      "  warnings.warn(\"Maximum Likelihood optimization failed to \"\n",
      "c:\\Users\\TYS\\AppData\\Local\\Programs\\Python\\Python311\\Lib\\site-packages\\statsmodels\\tsa\\statespace\\sarimax.py:966: UserWarning: Non-stationary starting autoregressive parameters found. Using zeros as starting parameters.\n",
      "  warn('Non-stationary starting autoregressive parameters'\n",
      "c:\\Users\\TYS\\AppData\\Local\\Programs\\Python\\Python311\\Lib\\site-packages\\statsmodels\\tsa\\statespace\\sarimax.py:978: UserWarning: Non-invertible starting MA parameters found. Using zeros as starting parameters.\n",
      "  warn('Non-invertible starting MA parameters found.'\n"
     ]
    },
    {
     "name": "stdout",
     "output_type": "stream",
     "text": [
      " ARIMA(3,1,2)(0,0,0)[0] intercept   : AIC=1878.501, Time=0.48 sec\n",
      " ARIMA(2,1,1)(0,0,0)[0]             : AIC=1877.941, Time=0.11 sec\n",
      "\n",
      "Best model:  ARIMA(2,1,1)(0,0,0)[0] intercept\n",
      "Total fit time: 2.148 seconds\n",
      "Cluster 7 (Classic_bike): ARIMA(2, 1, 1), Seasonal Order=(0, 0, 0, 0), AIC=1876.9535546810353\n",
      "Performing stepwise search to minimize aic\n"
     ]
    },
    {
     "name": "stderr",
     "output_type": "stream",
     "text": [
      "c:\\Users\\TYS\\AppData\\Local\\Programs\\Python\\Python311\\Lib\\site-packages\\statsmodels\\base\\model.py:607: ConvergenceWarning: Maximum Likelihood optimization failed to converge. Check mle_retvals\n",
      "  warnings.warn(\"Maximum Likelihood optimization failed to \"\n",
      "c:\\Users\\TYS\\AppData\\Local\\Programs\\Python\\Python311\\Lib\\site-packages\\statsmodels\\tsa\\statespace\\sarimax.py:978: UserWarning: Non-invertible starting MA parameters found. Using zeros as starting parameters.\n",
      "  warn('Non-invertible starting MA parameters found.'\n"
     ]
    },
    {
     "name": "stdout",
     "output_type": "stream",
     "text": [
      " ARIMA(2,1,2)(0,0,0)[0] intercept   : AIC=2051.081, Time=0.47 sec\n",
      " ARIMA(0,1,0)(0,0,0)[0] intercept   : AIC=2107.436, Time=0.01 sec\n",
      " ARIMA(1,1,0)(0,0,0)[0] intercept   : AIC=2098.113, Time=0.05 sec\n",
      " ARIMA(0,1,1)(0,0,0)[0] intercept   : AIC=2074.097, Time=0.07 sec\n",
      " ARIMA(0,1,0)(0,0,0)[0]             : AIC=2105.441, Time=0.01 sec\n",
      " ARIMA(1,1,2)(0,0,0)[0] intercept   : AIC=inf, Time=0.22 sec\n",
      " ARIMA(2,1,1)(0,0,0)[0] intercept   : AIC=inf, Time=0.14 sec\n"
     ]
    },
    {
     "name": "stderr",
     "output_type": "stream",
     "text": [
      "c:\\Users\\TYS\\AppData\\Local\\Programs\\Python\\Python311\\Lib\\site-packages\\statsmodels\\tsa\\statespace\\sarimax.py:966: UserWarning: Non-stationary starting autoregressive parameters found. Using zeros as starting parameters.\n",
      "  warn('Non-stationary starting autoregressive parameters'\n",
      "c:\\Users\\TYS\\AppData\\Local\\Programs\\Python\\Python311\\Lib\\site-packages\\statsmodels\\tsa\\statespace\\sarimax.py:978: UserWarning: Non-invertible starting MA parameters found. Using zeros as starting parameters.\n",
      "  warn('Non-invertible starting MA parameters found.'\n"
     ]
    },
    {
     "name": "stdout",
     "output_type": "stream",
     "text": [
      " ARIMA(3,1,2)(0,0,0)[0] intercept   : AIC=inf, Time=0.57 sec\n"
     ]
    },
    {
     "name": "stderr",
     "output_type": "stream",
     "text": [
      "c:\\Users\\TYS\\AppData\\Local\\Programs\\Python\\Python311\\Lib\\site-packages\\statsmodels\\base\\model.py:607: ConvergenceWarning: Maximum Likelihood optimization failed to converge. Check mle_retvals\n",
      "  warnings.warn(\"Maximum Likelihood optimization failed to \"\n"
     ]
    },
    {
     "name": "stdout",
     "output_type": "stream",
     "text": [
      " ARIMA(2,1,3)(0,0,0)[0] intercept   : AIC=inf, Time=0.65 sec\n",
      " ARIMA(1,1,1)(0,0,0)[0] intercept   : AIC=inf, Time=0.11 sec\n"
     ]
    },
    {
     "name": "stderr",
     "output_type": "stream",
     "text": [
      "c:\\Users\\TYS\\AppData\\Local\\Programs\\Python\\Python311\\Lib\\site-packages\\statsmodels\\base\\model.py:607: ConvergenceWarning: Maximum Likelihood optimization failed to converge. Check mle_retvals\n",
      "  warnings.warn(\"Maximum Likelihood optimization failed to \"\n"
     ]
    },
    {
     "name": "stdout",
     "output_type": "stream",
     "text": [
      " ARIMA(1,1,3)(0,0,0)[0] intercept   : AIC=inf, Time=0.52 sec\n",
      " ARIMA(3,1,1)(0,0,0)[0] intercept   : AIC=inf, Time=0.31 sec\n"
     ]
    },
    {
     "name": "stderr",
     "output_type": "stream",
     "text": [
      "c:\\Users\\TYS\\AppData\\Local\\Programs\\Python\\Python311\\Lib\\site-packages\\statsmodels\\base\\model.py:607: ConvergenceWarning: Maximum Likelihood optimization failed to converge. Check mle_retvals\n",
      "  warnings.warn(\"Maximum Likelihood optimization failed to \"\n",
      "c:\\Users\\TYS\\AppData\\Local\\Programs\\Python\\Python311\\Lib\\site-packages\\statsmodels\\tsa\\statespace\\sarimax.py:966: UserWarning: Non-stationary starting autoregressive parameters found. Using zeros as starting parameters.\n",
      "  warn('Non-stationary starting autoregressive parameters'\n",
      "c:\\Users\\TYS\\AppData\\Local\\Programs\\Python\\Python311\\Lib\\site-packages\\statsmodels\\tsa\\statespace\\sarimax.py:978: UserWarning: Non-invertible starting MA parameters found. Using zeros as starting parameters.\n",
      "  warn('Non-invertible starting MA parameters found.'\n"
     ]
    },
    {
     "name": "stdout",
     "output_type": "stream",
     "text": [
      " ARIMA(3,1,3)(0,0,0)[0] intercept   : AIC=inf, Time=0.65 sec\n",
      " ARIMA(2,1,2)(0,0,0)[0]             : AIC=2054.977, Time=0.26 sec\n",
      "\n",
      "Best model:  ARIMA(2,1,2)(0,0,0)[0] intercept\n",
      "Total fit time: 4.050 seconds\n",
      "Cluster 7 (Electric_bike): ARIMA(2, 1, 2), Seasonal Order=(0, 0, 0, 0), AIC=2051.081136217439\n",
      "Performing stepwise search to minimize aic\n"
     ]
    },
    {
     "name": "stderr",
     "output_type": "stream",
     "text": [
      "c:\\Users\\TYS\\AppData\\Local\\Programs\\Python\\Python311\\Lib\\site-packages\\statsmodels\\tsa\\statespace\\sarimax.py:966: UserWarning: Non-stationary starting autoregressive parameters found. Using zeros as starting parameters.\n",
      "  warn('Non-stationary starting autoregressive parameters'\n",
      "c:\\Users\\TYS\\AppData\\Local\\Programs\\Python\\Python311\\Lib\\site-packages\\statsmodels\\tsa\\statespace\\sarimax.py:978: UserWarning: Non-invertible starting MA parameters found. Using zeros as starting parameters.\n",
      "  warn('Non-invertible starting MA parameters found.'\n",
      "c:\\Users\\TYS\\AppData\\Local\\Programs\\Python\\Python311\\Lib\\site-packages\\statsmodels\\base\\model.py:607: ConvergenceWarning: Maximum Likelihood optimization failed to converge. Check mle_retvals\n",
      "  warnings.warn(\"Maximum Likelihood optimization failed to \"\n"
     ]
    },
    {
     "name": "stdout",
     "output_type": "stream",
     "text": [
      " ARIMA(2,1,2)(0,0,0)[0] intercept   : AIC=inf, Time=0.42 sec\n",
      " ARIMA(0,1,0)(0,0,0)[0] intercept   : AIC=1149.050, Time=0.01 sec\n",
      " ARIMA(1,1,0)(0,0,0)[0] intercept   : AIC=1114.536, Time=0.04 sec\n",
      " ARIMA(0,1,1)(0,0,0)[0] intercept   : AIC=inf, Time=0.16 sec\n",
      " ARIMA(0,1,0)(0,0,0)[0]             : AIC=1147.092, Time=0.01 sec\n",
      " ARIMA(2,1,0)(0,0,0)[0] intercept   : AIC=1103.167, Time=0.08 sec\n",
      " ARIMA(3,1,0)(0,0,0)[0] intercept   : AIC=1092.091, Time=0.11 sec\n"
     ]
    },
    {
     "name": "stderr",
     "output_type": "stream",
     "text": [
      "c:\\Users\\TYS\\AppData\\Local\\Programs\\Python\\Python311\\Lib\\site-packages\\statsmodels\\base\\model.py:607: ConvergenceWarning: Maximum Likelihood optimization failed to converge. Check mle_retvals\n",
      "  warnings.warn(\"Maximum Likelihood optimization failed to \"\n"
     ]
    },
    {
     "name": "stdout",
     "output_type": "stream",
     "text": [
      " ARIMA(3,1,1)(0,0,0)[0] intercept   : AIC=inf, Time=0.45 sec\n",
      " ARIMA(2,1,1)(0,0,0)[0] intercept   : AIC=inf, Time=0.39 sec\n",
      " ARIMA(3,1,0)(0,0,0)[0]             : AIC=1090.158, Time=0.06 sec\n",
      " ARIMA(2,1,0)(0,0,0)[0]             : AIC=1101.233, Time=0.04 sec\n",
      " ARIMA(3,1,1)(0,0,0)[0]             : AIC=1060.804, Time=0.13 sec\n",
      " ARIMA(2,1,1)(0,0,0)[0]             : AIC=1059.342, Time=0.11 sec\n",
      " ARIMA(1,1,1)(0,0,0)[0]             : AIC=1057.397, Time=0.05 sec\n",
      " ARIMA(0,1,1)(0,0,0)[0]             : AIC=1057.215, Time=0.04 sec\n",
      " ARIMA(0,1,2)(0,0,0)[0]             : AIC=1057.374, Time=0.06 sec\n",
      " ARIMA(1,1,0)(0,0,0)[0]             : AIC=1112.597, Time=0.02 sec\n",
      " ARIMA(1,1,2)(0,0,0)[0]             : AIC=1059.371, Time=0.16 sec\n",
      "\n",
      "Best model:  ARIMA(0,1,1)(0,0,0)[0]          \n",
      "Total fit time: 2.352 seconds\n",
      "Cluster 8 (Classic_bike): ARIMA(0, 1, 1), Seasonal Order=(0, 0, 0, 0), AIC=1057.214875754571\n",
      "Performing stepwise search to minimize aic\n"
     ]
    },
    {
     "name": "stderr",
     "output_type": "stream",
     "text": [
      "c:\\Users\\TYS\\AppData\\Local\\Programs\\Python\\Python311\\Lib\\site-packages\\statsmodels\\tsa\\statespace\\sarimax.py:966: UserWarning: Non-stationary starting autoregressive parameters found. Using zeros as starting parameters.\n",
      "  warn('Non-stationary starting autoregressive parameters'\n",
      "c:\\Users\\TYS\\AppData\\Local\\Programs\\Python\\Python311\\Lib\\site-packages\\statsmodels\\tsa\\statespace\\sarimax.py:978: UserWarning: Non-invertible starting MA parameters found. Using zeros as starting parameters.\n",
      "  warn('Non-invertible starting MA parameters found.'\n",
      "c:\\Users\\TYS\\AppData\\Local\\Programs\\Python\\Python311\\Lib\\site-packages\\statsmodels\\base\\model.py:607: ConvergenceWarning: Maximum Likelihood optimization failed to converge. Check mle_retvals\n",
      "  warnings.warn(\"Maximum Likelihood optimization failed to \"\n"
     ]
    },
    {
     "name": "stdout",
     "output_type": "stream",
     "text": [
      " ARIMA(2,1,2)(0,0,0)[0] intercept   : AIC=inf, Time=0.44 sec\n",
      " ARIMA(0,1,0)(0,0,0)[0] intercept   : AIC=1162.014, Time=0.01 sec\n",
      " ARIMA(1,1,0)(0,0,0)[0] intercept   : AIC=1141.324, Time=0.03 sec\n",
      " ARIMA(0,1,1)(0,0,0)[0] intercept   : AIC=inf, Time=0.15 sec\n",
      " ARIMA(0,1,0)(0,0,0)[0]             : AIC=1160.056, Time=0.01 sec\n",
      " ARIMA(2,1,0)(0,0,0)[0] intercept   : AIC=1116.439, Time=0.07 sec\n",
      " ARIMA(3,1,0)(0,0,0)[0] intercept   : AIC=1114.918, Time=0.09 sec\n"
     ]
    },
    {
     "name": "stderr",
     "output_type": "stream",
     "text": [
      "c:\\Users\\TYS\\AppData\\Local\\Programs\\Python\\Python311\\Lib\\site-packages\\statsmodels\\base\\model.py:607: ConvergenceWarning: Maximum Likelihood optimization failed to converge. Check mle_retvals\n",
      "  warnings.warn(\"Maximum Likelihood optimization failed to \"\n"
     ]
    },
    {
     "name": "stdout",
     "output_type": "stream",
     "text": [
      " ARIMA(3,1,1)(0,0,0)[0] intercept   : AIC=inf, Time=0.40 sec\n"
     ]
    },
    {
     "name": "stderr",
     "output_type": "stream",
     "text": [
      "c:\\Users\\TYS\\AppData\\Local\\Programs\\Python\\Python311\\Lib\\site-packages\\statsmodels\\base\\model.py:607: ConvergenceWarning: Maximum Likelihood optimization failed to converge. Check mle_retvals\n",
      "  warnings.warn(\"Maximum Likelihood optimization failed to \"\n"
     ]
    },
    {
     "name": "stdout",
     "output_type": "stream",
     "text": [
      " ARIMA(2,1,1)(0,0,0)[0] intercept   : AIC=inf, Time=0.34 sec\n",
      " ARIMA(3,1,0)(0,0,0)[0]             : AIC=1113.028, Time=0.05 sec\n",
      " ARIMA(2,1,0)(0,0,0)[0]             : AIC=1114.523, Time=0.03 sec\n",
      " ARIMA(3,1,1)(0,0,0)[0]             : AIC=1085.474, Time=0.15 sec\n",
      " ARIMA(2,1,1)(0,0,0)[0]             : AIC=1085.109, Time=0.10 sec\n",
      " ARIMA(1,1,1)(0,0,0)[0]             : AIC=1084.157, Time=0.06 sec\n",
      " ARIMA(0,1,1)(0,0,0)[0]             : AIC=1090.417, Time=0.03 sec\n",
      " ARIMA(1,1,0)(0,0,0)[0]             : AIC=1139.379, Time=0.02 sec\n",
      " ARIMA(1,1,2)(0,0,0)[0]             : AIC=1083.155, Time=0.09 sec\n",
      " ARIMA(0,1,2)(0,0,0)[0]             : AIC=1082.661, Time=0.05 sec\n",
      " ARIMA(0,1,3)(0,0,0)[0]             : AIC=1083.805, Time=0.10 sec\n",
      " ARIMA(1,1,3)(0,0,0)[0]             : AIC=1084.987, Time=0.16 sec\n",
      " ARIMA(0,1,2)(0,0,0)[0] intercept   : AIC=inf, Time=0.26 sec\n",
      "\n",
      "Best model:  ARIMA(0,1,2)(0,0,0)[0]          \n",
      "Total fit time: 2.634 seconds\n",
      "Cluster 8 (Electric_bike): ARIMA(0, 1, 2), Seasonal Order=(0, 0, 0, 0), AIC=1082.6613093581004\n",
      "Performing stepwise search to minimize aic\n"
     ]
    },
    {
     "name": "stderr",
     "output_type": "stream",
     "text": [
      "c:\\Users\\TYS\\AppData\\Local\\Programs\\Python\\Python311\\Lib\\site-packages\\statsmodels\\tsa\\statespace\\sarimax.py:966: UserWarning: Non-stationary starting autoregressive parameters found. Using zeros as starting parameters.\n",
      "  warn('Non-stationary starting autoregressive parameters'\n",
      "c:\\Users\\TYS\\AppData\\Local\\Programs\\Python\\Python311\\Lib\\site-packages\\statsmodels\\tsa\\statespace\\sarimax.py:978: UserWarning: Non-invertible starting MA parameters found. Using zeros as starting parameters.\n",
      "  warn('Non-invertible starting MA parameters found.'\n"
     ]
    },
    {
     "name": "stdout",
     "output_type": "stream",
     "text": [
      " ARIMA(2,1,2)(0,0,0)[0] intercept   : AIC=inf, Time=0.46 sec\n",
      " ARIMA(0,1,0)(0,0,0)[0] intercept   : AIC=1698.646, Time=0.01 sec\n",
      " ARIMA(1,1,0)(0,0,0)[0] intercept   : AIC=1682.086, Time=0.04 sec\n",
      " ARIMA(0,1,1)(0,0,0)[0] intercept   : AIC=inf, Time=0.13 sec\n",
      " ARIMA(0,1,0)(0,0,0)[0]             : AIC=1696.677, Time=0.01 sec\n",
      " ARIMA(2,1,0)(0,0,0)[0] intercept   : AIC=1671.661, Time=0.08 sec\n",
      " ARIMA(3,1,0)(0,0,0)[0] intercept   : AIC=1664.623, Time=0.10 sec\n"
     ]
    },
    {
     "name": "stderr",
     "output_type": "stream",
     "text": [
      "c:\\Users\\TYS\\AppData\\Local\\Programs\\Python\\Python311\\Lib\\site-packages\\statsmodels\\base\\model.py:607: ConvergenceWarning: Maximum Likelihood optimization failed to converge. Check mle_retvals\n",
      "  warnings.warn(\"Maximum Likelihood optimization failed to \"\n"
     ]
    },
    {
     "name": "stdout",
     "output_type": "stream",
     "text": [
      " ARIMA(3,1,1)(0,0,0)[0] intercept   : AIC=inf, Time=0.42 sec\n"
     ]
    },
    {
     "name": "stderr",
     "output_type": "stream",
     "text": [
      "c:\\Users\\TYS\\AppData\\Local\\Programs\\Python\\Python311\\Lib\\site-packages\\statsmodels\\base\\model.py:607: ConvergenceWarning: Maximum Likelihood optimization failed to converge. Check mle_retvals\n",
      "  warnings.warn(\"Maximum Likelihood optimization failed to \"\n"
     ]
    },
    {
     "name": "stdout",
     "output_type": "stream",
     "text": [
      " ARIMA(2,1,1)(0,0,0)[0] intercept   : AIC=inf, Time=0.30 sec\n",
      " ARIMA(3,1,0)(0,0,0)[0]             : AIC=1662.840, Time=0.06 sec\n",
      " ARIMA(2,1,0)(0,0,0)[0]             : AIC=1669.806, Time=0.05 sec\n",
      " ARIMA(3,1,1)(0,0,0)[0]             : AIC=1632.028, Time=0.14 sec\n",
      " ARIMA(2,1,1)(0,0,0)[0]             : AIC=1631.651, Time=0.11 sec\n",
      " ARIMA(1,1,1)(0,0,0)[0]             : AIC=1631.319, Time=0.06 sec\n",
      " ARIMA(0,1,1)(0,0,0)[0]             : AIC=1639.709, Time=0.03 sec\n",
      " ARIMA(1,1,0)(0,0,0)[0]             : AIC=1680.170, Time=0.02 sec\n",
      " ARIMA(1,1,2)(0,0,0)[0]             : AIC=1632.356, Time=0.11 sec\n",
      " ARIMA(0,1,2)(0,0,0)[0]             : AIC=1630.400, Time=0.06 sec\n"
     ]
    },
    {
     "name": "stderr",
     "output_type": "stream",
     "text": [
      "c:\\Users\\TYS\\AppData\\Local\\Programs\\Python\\Python311\\Lib\\site-packages\\statsmodels\\tsa\\statespace\\sarimax.py:978: UserWarning: Non-invertible starting MA parameters found. Using zeros as starting parameters.\n",
      "  warn('Non-invertible starting MA parameters found.'\n",
      "c:\\Users\\TYS\\AppData\\Local\\Programs\\Python\\Python311\\Lib\\site-packages\\statsmodels\\tsa\\statespace\\sarimax.py:978: UserWarning: Non-invertible starting MA parameters found. Using zeros as starting parameters.\n",
      "  warn('Non-invertible starting MA parameters found.'\n"
     ]
    },
    {
     "name": "stdout",
     "output_type": "stream",
     "text": [
      " ARIMA(0,1,3)(0,0,0)[0]             : AIC=1632.322, Time=0.13 sec\n",
      " ARIMA(1,1,3)(0,0,0)[0]             : AIC=1632.468, Time=0.18 sec\n",
      " ARIMA(0,1,2)(0,0,0)[0] intercept   : AIC=inf, Time=0.22 sec\n",
      "\n",
      "Best model:  ARIMA(0,1,2)(0,0,0)[0]          \n",
      "Total fit time: 2.728 seconds\n",
      "Cluster 9 (Classic_bike): ARIMA(0, 1, 2), Seasonal Order=(0, 0, 0, 0), AIC=1630.399630408573\n",
      "Failed to find ARIMA model for electric_bike in cluster 9: Found array with 0 sample(s) (shape=(0,)) while a minimum of 1 is required.\n",
      "Performing stepwise search to minimize aic\n"
     ]
    },
    {
     "name": "stderr",
     "output_type": "stream",
     "text": [
      "c:\\Users\\TYS\\AppData\\Local\\Programs\\Python\\Python311\\Lib\\site-packages\\statsmodels\\tsa\\statespace\\sarimax.py:966: UserWarning: Non-stationary starting autoregressive parameters found. Using zeros as starting parameters.\n",
      "  warn('Non-stationary starting autoregressive parameters'\n",
      "c:\\Users\\TYS\\AppData\\Local\\Programs\\Python\\Python311\\Lib\\site-packages\\statsmodels\\tsa\\statespace\\sarimax.py:978: UserWarning: Non-invertible starting MA parameters found. Using zeros as starting parameters.\n",
      "  warn('Non-invertible starting MA parameters found.'\n"
     ]
    },
    {
     "name": "stdout",
     "output_type": "stream",
     "text": [
      " ARIMA(2,1,2)(0,0,0)[0] intercept   : AIC=1395.892, Time=0.35 sec\n",
      " ARIMA(0,1,0)(0,0,0)[0] intercept   : AIC=1508.715, Time=0.01 sec\n",
      " ARIMA(1,1,0)(0,0,0)[0] intercept   : AIC=1453.956, Time=0.03 sec\n",
      " ARIMA(0,1,1)(0,0,0)[0] intercept   : AIC=1394.149, Time=0.05 sec\n",
      " ARIMA(0,1,0)(0,0,0)[0]             : AIC=1506.735, Time=0.01 sec\n",
      " ARIMA(1,1,1)(0,0,0)[0] intercept   : AIC=1394.275, Time=0.07 sec\n",
      " ARIMA(0,1,2)(0,0,0)[0] intercept   : AIC=1393.819, Time=0.08 sec\n",
      " ARIMA(1,1,2)(0,0,0)[0] intercept   : AIC=inf, Time=0.24 sec\n",
      " ARIMA(0,1,3)(0,0,0)[0] intercept   : AIC=1394.209, Time=0.13 sec\n",
      " ARIMA(1,1,3)(0,0,0)[0] intercept   : AIC=1395.883, Time=0.33 sec\n",
      " ARIMA(0,1,2)(0,0,0)[0]             : AIC=1393.675, Time=0.07 sec\n",
      " ARIMA(0,1,1)(0,0,0)[0]             : AIC=1394.272, Time=0.03 sec\n",
      " ARIMA(1,1,2)(0,0,0)[0]             : AIC=inf, Time=0.19 sec\n",
      " ARIMA(0,1,3)(0,0,0)[0]             : AIC=1393.806, Time=0.07 sec\n",
      " ARIMA(1,1,1)(0,0,0)[0]             : AIC=1394.212, Time=0.05 sec\n",
      " ARIMA(1,1,3)(0,0,0)[0]             : AIC=1395.256, Time=0.14 sec\n",
      "\n",
      "Best model:  ARIMA(0,1,2)(0,0,0)[0]          \n",
      "Total fit time: 1.863 seconds\n",
      "Cluster 10 (Classic_bike): ARIMA(0, 1, 2), Seasonal Order=(0, 0, 0, 0), AIC=1393.6751887417872\n",
      "Failed to find ARIMA model for electric_bike in cluster 10: Found array with 0 sample(s) (shape=(0,)) while a minimum of 1 is required.\n",
      "Performing stepwise search to minimize aic\n"
     ]
    },
    {
     "name": "stderr",
     "output_type": "stream",
     "text": [
      "c:\\Users\\TYS\\AppData\\Local\\Programs\\Python\\Python311\\Lib\\site-packages\\statsmodels\\tsa\\statespace\\sarimax.py:966: UserWarning: Non-stationary starting autoregressive parameters found. Using zeros as starting parameters.\n",
      "  warn('Non-stationary starting autoregressive parameters'\n",
      "c:\\Users\\TYS\\AppData\\Local\\Programs\\Python\\Python311\\Lib\\site-packages\\statsmodels\\tsa\\statespace\\sarimax.py:978: UserWarning: Non-invertible starting MA parameters found. Using zeros as starting parameters.\n",
      "  warn('Non-invertible starting MA parameters found.'\n"
     ]
    },
    {
     "name": "stdout",
     "output_type": "stream",
     "text": [
      " ARIMA(2,1,2)(0,0,0)[0] intercept   : AIC=2031.154, Time=0.39 sec\n",
      " ARIMA(0,1,0)(0,0,0)[0] intercept   : AIC=2099.372, Time=0.01 sec\n",
      " ARIMA(1,1,0)(0,0,0)[0] intercept   : AIC=2070.100, Time=0.04 sec\n",
      " ARIMA(0,1,1)(0,0,0)[0] intercept   : AIC=2035.511, Time=0.06 sec\n",
      " ARIMA(0,1,0)(0,0,0)[0]             : AIC=2097.378, Time=0.01 sec\n",
      " ARIMA(1,1,2)(0,0,0)[0] intercept   : AIC=2034.698, Time=0.20 sec\n",
      " ARIMA(2,1,1)(0,0,0)[0] intercept   : AIC=2034.700, Time=0.19 sec\n"
     ]
    },
    {
     "name": "stderr",
     "output_type": "stream",
     "text": [
      "c:\\Users\\TYS\\AppData\\Local\\Programs\\Python\\Python311\\Lib\\site-packages\\statsmodels\\tsa\\statespace\\sarimax.py:966: UserWarning: Non-stationary starting autoregressive parameters found. Using zeros as starting parameters.\n",
      "  warn('Non-stationary starting autoregressive parameters'\n",
      "c:\\Users\\TYS\\AppData\\Local\\Programs\\Python\\Python311\\Lib\\site-packages\\statsmodels\\tsa\\statespace\\sarimax.py:978: UserWarning: Non-invertible starting MA parameters found. Using zeros as starting parameters.\n",
      "  warn('Non-invertible starting MA parameters found.'\n"
     ]
    },
    {
     "name": "stdout",
     "output_type": "stream",
     "text": [
      " ARIMA(3,1,2)(0,0,0)[0] intercept   : AIC=2032.653, Time=0.42 sec\n"
     ]
    },
    {
     "name": "stderr",
     "output_type": "stream",
     "text": [
      "c:\\Users\\TYS\\AppData\\Local\\Programs\\Python\\Python311\\Lib\\site-packages\\statsmodels\\base\\model.py:607: ConvergenceWarning: Maximum Likelihood optimization failed to converge. Check mle_retvals\n",
      "  warnings.warn(\"Maximum Likelihood optimization failed to \"\n"
     ]
    },
    {
     "name": "stdout",
     "output_type": "stream",
     "text": [
      " ARIMA(2,1,3)(0,0,0)[0] intercept   : AIC=2031.587, Time=0.53 sec\n",
      " ARIMA(1,1,1)(0,0,0)[0] intercept   : AIC=2032.710, Time=0.13 sec\n",
      " ARIMA(1,1,3)(0,0,0)[0] intercept   : AIC=2030.111, Time=0.34 sec\n",
      " ARIMA(0,1,3)(0,0,0)[0] intercept   : AIC=2034.755, Time=0.20 sec\n",
      " ARIMA(0,1,2)(0,0,0)[0] intercept   : AIC=2032.967, Time=0.12 sec\n",
      " ARIMA(1,1,3)(0,0,0)[0]             : AIC=2031.202, Time=0.28 sec\n",
      "\n",
      "Best model:  ARIMA(1,1,3)(0,0,0)[0] intercept\n",
      "Total fit time: 2.935 seconds\n",
      "Cluster 11 (Classic_bike): ARIMA(1, 1, 3), Seasonal Order=(0, 0, 0, 0), AIC=2030.110833738726\n",
      "Performing stepwise search to minimize aic\n"
     ]
    },
    {
     "name": "stderr",
     "output_type": "stream",
     "text": [
      "c:\\Users\\TYS\\AppData\\Local\\Programs\\Python\\Python311\\Lib\\site-packages\\statsmodels\\tsa\\statespace\\sarimax.py:966: UserWarning: Non-stationary starting autoregressive parameters found. Using zeros as starting parameters.\n",
      "  warn('Non-stationary starting autoregressive parameters'\n",
      "c:\\Users\\TYS\\AppData\\Local\\Programs\\Python\\Python311\\Lib\\site-packages\\statsmodels\\tsa\\statespace\\sarimax.py:978: UserWarning: Non-invertible starting MA parameters found. Using zeros as starting parameters.\n",
      "  warn('Non-invertible starting MA parameters found.'\n"
     ]
    },
    {
     "name": "stdout",
     "output_type": "stream",
     "text": [
      " ARIMA(2,1,2)(0,0,0)[0] intercept   : AIC=inf, Time=0.37 sec\n",
      " ARIMA(0,1,0)(0,0,0)[0] intercept   : AIC=2179.412, Time=0.01 sec\n",
      " ARIMA(1,1,0)(0,0,0)[0] intercept   : AIC=2172.135, Time=0.05 sec\n",
      " ARIMA(0,1,1)(0,0,0)[0] intercept   : AIC=2158.057, Time=0.07 sec\n",
      " ARIMA(0,1,0)(0,0,0)[0]             : AIC=2177.429, Time=0.01 sec\n",
      " ARIMA(1,1,1)(0,0,0)[0] intercept   : AIC=inf, Time=0.13 sec\n",
      " ARIMA(0,1,2)(0,0,0)[0] intercept   : AIC=inf, Time=0.17 sec\n"
     ]
    },
    {
     "name": "stderr",
     "output_type": "stream",
     "text": [
      "c:\\Users\\TYS\\AppData\\Local\\Programs\\Python\\Python311\\Lib\\site-packages\\statsmodels\\tsa\\statespace\\sarimax.py:978: UserWarning: Non-invertible starting MA parameters found. Using zeros as starting parameters.\n",
      "  warn('Non-invertible starting MA parameters found.'\n",
      "c:\\Users\\TYS\\AppData\\Local\\Programs\\Python\\Python311\\Lib\\site-packages\\statsmodels\\base\\model.py:607: ConvergenceWarning: Maximum Likelihood optimization failed to converge. Check mle_retvals\n",
      "  warnings.warn(\"Maximum Likelihood optimization failed to \"\n",
      "c:\\Users\\TYS\\AppData\\Local\\Programs\\Python\\Python311\\Lib\\site-packages\\statsmodels\\tsa\\statespace\\sarimax.py:966: UserWarning: Non-stationary starting autoregressive parameters found. Using zeros as starting parameters.\n",
      "  warn('Non-stationary starting autoregressive parameters'\n",
      "c:\\Users\\TYS\\AppData\\Local\\Programs\\Python\\Python311\\Lib\\site-packages\\statsmodels\\tsa\\statespace\\sarimax.py:978: UserWarning: Non-invertible starting MA parameters found. Using zeros as starting parameters.\n",
      "  warn('Non-invertible starting MA parameters found.'\n"
     ]
    },
    {
     "name": "stdout",
     "output_type": "stream",
     "text": [
      " ARIMA(1,1,2)(0,0,0)[0] intercept   : AIC=inf, Time=0.39 sec\n",
      " ARIMA(0,1,1)(0,0,0)[0]             : AIC=2157.701, Time=0.04 sec\n",
      " ARIMA(1,1,1)(0,0,0)[0]             : AIC=2137.717, Time=0.08 sec\n",
      " ARIMA(1,1,0)(0,0,0)[0]             : AIC=2170.184, Time=0.02 sec\n",
      " ARIMA(2,1,1)(0,0,0)[0]             : AIC=2138.026, Time=0.15 sec\n",
      " ARIMA(1,1,2)(0,0,0)[0]             : AIC=2138.810, Time=0.19 sec\n"
     ]
    },
    {
     "name": "stderr",
     "output_type": "stream",
     "text": [
      "c:\\Users\\TYS\\AppData\\Local\\Programs\\Python\\Python311\\Lib\\site-packages\\statsmodels\\tsa\\statespace\\sarimax.py:978: UserWarning: Non-invertible starting MA parameters found. Using zeros as starting parameters.\n",
      "  warn('Non-invertible starting MA parameters found.'\n"
     ]
    },
    {
     "name": "stdout",
     "output_type": "stream",
     "text": [
      " ARIMA(0,1,2)(0,0,0)[0]             : AIC=2138.852, Time=0.05 sec\n",
      " ARIMA(2,1,0)(0,0,0)[0]             : AIC=2168.173, Time=0.06 sec\n"
     ]
    },
    {
     "name": "stderr",
     "output_type": "stream",
     "text": [
      "c:\\Users\\TYS\\AppData\\Local\\Programs\\Python\\Python311\\Lib\\site-packages\\statsmodels\\tsa\\statespace\\sarimax.py:966: UserWarning: Non-stationary starting autoregressive parameters found. Using zeros as starting parameters.\n",
      "  warn('Non-stationary starting autoregressive parameters'\n",
      "c:\\Users\\TYS\\AppData\\Local\\Programs\\Python\\Python311\\Lib\\site-packages\\statsmodels\\tsa\\statespace\\sarimax.py:978: UserWarning: Non-invertible starting MA parameters found. Using zeros as starting parameters.\n",
      "  warn('Non-invertible starting MA parameters found.'\n"
     ]
    },
    {
     "name": "stdout",
     "output_type": "stream",
     "text": [
      " ARIMA(2,1,2)(0,0,0)[0]             : AIC=2132.309, Time=0.24 sec\n"
     ]
    },
    {
     "name": "stderr",
     "output_type": "stream",
     "text": [
      "c:\\Users\\TYS\\AppData\\Local\\Programs\\Python\\Python311\\Lib\\site-packages\\statsmodels\\tsa\\statespace\\sarimax.py:966: UserWarning: Non-stationary starting autoregressive parameters found. Using zeros as starting parameters.\n",
      "  warn('Non-stationary starting autoregressive parameters'\n",
      "c:\\Users\\TYS\\AppData\\Local\\Programs\\Python\\Python311\\Lib\\site-packages\\statsmodels\\tsa\\statespace\\sarimax.py:978: UserWarning: Non-invertible starting MA parameters found. Using zeros as starting parameters.\n",
      "  warn('Non-invertible starting MA parameters found.'\n",
      "c:\\Users\\TYS\\AppData\\Local\\Programs\\Python\\Python311\\Lib\\site-packages\\statsmodels\\base\\model.py:607: ConvergenceWarning: Maximum Likelihood optimization failed to converge. Check mle_retvals\n",
      "  warnings.warn(\"Maximum Likelihood optimization failed to \"\n"
     ]
    },
    {
     "name": "stdout",
     "output_type": "stream",
     "text": [
      " ARIMA(3,1,2)(0,0,0)[0]             : AIC=inf, Time=0.47 sec\n"
     ]
    },
    {
     "name": "stderr",
     "output_type": "stream",
     "text": [
      "c:\\Users\\TYS\\AppData\\Local\\Programs\\Python\\Python311\\Lib\\site-packages\\statsmodels\\base\\model.py:607: ConvergenceWarning: Maximum Likelihood optimization failed to converge. Check mle_retvals\n",
      "  warnings.warn(\"Maximum Likelihood optimization failed to \"\n"
     ]
    },
    {
     "name": "stdout",
     "output_type": "stream",
     "text": [
      " ARIMA(2,1,3)(0,0,0)[0]             : AIC=inf, Time=0.50 sec\n",
      " ARIMA(1,1,3)(0,0,0)[0]             : AIC=2139.894, Time=0.16 sec\n",
      " ARIMA(3,1,1)(0,0,0)[0]             : AIC=2133.285, Time=0.15 sec\n"
     ]
    },
    {
     "name": "stderr",
     "output_type": "stream",
     "text": [
      "c:\\Users\\TYS\\AppData\\Local\\Programs\\Python\\Python311\\Lib\\site-packages\\statsmodels\\base\\model.py:607: ConvergenceWarning: Maximum Likelihood optimization failed to converge. Check mle_retvals\n",
      "  warnings.warn(\"Maximum Likelihood optimization failed to \"\n"
     ]
    },
    {
     "name": "stdout",
     "output_type": "stream",
     "text": [
      " ARIMA(3,1,3)(0,0,0)[0]             : AIC=inf, Time=0.50 sec\n",
      "\n",
      "Best model:  ARIMA(2,1,2)(0,0,0)[0]          \n",
      "Total fit time: 3.817 seconds\n",
      "Cluster 11 (Electric_bike): ARIMA(2, 1, 2), Seasonal Order=(0, 0, 0, 0), AIC=2132.3092275420267\n",
      "Performing stepwise search to minimize aic\n",
      " ARIMA(2,1,2)(0,0,0)[0] intercept   : AIC=1448.861, Time=0.23 sec\n",
      " ARIMA(0,1,0)(0,0,0)[0] intercept   : AIC=1511.538, Time=0.01 sec\n",
      " ARIMA(1,1,0)(0,0,0)[0] intercept   : AIC=1486.885, Time=0.04 sec\n",
      " ARIMA(0,1,1)(0,0,0)[0] intercept   : AIC=1454.043, Time=0.06 sec\n",
      " ARIMA(0,1,0)(0,0,0)[0]             : AIC=1509.541, Time=0.01 sec\n",
      " ARIMA(1,1,2)(0,0,0)[0] intercept   : AIC=1450.615, Time=0.14 sec\n",
      " ARIMA(2,1,1)(0,0,0)[0] intercept   : AIC=1448.733, Time=0.15 sec\n",
      " ARIMA(1,1,1)(0,0,0)[0] intercept   : AIC=1446.837, Time=0.11 sec\n",
      " ARIMA(0,1,2)(0,0,0)[0] intercept   : AIC=1447.817, Time=0.09 sec\n",
      " ARIMA(2,1,0)(0,0,0)[0] intercept   : AIC=1477.175, Time=0.10 sec\n",
      " ARIMA(1,1,1)(0,0,0)[0]             : AIC=1448.175, Time=0.06 sec\n",
      "\n",
      "Best model:  ARIMA(1,1,1)(0,0,0)[0] intercept\n",
      "Total fit time: 1.018 seconds\n",
      "Cluster 12 (Classic_bike): ARIMA(1, 1, 1), Seasonal Order=(0, 0, 0, 0), AIC=1446.8367844784075\n",
      "Failed to find ARIMA model for electric_bike in cluster 12: Found array with 0 sample(s) (shape=(0,)) while a minimum of 1 is required.\n",
      "Performing stepwise search to minimize aic\n"
     ]
    },
    {
     "name": "stderr",
     "output_type": "stream",
     "text": [
      "c:\\Users\\TYS\\AppData\\Local\\Programs\\Python\\Python311\\Lib\\site-packages\\statsmodels\\base\\model.py:607: ConvergenceWarning: Maximum Likelihood optimization failed to converge. Check mle_retvals\n",
      "  warnings.warn(\"Maximum Likelihood optimization failed to \"\n"
     ]
    },
    {
     "name": "stdout",
     "output_type": "stream",
     "text": [
      " ARIMA(2,1,2)(0,0,0)[0] intercept   : AIC=inf, Time=0.49 sec\n",
      " ARIMA(0,1,0)(0,0,0)[0] intercept   : AIC=1543.878, Time=0.01 sec\n",
      " ARIMA(1,1,0)(0,0,0)[0] intercept   : AIC=1469.253, Time=0.03 sec\n",
      " ARIMA(0,1,1)(0,0,0)[0] intercept   : AIC=1446.022, Time=0.06 sec\n",
      " ARIMA(0,1,0)(0,0,0)[0]             : AIC=1541.895, Time=0.01 sec\n",
      " ARIMA(1,1,1)(0,0,0)[0] intercept   : AIC=1447.762, Time=0.11 sec\n",
      " ARIMA(0,1,2)(0,0,0)[0] intercept   : AIC=1447.883, Time=0.13 sec\n",
      " ARIMA(1,1,2)(0,0,0)[0] intercept   : AIC=1448.725, Time=0.23 sec\n",
      " ARIMA(0,1,1)(0,0,0)[0]             : AIC=1445.999, Time=0.03 sec\n",
      " ARIMA(1,1,1)(0,0,0)[0]             : AIC=1447.999, Time=0.06 sec\n",
      " ARIMA(0,1,2)(0,0,0)[0]             : AIC=1447.999, Time=0.06 sec\n",
      " ARIMA(1,1,0)(0,0,0)[0]             : AIC=1467.328, Time=0.02 sec\n",
      " ARIMA(1,1,2)(0,0,0)[0]             : AIC=1448.139, Time=0.11 sec\n",
      "\n",
      "Best model:  ARIMA(0,1,1)(0,0,0)[0]          \n",
      "Total fit time: 1.353 seconds\n",
      "Cluster 13 (Classic_bike): ARIMA(0, 1, 1), Seasonal Order=(0, 0, 0, 0), AIC=1445.999494549229\n",
      "Performing stepwise search to minimize aic\n",
      " ARIMA(2,0,2)(0,0,0)[0] intercept   : AIC=1187.321, Time=0.38 sec\n",
      " ARIMA(0,0,0)(0,0,0)[0] intercept   : AIC=1228.310, Time=0.01 sec\n",
      " ARIMA(1,0,0)(0,0,0)[0] intercept   : AIC=1189.546, Time=0.06 sec\n",
      " ARIMA(0,0,1)(0,0,0)[0] intercept   : AIC=1201.662, Time=0.06 sec\n",
      " ARIMA(0,0,0)(0,0,0)[0]             : AIC=1674.998, Time=0.01 sec\n",
      " ARIMA(1,0,2)(0,0,0)[0] intercept   : AIC=1186.655, Time=0.15 sec\n",
      " ARIMA(0,0,2)(0,0,0)[0] intercept   : AIC=1186.674, Time=0.09 sec\n",
      " ARIMA(1,0,1)(0,0,0)[0] intercept   : AIC=1189.857, Time=0.12 sec\n",
      " ARIMA(1,0,3)(0,0,0)[0] intercept   : AIC=1185.445, Time=0.39 sec\n",
      " ARIMA(0,0,3)(0,0,0)[0] intercept   : AIC=1185.311, Time=0.14 sec\n",
      " ARIMA(0,0,3)(0,0,0)[0]             : AIC=1351.769, Time=0.19 sec\n",
      "\n",
      "Best model:  ARIMA(0,0,3)(0,0,0)[0] intercept\n",
      "Total fit time: 1.620 seconds\n",
      "Cluster 13 (Electric_bike): ARIMA(0, 0, 3), Seasonal Order=(0, 0, 0, 0), AIC=1185.3110517885561\n",
      "Performing stepwise search to minimize aic\n",
      " ARIMA(2,1,2)(0,0,0)[0] intercept   : AIC=1707.321, Time=0.19 sec\n"
     ]
    },
    {
     "name": "stderr",
     "output_type": "stream",
     "text": [
      "c:\\Users\\TYS\\AppData\\Local\\Programs\\Python\\Python311\\Lib\\site-packages\\statsmodels\\tsa\\statespace\\sarimax.py:966: UserWarning: Non-stationary starting autoregressive parameters found. Using zeros as starting parameters.\n",
      "  warn('Non-stationary starting autoregressive parameters'\n",
      "c:\\Users\\TYS\\AppData\\Local\\Programs\\Python\\Python311\\Lib\\site-packages\\statsmodels\\tsa\\statespace\\sarimax.py:978: UserWarning: Non-invertible starting MA parameters found. Using zeros as starting parameters.\n",
      "  warn('Non-invertible starting MA parameters found.'\n"
     ]
    },
    {
     "name": "stdout",
     "output_type": "stream",
     "text": [
      " ARIMA(0,1,0)(0,0,0)[0] intercept   : AIC=1748.551, Time=0.16 sec\n",
      " ARIMA(1,1,0)(0,0,0)[0] intercept   : AIC=1723.542, Time=0.07 sec\n",
      " ARIMA(0,1,1)(0,0,0)[0] intercept   : AIC=1706.625, Time=0.07 sec\n",
      " ARIMA(0,1,0)(0,0,0)[0]             : AIC=1746.584, Time=0.01 sec\n",
      " ARIMA(1,1,1)(0,0,0)[0] intercept   : AIC=1704.015, Time=0.08 sec\n",
      " ARIMA(2,1,1)(0,0,0)[0] intercept   : AIC=1705.364, Time=0.11 sec\n"
     ]
    },
    {
     "name": "stderr",
     "output_type": "stream",
     "text": [
      "c:\\Users\\TYS\\AppData\\Local\\Programs\\Python\\Python311\\Lib\\site-packages\\statsmodels\\tsa\\statespace\\sarimax.py:966: UserWarning: Non-stationary starting autoregressive parameters found. Using zeros as starting parameters.\n",
      "  warn('Non-stationary starting autoregressive parameters'\n",
      "c:\\Users\\TYS\\AppData\\Local\\Programs\\Python\\Python311\\Lib\\site-packages\\statsmodels\\tsa\\statespace\\sarimax.py:978: UserWarning: Non-invertible starting MA parameters found. Using zeros as starting parameters.\n",
      "  warn('Non-invertible starting MA parameters found.'\n"
     ]
    },
    {
     "name": "stdout",
     "output_type": "stream",
     "text": [
      " ARIMA(1,1,2)(0,0,0)[0] intercept   : AIC=1705.259, Time=0.19 sec\n",
      " ARIMA(0,1,2)(0,0,0)[0] intercept   : AIC=1705.032, Time=0.10 sec\n",
      " ARIMA(2,1,0)(0,0,0)[0] intercept   : AIC=1716.270, Time=0.08 sec\n",
      " ARIMA(1,1,1)(0,0,0)[0]             : AIC=1703.021, Time=0.06 sec\n",
      " ARIMA(0,1,1)(0,0,0)[0]             : AIC=1705.132, Time=0.04 sec\n",
      " ARIMA(1,1,0)(0,0,0)[0]             : AIC=1721.637, Time=0.02 sec\n",
      " ARIMA(2,1,1)(0,0,0)[0]             : AIC=1704.498, Time=0.10 sec\n"
     ]
    },
    {
     "name": "stderr",
     "output_type": "stream",
     "text": [
      "c:\\Users\\TYS\\AppData\\Local\\Programs\\Python\\Python311\\Lib\\site-packages\\statsmodels\\tsa\\statespace\\sarimax.py:966: UserWarning: Non-stationary starting autoregressive parameters found. Using zeros as starting parameters.\n",
      "  warn('Non-stationary starting autoregressive parameters'\n",
      "c:\\Users\\TYS\\AppData\\Local\\Programs\\Python\\Python311\\Lib\\site-packages\\statsmodels\\tsa\\statespace\\sarimax.py:978: UserWarning: Non-invertible starting MA parameters found. Using zeros as starting parameters.\n",
      "  warn('Non-invertible starting MA parameters found.'\n"
     ]
    },
    {
     "name": "stdout",
     "output_type": "stream",
     "text": [
      " ARIMA(1,1,2)(0,0,0)[0]             : AIC=1704.433, Time=0.13 sec\n",
      " ARIMA(0,1,2)(0,0,0)[0]             : AIC=1703.859, Time=0.05 sec\n",
      " ARIMA(2,1,0)(0,0,0)[0]             : AIC=1714.452, Time=0.05 sec\n"
     ]
    },
    {
     "name": "stderr",
     "output_type": "stream",
     "text": [
      "c:\\Users\\TYS\\AppData\\Local\\Programs\\Python\\Python311\\Lib\\site-packages\\statsmodels\\tsa\\statespace\\sarimax.py:966: UserWarning: Non-stationary starting autoregressive parameters found. Using zeros as starting parameters.\n",
      "  warn('Non-stationary starting autoregressive parameters'\n",
      "c:\\Users\\TYS\\AppData\\Local\\Programs\\Python\\Python311\\Lib\\site-packages\\statsmodels\\tsa\\statespace\\sarimax.py:978: UserWarning: Non-invertible starting MA parameters found. Using zeros as starting parameters.\n",
      "  warn('Non-invertible starting MA parameters found.'\n"
     ]
    },
    {
     "name": "stdout",
     "output_type": "stream",
     "text": [
      " ARIMA(2,1,2)(0,0,0)[0]             : AIC=1706.383, Time=0.15 sec\n",
      "\n",
      "Best model:  ARIMA(1,1,1)(0,0,0)[0]          \n",
      "Total fit time: 1.695 seconds\n",
      "Cluster 14 (Classic_bike): ARIMA(1, 1, 1), Seasonal Order=(0, 0, 0, 0), AIC=1703.021121791288\n",
      "Failed to find ARIMA model for electric_bike in cluster 14: Found array with 0 sample(s) (shape=(0,)) while a minimum of 1 is required.\n",
      "Performing stepwise search to minimize aic\n"
     ]
    },
    {
     "name": "stderr",
     "output_type": "stream",
     "text": [
      "c:\\Users\\TYS\\AppData\\Local\\Programs\\Python\\Python311\\Lib\\site-packages\\statsmodels\\base\\model.py:607: ConvergenceWarning: Maximum Likelihood optimization failed to converge. Check mle_retvals\n",
      "  warnings.warn(\"Maximum Likelihood optimization failed to \"\n"
     ]
    },
    {
     "name": "stdout",
     "output_type": "stream",
     "text": [
      " ARIMA(2,0,2)(0,0,0)[0] intercept   : AIC=769.043, Time=0.45 sec\n",
      " ARIMA(0,0,0)(0,0,0)[0] intercept   : AIC=769.270, Time=0.01 sec\n",
      " ARIMA(1,0,0)(0,0,0)[0] intercept   : AIC=766.901, Time=0.03 sec\n",
      " ARIMA(0,0,1)(0,0,0)[0] intercept   : AIC=766.722, Time=0.04 sec\n",
      " ARIMA(0,0,0)(0,0,0)[0]             : AIC=950.491, Time=0.01 sec\n",
      " ARIMA(1,0,1)(0,0,0)[0] intercept   : AIC=768.719, Time=0.13 sec\n",
      " ARIMA(0,0,2)(0,0,0)[0] intercept   : AIC=768.716, Time=0.07 sec\n"
     ]
    },
    {
     "name": "stderr",
     "output_type": "stream",
     "text": [
      "c:\\Users\\TYS\\AppData\\Local\\Programs\\Python\\Python311\\Lib\\site-packages\\statsmodels\\base\\model.py:607: ConvergenceWarning: Maximum Likelihood optimization failed to converge. Check mle_retvals\n",
      "  warnings.warn(\"Maximum Likelihood optimization failed to \"\n"
     ]
    },
    {
     "name": "stdout",
     "output_type": "stream",
     "text": [
      " ARIMA(1,0,2)(0,0,0)[0] intercept   : AIC=767.157, Time=0.36 sec\n",
      " ARIMA(0,0,1)(0,0,0)[0]             : AIC=886.480, Time=0.03 sec\n",
      "\n",
      "Best model:  ARIMA(0,0,1)(0,0,0)[0] intercept\n",
      "Total fit time: 1.142 seconds\n",
      "Cluster 15 (Classic_bike): ARIMA(0, 0, 1), Seasonal Order=(0, 0, 0, 0), AIC=766.7223744420693\n",
      "Performing stepwise search to minimize aic\n",
      " ARIMA(2,1,2)(0,0,0)[0] intercept   : AIC=inf, Time=0.25 sec\n",
      " ARIMA(0,1,0)(0,0,0)[0] intercept   : AIC=983.344, Time=0.01 sec\n",
      " ARIMA(1,1,0)(0,0,0)[0] intercept   : AIC=940.785, Time=0.03 sec\n",
      " ARIMA(0,1,1)(0,0,0)[0] intercept   : AIC=908.756, Time=0.05 sec\n",
      " ARIMA(0,1,0)(0,0,0)[0]             : AIC=981.348, Time=0.01 sec\n",
      " ARIMA(1,1,1)(0,0,0)[0] intercept   : AIC=909.656, Time=0.08 sec\n",
      " ARIMA(0,1,2)(0,0,0)[0] intercept   : AIC=909.847, Time=0.08 sec\n",
      " ARIMA(1,1,2)(0,0,0)[0] intercept   : AIC=912.747, Time=0.16 sec\n",
      " ARIMA(0,1,1)(0,0,0)[0]             : AIC=907.271, Time=0.03 sec\n",
      " ARIMA(1,1,1)(0,0,0)[0]             : AIC=908.256, Time=0.06 sec\n",
      " ARIMA(0,1,2)(0,0,0)[0]             : AIC=908.428, Time=0.04 sec\n",
      " ARIMA(1,1,0)(0,0,0)[0]             : AIC=938.805, Time=0.02 sec\n",
      " ARIMA(1,1,2)(0,0,0)[0]             : AIC=911.258, Time=0.09 sec\n",
      "\n",
      "Best model:  ARIMA(0,1,1)(0,0,0)[0]          \n",
      "Total fit time: 0.920 seconds\n",
      "Cluster 15 (Electric_bike): ARIMA(0, 1, 1), Seasonal Order=(0, 0, 0, 0), AIC=907.2706371327815\n",
      "Performing stepwise search to minimize aic\n"
     ]
    },
    {
     "name": "stderr",
     "output_type": "stream",
     "text": [
      "c:\\Users\\TYS\\AppData\\Local\\Programs\\Python\\Python311\\Lib\\site-packages\\statsmodels\\tsa\\statespace\\sarimax.py:966: UserWarning: Non-stationary starting autoregressive parameters found. Using zeros as starting parameters.\n",
      "  warn('Non-stationary starting autoregressive parameters'\n",
      "c:\\Users\\TYS\\AppData\\Local\\Programs\\Python\\Python311\\Lib\\site-packages\\statsmodels\\tsa\\statespace\\sarimax.py:978: UserWarning: Non-invertible starting MA parameters found. Using zeros as starting parameters.\n",
      "  warn('Non-invertible starting MA parameters found.'\n"
     ]
    },
    {
     "name": "stdout",
     "output_type": "stream",
     "text": [
      " ARIMA(2,1,2)(0,0,0)[0] intercept   : AIC=2103.848, Time=0.42 sec\n",
      " ARIMA(0,1,0)(0,0,0)[0] intercept   : AIC=2167.497, Time=0.01 sec\n",
      " ARIMA(1,1,0)(0,0,0)[0] intercept   : AIC=2141.682, Time=0.04 sec\n",
      " ARIMA(0,1,1)(0,0,0)[0] intercept   : AIC=2120.292, Time=0.06 sec\n",
      " ARIMA(0,1,0)(0,0,0)[0]             : AIC=2165.522, Time=0.01 sec\n",
      " ARIMA(1,1,2)(0,0,0)[0] intercept   : AIC=inf, Time=0.28 sec\n"
     ]
    },
    {
     "name": "stderr",
     "output_type": "stream",
     "text": [
      "c:\\Users\\TYS\\AppData\\Local\\Programs\\Python\\Python311\\Lib\\site-packages\\statsmodels\\tsa\\statespace\\sarimax.py:966: UserWarning: Non-stationary starting autoregressive parameters found. Using zeros as starting parameters.\n",
      "  warn('Non-stationary starting autoregressive parameters'\n",
      "c:\\Users\\TYS\\AppData\\Local\\Programs\\Python\\Python311\\Lib\\site-packages\\statsmodels\\tsa\\statespace\\sarimax.py:978: UserWarning: Non-invertible starting MA parameters found. Using zeros as starting parameters.\n",
      "  warn('Non-invertible starting MA parameters found.'\n"
     ]
    },
    {
     "name": "stdout",
     "output_type": "stream",
     "text": [
      " ARIMA(2,1,1)(0,0,0)[0] intercept   : AIC=inf, Time=0.23 sec\n"
     ]
    },
    {
     "name": "stderr",
     "output_type": "stream",
     "text": [
      "c:\\Users\\TYS\\AppData\\Local\\Programs\\Python\\Python311\\Lib\\site-packages\\statsmodels\\tsa\\statespace\\sarimax.py:966: UserWarning: Non-stationary starting autoregressive parameters found. Using zeros as starting parameters.\n",
      "  warn('Non-stationary starting autoregressive parameters'\n",
      "c:\\Users\\TYS\\AppData\\Local\\Programs\\Python\\Python311\\Lib\\site-packages\\statsmodels\\tsa\\statespace\\sarimax.py:978: UserWarning: Non-invertible starting MA parameters found. Using zeros as starting parameters.\n",
      "  warn('Non-invertible starting MA parameters found.'\n"
     ]
    },
    {
     "name": "stdout",
     "output_type": "stream",
     "text": [
      " ARIMA(3,1,2)(0,0,0)[0] intercept   : AIC=inf, Time=0.47 sec\n"
     ]
    },
    {
     "name": "stderr",
     "output_type": "stream",
     "text": [
      "c:\\Users\\TYS\\AppData\\Local\\Programs\\Python\\Python311\\Lib\\site-packages\\statsmodels\\base\\model.py:607: ConvergenceWarning: Maximum Likelihood optimization failed to converge. Check mle_retvals\n",
      "  warnings.warn(\"Maximum Likelihood optimization failed to \"\n"
     ]
    },
    {
     "name": "stdout",
     "output_type": "stream",
     "text": [
      " ARIMA(2,1,3)(0,0,0)[0] intercept   : AIC=2109.030, Time=0.60 sec\n",
      " ARIMA(1,1,1)(0,0,0)[0] intercept   : AIC=2107.324, Time=0.19 sec\n",
      " ARIMA(1,1,3)(0,0,0)[0] intercept   : AIC=2107.213, Time=0.44 sec\n",
      " ARIMA(3,1,1)(0,0,0)[0] intercept   : AIC=2107.246, Time=0.31 sec\n"
     ]
    },
    {
     "name": "stderr",
     "output_type": "stream",
     "text": [
      "c:\\Users\\TYS\\AppData\\Local\\Programs\\Python\\Python311\\Lib\\site-packages\\statsmodels\\base\\model.py:607: ConvergenceWarning: Maximum Likelihood optimization failed to converge. Check mle_retvals\n",
      "  warnings.warn(\"Maximum Likelihood optimization failed to \"\n",
      "c:\\Users\\TYS\\AppData\\Local\\Programs\\Python\\Python311\\Lib\\site-packages\\statsmodels\\tsa\\statespace\\sarimax.py:966: UserWarning: Non-stationary starting autoregressive parameters found. Using zeros as starting parameters.\n",
      "  warn('Non-stationary starting autoregressive parameters'\n",
      "c:\\Users\\TYS\\AppData\\Local\\Programs\\Python\\Python311\\Lib\\site-packages\\statsmodels\\tsa\\statespace\\sarimax.py:978: UserWarning: Non-invertible starting MA parameters found. Using zeros as starting parameters.\n",
      "  warn('Non-invertible starting MA parameters found.'\n"
     ]
    },
    {
     "name": "stdout",
     "output_type": "stream",
     "text": [
      " ARIMA(3,1,3)(0,0,0)[0] intercept   : AIC=2108.628, Time=0.62 sec\n",
      " ARIMA(2,1,2)(0,0,0)[0]             : AIC=2108.730, Time=0.27 sec\n",
      "\n",
      "Best model:  ARIMA(2,1,2)(0,0,0)[0] intercept\n",
      "Total fit time: 3.976 seconds\n",
      "Cluster 16 (Classic_bike): ARIMA(2, 1, 2), Seasonal Order=(0, 0, 0, 0), AIC=2103.8482474423554\n",
      "Performing stepwise search to minimize aic\n"
     ]
    },
    {
     "name": "stderr",
     "output_type": "stream",
     "text": [
      "c:\\Users\\TYS\\AppData\\Local\\Programs\\Python\\Python311\\Lib\\site-packages\\statsmodels\\tsa\\statespace\\sarimax.py:966: UserWarning: Non-stationary starting autoregressive parameters found. Using zeros as starting parameters.\n",
      "  warn('Non-stationary starting autoregressive parameters'\n",
      "c:\\Users\\TYS\\AppData\\Local\\Programs\\Python\\Python311\\Lib\\site-packages\\statsmodels\\tsa\\statespace\\sarimax.py:978: UserWarning: Non-invertible starting MA parameters found. Using zeros as starting parameters.\n",
      "  warn('Non-invertible starting MA parameters found.'\n"
     ]
    },
    {
     "name": "stdout",
     "output_type": "stream",
     "text": [
      " ARIMA(2,1,2)(0,0,0)[0] intercept   : AIC=2227.916, Time=0.41 sec\n",
      " ARIMA(0,1,0)(0,0,0)[0] intercept   : AIC=2328.103, Time=0.01 sec\n",
      " ARIMA(1,1,0)(0,0,0)[0] intercept   : AIC=2330.102, Time=0.02 sec\n",
      " ARIMA(0,1,1)(0,0,0)[0] intercept   : AIC=2330.096, Time=0.08 sec\n",
      " ARIMA(0,1,0)(0,0,0)[0]             : AIC=2326.172, Time=0.01 sec\n"
     ]
    },
    {
     "name": "stderr",
     "output_type": "stream",
     "text": [
      "c:\\Users\\TYS\\AppData\\Local\\Programs\\Python\\Python311\\Lib\\site-packages\\statsmodels\\tsa\\statespace\\sarimax.py:978: UserWarning: Non-invertible starting MA parameters found. Using zeros as starting parameters.\n",
      "  warn('Non-invertible starting MA parameters found.'\n"
     ]
    },
    {
     "name": "stdout",
     "output_type": "stream",
     "text": [
      " ARIMA(1,1,2)(0,0,0)[0] intercept   : AIC=inf, Time=0.30 sec\n"
     ]
    },
    {
     "name": "stderr",
     "output_type": "stream",
     "text": [
      "c:\\Users\\TYS\\AppData\\Local\\Programs\\Python\\Python311\\Lib\\site-packages\\statsmodels\\tsa\\statespace\\sarimax.py:966: UserWarning: Non-stationary starting autoregressive parameters found. Using zeros as starting parameters.\n",
      "  warn('Non-stationary starting autoregressive parameters'\n",
      "c:\\Users\\TYS\\AppData\\Local\\Programs\\Python\\Python311\\Lib\\site-packages\\statsmodels\\tsa\\statespace\\sarimax.py:978: UserWarning: Non-invertible starting MA parameters found. Using zeros as starting parameters.\n",
      "  warn('Non-invertible starting MA parameters found.'\n"
     ]
    },
    {
     "name": "stdout",
     "output_type": "stream",
     "text": [
      " ARIMA(2,1,1)(0,0,0)[0] intercept   : AIC=inf, Time=0.25 sec\n"
     ]
    },
    {
     "name": "stderr",
     "output_type": "stream",
     "text": [
      "c:\\Users\\TYS\\AppData\\Local\\Programs\\Python\\Python311\\Lib\\site-packages\\statsmodels\\tsa\\statespace\\sarimax.py:978: UserWarning: Non-invertible starting MA parameters found. Using zeros as starting parameters.\n",
      "  warn('Non-invertible starting MA parameters found.'\n",
      "c:\\Users\\TYS\\AppData\\Local\\Programs\\Python\\Python311\\Lib\\site-packages\\statsmodels\\base\\model.py:607: ConvergenceWarning: Maximum Likelihood optimization failed to converge. Check mle_retvals\n",
      "  warnings.warn(\"Maximum Likelihood optimization failed to \"\n"
     ]
    },
    {
     "name": "stdout",
     "output_type": "stream",
     "text": [
      " ARIMA(3,1,2)(0,0,0)[0] intercept   : AIC=2215.744, Time=0.62 sec\n",
      " ARIMA(3,1,1)(0,0,0)[0] intercept   : AIC=inf, Time=0.32 sec\n"
     ]
    },
    {
     "name": "stderr",
     "output_type": "stream",
     "text": [
      "c:\\Users\\TYS\\AppData\\Local\\Programs\\Python\\Python311\\Lib\\site-packages\\statsmodels\\base\\model.py:607: ConvergenceWarning: Maximum Likelihood optimization failed to converge. Check mle_retvals\n",
      "  warnings.warn(\"Maximum Likelihood optimization failed to \"\n"
     ]
    },
    {
     "name": "stdout",
     "output_type": "stream",
     "text": [
      " ARIMA(3,1,3)(0,0,0)[0] intercept   : AIC=2187.462, Time=0.72 sec\n"
     ]
    },
    {
     "name": "stderr",
     "output_type": "stream",
     "text": [
      "c:\\Users\\TYS\\AppData\\Local\\Programs\\Python\\Python311\\Lib\\site-packages\\statsmodels\\base\\model.py:607: ConvergenceWarning: Maximum Likelihood optimization failed to converge. Check mle_retvals\n",
      "  warnings.warn(\"Maximum Likelihood optimization failed to \"\n"
     ]
    },
    {
     "name": "stdout",
     "output_type": "stream",
     "text": [
      " ARIMA(2,1,3)(0,0,0)[0] intercept   : AIC=inf, Time=0.64 sec\n"
     ]
    },
    {
     "name": "stderr",
     "output_type": "stream",
     "text": [
      "c:\\Users\\TYS\\AppData\\Local\\Programs\\Python\\Python311\\Lib\\site-packages\\statsmodels\\base\\model.py:607: ConvergenceWarning: Maximum Likelihood optimization failed to converge. Check mle_retvals\n",
      "  warnings.warn(\"Maximum Likelihood optimization failed to \"\n"
     ]
    },
    {
     "name": "stdout",
     "output_type": "stream",
     "text": [
      " ARIMA(3,1,3)(0,0,0)[0]             : AIC=2189.697, Time=0.50 sec\n",
      "\n",
      "Best model:  ARIMA(3,1,3)(0,0,0)[0] intercept\n",
      "Total fit time: 3.896 seconds\n",
      "Cluster 16 (Electric_bike): ARIMA(3, 1, 3), Seasonal Order=(0, 0, 0, 0), AIC=2187.461868331935\n",
      "Performing stepwise search to minimize aic\n",
      " ARIMA(2,1,2)(0,0,0)[0] intercept   : AIC=1748.229, Time=0.23 sec\n",
      " ARIMA(0,1,0)(0,0,0)[0] intercept   : AIC=1797.024, Time=0.01 sec\n",
      " ARIMA(1,1,0)(0,0,0)[0] intercept   : AIC=1782.879, Time=0.04 sec\n",
      " ARIMA(0,1,1)(0,0,0)[0] intercept   : AIC=1759.586, Time=0.05 sec\n",
      " ARIMA(0,1,0)(0,0,0)[0]             : AIC=1795.053, Time=0.01 sec\n",
      " ARIMA(1,1,2)(0,0,0)[0] intercept   : AIC=1747.096, Time=0.15 sec\n",
      " ARIMA(0,1,2)(0,0,0)[0] intercept   : AIC=1745.650, Time=0.13 sec\n",
      " ARIMA(0,1,3)(0,0,0)[0] intercept   : AIC=1747.177, Time=0.17 sec\n",
      " ARIMA(1,1,1)(0,0,0)[0] intercept   : AIC=1745.595, Time=0.13 sec\n",
      " ARIMA(2,1,1)(0,0,0)[0] intercept   : AIC=1747.166, Time=0.15 sec\n",
      " ARIMA(2,1,0)(0,0,0)[0] intercept   : AIC=1770.754, Time=0.07 sec\n",
      " ARIMA(1,1,1)(0,0,0)[0]             : AIC=1746.363, Time=0.07 sec\n",
      "\n",
      "Best model:  ARIMA(1,1,1)(0,0,0)[0] intercept\n",
      "Total fit time: 1.212 seconds\n",
      "Cluster 17 (Classic_bike): ARIMA(1, 1, 1), Seasonal Order=(0, 0, 0, 0), AIC=1745.5951722062737\n",
      "Performing stepwise search to minimize aic\n"
     ]
    },
    {
     "name": "stderr",
     "output_type": "stream",
     "text": [
      "c:\\Users\\TYS\\AppData\\Local\\Programs\\Python\\Python311\\Lib\\site-packages\\statsmodels\\tsa\\statespace\\sarimax.py:966: UserWarning: Non-stationary starting autoregressive parameters found. Using zeros as starting parameters.\n",
      "  warn('Non-stationary starting autoregressive parameters'\n",
      "c:\\Users\\TYS\\AppData\\Local\\Programs\\Python\\Python311\\Lib\\site-packages\\statsmodels\\tsa\\statespace\\sarimax.py:978: UserWarning: Non-invertible starting MA parameters found. Using zeros as starting parameters.\n",
      "  warn('Non-invertible starting MA parameters found.'\n",
      "c:\\Users\\TYS\\AppData\\Local\\Programs\\Python\\Python311\\Lib\\site-packages\\statsmodels\\base\\model.py:607: ConvergenceWarning: Maximum Likelihood optimization failed to converge. Check mle_retvals\n",
      "  warnings.warn(\"Maximum Likelihood optimization failed to \"\n"
     ]
    },
    {
     "name": "stdout",
     "output_type": "stream",
     "text": [
      " ARIMA(2,1,2)(0,0,0)[0] intercept   : AIC=inf, Time=0.54 sec\n",
      " ARIMA(0,1,0)(0,0,0)[0] intercept   : AIC=2539.272, Time=0.02 sec\n",
      " ARIMA(1,1,0)(0,0,0)[0] intercept   : AIC=2526.519, Time=0.03 sec\n",
      " ARIMA(0,1,1)(0,0,0)[0] intercept   : AIC=2505.107, Time=0.13 sec\n",
      " ARIMA(0,1,0)(0,0,0)[0]             : AIC=2537.281, Time=0.01 sec\n",
      " ARIMA(1,1,1)(0,0,0)[0] intercept   : AIC=inf, Time=0.17 sec\n",
      " ARIMA(0,1,2)(0,0,0)[0] intercept   : AIC=2493.612, Time=0.17 sec\n",
      " ARIMA(1,1,2)(0,0,0)[0] intercept   : AIC=inf, Time=0.36 sec\n",
      " ARIMA(0,1,3)(0,0,0)[0] intercept   : AIC=inf, Time=0.31 sec\n"
     ]
    },
    {
     "name": "stderr",
     "output_type": "stream",
     "text": [
      "c:\\Users\\TYS\\AppData\\Local\\Programs\\Python\\Python311\\Lib\\site-packages\\statsmodels\\base\\model.py:607: ConvergenceWarning: Maximum Likelihood optimization failed to converge. Check mle_retvals\n",
      "  warnings.warn(\"Maximum Likelihood optimization failed to \"\n"
     ]
    },
    {
     "name": "stdout",
     "output_type": "stream",
     "text": [
      " ARIMA(1,1,3)(0,0,0)[0] intercept   : AIC=2489.490, Time=0.49 sec\n"
     ]
    },
    {
     "name": "stderr",
     "output_type": "stream",
     "text": [
      "c:\\Users\\TYS\\AppData\\Local\\Programs\\Python\\Python311\\Lib\\site-packages\\statsmodels\\base\\model.py:607: ConvergenceWarning: Maximum Likelihood optimization failed to converge. Check mle_retvals\n",
      "  warnings.warn(\"Maximum Likelihood optimization failed to \"\n"
     ]
    },
    {
     "name": "stdout",
     "output_type": "stream",
     "text": [
      " ARIMA(2,1,3)(0,0,0)[0] intercept   : AIC=inf, Time=0.56 sec\n",
      " ARIMA(1,1,3)(0,0,0)[0]             : AIC=2489.105, Time=0.39 sec\n",
      " ARIMA(0,1,3)(0,0,0)[0]             : AIC=2493.650, Time=0.11 sec\n",
      " ARIMA(1,1,2)(0,0,0)[0]             : AIC=2493.908, Time=0.15 sec\n"
     ]
    },
    {
     "name": "stderr",
     "output_type": "stream",
     "text": [
      "c:\\Users\\TYS\\AppData\\Local\\Programs\\Python\\Python311\\Lib\\site-packages\\statsmodels\\base\\model.py:607: ConvergenceWarning: Maximum Likelihood optimization failed to converge. Check mle_retvals\n",
      "  warnings.warn(\"Maximum Likelihood optimization failed to \"\n",
      "c:\\Users\\TYS\\AppData\\Local\\Programs\\Python\\Python311\\Lib\\site-packages\\statsmodels\\tsa\\statespace\\sarimax.py:966: UserWarning: Non-stationary starting autoregressive parameters found. Using zeros as starting parameters.\n",
      "  warn('Non-stationary starting autoregressive parameters'\n",
      "c:\\Users\\TYS\\AppData\\Local\\Programs\\Python\\Python311\\Lib\\site-packages\\statsmodels\\tsa\\statespace\\sarimax.py:978: UserWarning: Non-invertible starting MA parameters found. Using zeros as starting parameters.\n",
      "  warn('Non-invertible starting MA parameters found.'\n"
     ]
    },
    {
     "name": "stdout",
     "output_type": "stream",
     "text": [
      " ARIMA(2,1,3)(0,0,0)[0]             : AIC=2490.897, Time=0.42 sec\n",
      " ARIMA(0,1,2)(0,0,0)[0]             : AIC=2492.963, Time=0.08 sec\n",
      " ARIMA(2,1,2)(0,0,0)[0]             : AIC=2490.988, Time=0.30 sec\n",
      "\n",
      "Best model:  ARIMA(1,1,3)(0,0,0)[0]          \n",
      "Total fit time: 4.261 seconds\n",
      "Cluster 17 (Electric_bike): ARIMA(1, 1, 3), Seasonal Order=(0, 0, 0, 0), AIC=2489.1048558342536\n",
      "Performing stepwise search to minimize aic\n"
     ]
    },
    {
     "name": "stderr",
     "output_type": "stream",
     "text": [
      "c:\\Users\\TYS\\AppData\\Local\\Programs\\Python\\Python311\\Lib\\site-packages\\statsmodels\\tsa\\statespace\\sarimax.py:966: UserWarning: Non-stationary starting autoregressive parameters found. Using zeros as starting parameters.\n",
      "  warn('Non-stationary starting autoregressive parameters'\n",
      "c:\\Users\\TYS\\AppData\\Local\\Programs\\Python\\Python311\\Lib\\site-packages\\statsmodels\\tsa\\statespace\\sarimax.py:978: UserWarning: Non-invertible starting MA parameters found. Using zeros as starting parameters.\n",
      "  warn('Non-invertible starting MA parameters found.'\n",
      "c:\\Users\\TYS\\AppData\\Local\\Programs\\Python\\Python311\\Lib\\site-packages\\statsmodels\\base\\model.py:607: ConvergenceWarning: Maximum Likelihood optimization failed to converge. Check mle_retvals\n",
      "  warnings.warn(\"Maximum Likelihood optimization failed to \"\n"
     ]
    },
    {
     "name": "stdout",
     "output_type": "stream",
     "text": [
      " ARIMA(2,1,2)(0,0,0)[0] intercept   : AIC=1796.044, Time=0.49 sec\n",
      " ARIMA(0,1,0)(0,0,0)[0] intercept   : AIC=1863.241, Time=0.01 sec\n",
      " ARIMA(1,1,0)(0,0,0)[0] intercept   : AIC=1844.884, Time=0.04 sec\n",
      " ARIMA(0,1,1)(0,0,0)[0] intercept   : AIC=1804.828, Time=0.07 sec\n",
      " ARIMA(0,1,0)(0,0,0)[0]             : AIC=1861.247, Time=0.01 sec\n",
      " ARIMA(1,1,2)(0,0,0)[0] intercept   : AIC=1796.365, Time=0.18 sec\n",
      " ARIMA(2,1,1)(0,0,0)[0] intercept   : AIC=1796.154, Time=0.27 sec\n"
     ]
    },
    {
     "name": "stderr",
     "output_type": "stream",
     "text": [
      "c:\\Users\\TYS\\AppData\\Local\\Programs\\Python\\Python311\\Lib\\site-packages\\statsmodels\\tsa\\statespace\\sarimax.py:978: UserWarning: Non-invertible starting MA parameters found. Using zeros as starting parameters.\n",
      "  warn('Non-invertible starting MA parameters found.'\n",
      "c:\\Users\\TYS\\AppData\\Local\\Programs\\Python\\Python311\\Lib\\site-packages\\statsmodels\\base\\model.py:607: ConvergenceWarning: Maximum Likelihood optimization failed to converge. Check mle_retvals\n",
      "  warnings.warn(\"Maximum Likelihood optimization failed to \"\n"
     ]
    },
    {
     "name": "stdout",
     "output_type": "stream",
     "text": [
      " ARIMA(3,1,2)(0,0,0)[0] intercept   : AIC=inf, Time=0.55 sec\n"
     ]
    },
    {
     "name": "stderr",
     "output_type": "stream",
     "text": [
      "c:\\Users\\TYS\\AppData\\Local\\Programs\\Python\\Python311\\Lib\\site-packages\\statsmodels\\base\\model.py:607: ConvergenceWarning: Maximum Likelihood optimization failed to converge. Check mle_retvals\n",
      "  warnings.warn(\"Maximum Likelihood optimization failed to \"\n"
     ]
    },
    {
     "name": "stdout",
     "output_type": "stream",
     "text": [
      " ARIMA(2,1,3)(0,0,0)[0] intercept   : AIC=1770.581, Time=0.66 sec\n",
      " ARIMA(1,1,3)(0,0,0)[0] intercept   : AIC=1798.279, Time=0.28 sec\n"
     ]
    },
    {
     "name": "stderr",
     "output_type": "stream",
     "text": [
      "c:\\Users\\TYS\\AppData\\Local\\Programs\\Python\\Python311\\Lib\\site-packages\\statsmodels\\base\\model.py:607: ConvergenceWarning: Maximum Likelihood optimization failed to converge. Check mle_retvals\n",
      "  warnings.warn(\"Maximum Likelihood optimization failed to \"\n"
     ]
    },
    {
     "name": "stdout",
     "output_type": "stream",
     "text": [
      " ARIMA(3,1,3)(0,0,0)[0] intercept   : AIC=inf, Time=0.65 sec\n"
     ]
    },
    {
     "name": "stderr",
     "output_type": "stream",
     "text": [
      "c:\\Users\\TYS\\AppData\\Local\\Programs\\Python\\Python311\\Lib\\site-packages\\statsmodels\\base\\model.py:607: ConvergenceWarning: Maximum Likelihood optimization failed to converge. Check mle_retvals\n",
      "  warnings.warn(\"Maximum Likelihood optimization failed to \"\n",
      "c:\\Users\\TYS\\AppData\\Local\\Programs\\Python\\Python311\\Lib\\site-packages\\statsmodels\\tsa\\statespace\\sarimax.py:978: UserWarning: Non-invertible starting MA parameters found. Using zeros as starting parameters.\n",
      "  warn('Non-invertible starting MA parameters found.'\n"
     ]
    },
    {
     "name": "stdout",
     "output_type": "stream",
     "text": [
      " ARIMA(2,1,3)(0,0,0)[0]             : AIC=inf, Time=0.47 sec\n",
      "\n",
      "Best model:  ARIMA(2,1,3)(0,0,0)[0] intercept\n",
      "Total fit time: 3.703 seconds\n",
      "Cluster 18 (Classic_bike): ARIMA(2, 1, 3), Seasonal Order=(0, 0, 0, 0), AIC=1770.580736779792\n",
      "Performing stepwise search to minimize aic\n",
      " ARIMA(2,1,2)(0,0,0)[0] intercept   : AIC=inf, Time=0.37 sec\n",
      " ARIMA(0,1,0)(0,0,0)[0] intercept   : AIC=2051.195, Time=0.01 sec\n",
      " ARIMA(1,1,0)(0,0,0)[0] intercept   : AIC=2049.002, Time=0.02 sec\n",
      " ARIMA(0,1,1)(0,0,0)[0] intercept   : AIC=inf, Time=0.14 sec\n",
      " ARIMA(0,1,0)(0,0,0)[0]             : AIC=2049.225, Time=0.01 sec\n",
      " ARIMA(2,1,0)(0,0,0)[0] intercept   : AIC=2019.988, Time=0.10 sec\n",
      " ARIMA(3,1,0)(0,0,0)[0] intercept   : AIC=2018.663, Time=0.14 sec\n",
      " ARIMA(3,1,1)(0,0,0)[0] intercept   : AIC=inf, Time=0.25 sec\n",
      " ARIMA(2,1,1)(0,0,0)[0] intercept   : AIC=inf, Time=0.17 sec\n",
      " ARIMA(3,1,0)(0,0,0)[0]             : AIC=2016.853, Time=0.08 sec\n",
      " ARIMA(2,1,0)(0,0,0)[0]             : AIC=2018.127, Time=0.06 sec\n",
      " ARIMA(3,1,1)(0,0,0)[0]             : AIC=1991.325, Time=0.15 sec\n",
      " ARIMA(2,1,1)(0,0,0)[0]             : AIC=1989.562, Time=0.12 sec\n",
      " ARIMA(1,1,1)(0,0,0)[0]             : AIC=2000.895, Time=0.07 sec\n"
     ]
    },
    {
     "name": "stderr",
     "output_type": "stream",
     "text": [
      "c:\\Users\\TYS\\AppData\\Local\\Programs\\Python\\Python311\\Lib\\site-packages\\statsmodels\\tsa\\statespace\\sarimax.py:978: UserWarning: Non-invertible starting MA parameters found. Using zeros as starting parameters.\n",
      "  warn('Non-invertible starting MA parameters found.'\n",
      "c:\\Users\\TYS\\AppData\\Local\\Programs\\Python\\Python311\\Lib\\site-packages\\statsmodels\\tsa\\statespace\\sarimax.py:978: UserWarning: Non-invertible starting MA parameters found. Using zeros as starting parameters.\n",
      "  warn('Non-invertible starting MA parameters found.'\n"
     ]
    },
    {
     "name": "stdout",
     "output_type": "stream",
     "text": [
      " ARIMA(2,1,2)(0,0,0)[0]             : AIC=1990.806, Time=0.15 sec\n",
      " ARIMA(1,1,0)(0,0,0)[0]             : AIC=2047.043, Time=0.01 sec\n",
      " ARIMA(1,1,2)(0,0,0)[0]             : AIC=1991.189, Time=0.13 sec\n"
     ]
    },
    {
     "name": "stderr",
     "output_type": "stream",
     "text": [
      "c:\\Users\\TYS\\AppData\\Local\\Programs\\Python\\Python311\\Lib\\site-packages\\statsmodels\\tsa\\statespace\\sarimax.py:966: UserWarning: Non-stationary starting autoregressive parameters found. Using zeros as starting parameters.\n",
      "  warn('Non-stationary starting autoregressive parameters'\n",
      "c:\\Users\\TYS\\AppData\\Local\\Programs\\Python\\Python311\\Lib\\site-packages\\statsmodels\\tsa\\statespace\\sarimax.py:978: UserWarning: Non-invertible starting MA parameters found. Using zeros as starting parameters.\n",
      "  warn('Non-invertible starting MA parameters found.'\n"
     ]
    },
    {
     "name": "stdout",
     "output_type": "stream",
     "text": [
      " ARIMA(3,1,2)(0,0,0)[0]             : AIC=1992.787, Time=0.29 sec\n",
      "\n",
      "Best model:  ARIMA(2,1,1)(0,0,0)[0]          \n",
      "Total fit time: 2.283 seconds\n",
      "Cluster 18 (Electric_bike): ARIMA(2, 1, 1), Seasonal Order=(0, 0, 0, 0), AIC=1989.562426152009\n",
      "Performing stepwise search to minimize aic\n",
      " ARIMA(2,1,2)(0,0,0)[0] intercept   : AIC=1455.309, Time=0.28 sec\n",
      " ARIMA(0,1,0)(0,0,0)[0] intercept   : AIC=1533.531, Time=0.01 sec\n",
      " ARIMA(1,1,0)(0,0,0)[0] intercept   : AIC=1493.914, Time=0.04 sec\n",
      " ARIMA(0,1,1)(0,0,0)[0] intercept   : AIC=1452.256, Time=0.05 sec\n",
      " ARIMA(0,1,0)(0,0,0)[0]             : AIC=1531.555, Time=0.01 sec\n",
      " ARIMA(1,1,1)(0,0,0)[0] intercept   : AIC=1451.990, Time=0.10 sec\n",
      " ARIMA(2,1,1)(0,0,0)[0] intercept   : AIC=1453.691, Time=0.13 sec\n",
      " ARIMA(1,1,2)(0,0,0)[0] intercept   : AIC=1453.349, Time=0.22 sec\n",
      " ARIMA(0,1,2)(0,0,0)[0] intercept   : AIC=1452.200, Time=0.08 sec\n",
      " ARIMA(2,1,0)(0,0,0)[0] intercept   : AIC=1478.355, Time=0.08 sec\n",
      " ARIMA(1,1,1)(0,0,0)[0]             : AIC=1451.371, Time=0.06 sec\n",
      " ARIMA(0,1,1)(0,0,0)[0]             : AIC=1451.372, Time=0.03 sec\n",
      " ARIMA(1,1,0)(0,0,0)[0]             : AIC=1491.981, Time=0.02 sec\n",
      " ARIMA(2,1,1)(0,0,0)[0]             : AIC=1453.121, Time=0.08 sec\n",
      " ARIMA(1,1,2)(0,0,0)[0]             : AIC=1452.818, Time=0.15 sec\n",
      " ARIMA(0,1,2)(0,0,0)[0]             : AIC=1451.545, Time=0.05 sec\n",
      " ARIMA(2,1,0)(0,0,0)[0]             : AIC=1476.475, Time=0.05 sec\n",
      " ARIMA(2,1,2)(0,0,0)[0]             : AIC=1454.703, Time=0.21 sec\n",
      "\n",
      "Best model:  ARIMA(1,1,1)(0,0,0)[0]          \n",
      "Total fit time: 1.666 seconds\n",
      "Cluster 19 (Classic_bike): ARIMA(1, 1, 1), Seasonal Order=(0, 0, 0, 0), AIC=1451.3705303124484\n",
      "Performing stepwise search to minimize aic\n",
      " ARIMA(2,1,2)(0,0,0)[0] intercept   : AIC=1289.283, Time=0.14 sec\n",
      " ARIMA(0,1,0)(0,0,0)[0] intercept   : AIC=1343.404, Time=0.01 sec\n",
      " ARIMA(1,1,0)(0,0,0)[0] intercept   : AIC=1315.438, Time=0.04 sec\n",
      " ARIMA(0,1,1)(0,0,0)[0] intercept   : AIC=1295.440, Time=0.04 sec\n",
      " ARIMA(0,1,0)(0,0,0)[0]             : AIC=1341.417, Time=0.01 sec\n",
      " ARIMA(1,1,2)(0,0,0)[0] intercept   : AIC=1287.500, Time=0.10 sec\n",
      " ARIMA(0,1,2)(0,0,0)[0] intercept   : AIC=1294.369, Time=0.08 sec\n",
      " ARIMA(1,1,1)(0,0,0)[0] intercept   : AIC=1293.889, Time=0.08 sec\n",
      " ARIMA(1,1,3)(0,0,0)[0] intercept   : AIC=1289.376, Time=0.18 sec\n",
      " ARIMA(0,1,3)(0,0,0)[0] intercept   : AIC=1295.563, Time=0.12 sec\n",
      " ARIMA(2,1,1)(0,0,0)[0] intercept   : AIC=1295.546, Time=0.14 sec\n"
     ]
    },
    {
     "name": "stderr",
     "output_type": "stream",
     "text": [
      "c:\\Users\\TYS\\AppData\\Local\\Programs\\Python\\Python311\\Lib\\site-packages\\statsmodels\\base\\model.py:607: ConvergenceWarning: Maximum Likelihood optimization failed to converge. Check mle_retvals\n",
      "  warnings.warn(\"Maximum Likelihood optimization failed to \"\n"
     ]
    },
    {
     "name": "stdout",
     "output_type": "stream",
     "text": [
      " ARIMA(2,1,3)(0,0,0)[0] intercept   : AIC=inf, Time=0.51 sec\n",
      " ARIMA(1,1,2)(0,0,0)[0]             : AIC=1285.506, Time=0.08 sec\n",
      " ARIMA(0,1,2)(0,0,0)[0]             : AIC=1292.376, Time=0.04 sec\n",
      " ARIMA(1,1,1)(0,0,0)[0]             : AIC=1291.896, Time=0.05 sec\n",
      " ARIMA(2,1,2)(0,0,0)[0]             : AIC=1287.290, Time=0.10 sec\n",
      " ARIMA(1,1,3)(0,0,0)[0]             : AIC=1287.382, Time=0.10 sec\n",
      " ARIMA(0,1,1)(0,0,0)[0]             : AIC=1293.446, Time=0.03 sec\n",
      " ARIMA(0,1,3)(0,0,0)[0]             : AIC=1293.570, Time=0.08 sec\n",
      " ARIMA(2,1,1)(0,0,0)[0]             : AIC=1293.554, Time=0.09 sec\n"
     ]
    },
    {
     "name": "stderr",
     "output_type": "stream",
     "text": [
      "c:\\Users\\TYS\\AppData\\Local\\Programs\\Python\\Python311\\Lib\\site-packages\\statsmodels\\base\\model.py:607: ConvergenceWarning: Maximum Likelihood optimization failed to converge. Check mle_retvals\n",
      "  warnings.warn(\"Maximum Likelihood optimization failed to \"\n"
     ]
    },
    {
     "name": "stdout",
     "output_type": "stream",
     "text": [
      " ARIMA(2,1,3)(0,0,0)[0]             : AIC=inf, Time=0.42 sec\n",
      "\n",
      "Best model:  ARIMA(1,1,2)(0,0,0)[0]          \n",
      "Total fit time: 2.449 seconds\n",
      "Cluster 19 (Electric_bike): ARIMA(1, 1, 2), Seasonal Order=(0, 0, 0, 0), AIC=1285.506335319542\n",
      "Performing stepwise search to minimize aic\n"
     ]
    },
    {
     "name": "stderr",
     "output_type": "stream",
     "text": [
      "c:\\Users\\TYS\\AppData\\Local\\Programs\\Python\\Python311\\Lib\\site-packages\\statsmodels\\base\\model.py:607: ConvergenceWarning: Maximum Likelihood optimization failed to converge. Check mle_retvals\n",
      "  warnings.warn(\"Maximum Likelihood optimization failed to \"\n"
     ]
    },
    {
     "name": "stdout",
     "output_type": "stream",
     "text": [
      " ARIMA(2,1,2)(0,0,0)[0] intercept   : AIC=inf, Time=0.45 sec\n",
      " ARIMA(0,1,0)(0,0,0)[0] intercept   : AIC=748.283, Time=0.01 sec\n",
      " ARIMA(1,1,0)(0,0,0)[0] intercept   : AIC=711.262, Time=0.02 sec\n",
      " ARIMA(0,1,1)(0,0,0)[0] intercept   : AIC=inf, Time=0.17 sec\n",
      " ARIMA(0,1,0)(0,0,0)[0]             : AIC=746.283, Time=0.01 sec\n",
      " ARIMA(2,1,0)(0,0,0)[0] intercept   : AIC=703.199, Time=0.05 sec\n",
      " ARIMA(3,1,0)(0,0,0)[0] intercept   : AIC=676.981, Time=0.06 sec\n",
      " ARIMA(3,1,1)(0,0,0)[0] intercept   : AIC=657.914, Time=0.15 sec\n"
     ]
    },
    {
     "name": "stderr",
     "output_type": "stream",
     "text": [
      "c:\\Users\\TYS\\AppData\\Local\\Programs\\Python\\Python311\\Lib\\site-packages\\statsmodels\\tsa\\statespace\\sarimax.py:966: UserWarning: Non-stationary starting autoregressive parameters found. Using zeros as starting parameters.\n",
      "  warn('Non-stationary starting autoregressive parameters'\n",
      "c:\\Users\\TYS\\AppData\\Local\\Programs\\Python\\Python311\\Lib\\site-packages\\statsmodels\\tsa\\statespace\\sarimax.py:978: UserWarning: Non-invertible starting MA parameters found. Using zeros as starting parameters.\n",
      "  warn('Non-invertible starting MA parameters found.'\n"
     ]
    },
    {
     "name": "stdout",
     "output_type": "stream",
     "text": [
      " ARIMA(2,1,1)(0,0,0)[0] intercept   : AIC=inf, Time=0.25 sec\n",
      " ARIMA(3,1,2)(0,0,0)[0] intercept   : AIC=658.382, Time=0.21 sec\n",
      " ARIMA(3,1,1)(0,0,0)[0]             : AIC=656.349, Time=0.10 sec\n",
      " ARIMA(2,1,1)(0,0,0)[0]             : AIC=659.040, Time=0.09 sec\n"
     ]
    },
    {
     "name": "stderr",
     "output_type": "stream",
     "text": [
      "c:\\Users\\TYS\\AppData\\Local\\Programs\\Python\\Python311\\Lib\\site-packages\\statsmodels\\tsa\\statespace\\sarimax.py:966: UserWarning: Non-stationary starting autoregressive parameters found. Using zeros as starting parameters.\n",
      "  warn('Non-stationary starting autoregressive parameters'\n",
      "c:\\Users\\TYS\\AppData\\Local\\Programs\\Python\\Python311\\Lib\\site-packages\\statsmodels\\tsa\\statespace\\sarimax.py:978: UserWarning: Non-invertible starting MA parameters found. Using zeros as starting parameters.\n",
      "  warn('Non-invertible starting MA parameters found.'\n"
     ]
    },
    {
     "name": "stdout",
     "output_type": "stream",
     "text": [
      " ARIMA(3,1,0)(0,0,0)[0]             : AIC=674.991, Time=0.04 sec\n",
      " ARIMA(3,1,2)(0,0,0)[0]             : AIC=656.953, Time=0.13 sec\n",
      " ARIMA(2,1,0)(0,0,0)[0]             : AIC=701.201, Time=0.03 sec\n",
      " ARIMA(2,1,2)(0,0,0)[0]             : AIC=660.068, Time=0.15 sec\n",
      "\n",
      "Best model:  ARIMA(3,1,1)(0,0,0)[0]          \n",
      "Total fit time: 1.953 seconds\n",
      "Cluster 5 (Classic_bike): ARIMA(3, 1, 1), Seasonal Order=(0, 0, 0, 0), AIC=656.3494623345653\n",
      "Failed to find ARIMA model for electric_bike in cluster 5: Found array with 0 sample(s) (shape=(0,)) while a minimum of 1 is required.\n"
     ]
    }
   ],
   "source": [
    "from pmdarima import auto_arima\n",
    "import pandas as pd\n",
    "from pandas import Timedelta, Timestamp\n",
    "from statsmodels.tsa.arima.model import ARIMA\n",
    "\n",
    "# Assuming 'data' is your DataFrame containing all clusters and bike types\n",
    "clusters = data['start_station_cluster'].unique()\n",
    "arima_params = {}\n",
    "\n",
    "for cluster in clusters:\n",
    "    for bike_type in ['classic_bike', 'electric_bike']:\n",
    "        # Define the key for storing in the dictionary\n",
    "        key = (cluster, bike_type)\n",
    "\n",
    "        # Filter data for the current cluster and bike type\n",
    "        cluster_bike_data = all_bike_train[(all_bike_train['start_station_cluster'] == cluster) &\n",
    "                                 (all_bike_train['rideable_type'] == bike_type)]['trip_count'].dropna()\n",
    "\n",
    "        # Convert the series to float\n",
    "        cluster_bike_data = cluster_bike_data.astype(float)\n",
    "\n",
    "        # Convert the index to weekly period\n",
    "        cluster_bike_data.index = pd.DatetimeIndex(cluster_bike_data.index).to_period('D')\n",
    "\n",
    "        try:\n",
    "            # Find the best ARIMA parameters\n",
    "            model = auto_arima(cluster_bike_data,\n",
    "                               seasonal=True,\n",
    "                               trace=True,\n",
    "                               error_action='warn',\n",
    "                               suppress_warnings=False,\n",
    "                               stepwise=True,\n",
    "                               max_p=3, max_q=3, max_d=2,\n",
    "                               max_order=None,\n",
    "                               enforce_stationarity=True,\n",
    "                               enforce_invertibility=True)\n",
    "\n",
    "            # Store parameters\n",
    "            arima_params[key] = {\n",
    "                'order': model.order,\n",
    "                'seasonal_order': model.seasonal_order,\n",
    "                'aic': model.aic()\n",
    "            }\n",
    "\n",
    "            # Concise output\n",
    "            print(f\"Cluster {cluster} ({bike_type.capitalize()}): ARIMA{model.order}, Seasonal Order={model.seasonal_order}, AIC={model.aic()}\")\n",
    "\n",
    "        except Exception as e:\n",
    "            print(f\"Failed to find ARIMA model for {bike_type} in cluster {cluster}: {e}\")"
   ]
  },
  {
   "cell_type": "code",
   "execution_count": 62,
   "metadata": {},
   "outputs": [
    {
     "data": {
      "text/html": [
       "<div>\n",
       "<style scoped>\n",
       "    .dataframe tbody tr th:only-of-type {\n",
       "        vertical-align: middle;\n",
       "    }\n",
       "\n",
       "    .dataframe tbody tr th {\n",
       "        vertical-align: top;\n",
       "    }\n",
       "\n",
       "    .dataframe thead th {\n",
       "        text-align: right;\n",
       "    }\n",
       "</style>\n",
       "<table border=\"1\" class=\"dataframe\">\n",
       "  <thead>\n",
       "    <tr style=\"text-align: right;\">\n",
       "      <th></th>\n",
       "      <th>start_station_cluster</th>\n",
       "      <th>rideable_type</th>\n",
       "      <th>trip_count</th>\n",
       "    </tr>\n",
       "    <tr>\n",
       "      <th>date</th>\n",
       "      <th></th>\n",
       "      <th></th>\n",
       "      <th></th>\n",
       "    </tr>\n",
       "  </thead>\n",
       "  <tbody>\n",
       "    <tr>\n",
       "      <th>2022-01-01</th>\n",
       "      <td>0</td>\n",
       "      <td>electric_bike</td>\n",
       "      <td>196</td>\n",
       "    </tr>\n",
       "    <tr>\n",
       "      <th>2022-01-02</th>\n",
       "      <td>0</td>\n",
       "      <td>electric_bike</td>\n",
       "      <td>194</td>\n",
       "    </tr>\n",
       "    <tr>\n",
       "      <th>2022-01-03</th>\n",
       "      <td>0</td>\n",
       "      <td>electric_bike</td>\n",
       "      <td>227</td>\n",
       "    </tr>\n",
       "    <tr>\n",
       "      <th>2022-01-04</th>\n",
       "      <td>0</td>\n",
       "      <td>electric_bike</td>\n",
       "      <td>221</td>\n",
       "    </tr>\n",
       "    <tr>\n",
       "      <th>2022-01-05</th>\n",
       "      <td>0</td>\n",
       "      <td>electric_bike</td>\n",
       "      <td>282</td>\n",
       "    </tr>\n",
       "    <tr>\n",
       "      <th>...</th>\n",
       "      <td>...</td>\n",
       "      <td>...</td>\n",
       "      <td>...</td>\n",
       "    </tr>\n",
       "    <tr>\n",
       "      <th>2022-06-28</th>\n",
       "      <td>0</td>\n",
       "      <td>electric_bike</td>\n",
       "      <td>783</td>\n",
       "    </tr>\n",
       "    <tr>\n",
       "      <th>2022-06-29</th>\n",
       "      <td>0</td>\n",
       "      <td>electric_bike</td>\n",
       "      <td>721</td>\n",
       "    </tr>\n",
       "    <tr>\n",
       "      <th>2022-06-30</th>\n",
       "      <td>0</td>\n",
       "      <td>electric_bike</td>\n",
       "      <td>630</td>\n",
       "    </tr>\n",
       "    <tr>\n",
       "      <th>2022-07-01</th>\n",
       "      <td>0</td>\n",
       "      <td>electric_bike</td>\n",
       "      <td>644</td>\n",
       "    </tr>\n",
       "    <tr>\n",
       "      <th>2022-07-02</th>\n",
       "      <td>0</td>\n",
       "      <td>electric_bike</td>\n",
       "      <td>488</td>\n",
       "    </tr>\n",
       "  </tbody>\n",
       "</table>\n",
       "<p>183 rows × 3 columns</p>\n",
       "</div>"
      ],
      "text/plain": [
       "            start_station_cluster  rideable_type  trip_count\n",
       "date                                                        \n",
       "2022-01-01                      0  electric_bike         196\n",
       "2022-01-02                      0  electric_bike         194\n",
       "2022-01-03                      0  electric_bike         227\n",
       "2022-01-04                      0  electric_bike         221\n",
       "2022-01-05                      0  electric_bike         282\n",
       "...                           ...            ...         ...\n",
       "2022-06-28                      0  electric_bike         783\n",
       "2022-06-29                      0  electric_bike         721\n",
       "2022-06-30                      0  electric_bike         630\n",
       "2022-07-01                      0  electric_bike         644\n",
       "2022-07-02                      0  electric_bike         488\n",
       "\n",
       "[183 rows x 3 columns]"
      ]
     },
     "execution_count": 62,
     "metadata": {},
     "output_type": "execute_result"
    }
   ],
   "source": [
    "c_temp_0 = electric_bike_train[electric_bike_train['start_station_cluster'] == 0]\n",
    "c_temp_0"
   ]
  },
  {
   "cell_type": "code",
   "execution_count": 63,
   "metadata": {},
   "outputs": [
    {
     "name": "stderr",
     "output_type": "stream",
     "text": [
      "c:\\Users\\TYS\\AppData\\Local\\Programs\\Python\\Python311\\Lib\\site-packages\\statsmodels\\tsa\\base\\tsa_model.py:473: ValueWarning: No frequency information was provided, so inferred frequency D will be used.\n",
      "  self._init_dates(dates, freq)\n",
      "c:\\Users\\TYS\\AppData\\Local\\Programs\\Python\\Python311\\Lib\\site-packages\\statsmodels\\tsa\\base\\tsa_model.py:473: ValueWarning: No frequency information was provided, so inferred frequency D will be used.\n",
      "  self._init_dates(dates, freq)\n",
      "c:\\Users\\TYS\\AppData\\Local\\Programs\\Python\\Python311\\Lib\\site-packages\\statsmodels\\tsa\\base\\tsa_model.py:473: ValueWarning: No frequency information was provided, so inferred frequency D will be used.\n",
      "  self._init_dates(dates, freq)\n"
     ]
    },
    {
     "data": {
      "text/plain": [
       "2022-01-02    193.874757\n",
       "2022-01-03    193.937845\n",
       "2022-01-04    205.384619\n",
       "2022-01-05    209.619056\n",
       "2022-01-06    226.194203\n",
       "2022-01-07    235.699868\n",
       "2022-01-08    238.736335\n",
       "2022-01-09    242.982600\n",
       "2022-01-10    246.497883\n",
       "Freq: D, Name: predicted_mean, dtype: float64"
      ]
     },
     "execution_count": 63,
     "metadata": {},
     "output_type": "execute_result"
    }
   ],
   "source": [
    "model_temp = ARIMA(c_temp_0['trip_count'], order=(0,1,1))\n",
    "results_temp = model_temp.fit()\n",
    "#forecast_temp = results_temp.get_prediction(start='2022-07-02', end='2022-12-31', dynamic=False)\n",
    "forecast_temp = results_temp.predict(start='2022-01-02', end='2022-01-10', dynamic=False)\n",
    "forecast_temp"
   ]
  },
  {
   "cell_type": "code",
   "execution_count": 64,
   "metadata": {},
   "outputs": [],
   "source": [
    "classic_start = len(classic_bike_train)\n",
    "classic_end = len(classic_bike_data) + len(classic_bike_test) - 1\n",
    "electric_start = len(electric_bike_train)\n",
    "electric_end = len(electric_bike_data) + len(electric_bike_test) - 1\n"
   ]
  },
  {
   "cell_type": "code",
   "execution_count": 65,
   "metadata": {},
   "outputs": [],
   "source": [
    "# def demand_forecasting(cluster_to_predict, bike_type_to_predict, date_to_predict):\n",
    "#     # Ensure the date is in the proper format\n",
    "#     date_to_predict = pd.to_datetime(date_to_predict)\n",
    "\n",
    "#     # Select the appropriate training dataset\n",
    "#     if bike_type_to_predict == \"electric_bike\":\n",
    "#         cluster_temp = electric_bike_train[electric_bike_train['start_station_cluster'] == cluster_to_predict]\n",
    "#     elif bike_type_to_predict == \"classic_bike\":\n",
    "#         cluster_temp = classic_bike_train[classic_bike_train['start_station_cluster'] == cluster_to_predict]\n",
    "#     else:\n",
    "#         raise ValueError(\"Bike type must be 'electric_bike' or 'classic_bike'.\")\n",
    "\n",
    "#     # Ensure there is enough data to fit the model\n",
    "#     if len(cluster_temp) == 0:\n",
    "#         raise ValueError(f\"No data available for cluster {cluster_to_predict} and bike type {bike_type_to_predict}.\")\n",
    "\n",
    "#     # Fit the ARIMA model\n",
    "#     model_order = arima_params[(cluster_to_predict, bike_type_to_predict)]['order']\n",
    "#     model = ARIMA(cluster_temp['trip_count'], order=model_order)\n",
    "#     results = model.fit()\n",
    "\n",
    "#     # Forecast up to the date of interest\n",
    "#     # Assuming the index of the cluster_temp is a DatetimeIndex and is in ascending order\n",
    "#     forecast_end = (date_to_predict - cluster_temp.index[0]).days\n",
    "#     forecast = results.get_prediction(start=0, end=forecast_end)\n",
    "\n",
    "#     # Extract the forecast for the specific date\n",
    "#     try:\n",
    "#         predicted_count = forecast.predicted_mean.loc[date_to_predict]\n",
    "#     except KeyError:\n",
    "#         raise KeyError(f\"No prediction available for {date_to_predict}. Model forecast may not cover this date.\")\n",
    "\n",
    "#     return predicted_count\n"
   ]
  },
  {
   "cell_type": "code",
   "execution_count": 66,
   "metadata": {},
   "outputs": [
    {
     "data": {
      "text/plain": [
       "{(0, 'classic_bike'): {'order': (1, 1, 1),\n",
       "  'seasonal_order': (0, 0, 0, 0),\n",
       "  'aic': 2064.2471916172635},\n",
       " (0, 'electric_bike'): {'order': (3, 1, 3),\n",
       "  'seasonal_order': (0, 0, 0, 0),\n",
       "  'aic': 2149.9358103533123},\n",
       " (1, 'classic_bike'): {'order': (0, 1, 1),\n",
       "  'seasonal_order': (0, 0, 0, 0),\n",
       "  'aic': 1247.1831601606},\n",
       " (1, 'electric_bike'): {'order': (0, 0, 0),\n",
       "  'seasonal_order': (0, 0, 0, 0),\n",
       "  'aic': 1015.6493122039806},\n",
       " (2, 'classic_bike'): {'order': (1, 1, 1),\n",
       "  'seasonal_order': (0, 0, 0, 0),\n",
       "  'aic': 1485.6953532642056},\n",
       " (3, 'classic_bike'): {'order': (0, 1, 2),\n",
       "  'seasonal_order': (0, 0, 0, 0),\n",
       "  'aic': 1896.1942806312684},\n",
       " (3, 'electric_bike'): {'order': (3, 1, 3),\n",
       "  'seasonal_order': (0, 0, 0, 0),\n",
       "  'aic': 2107.0814507455666},\n",
       " (4, 'classic_bike'): {'order': (2, 1, 2),\n",
       "  'seasonal_order': (0, 0, 0, 0),\n",
       "  'aic': 1730.1205571208243},\n",
       " (4, 'electric_bike'): {'order': (0, 1, 0),\n",
       "  'seasonal_order': (0, 0, 0, 0),\n",
       "  'aic': 1884.47066643778},\n",
       " (6, 'classic_bike'): {'order': (0, 1, 2),\n",
       "  'seasonal_order': (0, 0, 0, 0),\n",
       "  'aic': 863.7859382045904},\n",
       " (6, 'electric_bike'): {'order': (0, 1, 1),\n",
       "  'seasonal_order': (0, 0, 0, 0),\n",
       "  'aic': 1097.1439224242213},\n",
       " (7, 'classic_bike'): {'order': (2, 1, 1),\n",
       "  'seasonal_order': (0, 0, 0, 0),\n",
       "  'aic': 1876.9535546810353},\n",
       " (7, 'electric_bike'): {'order': (2, 1, 2),\n",
       "  'seasonal_order': (0, 0, 0, 0),\n",
       "  'aic': 2051.081136217439},\n",
       " (8, 'classic_bike'): {'order': (0, 1, 1),\n",
       "  'seasonal_order': (0, 0, 0, 0),\n",
       "  'aic': 1057.214875754571},\n",
       " (8, 'electric_bike'): {'order': (0, 1, 2),\n",
       "  'seasonal_order': (0, 0, 0, 0),\n",
       "  'aic': 1082.6613093581004},\n",
       " (9, 'classic_bike'): {'order': (0, 1, 2),\n",
       "  'seasonal_order': (0, 0, 0, 0),\n",
       "  'aic': 1630.399630408573},\n",
       " (10, 'classic_bike'): {'order': (0, 1, 2),\n",
       "  'seasonal_order': (0, 0, 0, 0),\n",
       "  'aic': 1393.6751887417872},\n",
       " (11, 'classic_bike'): {'order': (1, 1, 3),\n",
       "  'seasonal_order': (0, 0, 0, 0),\n",
       "  'aic': 2030.110833738726},\n",
       " (11, 'electric_bike'): {'order': (2, 1, 2),\n",
       "  'seasonal_order': (0, 0, 0, 0),\n",
       "  'aic': 2132.3092275420267},\n",
       " (12, 'classic_bike'): {'order': (1, 1, 1),\n",
       "  'seasonal_order': (0, 0, 0, 0),\n",
       "  'aic': 1446.8367844784075},\n",
       " (13, 'classic_bike'): {'order': (0, 1, 1),\n",
       "  'seasonal_order': (0, 0, 0, 0),\n",
       "  'aic': 1445.999494549229},\n",
       " (13, 'electric_bike'): {'order': (0, 0, 3),\n",
       "  'seasonal_order': (0, 0, 0, 0),\n",
       "  'aic': 1185.3110517885561},\n",
       " (14, 'classic_bike'): {'order': (1, 1, 1),\n",
       "  'seasonal_order': (0, 0, 0, 0),\n",
       "  'aic': 1703.021121791288},\n",
       " (15, 'classic_bike'): {'order': (0, 0, 1),\n",
       "  'seasonal_order': (0, 0, 0, 0),\n",
       "  'aic': 766.7223744420693},\n",
       " (15, 'electric_bike'): {'order': (0, 1, 1),\n",
       "  'seasonal_order': (0, 0, 0, 0),\n",
       "  'aic': 907.2706371327815},\n",
       " (16, 'classic_bike'): {'order': (2, 1, 2),\n",
       "  'seasonal_order': (0, 0, 0, 0),\n",
       "  'aic': 2103.8482474423554},\n",
       " (16, 'electric_bike'): {'order': (3, 1, 3),\n",
       "  'seasonal_order': (0, 0, 0, 0),\n",
       "  'aic': 2187.461868331935},\n",
       " (17, 'classic_bike'): {'order': (1, 1, 1),\n",
       "  'seasonal_order': (0, 0, 0, 0),\n",
       "  'aic': 1745.5951722062737},\n",
       " (17, 'electric_bike'): {'order': (1, 1, 3),\n",
       "  'seasonal_order': (0, 0, 0, 0),\n",
       "  'aic': 2489.1048558342536},\n",
       " (18, 'classic_bike'): {'order': (2, 1, 3),\n",
       "  'seasonal_order': (0, 0, 0, 0),\n",
       "  'aic': 1770.580736779792},\n",
       " (18, 'electric_bike'): {'order': (2, 1, 1),\n",
       "  'seasonal_order': (0, 0, 0, 0),\n",
       "  'aic': 1989.562426152009},\n",
       " (19, 'classic_bike'): {'order': (1, 1, 1),\n",
       "  'seasonal_order': (0, 0, 0, 0),\n",
       "  'aic': 1451.3705303124484},\n",
       " (19, 'electric_bike'): {'order': (1, 1, 2),\n",
       "  'seasonal_order': (0, 0, 0, 0),\n",
       "  'aic': 1285.506335319542},\n",
       " (5, 'classic_bike'): {'order': (3, 1, 1),\n",
       "  'seasonal_order': (0, 0, 0, 0),\n",
       "  'aic': 656.3494623345653}}"
      ]
     },
     "execution_count": 66,
     "metadata": {},
     "output_type": "execute_result"
    }
   ],
   "source": [
    "arima_params"
   ]
  },
  {
   "cell_type": "code",
   "execution_count": 67,
   "metadata": {},
   "outputs": [],
   "source": [
    "def demand_forecasting(cluster_to_predict, bike_type_to_predict, date_to_predict):\n",
    "    # Convert the prediction date to pandas Timestamp for consistency\n",
    "    date_to_predict = pd.to_datetime(date_to_predict)\n",
    "\n",
    "    # Select the appropriate training dataset\n",
    "    if bike_type_to_predict == \"electric_bike\":\n",
    "        #cluster_temp = electric_bike_train[electric_bike_train['start_station_cluster'] == cluster_to_predict]\n",
    "        cluster_temp = electric_bike_data[electric_bike_data['start_station_cluster'] == cluster_to_predict]\n",
    "    elif bike_type_to_predict == \"classic_bike\":\n",
    "        cluster_temp = classic_bike_data[classic_bike_data['start_station_cluster'] == cluster_to_predict]\n",
    "    else:\n",
    "        raise ValueError(\"Bike type must be 'electric_bike' or 'classic_bike'.\")\n",
    "#------------------------------------------------------------------------------------------\n",
    "    # Filter data for the current cluster and bike type\n",
    "    #cluster_temp = all_bike_train[(all_bike_train['start_station_cluster'] == cluster_to_predict) &\n",
    "    #                            (all_bike_train['rideable_type'] == bike_type_to_predict)]['trip_count'].dropna()\n",
    "    #print(cluster_temp)\n",
    "    # Convert the series to float\n",
    "    #cluster_temp = cluster_bike_data.astype(float)\n",
    "\n",
    "    # Convert the index to weekly period\n",
    "    #cluster_temp.index = pd.to_datetime(cluster_temp.index).to_period('D')\n",
    "\n",
    "    #cluster_temp = cluster_temp.asfreq('D')\n",
    "#-------------------------------------------------------------------------------------------\n",
    "    # Ensure there is enough data to fit the model\n",
    "    if len(cluster_temp) < 2:  # You need at least two data points to forecast\n",
    "        raise ValueError(f\"Not enough data to fit ARIMA model for cluster {cluster_to_predict} and bike type {bike_type_to_predict}.\")\n",
    "\n",
    "    # Fit the ARIMA model\n",
    "    model_order = arima_params[(cluster_to_predict, bike_type_to_predict)]['order']\n",
    "    model = ARIMA(cluster_temp['trip_count'], order=model_order, freq='D')\n",
    "    results = model.fit()\n",
    "\n",
    "    # Forecasting\n",
    "    forecast_start = len(cluster_temp)  # Start forecasting after the last observed data point\n",
    "    print(cluster_temp.index[-1])\n",
    "    forecast_end = forecast_start + (date_to_predict - cluster_temp.index[-1]).days  # Days to forecast\n",
    "    print(forecast_end)\n",
    "    dynamic = forecast_end > forecast_start  # Use dynamic forecast if forecasting more than one step\n",
    "    #forecast = results.get_prediction(start=forecast_start, end=forecast_end, dynamic=dynamic)\n",
    "    forecast = results.get_prediction(start=\"2022-01-01\", end=\"2022-12-31\", dynamic=dynamic)\n",
    "\n",
    "    #print(forecast.predicted_mean)\n",
    "\n",
    "    # Extract the forecast for the specific date\n",
    "    try:\n",
    "        predicted_count = forecast.predicted_mean.loc[date_to_predict]\n",
    "        #predicted_count = forecast.predicted_mean[date_to_predict]\n",
    "    except KeyError:\n",
    "        raise KeyError(f\"No prediction available for {date_to_predict}. Model forecast may not cover this date.\")\n",
    "\n",
    "    return predicted_count\n",
    "\n"
   ]
  },
  {
   "cell_type": "code",
   "execution_count": 68,
   "metadata": {},
   "outputs": [
    {
     "ename": "NameError",
     "evalue": "name 'classci_bike_data' is not defined",
     "output_type": "error",
     "traceback": [
      "\u001b[1;31m---------------------------------------------------------------------------\u001b[0m",
      "\u001b[1;31mNameError\u001b[0m                                 Traceback (most recent call last)",
      "\u001b[1;32mc:\\Users\\TYS\\Documents\\study\\Master\\INSY662\\group project\\Real Code\\INSY662-Group-Project\\Model\\ARIMA_all_clusters.ipynb Cell 12\u001b[0m line \u001b[0;36m7\n\u001b[0;32m      <a href='vscode-notebook-cell:/c%3A/Users/TYS/Documents/study/Master/INSY662/group%20project/Real%20Code/INSY662-Group-Project/Model/ARIMA_all_clusters.ipynb#X12sZmlsZQ%3D%3D?line=3'>4</a>\u001b[0m date_to_predict \u001b[39m=\u001b[39m \u001b[39m'\u001b[39m\u001b[39m2022-09-30\u001b[39m\u001b[39m'\u001b[39m  \u001b[39m# The date you want to make the prediction for, in 'YYYY-MM-DD' format\u001b[39;00m\n\u001b[0;32m      <a href='vscode-notebook-cell:/c%3A/Users/TYS/Documents/study/Master/INSY662/group%20project/Real%20Code/INSY662-Group-Project/Model/ARIMA_all_clusters.ipynb#X12sZmlsZQ%3D%3D?line=5'>6</a>\u001b[0m \u001b[39m# Call the demand_forecasting function with the example parameters\u001b[39;00m\n\u001b[1;32m----> <a href='vscode-notebook-cell:/c%3A/Users/TYS/Documents/study/Master/INSY662/group%20project/Real%20Code/INSY662-Group-Project/Model/ARIMA_all_clusters.ipynb#X12sZmlsZQ%3D%3D?line=6'>7</a>\u001b[0m predicted_trip_count \u001b[39m=\u001b[39m demand_forecasting(cluster_to_predict, bike_type_to_predict, date_to_predict)\n\u001b[0;32m      <a href='vscode-notebook-cell:/c%3A/Users/TYS/Documents/study/Master/INSY662/group%20project/Real%20Code/INSY662-Group-Project/Model/ARIMA_all_clusters.ipynb#X12sZmlsZQ%3D%3D?line=8'>9</a>\u001b[0m \u001b[39m# Print out the result\u001b[39;00m\n\u001b[0;32m     <a href='vscode-notebook-cell:/c%3A/Users/TYS/Documents/study/Master/INSY662/group%20project/Real%20Code/INSY662-Group-Project/Model/ARIMA_all_clusters.ipynb#X12sZmlsZQ%3D%3D?line=9'>10</a>\u001b[0m \u001b[39m#print(f\"The predicted trip count for cluster {cluster_to_predict}, bike type '{bike_type_to_predict}', on {date_to_predict} is: {predicted_trip_count}\")\u001b[39;00m\n\u001b[0;32m     <a href='vscode-notebook-cell:/c%3A/Users/TYS/Documents/study/Master/INSY662/group%20project/Real%20Code/INSY662-Group-Project/Model/ARIMA_all_clusters.ipynb#X12sZmlsZQ%3D%3D?line=10'>11</a>\u001b[0m \u001b[39m# Print the values in three separate rows\u001b[39;00m\n\u001b[0;32m     <a href='vscode-notebook-cell:/c%3A/Users/TYS/Documents/study/Master/INSY662/group%20project/Real%20Code/INSY662-Group-Project/Model/ARIMA_all_clusters.ipynb#X12sZmlsZQ%3D%3D?line=11'>12</a>\u001b[0m \u001b[39mprint\u001b[39m(\u001b[39mf\u001b[39m\u001b[39m\"\u001b[39m\u001b[39mThe predicted trip count for cluster \u001b[39m\u001b[39m{\u001b[39;00mcluster_to_predict\u001b[39m}\u001b[39;00m\u001b[39m:\u001b[39m\u001b[39m\"\u001b[39m)\n",
      "\u001b[1;32mc:\\Users\\TYS\\Documents\\study\\Master\\INSY662\\group project\\Real Code\\INSY662-Group-Project\\Model\\ARIMA_all_clusters.ipynb Cell 12\u001b[0m line \u001b[0;36m1\n\u001b[0;32m      <a href='vscode-notebook-cell:/c%3A/Users/TYS/Documents/study/Master/INSY662/group%20project/Real%20Code/INSY662-Group-Project/Model/ARIMA_all_clusters.ipynb#X12sZmlsZQ%3D%3D?line=7'>8</a>\u001b[0m     cluster_temp \u001b[39m=\u001b[39m electric_bike_data[electric_bike_data[\u001b[39m'\u001b[39m\u001b[39mstart_station_cluster\u001b[39m\u001b[39m'\u001b[39m] \u001b[39m==\u001b[39m cluster_to_predict]\n\u001b[0;32m      <a href='vscode-notebook-cell:/c%3A/Users/TYS/Documents/study/Master/INSY662/group%20project/Real%20Code/INSY662-Group-Project/Model/ARIMA_all_clusters.ipynb#X12sZmlsZQ%3D%3D?line=8'>9</a>\u001b[0m \u001b[39melif\u001b[39;00m bike_type_to_predict \u001b[39m==\u001b[39m \u001b[39m\"\u001b[39m\u001b[39mclassic_bike\u001b[39m\u001b[39m\"\u001b[39m:\n\u001b[1;32m---> <a href='vscode-notebook-cell:/c%3A/Users/TYS/Documents/study/Master/INSY662/group%20project/Real%20Code/INSY662-Group-Project/Model/ARIMA_all_clusters.ipynb#X12sZmlsZQ%3D%3D?line=9'>10</a>\u001b[0m     cluster_temp \u001b[39m=\u001b[39m classic_bike_data[classci_bike_data[\u001b[39m'\u001b[39m\u001b[39mstart_station_cluster\u001b[39m\u001b[39m'\u001b[39m] \u001b[39m==\u001b[39m cluster_to_predict]\n\u001b[0;32m     <a href='vscode-notebook-cell:/c%3A/Users/TYS/Documents/study/Master/INSY662/group%20project/Real%20Code/INSY662-Group-Project/Model/ARIMA_all_clusters.ipynb#X12sZmlsZQ%3D%3D?line=10'>11</a>\u001b[0m \u001b[39melse\u001b[39;00m:\n\u001b[0;32m     <a href='vscode-notebook-cell:/c%3A/Users/TYS/Documents/study/Master/INSY662/group%20project/Real%20Code/INSY662-Group-Project/Model/ARIMA_all_clusters.ipynb#X12sZmlsZQ%3D%3D?line=11'>12</a>\u001b[0m     \u001b[39mraise\u001b[39;00m \u001b[39mValueError\u001b[39;00m(\u001b[39m\"\u001b[39m\u001b[39mBike type must be \u001b[39m\u001b[39m'\u001b[39m\u001b[39melectric_bike\u001b[39m\u001b[39m'\u001b[39m\u001b[39m or \u001b[39m\u001b[39m'\u001b[39m\u001b[39mclassic_bike\u001b[39m\u001b[39m'\u001b[39m\u001b[39m.\u001b[39m\u001b[39m\"\u001b[39m)\n",
      "\u001b[1;31mNameError\u001b[0m: name 'classci_bike_data' is not defined"
     ]
    }
   ],
   "source": [
    "# Example parameters\n",
    "cluster_to_predict = 1  # This is the cluster number you want to predict for\n",
    "bike_type_to_predict = 'classic_bike'  # This can be 'classic_bike' or 'electric_bike'\n",
    "date_to_predict = '2022-09-30'  # The date you want to make the prediction for, in 'YYYY-MM-DD' format\n",
    "\n",
    "# Call the demand_forecasting function with the example parameters\n",
    "predicted_trip_count = demand_forecasting(cluster_to_predict, bike_type_to_predict, date_to_predict)\n",
    "\n",
    "# Print out the result\n",
    "#print(f\"The predicted trip count for cluster {cluster_to_predict}, bike type '{bike_type_to_predict}', on {date_to_predict} is: {predicted_trip_count}\")\n",
    "# Print the values in three separate rows\n",
    "print(f\"The predicted trip count for cluster {cluster_to_predict}:\")\n",
    "print(f\"Bike type '{bike_type_to_predict}':\")\n",
    "print(f\"On {date_to_predict} is: {predicted_trip_count}\")\n"
   ]
  },
  {
   "cell_type": "code",
   "execution_count": null,
   "metadata": {},
   "outputs": [
    {
     "name": "stdout",
     "output_type": "stream",
     "text": [
      "start_station_cluster                6\n",
      "rideable_type            electric_bike\n",
      "trip_count                          21\n",
      "Name: 2022-09-14 00:00:00, dtype: object\n"
     ]
    }
   ],
   "source": [
    "row = data.iloc[8649]\n",
    "print(row)"
   ]
  },
  {
   "cell_type": "code",
   "execution_count": null,
   "metadata": {},
   "outputs": [],
   "source": [
    "# import matplotlib.pyplot as plt\n",
    "# import pandas as pd\n",
    "\n",
    "# def plot_demand_forecasting(cluster_to_predict, bike_type_to_predict, date_to_predict):\n",
    "#     # Combine training and test datasets for plotting\n",
    "#     if bike_type_to_predict == \"electric_bike\":\n",
    "#         train_temp = electric_bike_train[electric_bike_train['start_station_cluster'] == cluster_to_predict]\n",
    "#         test_temp = electric_bike_test[electric_bike_test['start_station_cluster'] == cluster_to_predict]\n",
    "#     elif bike_type_to_predict == \"classic_bike\":\n",
    "#         train_temp = classic_bike_train[classic_bike_train['start_station_cluster'] == cluster_to_predict]\n",
    "#         test_temp = classic_bike_test[classic_bike_test['start_station_cluster'] == cluster_to_predict]\n",
    "#     else:\n",
    "#         raise ValueError(\"Bike type must be 'electric_bike' or 'classic_bike'.\")\n",
    "\n",
    "#     # Create a date range from the first day of the training data to the last day of the test data\n",
    "#     #start_date = len(electric_bike_train) #train_temp.index.min()\n",
    "#     #end_date = len(electric_bike_train) + len(electric_bike_test) -1 #test_temp.index.max()\n",
    "#     start_date = train_temp.index.min().date()\n",
    "#     end_date = test_temp.index.max().date()\n",
    "   \n",
    "#     if start_date < end_date:\n",
    "#         print(type(start_date))\n",
    "#         print(end_date)\n",
    "#         print()\n",
    "\n",
    "#     #date_range = pd.date_range(start=start_date, end=end_date, freq='D')\n",
    "#     date_range = pd.date_range(start=start_date, end=end_date, freq='D')\n",
    "\n",
    "#     # Initialize a list to store forecasted values\n",
    "#     forecasted_values = []\n",
    "\n",
    "#     # Calculate forecasted trip count for each day using demand_forecasting function\n",
    "#     for current_date in date_range:\n",
    "#         forecasted_trip_count = demand_forecasting(cluster_to_predict, bike_type_to_predict, date_to_predict)\n",
    "#         forecasted_values.append(forecasted_trip_count)\n",
    "\n",
    "#     # Convert the list of forecasted values to a pandas Series\n",
    "#     forecasted_series = pd.Series(forecasted_values, index=date_range)\n",
    "\n",
    "#     # Plot the actual and forecasted trip counts\n",
    "#     plt.figure(figsize=(14, 7))\n",
    "#     plt.plot(train_temp.index, train_temp['trip_count'], label='Training Data', color='blue')\n",
    "#     plt.plot(test_temp.index, test_temp['trip_count'], label='Actual Test Data', color='orange')\n",
    "#     plt.plot(date_range, forecasted_series, label='Forecasted Data', color='green', linestyle='--')\n",
    "#     plt.title(f'Actual vs Forecasted Trip Counts for {bike_type_to_predict.capitalize()} in Cluster {cluster_to_predict}')\n",
    "#     plt.xlabel('Date')\n",
    "#     plt.ylabel('Trip Count')\n",
    "#     plt.legend()\n",
    "#     plt.show()\n",
    "\n",
    "# To use the function, you will need to ensure that:\n",
    "# - The demand_forecasting function is defined in your environment.\n",
    "# - The electric_bike_train, electric_bike_test, classic_bike_train, and classic_bike_test datasets are properly set up.\n",
    "# - The arima_params dictionary is correctly defined with the ARIMA order parameters for each combination of cluster and bike type.\n"
   ]
  },
  {
   "cell_type": "code",
   "execution_count": null,
   "metadata": {},
   "outputs": [],
   "source": [
    "# Function to forecast demand\n",
    "def demand_forecasting_with_trend(cluster_to_predict, bike_type_to_predict):\n",
    "    # Select the appropriate training dataset\n",
    "    if bike_type_to_predict == \"electric_bike\":\n",
    "        cluster_temp = electric_bike_data[electric_bike_data['start_station_cluster'] == cluster_to_predict]\n",
    "        test_temp = electric_bike_test[electric_bike_test['start_station_cluster'] == cluster_to_predict]\n",
    "    elif bike_type_to_predict == \"classic_bike\":\n",
    "        cluster_temp = classic_bike_data[classic_bike_data['start_station_cluster'] == cluster_to_predict]\n",
    "        test_temp = classic_bike_test[classic_bike_test['start_station_cluster'] == cluster_to_predict]\n",
    "    else:\n",
    "        raise ValueError(\"Bike type must be 'electric_bike' or 'classic_bike'.\")\n",
    "\n",
    "    # Fit the ARIMA model\n",
    "    model_order = arima_params[(cluster_to_predict, bike_type_to_predict)]['order']\n",
    "    model = ARIMA(cluster_temp['trip_count'], order=model_order)\n",
    "    results = model.fit()\n",
    "\n",
    "    # Predict for the entire year of 2022\n",
    "    forecast_end = '2022-12-31'\n",
    "    forecast = results.get_prediction(start='2022-01-01', end=forecast_end, dynamic=False)\n",
    "    forecasted_values = forecast.predicted_mean\n",
    "\n",
    "    # Plotting the training data, forecasted data\n",
    "    plt.figure(figsize=(14, 7))\n",
    "    plt.plot(cluster_temp['trip_count'], label='Training Data')\n",
    "    plt.plot(test_temp['trip_count'],label='Test Data',color='green')\n",
    "    plt.plot(pd.date_range(start='2022-01-01', end=forecast_end, freq='D'), forecasted_values, \n",
    "             label='Forecasted Data', linestyle='--')\n",
    "    plt.title(f\"Actual vs Forecasted Trip Counts for {bike_type_to_predict.replace('_', ' ').title()} in Cluster {cluster_to_predict}\")\n",
    "    plt.legend()\n",
    "    plt.show()\n"
   ]
  },
  {
   "cell_type": "code",
   "execution_count": null,
   "metadata": {},
   "outputs": [
    {
     "name": "stderr",
     "output_type": "stream",
     "text": [
      "c:\\Users\\TYS\\AppData\\Local\\Programs\\Python\\Python311\\Lib\\site-packages\\statsmodels\\tsa\\base\\tsa_model.py:473: ValueWarning: A date index has been provided, but it has no associated frequency information and so will be ignored when e.g. forecasting.\n",
      "  self._init_dates(dates, freq)\n",
      "c:\\Users\\TYS\\AppData\\Local\\Programs\\Python\\Python311\\Lib\\site-packages\\statsmodels\\tsa\\base\\tsa_model.py:473: ValueWarning: A date index has been provided, but it has no associated frequency information and so will be ignored when e.g. forecasting.\n",
      "  self._init_dates(dates, freq)\n",
      "c:\\Users\\TYS\\AppData\\Local\\Programs\\Python\\Python311\\Lib\\site-packages\\statsmodels\\tsa\\base\\tsa_model.py:473: ValueWarning: A date index has been provided, but it has no associated frequency information and so will be ignored when e.g. forecasting.\n",
      "  self._init_dates(dates, freq)\n"
     ]
    },
    {
     "ename": "KeyError",
     "evalue": "'The `end` argument could not be matched to a location related to the index of the data.'",
     "output_type": "error",
     "traceback": [
      "\u001b[1;31m---------------------------------------------------------------------------\u001b[0m",
      "\u001b[1;31mKeyError\u001b[0m                                  Traceback (most recent call last)",
      "File \u001b[1;32mc:\\Users\\TYS\\AppData\\Local\\Programs\\Python\\Python311\\Lib\\site-packages\\pandas\\_libs\\index.pyx:548\u001b[0m, in \u001b[0;36mpandas._libs.index.DatetimeEngine.get_loc\u001b[1;34m()\u001b[0m\n",
      "File \u001b[1;32mpandas\\_libs\\hashtable_class_helper.pxi:2263\u001b[0m, in \u001b[0;36mpandas._libs.hashtable.Int64HashTable.get_item\u001b[1;34m()\u001b[0m\n",
      "File \u001b[1;32mpandas\\_libs\\hashtable_class_helper.pxi:2273\u001b[0m, in \u001b[0;36mpandas._libs.hashtable.Int64HashTable.get_item\u001b[1;34m()\u001b[0m\n",
      "\u001b[1;31mKeyError\u001b[0m: 1672444800000000000",
      "\nDuring handling of the above exception, another exception occurred:\n",
      "\u001b[1;31mKeyError\u001b[0m                                  Traceback (most recent call last)",
      "File \u001b[1;32mc:\\Users\\TYS\\AppData\\Local\\Programs\\Python\\Python311\\Lib\\site-packages\\pandas\\core\\indexes\\base.py:3803\u001b[0m, in \u001b[0;36mIndex.get_loc\u001b[1;34m(self, key, method, tolerance)\u001b[0m\n\u001b[0;32m   3802\u001b[0m \u001b[39mtry\u001b[39;00m:\n\u001b[1;32m-> 3803\u001b[0m     \u001b[39mreturn\u001b[39;00m \u001b[39mself\u001b[39m\u001b[39m.\u001b[39m_engine\u001b[39m.\u001b[39mget_loc(casted_key)\n\u001b[0;32m   3804\u001b[0m \u001b[39mexcept\u001b[39;00m \u001b[39mKeyError\u001b[39;00m \u001b[39mas\u001b[39;00m err:\n",
      "File \u001b[1;32mc:\\Users\\TYS\\AppData\\Local\\Programs\\Python\\Python311\\Lib\\site-packages\\pandas\\_libs\\index.pyx:516\u001b[0m, in \u001b[0;36mpandas._libs.index.DatetimeEngine.get_loc\u001b[1;34m()\u001b[0m\n",
      "File \u001b[1;32mc:\\Users\\TYS\\AppData\\Local\\Programs\\Python\\Python311\\Lib\\site-packages\\pandas\\_libs\\index.pyx:550\u001b[0m, in \u001b[0;36mpandas._libs.index.DatetimeEngine.get_loc\u001b[1;34m()\u001b[0m\n",
      "\u001b[1;31mKeyError\u001b[0m: Timestamp('2022-12-31 00:00:00')",
      "\nThe above exception was the direct cause of the following exception:\n",
      "\u001b[1;31mKeyError\u001b[0m                                  Traceback (most recent call last)",
      "File \u001b[1;32mc:\\Users\\TYS\\AppData\\Local\\Programs\\Python\\Python311\\Lib\\site-packages\\pandas\\core\\indexes\\datetimes.py:736\u001b[0m, in \u001b[0;36mDatetimeIndex.get_loc\u001b[1;34m(self, key, method, tolerance)\u001b[0m\n\u001b[0;32m    735\u001b[0m \u001b[39mtry\u001b[39;00m:\n\u001b[1;32m--> 736\u001b[0m     \u001b[39mreturn\u001b[39;00m Index\u001b[39m.\u001b[39;49mget_loc(\u001b[39mself\u001b[39;49m, key, method, tolerance)\n\u001b[0;32m    737\u001b[0m \u001b[39mexcept\u001b[39;00m \u001b[39mKeyError\u001b[39;00m \u001b[39mas\u001b[39;00m err:\n",
      "File \u001b[1;32mc:\\Users\\TYS\\AppData\\Local\\Programs\\Python\\Python311\\Lib\\site-packages\\pandas\\core\\indexes\\base.py:3805\u001b[0m, in \u001b[0;36mIndex.get_loc\u001b[1;34m(self, key, method, tolerance)\u001b[0m\n\u001b[0;32m   3804\u001b[0m \u001b[39mexcept\u001b[39;00m \u001b[39mKeyError\u001b[39;00m \u001b[39mas\u001b[39;00m err:\n\u001b[1;32m-> 3805\u001b[0m     \u001b[39mraise\u001b[39;00m \u001b[39mKeyError\u001b[39;00m(key) \u001b[39mfrom\u001b[39;00m \u001b[39merr\u001b[39;00m\n\u001b[0;32m   3806\u001b[0m \u001b[39mexcept\u001b[39;00m \u001b[39mTypeError\u001b[39;00m:\n\u001b[0;32m   3807\u001b[0m     \u001b[39m# If we have a listlike key, _check_indexing_error will raise\u001b[39;00m\n\u001b[0;32m   3808\u001b[0m     \u001b[39m#  InvalidIndexError. Otherwise we fall through and re-raise\u001b[39;00m\n\u001b[0;32m   3809\u001b[0m     \u001b[39m#  the TypeError.\u001b[39;00m\n",
      "\u001b[1;31mKeyError\u001b[0m: Timestamp('2022-12-31 00:00:00')",
      "\nThe above exception was the direct cause of the following exception:\n",
      "\u001b[1;31mKeyError\u001b[0m                                  Traceback (most recent call last)",
      "File \u001b[1;32mc:\\Users\\TYS\\AppData\\Local\\Programs\\Python\\Python311\\Lib\\site-packages\\statsmodels\\tsa\\base\\tsa_model.py:249\u001b[0m, in \u001b[0;36mget_index_label_loc\u001b[1;34m(key, index, row_labels)\u001b[0m\n\u001b[0;32m    248\u001b[0m \u001b[39mif\u001b[39;00m \u001b[39mnot\u001b[39;00m \u001b[39misinstance\u001b[39m(key, (\u001b[39mint\u001b[39m, np\u001b[39m.\u001b[39minteger)):\n\u001b[1;32m--> 249\u001b[0m     loc \u001b[39m=\u001b[39m row_labels\u001b[39m.\u001b[39;49mget_loc(key)\n\u001b[0;32m    250\u001b[0m \u001b[39melse\u001b[39;00m:\n",
      "File \u001b[1;32mc:\\Users\\TYS\\AppData\\Local\\Programs\\Python\\Python311\\Lib\\site-packages\\pandas\\core\\indexes\\datetimes.py:738\u001b[0m, in \u001b[0;36mDatetimeIndex.get_loc\u001b[1;34m(self, key, method, tolerance)\u001b[0m\n\u001b[0;32m    737\u001b[0m \u001b[39mexcept\u001b[39;00m \u001b[39mKeyError\u001b[39;00m \u001b[39mas\u001b[39;00m err:\n\u001b[1;32m--> 738\u001b[0m     \u001b[39mraise\u001b[39;00m \u001b[39mKeyError\u001b[39;00m(orig_key) \u001b[39mfrom\u001b[39;00m \u001b[39merr\u001b[39;00m\n",
      "\u001b[1;31mKeyError\u001b[0m: '2022-12-31'",
      "\nDuring handling of the above exception, another exception occurred:\n",
      "\u001b[1;31mKeyError\u001b[0m                                  Traceback (most recent call last)",
      "File \u001b[1;32mc:\\Users\\TYS\\AppData\\Local\\Programs\\Python\\Python311\\Lib\\site-packages\\statsmodels\\tsa\\base\\tsa_model.py:369\u001b[0m, in \u001b[0;36mget_prediction_index\u001b[1;34m(start, end, nobs, base_index, index, silent, index_none, index_generated, data)\u001b[0m\n\u001b[0;32m    368\u001b[0m \u001b[39mtry\u001b[39;00m:\n\u001b[1;32m--> 369\u001b[0m     end, end_index, end_oos \u001b[39m=\u001b[39m get_index_label_loc(\n\u001b[0;32m    370\u001b[0m         end, base_index, data\u001b[39m.\u001b[39;49mrow_labels\n\u001b[0;32m    371\u001b[0m     )\n\u001b[0;32m    372\u001b[0m \u001b[39mexcept\u001b[39;00m \u001b[39mKeyError\u001b[39;00m:\n",
      "File \u001b[1;32mc:\\Users\\TYS\\AppData\\Local\\Programs\\Python\\Python311\\Lib\\site-packages\\statsmodels\\tsa\\base\\tsa_model.py:281\u001b[0m, in \u001b[0;36mget_index_label_loc\u001b[1;34m(key, index, row_labels)\u001b[0m\n\u001b[0;32m    280\u001b[0m     \u001b[39mexcept\u001b[39;00m:\n\u001b[1;32m--> 281\u001b[0m         \u001b[39mraise\u001b[39;00m e\n\u001b[0;32m    282\u001b[0m \u001b[39mreturn\u001b[39;00m loc, index, index_was_expanded\n",
      "File \u001b[1;32mc:\\Users\\TYS\\AppData\\Local\\Programs\\Python\\Python311\\Lib\\site-packages\\statsmodels\\tsa\\base\\tsa_model.py:245\u001b[0m, in \u001b[0;36mget_index_label_loc\u001b[1;34m(key, index, row_labels)\u001b[0m\n\u001b[0;32m    244\u001b[0m \u001b[39mtry\u001b[39;00m:\n\u001b[1;32m--> 245\u001b[0m     loc, index, index_was_expanded \u001b[39m=\u001b[39m get_index_loc(key, index)\n\u001b[0;32m    246\u001b[0m \u001b[39mexcept\u001b[39;00m \u001b[39mKeyError\u001b[39;00m \u001b[39mas\u001b[39;00m e:\n",
      "File \u001b[1;32mc:\\Users\\TYS\\AppData\\Local\\Programs\\Python\\Python311\\Lib\\site-packages\\statsmodels\\tsa\\base\\tsa_model.py:195\u001b[0m, in \u001b[0;36mget_index_loc\u001b[1;34m(key, index)\u001b[0m\n\u001b[0;32m    194\u001b[0m \u001b[39mexcept\u001b[39;00m (\u001b[39mIndexError\u001b[39;00m, \u001b[39mValueError\u001b[39;00m) \u001b[39mas\u001b[39;00m e:\n\u001b[1;32m--> 195\u001b[0m     \u001b[39mraise\u001b[39;00m \u001b[39mKeyError\u001b[39;00m(\u001b[39mstr\u001b[39m(e))\n\u001b[0;32m    196\u001b[0m loc \u001b[39m=\u001b[39m key\n",
      "\u001b[1;31mKeyError\u001b[0m: 'only integers, slices (`:`), ellipsis (`...`), numpy.newaxis (`None`) and integer or boolean arrays are valid indices'",
      "\nDuring handling of the above exception, another exception occurred:\n",
      "\u001b[1;31mKeyError\u001b[0m                                  Traceback (most recent call last)",
      "\u001b[1;32mc:\\Users\\TYS\\Documents\\study\\Master\\INSY662\\group project\\Real Code\\INSY662-Group-Project\\Model\\ARIMA_all_clusters.ipynb Cell 16\u001b[0m line \u001b[0;36m2\n\u001b[0;32m      <a href='vscode-notebook-cell:/c%3A/Users/TYS/Documents/study/Master/INSY662/group%20project/Real%20Code/INSY662-Group-Project/Model/ARIMA_all_clusters.ipynb#X16sZmlsZQ%3D%3D?line=0'>1</a>\u001b[0m \u001b[39m# Call the function to plot for cluster 0, electric bike\u001b[39;00m\n\u001b[1;32m----> <a href='vscode-notebook-cell:/c%3A/Users/TYS/Documents/study/Master/INSY662/group%20project/Real%20Code/INSY662-Group-Project/Model/ARIMA_all_clusters.ipynb#X16sZmlsZQ%3D%3D?line=1'>2</a>\u001b[0m demand_forecasting_with_trend(\u001b[39m1\u001b[39;49m, \u001b[39m'\u001b[39;49m\u001b[39melectric_bike\u001b[39;49m\u001b[39m'\u001b[39;49m)\n",
      "\u001b[1;32mc:\\Users\\TYS\\Documents\\study\\Master\\INSY662\\group project\\Real Code\\INSY662-Group-Project\\Model\\ARIMA_all_clusters.ipynb Cell 16\u001b[0m line \u001b[0;36m2\n\u001b[0;32m     <a href='vscode-notebook-cell:/c%3A/Users/TYS/Documents/study/Master/INSY662/group%20project/Real%20Code/INSY662-Group-Project/Model/ARIMA_all_clusters.ipynb#X16sZmlsZQ%3D%3D?line=17'>18</a>\u001b[0m \u001b[39m# Predict for the entire year of 2022\u001b[39;00m\n\u001b[0;32m     <a href='vscode-notebook-cell:/c%3A/Users/TYS/Documents/study/Master/INSY662/group%20project/Real%20Code/INSY662-Group-Project/Model/ARIMA_all_clusters.ipynb#X16sZmlsZQ%3D%3D?line=18'>19</a>\u001b[0m forecast_end \u001b[39m=\u001b[39m \u001b[39m'\u001b[39m\u001b[39m2022-12-31\u001b[39m\u001b[39m'\u001b[39m\n\u001b[1;32m---> <a href='vscode-notebook-cell:/c%3A/Users/TYS/Documents/study/Master/INSY662/group%20project/Real%20Code/INSY662-Group-Project/Model/ARIMA_all_clusters.ipynb#X16sZmlsZQ%3D%3D?line=19'>20</a>\u001b[0m forecast \u001b[39m=\u001b[39m results\u001b[39m.\u001b[39;49mget_prediction(start\u001b[39m=\u001b[39;49m\u001b[39m'\u001b[39;49m\u001b[39m2022-01-01\u001b[39;49m\u001b[39m'\u001b[39;49m, end\u001b[39m=\u001b[39;49mforecast_end, dynamic\u001b[39m=\u001b[39;49m\u001b[39mFalse\u001b[39;49;00m)\n\u001b[0;32m     <a href='vscode-notebook-cell:/c%3A/Users/TYS/Documents/study/Master/INSY662/group%20project/Real%20Code/INSY662-Group-Project/Model/ARIMA_all_clusters.ipynb#X16sZmlsZQ%3D%3D?line=20'>21</a>\u001b[0m forecasted_values \u001b[39m=\u001b[39m forecast\u001b[39m.\u001b[39mpredicted_mean\n\u001b[0;32m     <a href='vscode-notebook-cell:/c%3A/Users/TYS/Documents/study/Master/INSY662/group%20project/Real%20Code/INSY662-Group-Project/Model/ARIMA_all_clusters.ipynb#X16sZmlsZQ%3D%3D?line=22'>23</a>\u001b[0m \u001b[39m# Plotting the training data, forecasted data\u001b[39;00m\n",
      "File \u001b[1;32mc:\\Users\\TYS\\AppData\\Local\\Programs\\Python\\Python311\\Lib\\site-packages\\statsmodels\\tsa\\statespace\\mlemodel.py:3340\u001b[0m, in \u001b[0;36mMLEResults.get_prediction\u001b[1;34m(self, start, end, dynamic, information_set, signal_only, index, exog, extend_model, extend_kwargs, **kwargs)\u001b[0m\n\u001b[0;32m   3336\u001b[0m     start \u001b[39m=\u001b[39m \u001b[39m0\u001b[39m\n\u001b[0;32m   3338\u001b[0m \u001b[39m# Handle start, end, dynamic\u001b[39;00m\n\u001b[0;32m   3339\u001b[0m start, end, out_of_sample, prediction_index \u001b[39m=\u001b[39m (\n\u001b[1;32m-> 3340\u001b[0m     \u001b[39mself\u001b[39;49m\u001b[39m.\u001b[39;49mmodel\u001b[39m.\u001b[39;49m_get_prediction_index(start, end, index))\n\u001b[0;32m   3342\u001b[0m \u001b[39m# Handle `dynamic`\u001b[39;00m\n\u001b[0;32m   3343\u001b[0m \u001b[39mif\u001b[39;00m \u001b[39misinstance\u001b[39m(dynamic, (\u001b[39mstr\u001b[39m, dt\u001b[39m.\u001b[39mdatetime, pd\u001b[39m.\u001b[39mTimestamp)):\n",
      "File \u001b[1;32mc:\\Users\\TYS\\AppData\\Local\\Programs\\Python\\Python311\\Lib\\site-packages\\statsmodels\\tsa\\base\\tsa_model.py:836\u001b[0m, in \u001b[0;36mTimeSeriesModel._get_prediction_index\u001b[1;34m(self, start, end, index, silent)\u001b[0m\n\u001b[0;32m    780\u001b[0m \u001b[39m\u001b[39m\u001b[39m\"\"\"\u001b[39;00m\n\u001b[0;32m    781\u001b[0m \u001b[39mGet the location of a specific key in an index or model row labels\u001b[39;00m\n\u001b[0;32m    782\u001b[0m \n\u001b[1;32m   (...)\u001b[0m\n\u001b[0;32m    833\u001b[0m \u001b[39msince we have required them to be full indexes, there is no ambiguity).\u001b[39;00m\n\u001b[0;32m    834\u001b[0m \u001b[39m\"\"\"\u001b[39;00m\n\u001b[0;32m    835\u001b[0m nobs \u001b[39m=\u001b[39m \u001b[39mlen\u001b[39m(\u001b[39mself\u001b[39m\u001b[39m.\u001b[39mendog)\n\u001b[1;32m--> 836\u001b[0m \u001b[39mreturn\u001b[39;00m get_prediction_index(\n\u001b[0;32m    837\u001b[0m     start,\n\u001b[0;32m    838\u001b[0m     end,\n\u001b[0;32m    839\u001b[0m     nobs,\n\u001b[0;32m    840\u001b[0m     base_index\u001b[39m=\u001b[39;49m\u001b[39mself\u001b[39;49m\u001b[39m.\u001b[39;49m_index,\n\u001b[0;32m    841\u001b[0m     index\u001b[39m=\u001b[39;49mindex,\n\u001b[0;32m    842\u001b[0m     silent\u001b[39m=\u001b[39;49msilent,\n\u001b[0;32m    843\u001b[0m     index_none\u001b[39m=\u001b[39;49m\u001b[39mself\u001b[39;49m\u001b[39m.\u001b[39;49m_index_none,\n\u001b[0;32m    844\u001b[0m     index_generated\u001b[39m=\u001b[39;49m\u001b[39mself\u001b[39;49m\u001b[39m.\u001b[39;49m_index_generated,\n\u001b[0;32m    845\u001b[0m     data\u001b[39m=\u001b[39;49m\u001b[39mself\u001b[39;49m\u001b[39m.\u001b[39;49mdata,\n\u001b[0;32m    846\u001b[0m )\n",
      "File \u001b[1;32mc:\\Users\\TYS\\AppData\\Local\\Programs\\Python\\Python311\\Lib\\site-packages\\statsmodels\\tsa\\base\\tsa_model.py:373\u001b[0m, in \u001b[0;36mget_prediction_index\u001b[1;34m(start, end, nobs, base_index, index, silent, index_none, index_generated, data)\u001b[0m\n\u001b[0;32m    369\u001b[0m     end, end_index, end_oos \u001b[39m=\u001b[39m get_index_label_loc(\n\u001b[0;32m    370\u001b[0m         end, base_index, data\u001b[39m.\u001b[39mrow_labels\n\u001b[0;32m    371\u001b[0m     )\n\u001b[0;32m    372\u001b[0m \u001b[39mexcept\u001b[39;00m \u001b[39mKeyError\u001b[39;00m:\n\u001b[1;32m--> 373\u001b[0m     \u001b[39mraise\u001b[39;00m \u001b[39mKeyError\u001b[39;00m(\n\u001b[0;32m    374\u001b[0m         \u001b[39m\"\u001b[39m\u001b[39mThe `end` argument could not be matched to a\u001b[39m\u001b[39m\"\u001b[39m\n\u001b[0;32m    375\u001b[0m         \u001b[39m\"\u001b[39m\u001b[39m location related to the index of the data.\u001b[39m\u001b[39m\"\u001b[39m\n\u001b[0;32m    376\u001b[0m     )\n\u001b[0;32m    378\u001b[0m \u001b[39m# Handle slices (if the given index keys cover more than one date)\u001b[39;00m\n\u001b[0;32m    379\u001b[0m \u001b[39mif\u001b[39;00m \u001b[39misinstance\u001b[39m(start, \u001b[39mslice\u001b[39m):\n",
      "\u001b[1;31mKeyError\u001b[0m: 'The `end` argument could not be matched to a location related to the index of the data.'"
     ]
    }
   ],
   "source": [
    "# Call the function to plot for cluster 0, electric bike\n",
    "demand_forecasting_with_trend(1, 'electric_bike')"
   ]
  }
 ],
 "metadata": {
  "kernelspec": {
   "display_name": "Python 3",
   "language": "python",
   "name": "python3"
  },
  "language_info": {
   "codemirror_mode": {
    "name": "ipython",
    "version": 3
   },
   "file_extension": ".py",
   "mimetype": "text/x-python",
   "name": "python",
   "nbconvert_exporter": "python",
   "pygments_lexer": "ipython3",
   "version": "3.11.1"
  }
 },
 "nbformat": 4,
 "nbformat_minor": 2
}
