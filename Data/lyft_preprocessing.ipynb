{
 "cells": [
  {
   "cell_type": "code",
   "execution_count": 4,
   "metadata": {},
   "outputs": [
    {
     "name": "stderr",
     "output_type": "stream",
     "text": [
      "C:\\Users\\TYS\\AppData\\Local\\Temp\\ipykernel_30228\\2983217661.py:3: DtypeWarning: Columns (6,7) have mixed types. Specify dtype option on import or set low_memory=False.\n",
      "  df=pd.read_csv(\"C:/Users/TYS/Documents/study/Master/INSY662/group project/Real Code/INSY662-Group-Project/Data/complete_dataset_V2.csv\")\n"
     ]
    }
   ],
   "source": [
    "import pandas as pd\n",
    "import numpy as np\n",
    "df=pd.read_csv(\"C:/Users/TYS/Documents/study/Master/INSY662/group project/Real Code/INSY662-Group-Project/Data/complete_dataset_V2.csv\")\n",
    "df['rideable_type'] = df['rideable_type'].replace('docked_bike', 'classic_bike')\n",
    "#drop columns\n",
    "new_df=df.drop(columns=[\"ride_id\",\"started_at\",\"ended_at\",\"start_station_name\",\"end_station_name\",\"start_station_id\", \"end_station_id\",\"snow\",\"wpgt\",\"tsun\"])\n",
    "new_df=new_df.dropna()\n",
    "#check duplicates\n",
    "new_df[new_df.duplicated()].shape\n",
    "\n",
    "\n",
    "#create dummy\n",
    "categorical_columns = [\"member_casual\", \"rideable_type\", \n",
    "                       \"month\",\"wind_direction\", \"day_of_the_week\",\"hour\",\"start_station_cluster\",\"end_station_cluster\"]\n",
    "\n",
    "dummies = pd.get_dummies(new_df[categorical_columns], drop_first=True)\n",
    "# Dropping the original categorical columns from the DataFrame\n",
    "new_df = new_df.drop(columns=categorical_columns)\n",
    "# Concatenating the dummy variables to the original DataFrame\n",
    "new_df = pd.concat([new_df, dummies], axis=1)\n",
    "\n",
    "temp_df = new_df\n",
    "\n",
    "#construct predictors\n",
    "X = new_df.drop(columns=[\"rideable_type_electric_bike\"])\n",
    "\n"
   ]
  },
  {
   "cell_type": "code",
   "execution_count": 5,
   "metadata": {},
   "outputs": [],
   "source": [
    "#standardization if needed\n",
    "from sklearn.preprocessing import MinMaxScaler\n",
    "import numpy as np\n",
    "\n",
    "\n",
    "# Exclude \"average_speed\" from scaling\n",
    "columns_to_scale = X.columns.difference(['average_speed'])\n",
    "X_to_scale = X[columns_to_scale]\n",
    "\n",
    "# Apply MinMaxScaler to the other columns\n",
    "scaler = MinMaxScaler()\n",
    "X_std = scaler.fit_transform(X_to_scale)\n",
    "X_std = pd.DataFrame(X_std, columns=columns_to_scale)\n",
    "\n",
    "# Add the \"average_speed\" column back to the scaled DataFrame\n",
    "X_std['average_speed'] = X['average_speed'].values\n",
    "\n",
    "# Now X_std has the scaled values for all columns except \"average_speed\""
   ]
  },
  {
   "cell_type": "code",
   "execution_count": 11,
   "metadata": {},
   "outputs": [],
   "source": [
    "# Save the sliced data to a new CSV file\n",
    "sub_df = temp_df.iloc[:5000] \n",
    "sub_df.to_csv('C:/Users/TYS/Documents/study/Master/INSY662/group project/Real Code/INSY662-Group-Project/Data/complete_dataset_5000.csv', index=False)"
   ]
  },
  {
   "cell_type": "code",
   "execution_count": 13,
   "metadata": {},
   "outputs": [],
   "source": [
    "sub_df_full = temp_df\n",
    "temp_df.to_csv('C:/Users/TYS/Documents/study/Master/INSY662/group project/Real Code/INSY662-Group-Project/Data/complete_dataset_full.csv', index=False)"
   ]
  }
 ],
 "metadata": {
  "kernelspec": {
   "display_name": "pythonProject",
   "language": "python",
   "name": "python3"
  },
  "language_info": {
   "codemirror_mode": {
    "name": "ipython",
    "version": 3
   },
   "file_extension": ".py",
   "mimetype": "text/x-python",
   "name": "python",
   "nbconvert_exporter": "python",
   "pygments_lexer": "ipython3",
   "version": "3.11.1"
  }
 },
 "nbformat": 4,
 "nbformat_minor": 2
}
