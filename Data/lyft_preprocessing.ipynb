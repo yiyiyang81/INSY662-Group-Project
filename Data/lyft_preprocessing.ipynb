{
 "cells": [
  {
   "cell_type": "code",
   "execution_count": 47,
   "metadata": {},
   "outputs": [
    {
     "name": "stderr",
     "output_type": "stream",
     "text": [
      "/var/folders/_t/yhfwr7zs235_z88czy6gmp2m0000gn/T/ipykernel_5992/3551136494.py:3: DtypeWarning: Columns (6,7) have mixed types. Specify dtype option on import or set low_memory=False.\n",
      "  df=pd.read_csv(\"complete_dataset_V2.csv\")\n"
     ]
    }
   ],
   "source": [
    "import pandas as pd\n",
    "import numpy as np\n",
    "df=pd.read_csv(\"complete_dataset_V2.csv\")\n",
    "df['rideable_type'] = df['rideable_type'].replace('docked_bike', 'classic_bike')\n",
    "#drop columns\n",
    "new_df=df.drop(columns=[\"ride_id\",\n",
    "                        \"started_at\",\"ended_at\",\n",
    "                        \"start_station_name\",\"end_station_name\",\n",
    "                        \"start_station_id\", \"end_station_id\",\n",
    "                        \"snow\",\"wpgt\",\"tsun\"])\n",
    "new_df=new_df.dropna()\n",
    "#check duplicates\n",
    "new_df[new_df.duplicated()].shape\n",
    "#exclude trips that are shoter than 1 min\n",
    "new_df=new_df[new_df[\"trip_time\"]>=1]\n",
    "\n",
    "#create dummy\n",
    "categorical_columns = [\"member_casual\", \"rideable_type\", \n",
    "                       \"month\",\"wind_direction\", \"day_of_the_week\",\"hour\",\"start_station_cluster\",\"end_station_cluster\"]\n",
    "\n",
    "dummies = pd.get_dummies(new_df[categorical_columns], drop_first=True)\n",
    "# Dropping the original categorical columns from the DataFrame\n",
    "new_df = new_df.drop(columns=categorical_columns)\n",
    "# Concatenating the dummy variables to the original DataFrame\n",
    "new_df = pd.concat([new_df, dummies], axis=1)\n",
    "\n",
    "#Exclude average_speed columns that has infinity values from the dataset\n",
    "new_df = new_df[new_df['average_speed'] != np.inf]\n",
    "\n",
    "# new_df.to_csv(\"pre-processed.csv\")"
   ]
  },
  {
   "cell_type": "code",
   "execution_count": 48,
   "metadata": {},
   "outputs": [],
   "source": [
    "#standardization if needed\n",
    "from sklearn.preprocessing import MinMaxScaler\n",
    "import numpy as np\n",
    "\n",
    "\n",
    "# Exclude \"average_speed\" from scaling\n",
    "columns_to_scale = new_df.columns.difference(['average_speed',\"start_station_cluster\", \"end_station_cluster\"])\n",
    "X_to_scale = new_df[columns_to_scale]\n",
    "\n",
    "# Apply MinMaxScaler to the other columns\n",
    "scaler = MinMaxScaler()\n",
    "X_std = scaler.fit_transform(X_to_scale)\n",
    "X_std = pd.DataFrame(X_std, columns=columns_to_scale)\n",
    "\n",
    "# Add the \"average_speed\" column back to the scaled DataFrame\n",
    "X_std['average_speed'] = new_df['average_speed'].values\n",
    "X_std['start_station_cluster'] = new_df['start_station_cluster'].values\n",
    "X_std['end_station_cluster'] = new_df['end_station_cluster'].values\n",
    "\n",
    "# Now X_std has the scaled values for all columns except \"average_speed\""
   ]
  },
  {
   "cell_type": "code",
   "execution_count": 49,
   "metadata": {},
   "outputs": [],
   "source": [
    "X_std.to_csv(\"pre-processed.csv\")"
   ]
  }
 ],
 "metadata": {
  "kernelspec": {
   "display_name": "pythonProject",
   "language": "python",
   "name": "python3"
  },
  "language_info": {
   "codemirror_mode": {
    "name": "ipython",
    "version": 3
   },
   "file_extension": ".py",
   "mimetype": "text/x-python",
   "name": "python",
   "nbconvert_exporter": "python",
   "pygments_lexer": "ipython3",
   "version": "3.9.6"
  }
 },
 "nbformat": 4,
 "nbformat_minor": 2
}
